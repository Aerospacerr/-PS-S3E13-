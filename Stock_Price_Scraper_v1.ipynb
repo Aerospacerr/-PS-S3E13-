{
  "nbformat": 4,
  "nbformat_minor": 0,
  "metadata": {
    "colab": {
      "provenance": [],
      "mount_file_id": "1g-Ktm25aBySjNjQ2_Urdahw9CezanBDv",
      "authorship_tag": "ABX9TyPwcMWR0cTZhoI/Ew99rZeW",
      "include_colab_link": true
    },
    "kernelspec": {
      "name": "python3",
      "display_name": "Python 3"
    },
    "language_info": {
      "name": "python"
    }
  },
  "cells": [
    {
      "cell_type": "markdown",
      "metadata": {
        "id": "view-in-github",
        "colab_type": "text"
      },
      "source": [
        "<a href=\"https://colab.research.google.com/github/Aerospacerr/-PS-S3E13-/blob/main/Stock_Price_Scraper_v1.ipynb\" target=\"_parent\"><img src=\"https://colab.research.google.com/assets/colab-badge.svg\" alt=\"Open In Colab\"/></a>"
      ]
    },
    {
      "cell_type": "markdown",
      "source": [
        "### Initialization and Imports"
      ],
      "metadata": {
        "id": "qo74hyAEeKML"
      }
    },
    {
      "cell_type": "code",
      "execution_count": 1,
      "metadata": {
        "colab": {
          "base_uri": "https://localhost:8080/"
        },
        "collapsed": true,
        "id": "_OOrC1EiYYb-",
        "outputId": "4207ea00-53e0-487c-d78b-0f2e06eeda49"
      },
      "outputs": [
        {
          "output_type": "stream",
          "name": "stdout",
          "text": [
            "\u001b[33m\r0% [Working]\u001b[0m\r            \rGet:1 https://cloud.r-project.org/bin/linux/ubuntu jammy-cran40/ InRelease [3,626 B]\n",
            "Hit:2 https://developer.download.nvidia.com/compute/cuda/repos/ubuntu2204/x86_64  InRelease\n",
            "Get:3 http://security.ubuntu.com/ubuntu jammy-security InRelease [129 kB]\n",
            "Hit:4 http://archive.ubuntu.com/ubuntu jammy InRelease\n",
            "Get:5 http://archive.ubuntu.com/ubuntu jammy-updates InRelease [128 kB]\n",
            "Ign:6 https://r2u.stat.illinois.edu/ubuntu jammy InRelease\n",
            "Get:7 https://r2u.stat.illinois.edu/ubuntu jammy Release [5,713 B]\n",
            "Hit:8 https://ppa.launchpadcontent.net/deadsnakes/ppa/ubuntu jammy InRelease\n",
            "Get:9 https://r2u.stat.illinois.edu/ubuntu jammy Release.gpg [793 B]\n",
            "Hit:10 https://ppa.launchpadcontent.net/graphics-drivers/ppa/ubuntu jammy InRelease\n",
            "Get:11 http://security.ubuntu.com/ubuntu jammy-security/universe amd64 Packages [1,129 kB]\n",
            "Hit:12 https://ppa.launchpadcontent.net/ubuntugis/ppa/ubuntu jammy InRelease\n",
            "Get:13 http://archive.ubuntu.com/ubuntu jammy-backports InRelease [127 kB]\n",
            "Get:14 https://r2u.stat.illinois.edu/ubuntu jammy/main amd64 Packages [2,552 kB]\n",
            "Get:15 http://archive.ubuntu.com/ubuntu jammy-updates/main amd64 Packages [2,378 kB]\n",
            "Get:16 https://r2u.stat.illinois.edu/ubuntu jammy/main all Packages [8,210 kB]\n",
            "Get:17 http://archive.ubuntu.com/ubuntu jammy-updates/universe amd64 Packages [1,420 kB]\n",
            "Fetched 16.1 MB in 6s (2,819 kB/s)\n",
            "Reading package lists... Done\n",
            "Building dependency tree... Done\n",
            "Reading state information... Done\n",
            "47 packages can be upgraded. Run 'apt list --upgradable' to see them.\n",
            "\u001b[1;33mW: \u001b[0mSkipping acquire of configured file 'main/source/Sources' as repository 'https://r2u.stat.illinois.edu/ubuntu jammy InRelease' does not seem to provide it (sources.list entry misspelt?)\u001b[0m\n",
            "Reading package lists... Done\n",
            "Building dependency tree... Done\n",
            "Reading state information... Done\n",
            "curl is already the newest version (7.81.0-1ubuntu1.16).\n",
            "unzip is already the newest version (6.0-26ubuntu3.2).\n",
            "wget is already the newest version (1.21.2-2ubuntu1.1).\n",
            "0 upgraded, 0 newly installed, 0 to remove and 47 not upgraded.\n",
            "--2024-07-27 21:08:56--  http://archive.ubuntu.com/ubuntu/pool/main/libu/libu2f-host/libu2f-udev_1.1.4-1_all.deb\n",
            "Resolving archive.ubuntu.com (archive.ubuntu.com)... 91.189.91.82, 185.125.190.81, 91.189.91.81, ...\n",
            "Connecting to archive.ubuntu.com (archive.ubuntu.com)|91.189.91.82|:80... connected.\n",
            "HTTP request sent, awaiting response... 200 OK\n",
            "Length: 3708 (3.6K) [application/vnd.debian.binary-package]\n",
            "Saving to: ‘libu2f-udev_1.1.4-1_all.deb’\n",
            "\n",
            "libu2f-udev_1.1.4-1 100%[===================>]   3.62K  --.-KB/s    in 0s      \n",
            "\n",
            "2024-07-27 21:08:57 (405 MB/s) - ‘libu2f-udev_1.1.4-1_all.deb’ saved [3708/3708]\n",
            "\n",
            "Selecting previously unselected package libu2f-udev.\n",
            "(Reading database ... 123589 files and directories currently installed.)\n",
            "Preparing to unpack libu2f-udev_1.1.4-1_all.deb ...\n",
            "Unpacking libu2f-udev (1.1.4-1) ...\n",
            "Setting up libu2f-udev (1.1.4-1) ...\n",
            "--2024-07-27 21:08:58--  https://dl.google.com/linux/direct/google-chrome-stable_current_amd64.deb\n",
            "Resolving dl.google.com (dl.google.com)... 74.125.204.190, 74.125.204.136, 74.125.204.91, ...\n",
            "Connecting to dl.google.com (dl.google.com)|74.125.204.190|:443... connected.\n",
            "HTTP request sent, awaiting response... 200 OK\n",
            "Length: 109166380 (104M) [application/x-debian-package]\n",
            "Saving to: ‘google-chrome-stable_current_amd64.deb’\n",
            "\n",
            "google-chrome-stabl 100%[===================>] 104.11M   314MB/s    in 0.3s    \n",
            "\n",
            "2024-07-27 21:08:58 (314 MB/s) - ‘google-chrome-stable_current_amd64.deb’ saved [109166380/109166380]\n",
            "\n",
            "Selecting previously unselected package google-chrome-stable.\n",
            "(Reading database ... 123593 files and directories currently installed.)\n",
            "Preparing to unpack google-chrome-stable_current_amd64.deb ...\n",
            "Unpacking google-chrome-stable (127.0.6533.72-1) ...\n",
            "\u001b[1mdpkg:\u001b[0m dependency problems prevent configuration of google-chrome-stable:\n",
            " google-chrome-stable depends on libvulkan1; however:\n",
            "  Package libvulkan1 is not installed.\n",
            "\n",
            "\u001b[1mdpkg:\u001b[0m error processing package google-chrome-stable (--install):\n",
            " dependency problems - leaving unconfigured\n",
            "Processing triggers for man-db (2.10.2-1) ...\n",
            "Errors were encountered while processing:\n",
            " google-chrome-stable\n",
            "--2024-07-27 21:09:11--  https://edgedl.me.gvt1.com/edgedl/chrome/chrome-for-testing/118.0.5993.70/linux64/chromedriver-linux64.zip\n",
            "Resolving edgedl.me.gvt1.com (edgedl.me.gvt1.com)... 34.104.35.123, 2600:1900:4110:86f::\n",
            "Connecting to edgedl.me.gvt1.com (edgedl.me.gvt1.com)|34.104.35.123|:443... connected.\n",
            "HTTP request sent, awaiting response... 302 Found\n",
            "Location: https://storage.googleapis.com/chrome-for-testing-public/118.0.5993.70/linux64/chromedriver-linux64.zip [following]\n",
            "--2024-07-27 21:09:11--  https://storage.googleapis.com/chrome-for-testing-public/118.0.5993.70/linux64/chromedriver-linux64.zip\n",
            "Resolving storage.googleapis.com (storage.googleapis.com)... 173.194.174.207, 74.125.23.207, 74.125.203.207, ...\n",
            "Connecting to storage.googleapis.com (storage.googleapis.com)|173.194.174.207|:443... connected.\n",
            "HTTP request sent, awaiting response... 200 OK\n",
            "Length: 8269742 (7.9M) [application/zip]\n",
            "Saving to: ‘/tmp/chromedriver-linux64.zip’\n",
            "\n",
            "chromedriver-linux6 100%[===================>]   7.89M  6.91MB/s    in 1.1s    \n",
            "\n",
            "2024-07-27 21:09:12 (6.91 MB/s) - ‘/tmp/chromedriver-linux64.zip’ saved [8269742/8269742]\n",
            "\n",
            "Archive:  /tmp/chromedriver-linux64.zip\n",
            "  inflating: /tmp/chromedriver-linux64/LICENSE.chromedriver  \n",
            "  inflating: /tmp/chromedriver-linux64/chromedriver  \n",
            "Collecting selenium\n",
            "  Downloading selenium-4.23.1-py3-none-any.whl.metadata (7.1 kB)\n",
            "Collecting chromedriver_autoinstaller\n",
            "  Downloading chromedriver_autoinstaller-0.6.4-py3-none-any.whl.metadata (2.1 kB)\n",
            "Requirement already satisfied: urllib3<3,>=1.26 in /usr/local/lib/python3.10/dist-packages (from urllib3[socks]<3,>=1.26->selenium) (2.0.7)\n",
            "Collecting trio~=0.17 (from selenium)\n",
            "  Downloading trio-0.26.0-py3-none-any.whl.metadata (8.8 kB)\n",
            "Collecting trio-websocket~=0.9 (from selenium)\n",
            "  Downloading trio_websocket-0.11.1-py3-none-any.whl.metadata (4.7 kB)\n",
            "Requirement already satisfied: certifi>=2021.10.8 in /usr/local/lib/python3.10/dist-packages (from selenium) (2024.7.4)\n",
            "Requirement already satisfied: typing_extensions~=4.9 in /usr/local/lib/python3.10/dist-packages (from selenium) (4.12.2)\n",
            "Requirement already satisfied: websocket-client~=1.8 in /usr/local/lib/python3.10/dist-packages (from selenium) (1.8.0)\n",
            "Requirement already satisfied: packaging>=23.1 in /usr/local/lib/python3.10/dist-packages (from chromedriver_autoinstaller) (24.1)\n",
            "Requirement already satisfied: attrs>=23.2.0 in /usr/local/lib/python3.10/dist-packages (from trio~=0.17->selenium) (23.2.0)\n",
            "Requirement already satisfied: sortedcontainers in /usr/local/lib/python3.10/dist-packages (from trio~=0.17->selenium) (2.4.0)\n",
            "Requirement already satisfied: idna in /usr/local/lib/python3.10/dist-packages (from trio~=0.17->selenium) (3.7)\n",
            "Collecting outcome (from trio~=0.17->selenium)\n",
            "  Downloading outcome-1.3.0.post0-py2.py3-none-any.whl.metadata (2.6 kB)\n",
            "Requirement already satisfied: sniffio>=1.3.0 in /usr/local/lib/python3.10/dist-packages (from trio~=0.17->selenium) (1.3.1)\n",
            "Requirement already satisfied: exceptiongroup in /usr/local/lib/python3.10/dist-packages (from trio~=0.17->selenium) (1.2.2)\n",
            "Collecting wsproto>=0.14 (from trio-websocket~=0.9->selenium)\n",
            "  Downloading wsproto-1.2.0-py3-none-any.whl.metadata (5.6 kB)\n",
            "Requirement already satisfied: pysocks!=1.5.7,<2.0,>=1.5.6 in /usr/local/lib/python3.10/dist-packages (from urllib3[socks]<3,>=1.26->selenium) (1.7.1)\n",
            "Collecting h11<1,>=0.9.0 (from wsproto>=0.14->trio-websocket~=0.9->selenium)\n",
            "  Downloading h11-0.14.0-py3-none-any.whl.metadata (8.2 kB)\n",
            "Downloading selenium-4.23.1-py3-none-any.whl (9.4 MB)\n",
            "\u001b[2K   \u001b[90m━━━━━━━━━━━━━━━━━━━━━━━━━━━━━━━━━━━━━━━━\u001b[0m \u001b[32m9.4/9.4 MB\u001b[0m \u001b[31m64.5 MB/s\u001b[0m eta \u001b[36m0:00:00\u001b[0m\n",
            "\u001b[?25hDownloading chromedriver_autoinstaller-0.6.4-py3-none-any.whl (7.6 kB)\n",
            "Downloading trio-0.26.0-py3-none-any.whl (475 kB)\n",
            "\u001b[2K   \u001b[90m━━━━━━━━━━━━━━━━━━━━━━━━━━━━━━━━━━━━━━━━\u001b[0m \u001b[32m475.7/475.7 kB\u001b[0m \u001b[31m37.7 MB/s\u001b[0m eta \u001b[36m0:00:00\u001b[0m\n",
            "\u001b[?25hDownloading trio_websocket-0.11.1-py3-none-any.whl (17 kB)\n",
            "Downloading wsproto-1.2.0-py3-none-any.whl (24 kB)\n",
            "Downloading outcome-1.3.0.post0-py2.py3-none-any.whl (10 kB)\n",
            "Downloading h11-0.14.0-py3-none-any.whl (58 kB)\n",
            "\u001b[2K   \u001b[90m━━━━━━━━━━━━━━━━━━━━━━━━━━━━━━━━━━━━━━━━\u001b[0m \u001b[32m58.3/58.3 kB\u001b[0m \u001b[31m5.6 MB/s\u001b[0m eta \u001b[36m0:00:00\u001b[0m\n",
            "\u001b[?25hInstalling collected packages: outcome, h11, chromedriver_autoinstaller, wsproto, trio, trio-websocket, selenium\n",
            "Successfully installed chromedriver_autoinstaller-0.6.4 h11-0.14.0 outcome-1.3.0.post0 selenium-4.23.1 trio-0.26.0 trio-websocket-0.11.1 wsproto-1.2.0\n",
            "Requirement already satisfied: yfinance in /usr/local/lib/python3.10/dist-packages (0.2.41)\n",
            "Requirement already satisfied: pandas>=1.3.0 in /usr/local/lib/python3.10/dist-packages (from yfinance) (2.0.3)\n",
            "Requirement already satisfied: numpy>=1.16.5 in /usr/local/lib/python3.10/dist-packages (from yfinance) (1.25.2)\n",
            "Requirement already satisfied: requests>=2.31 in /usr/local/lib/python3.10/dist-packages (from yfinance) (2.31.0)\n",
            "Requirement already satisfied: multitasking>=0.0.7 in /usr/local/lib/python3.10/dist-packages (from yfinance) (0.0.11)\n",
            "Requirement already satisfied: lxml>=4.9.1 in /usr/local/lib/python3.10/dist-packages (from yfinance) (4.9.4)\n",
            "Requirement already satisfied: platformdirs>=2.0.0 in /usr/local/lib/python3.10/dist-packages (from yfinance) (4.2.2)\n",
            "Requirement already satisfied: pytz>=2022.5 in /usr/local/lib/python3.10/dist-packages (from yfinance) (2024.1)\n",
            "Requirement already satisfied: frozendict>=2.3.4 in /usr/local/lib/python3.10/dist-packages (from yfinance) (2.4.4)\n",
            "Requirement already satisfied: peewee>=3.16.2 in /usr/local/lib/python3.10/dist-packages (from yfinance) (3.17.6)\n",
            "Requirement already satisfied: beautifulsoup4>=4.11.1 in /usr/local/lib/python3.10/dist-packages (from yfinance) (4.12.3)\n",
            "Requirement already satisfied: html5lib>=1.1 in /usr/local/lib/python3.10/dist-packages (from yfinance) (1.1)\n",
            "Requirement already satisfied: soupsieve>1.2 in /usr/local/lib/python3.10/dist-packages (from beautifulsoup4>=4.11.1->yfinance) (2.5)\n",
            "Requirement already satisfied: six>=1.9 in /usr/local/lib/python3.10/dist-packages (from html5lib>=1.1->yfinance) (1.16.0)\n",
            "Requirement already satisfied: webencodings in /usr/local/lib/python3.10/dist-packages (from html5lib>=1.1->yfinance) (0.5.1)\n",
            "Requirement already satisfied: python-dateutil>=2.8.2 in /usr/local/lib/python3.10/dist-packages (from pandas>=1.3.0->yfinance) (2.8.2)\n",
            "Requirement already satisfied: tzdata>=2022.1 in /usr/local/lib/python3.10/dist-packages (from pandas>=1.3.0->yfinance) (2024.1)\n",
            "Requirement already satisfied: charset-normalizer<4,>=2 in /usr/local/lib/python3.10/dist-packages (from requests>=2.31->yfinance) (3.3.2)\n",
            "Requirement already satisfied: idna<4,>=2.5 in /usr/local/lib/python3.10/dist-packages (from requests>=2.31->yfinance) (3.7)\n",
            "Requirement already satisfied: urllib3<3,>=1.21.1 in /usr/local/lib/python3.10/dist-packages (from requests>=2.31->yfinance) (2.0.7)\n",
            "Requirement already satisfied: certifi>=2017.4.17 in /usr/local/lib/python3.10/dist-packages (from requests>=2.31->yfinance) (2024.7.4)\n"
          ]
        }
      ],
      "source": [
        "# ### Initialization and Imports\n",
        "# Update the system\n",
        "!sudo apt -y update\n",
        "\n",
        "# Install required packages\n",
        "!sudo apt install -y wget curl unzip\n",
        "\n",
        "# Download and install libu2f-udev dependency for Chrome\n",
        "!wget http://archive.ubuntu.com/ubuntu/pool/main/libu/libu2f-host/libu2f-udev_1.1.4-1_all.deb\n",
        "!dpkg -i libu2f-udev_1.1.4-1_all.deb\n",
        "\n",
        "# Download and install Google Chrome\n",
        "!wget https://dl.google.com/linux/direct/google-chrome-stable_current_amd64.deb\n",
        "!dpkg -i google-chrome-stable_current_amd64.deb\n",
        "\n",
        "# Download and install ChromeDriver\n",
        "!wget -N https://edgedl.me.gvt1.com/edgedl/chrome/chrome-for-testing/118.0.5993.70/linux64/chromedriver-linux64.zip -P /tmp/\n",
        "!unzip -o /tmp/chromedriver-linux64.zip -d /tmp/\n",
        "!chmod +x /tmp/chromedriver-linux64/chromedriver\n",
        "!mv /tmp/chromedriver-linux64/chromedriver /usr/local/bin/chromedriver\n",
        "\n",
        "# Install selenium and chromedriver_autoinstaller\n",
        "!pip install selenium chromedriver_autoinstaller\n",
        "!pip install yfinance\n",
        "\n",
        "from IPython.display import clear_output\n",
        "#clear_output()"
      ]
    },
    {
      "cell_type": "code",
      "source": [
        "from IPython.display import clear_output\n",
        "import sys\n",
        "import time\n",
        "from urllib.parse import quote\n",
        "import re\n",
        "import json\n",
        "from tqdm import tqdm\n",
        "from bs4 import BeautifulSoup\n",
        "import pandas as pd\n",
        "from selenium import webdriver\n",
        "import chromedriver_autoinstaller\n",
        "import yfinance as yf\n",
        "from google.colab import drive"
      ],
      "metadata": {
        "id": "6FK33bcoyEbL"
      },
      "execution_count": 2,
      "outputs": []
    },
    {
      "cell_type": "code",
      "source": [
        "# Add chromedriver to system path\n",
        "sys.path.insert(0,'/usr/lib/chromium-browser/chromedriver')\n",
        "\n",
        "\n",
        "# Configure Chrome options for headless browsing\n",
        "chrome_options = webdriver.ChromeOptions()\n",
        "chrome_options.add_argument('--headless') # Run Chrome in headless mode\n",
        "chrome_options.add_argument('--no-sandbox')\n",
        "chrome_options.add_argument('--disable-dev-shm-usage')\n",
        "# Install ChromeDriver automatically\n",
        "chromedriver_autoinstaller.install()\n",
        "\n",
        "# Initialize Chrome driver\n",
        "driver = webdriver.Chrome(options=chrome_options)"
      ],
      "metadata": {
        "id": "2MM7HydXyAG8"
      },
      "execution_count": 3,
      "outputs": []
    },
    {
      "cell_type": "code",
      "source": [
        "import sys\n",
        "sys.path.insert(0,'/usr/lib/chromium-browser/chromedriver')\n",
        "\n",
        "import time\n",
        "from urllib.parse import quote\n",
        "import re\n",
        "import json\n",
        "from tqdm import tqdm\n",
        "from bs4 import BeautifulSoup\n",
        "import pandas as pd\n",
        "from selenium import webdriver\n",
        "import chromedriver_autoinstaller\n",
        "import yfinance as yf\n",
        "\n",
        "chrome_options = webdriver.ChromeOptions()\n",
        "chrome_options.add_argument('--headless') # this is must\n",
        "chrome_options.add_argument('--no-sandbox')\n",
        "chrome_options.add_argument('--disable-dev-shm-usage')\n",
        "chromedriver_autoinstaller.install()\n",
        "\n",
        "driver = webdriver.Chrome(options=chrome_options)"
      ],
      "metadata": {
        "id": "T_fV0cMpZBsJ"
      },
      "execution_count": 4,
      "outputs": []
    },
    {
      "cell_type": "code",
      "source": [
        "#Scraping\n",
        "\n",
        "trade_data = []"
      ],
      "metadata": {
        "id": "T6W81StQZWxO"
      },
      "execution_count": 5,
      "outputs": []
    },
    {
      "cell_type": "markdown",
      "source": [
        "### Data Scraping"
      ],
      "metadata": {
        "id": "F1KkqQjseGrC"
      }
    },
    {
      "cell_type": "code",
      "source": [
        "driver.get('https://www.quiverquant.com/congresstrading/')\n",
        "soup = BeautifulSoup(driver.page_source, 'html.parser')\n",
        "\n",
        "politician_links = []\n",
        "\n",
        "for politician_link in soup.find_all('a', attrs={'class': 'flex-row-center'}):\n",
        "    politician_links.append('https://www.quiverquant.com/' + quote(politician_link.get('href').replace('../', '')))\n",
        "\n",
        "print(f'Found {len(politician_links)} politicians')\n",
        "print(f'First politician: {politician_links[0]}')"
      ],
      "metadata": {
        "id": "3rzdEldhZXlL",
        "colab": {
          "base_uri": "https://localhost:8080/"
        },
        "outputId": "37c20782-e149-4432-a7cb-38c2a619a388"
      },
      "execution_count": 6,
      "outputs": [
        {
          "output_type": "stream",
          "name": "stdout",
          "text": [
            "Found 87 politicians\n",
            "First politician: https://www.quiverquant.com/congresstrading/politician/Josh%20Gottheimer-G000583\n"
          ]
        }
      ]
    },
    {
      "cell_type": "code",
      "source": [
        "pbar = tqdm(politician_links)\n",
        "\n",
        "for politician_link in pbar:\n",
        "    while True:\n",
        "        driver.get(politician_link)\n",
        "        soup = BeautifulSoup(driver.page_source, 'html.parser')\n",
        "\n",
        "        script_tag = soup.find('script', string=re.compile('let tradeData ='))\n",
        "\n",
        "        try:\n",
        "            script_content = script_tag.string\n",
        "            pbar.set_description(f'Loaded {politician_link}')\n",
        "            break\n",
        "        except:\n",
        "            pbar.set_description(f'Failed to load {politician_link}. Retrying in 10 seconds...')\n",
        "            time.sleep(10)\n",
        "\n",
        "    trade_data_match = re.search(r'let tradeData = (\\[.*?\\]);', script_content, re.DOTALL)\n",
        "    trade_data_json = trade_data_match.group(1)\n",
        "\n",
        "    trade_data_by_politician = json.loads(trade_data_json)\n",
        "\n",
        "    for td in trade_data_by_politician:\n",
        "        trade_data.append(\n",
        "            {\n",
        "                'Politician Profile': politician_link,\n",
        "                'Stock Ticker': td[0],\n",
        "                'Transaction': td[1],\n",
        "                'Disclosed': td[2],\n",
        "                'Traded': td[3],\n",
        "                'Description': td[4],\n",
        "                'Politician': td[6],\n",
        "                'House Information': td[7],\n",
        "                'Stock': td[8],\n",
        "                'Amount Range': td[10],\n",
        "                'Industry': td[13],\n",
        "                'Amount': td[14]\n",
        "            }\n",
        "        )\n",
        "\n",
        "    time.sleep(1)"
      ],
      "metadata": {
        "colab": {
          "base_uri": "https://localhost:8080/",
          "height": 432
        },
        "id": "YzdBRdDIa9Sr",
        "outputId": "50f50dea-5cfe-44dd-82f8-2def6ce77b1b"
      },
      "execution_count": 7,
      "outputs": [
        {
          "output_type": "stream",
          "name": "stderr",
          "text": [
            "Failed to load https://www.quiverquant.com/congresstrading/politician/Suzan%20K.%20DelBene-D000617. Retrying in 10 seconds...:  13%|█▎        | 11/87 [01:15<08:39,  6.83s/it]\n"
          ]
        },
        {
          "output_type": "error",
          "ename": "KeyboardInterrupt",
          "evalue": "",
          "traceback": [
            "\u001b[0;31m---------------------------------------------------------------------------\u001b[0m",
            "\u001b[0;31mAttributeError\u001b[0m                            Traceback (most recent call last)",
            "\u001b[0;32m<ipython-input-7-f3d7e7477caf>\u001b[0m in \u001b[0;36m<cell line: 3>\u001b[0;34m()\u001b[0m\n\u001b[1;32m     10\u001b[0m         \u001b[0;32mtry\u001b[0m\u001b[0;34m:\u001b[0m\u001b[0;34m\u001b[0m\u001b[0;34m\u001b[0m\u001b[0m\n\u001b[0;32m---> 11\u001b[0;31m             \u001b[0mscript_content\u001b[0m \u001b[0;34m=\u001b[0m \u001b[0mscript_tag\u001b[0m\u001b[0;34m.\u001b[0m\u001b[0mstring\u001b[0m\u001b[0;34m\u001b[0m\u001b[0;34m\u001b[0m\u001b[0m\n\u001b[0m\u001b[1;32m     12\u001b[0m             \u001b[0mpbar\u001b[0m\u001b[0;34m.\u001b[0m\u001b[0mset_description\u001b[0m\u001b[0;34m(\u001b[0m\u001b[0;34mf'Loaded {politician_link}'\u001b[0m\u001b[0;34m)\u001b[0m\u001b[0;34m\u001b[0m\u001b[0;34m\u001b[0m\u001b[0m\n",
            "\u001b[0;31mAttributeError\u001b[0m: 'NoneType' object has no attribute 'string'",
            "\nDuring handling of the above exception, another exception occurred:\n",
            "\u001b[0;31mKeyboardInterrupt\u001b[0m                         Traceback (most recent call last)",
            "\u001b[0;32m<ipython-input-7-f3d7e7477caf>\u001b[0m in \u001b[0;36m<cell line: 3>\u001b[0;34m()\u001b[0m\n\u001b[1;32m     14\u001b[0m         \u001b[0;32mexcept\u001b[0m\u001b[0;34m:\u001b[0m\u001b[0;34m\u001b[0m\u001b[0;34m\u001b[0m\u001b[0m\n\u001b[1;32m     15\u001b[0m             \u001b[0mpbar\u001b[0m\u001b[0;34m.\u001b[0m\u001b[0mset_description\u001b[0m\u001b[0;34m(\u001b[0m\u001b[0;34mf'Failed to load {politician_link}. Retrying in 10 seconds...'\u001b[0m\u001b[0;34m)\u001b[0m\u001b[0;34m\u001b[0m\u001b[0;34m\u001b[0m\u001b[0m\n\u001b[0;32m---> 16\u001b[0;31m             \u001b[0mtime\u001b[0m\u001b[0;34m.\u001b[0m\u001b[0msleep\u001b[0m\u001b[0;34m(\u001b[0m\u001b[0;36m10\u001b[0m\u001b[0;34m)\u001b[0m\u001b[0;34m\u001b[0m\u001b[0;34m\u001b[0m\u001b[0m\n\u001b[0m\u001b[1;32m     17\u001b[0m \u001b[0;34m\u001b[0m\u001b[0m\n\u001b[1;32m     18\u001b[0m     \u001b[0mtrade_data_match\u001b[0m \u001b[0;34m=\u001b[0m \u001b[0mre\u001b[0m\u001b[0;34m.\u001b[0m\u001b[0msearch\u001b[0m\u001b[0;34m(\u001b[0m\u001b[0;34mr'let tradeData = (\\[.*?\\]);'\u001b[0m\u001b[0;34m,\u001b[0m \u001b[0mscript_content\u001b[0m\u001b[0;34m,\u001b[0m \u001b[0mre\u001b[0m\u001b[0;34m.\u001b[0m\u001b[0mDOTALL\u001b[0m\u001b[0;34m)\u001b[0m\u001b[0;34m\u001b[0m\u001b[0;34m\u001b[0m\u001b[0m\n",
            "\u001b[0;31mKeyboardInterrupt\u001b[0m: "
          ]
        }
      ]
    },
    {
      "cell_type": "markdown",
      "source": [
        "### Data Exploration"
      ],
      "metadata": {
        "id": "6xuZ7hxUeDmg"
      }
    },
    {
      "cell_type": "code",
      "source": [],
      "metadata": {
        "id": "oOaNfxBZd1Kr"
      },
      "execution_count": null,
      "outputs": []
    },
    {
      "cell_type": "code",
      "source": [
        "from google.colab import drive\n",
        "drive.mount('/content/drive')"
      ],
      "metadata": {
        "colab": {
          "base_uri": "https://localhost:8080/"
        },
        "id": "OaXubT7xcAO5",
        "outputId": "91513db0-0bce-47c4-c765-4f8a3ffb8212"
      },
      "execution_count": 8,
      "outputs": [
        {
          "output_type": "stream",
          "name": "stdout",
          "text": [
            "Drive already mounted at /content/drive; to attempt to forcibly remount, call drive.mount(\"/content/drive\", force_remount=True).\n"
          ]
        }
      ]
    },
    {
      "cell_type": "code",
      "source": [
        "# Load the dataset\n",
        "file_path = '/content/drive/MyDrive/Upwork/Stock Data Analysis/transaction_scraped.csv'\n",
        "transactions = pd.read_csv(file_path)\n",
        "\n",
        "# Display the first few rows of the dataframe\n",
        "transactions.sample(50)"
      ],
      "metadata": {
        "colab": {
          "base_uri": "https://localhost:8080/",
          "height": 1000
        },
        "id": "eHRE4tgDCOGb",
        "outputId": "71d473d8-1724-41a5-f3ab-7bb8d8c0e00e"
      },
      "execution_count": 42,
      "outputs": [
        {
          "output_type": "execute_result",
          "data": {
            "text/plain": [
              "                                      Politician Profile Stock Ticker  \\\n",
              "19129  https://www.quiverquant.com/congresstrading/po...         AAPL   \n",
              "2506   https://www.quiverquant.com/congresstrading/po...          NSC   \n",
              "3544   https://www.quiverquant.com/congresstrading/po...         RACE   \n",
              "7756   https://www.quiverquant.com/congresstrading/po...         MSFT   \n",
              "18004  https://www.quiverquant.com/congresstrading/po...         VTIP   \n",
              "18345  https://www.quiverquant.com/congresstrading/po...          VOD   \n",
              "46     https://www.quiverquant.com/congresstrading/po...          HQY   \n",
              "11211  https://www.quiverquant.com/congresstrading/po...          NaN   \n",
              "5604   https://www.quiverquant.com/congresstrading/po...          PXD   \n",
              "12539  https://www.quiverquant.com/congresstrading/po...         ARLP   \n",
              "5381   https://www.quiverquant.com/congresstrading/po...         CEQP   \n",
              "736    https://www.quiverquant.com/congresstrading/po...         VBTX   \n",
              "20098  https://www.quiverquant.com/congresstrading/po...          DAN   \n",
              "5071   https://www.quiverquant.com/congresstrading/po...         PSXP   \n",
              "1107   https://www.quiverquant.com/congresstrading/po...          COP   \n",
              "2999   https://www.quiverquant.com/congresstrading/po...          TXN   \n",
              "103    https://www.quiverquant.com/congresstrading/po...          NOC   \n",
              "11088  https://www.quiverquant.com/congresstrading/po...          CFG   \n",
              "19591  https://www.quiverquant.com/congresstrading/po...          HPQ   \n",
              "18606  https://www.quiverquant.com/congresstrading/po...        BRK.B   \n",
              "7947   https://www.quiverquant.com/congresstrading/po...         INFO   \n",
              "9595   https://www.quiverquant.com/congresstrading/po...           IR   \n",
              "4865   https://www.quiverquant.com/congresstrading/po...           GS   \n",
              "11388  https://www.quiverquant.com/congresstrading/po...          NaN   \n",
              "15123  https://www.quiverquant.com/congresstrading/po...         COHR   \n",
              "4368   https://www.quiverquant.com/congresstrading/po...          NaN   \n",
              "11820  https://www.quiverquant.com/congresstrading/po...         FLNG   \n",
              "8905   https://www.quiverquant.com/congresstrading/po...          ETN   \n",
              "15647  https://www.quiverquant.com/congresstrading/po...          ITW   \n",
              "8314   https://www.quiverquant.com/congresstrading/po...          MIK   \n",
              "800    https://www.quiverquant.com/congresstrading/po...         MSFT   \n",
              "115    https://www.quiverquant.com/congresstrading/po...         ADBE   \n",
              "2130   https://www.quiverquant.com/congresstrading/po...          PHR   \n",
              "10260  https://www.quiverquant.com/congresstrading/po...         SNAP   \n",
              "14334  https://www.quiverquant.com/congresstrading/po...          NaN   \n",
              "20929  https://www.quiverquant.com/congresstrading/po...         ELAN   \n",
              "22561  https://www.quiverquant.com/congresstrading/po...          NVS   \n",
              "5068   https://www.quiverquant.com/congresstrading/po...         ENLC   \n",
              "2981   https://www.quiverquant.com/congresstrading/po...         MCHP   \n",
              "15770  https://www.quiverquant.com/congresstrading/po...        AHKSY   \n",
              "13019  https://www.quiverquant.com/congresstrading/po...         NVDA   \n",
              "14764  https://www.quiverquant.com/congresstrading/po...          AZN   \n",
              "5211   https://www.quiverquant.com/congresstrading/po...         ENBL   \n",
              "19359  https://www.quiverquant.com/congresstrading/po...          NaN   \n",
              "6274   https://www.quiverquant.com/congresstrading/po...          NaN   \n",
              "9097   https://www.quiverquant.com/congresstrading/po...           GS   \n",
              "690    https://www.quiverquant.com/congresstrading/po...         AAPL   \n",
              "18562  https://www.quiverquant.com/congresstrading/po...          NaN   \n",
              "394    https://www.quiverquant.com/congresstrading/po...          FIS   \n",
              "3302   https://www.quiverquant.com/congresstrading/po...          CLF   \n",
              "\n",
              "          Transaction            Disclosed      Traded  \\\n",
              "19129        Purchase  2020-05-29 00:00:00  2020-04-03   \n",
              "2506             Sale  2019-01-04 00:00:00  2018-12-10   \n",
              "3544         Purchase  2022-11-10 14:56:00  2022-10-06   \n",
              "7756         Purchase  2022-08-10 00:00:00  2022-07-27   \n",
              "18004     Sale (Full)  2022-07-13 10:57:00  2022-06-30   \n",
              "18345        Purchase  2018-04-18 00:00:00  2018-04-09   \n",
              "46               Sale  2024-07-09 00:00:00  2024-06-21   \n",
              "11211        Purchase  2019-04-02 09:32:00  2019-03-29   \n",
              "5604         Exchange  2024-06-07 00:00:00  2024-05-03   \n",
              "12539            Sale  2017-04-11 00:00:00  2017-03-09   \n",
              "5381             Sale  2020-09-20 00:00:00  2020-09-11   \n",
              "736              Sale  2023-04-20 00:00:00  2023-03-16   \n",
              "20098        Purchase  2021-09-23 00:00:00  2020-03-02   \n",
              "5071         Purchase  2021-09-23 00:00:00  2021-09-02   \n",
              "1107         Purchase  2022-05-16 00:00:00  2022-04-28   \n",
              "2999      Sale (Full)  2024-04-15 14:40:00  2024-03-12   \n",
              "103              Sale  2024-07-09 00:00:00  2024-06-18   \n",
              "11088     Sale (Full)  2020-05-04 11:45:00  2020-04-02   \n",
              "19591        Purchase  2014-12-19 00:00:00  2014-04-28   \n",
              "18606        Purchase  2021-04-14 00:00:00  2021-04-14   \n",
              "7947             Sale  2022-02-11 00:00:00  2021-12-31   \n",
              "9595         Purchase  2017-12-20 00:00:00  2017-12-06   \n",
              "4865         Purchase  2023-10-12 09:43:00  2023-09-13   \n",
              "11388     Sale (Full)  2017-11-01 11:50:00  2017-10-02   \n",
              "15123            Sale  2021-02-03 00:00:00  2021-01-19   \n",
              "4368         Purchase  2023-12-10 20:32:00  2023-11-27   \n",
              "11820        Purchase  2024-03-07 00:00:00  2024-02-02   \n",
              "8905             Sale  2022-09-20 00:00:00  2022-09-07   \n",
              "15647        Purchase  2018-05-14 16:40:00  2018-04-24   \n",
              "8314             Sale  2017-07-04 00:00:00  2017-07-03   \n",
              "800              Sale  2023-03-17 00:00:00  2023-02-13   \n",
              "115              Sale  2024-07-09 00:00:00  2024-06-13   \n",
              "2130         Purchase  2020-03-16 00:00:00  2020-02-03   \n",
              "10260  Sale (Partial)  2021-08-09 11:58:00  2021-07-27   \n",
              "14334        Purchase  2020-04-20 00:00:00  2020-04-02   \n",
              "20929            Sale  2022-12-29 00:00:00  2022-11-30   \n",
              "22561            Sale  2023-08-13 00:00:00  2023-07-10   \n",
              "5068         Purchase  2021-09-23 00:00:00  2021-09-02   \n",
              "2981      Sale (Full)  2024-05-15 14:44:00  2024-04-03   \n",
              "15770        Purchase  2017-10-06 13:40:00  2017-09-08   \n",
              "13019            Sale  2022-02-16 00:00:00  2022-01-21   \n",
              "14764            Sale  2019-07-08 00:00:00  2019-05-28   \n",
              "5211             Sale  2021-03-05 00:00:00  2021-02-22   \n",
              "19359            Sale  2016-01-19 00:00:00  2015-12-08   \n",
              "6274         Purchase  2020-02-15 00:00:00  2020-01-03   \n",
              "9097             Sale  2021-05-25 00:00:00  2021-04-21   \n",
              "690          Purchase  2023-05-19 00:00:00  2023-04-20   \n",
              "18562        Purchase  2024-05-15 00:00:00  2023-09-27   \n",
              "394          Purchase  2023-11-11 00:00:00  2023-10-16   \n",
              "3302         Purchase  2023-07-14 12:55:00  2023-06-01   \n",
              "\n",
              "                             Description            Politician  \\\n",
              "19129                                NaN    Katherine M. Clark   \n",
              "2506                                 NaN       Josh Gottheimer   \n",
              "3544                                 NaN      Tommy Tuberville   \n",
              "7756                                 NaN      Kathy E. Manning   \n",
              "18004                                NaN        Lindsey Graham   \n",
              "18345                                NaN        Debbie Dingell   \n",
              "46                                   NaN       Josh Gottheimer   \n",
              "11211  Rate/Coupon: 8.35%  Matures: 0...      Thomas R. Carper   \n",
              "5604   EXCHANGED FOR 2.3234 SHARES OF...            Kevin Hern   \n",
              "12539                                NaN         Virginia Foxx   \n",
              "5381                                 NaN         Mark E. Green   \n",
              "736                                  NaN       Josh Gottheimer   \n",
              "20098                                NaN      Thomas R. Suozzi   \n",
              "5071                                 NaN         Mark E. Green   \n",
              "1107                                 NaN       Josh Gottheimer   \n",
              "2999                                 NaN      Tommy Tuberville   \n",
              "103                                  NaN       Josh Gottheimer   \n",
              "11088                                NaN      Thomas R. Carper   \n",
              "19591                                NaN    Katherine M. Clark   \n",
              "18606                                NaN          Kathy Castor   \n",
              "7947                                 NaN      Kathy E. Manning   \n",
              "9595                                 NaN          Lois Frankel   \n",
              "4865                                 NaN      Markwayne Mullin   \n",
              "11388  Rate/Coupon: 10.15%  Matures: ...      Thomas R. Carper   \n",
              "15123  PART OF MY SPOUSE'S RETIREMENT...       Earl Blumenauer   \n",
              "4368   Rate/Coupon: 5.0%  Matures: 08...            Rick Scott   \n",
              "11820                                NaN         Virginia Foxx   \n",
              "8905                                 NaN          Lois Frankel   \n",
              "15647                                NaN  Shelley Moore Capito   \n",
              "8314                                 NaN         Pete Sessions   \n",
              "800    CALL OPTIONS; STRIKE PRICE $15...       Josh Gottheimer   \n",
              "115                                  NaN       Josh Gottheimer   \n",
              "2130                                 NaN       Josh Gottheimer   \n",
              "10260                                NaN  John W. Hickenlooper   \n",
              "14334                                NaN        John R. Curtis   \n",
              "20929                                NaN             Susie Lee   \n",
              "22561                                NaN     Daniel S. Goldman   \n",
              "5068                                 NaN         Mark E. Green   \n",
              "2981                                 NaN      Tommy Tuberville   \n",
              "15770                                NaN  Shelley Moore Capito   \n",
              "13019                                NaN         Daniel Meuser   \n",
              "14764                                NaN        Mikie Sherrill   \n",
              "5211                                 NaN         Mark E. Green   \n",
              "19359                    6.5%, 2/1/20...    Katherine M. Clark   \n",
              "6274            DIVIDEND REINVESTMENT...            Kevin Hern   \n",
              "9097                                 NaN          Lois Frankel   \n",
              "690                                  NaN       Josh Gottheimer   \n",
              "18562                                NaN        David J. Trone   \n",
              "394                                  NaN       Josh Gottheimer   \n",
              "3302                                 NaN      Tommy Tuberville   \n",
              "\n",
              "         House Information                                              Stock  \\\n",
              "19129    House-C001101-525                                         APPLE INC.   \n",
              "2506     House-G000583-311                       NORFOLK SOUTHERN CORPORATION   \n",
              "3544    Senate-T000278-590                         Ferrari N.V. Common Shares   \n",
              "7756     House-M001135-344                              MICROSOFT CORPORATION   \n",
              "18004     Senate-G000359-3  Vanguard Short-Term Inflation-Protected Securi...   \n",
              "18345    House-D000624-156  VODAFONE GROUP PLC - AMERICAN DEPOSITARY SHARE...   \n",
              "46      House-G000583-2750                  HEALTHEQUITY, INC. - COMMON STOCK   \n",
              "11211   Senate-C000174-642                   MS Contingent Autocall on Boeing   \n",
              "5604     House-H001082-802     PIONEER NATURAL RESOURCES COMPANY COMMON STOCK   \n",
              "12539    House-F000450-180  ALLIANCE RESOURCE PARTNERS, L.P. - COMMON UNIT...   \n",
              "5381     House-G000590-192                       CRESTWOOD EQUITY PARTNERS LP   \n",
              "736     House-G000583-2089                             VERITEX HOLDINGS, INC.   \n",
              "20098    House-S001201-251                                  DANA INCORPORATED   \n",
              "5071     House-G000590-514  PHILLIPS 66 PARTNERS LP COMMON UNITS REPRESENT...   \n",
              "1107    House-G000583-1709                                     CONOCOPHILLIPS   \n",
              "2999   Senate-T000278-1215      Texas Instruments Incorporated - Common Stock   \n",
              "103     House-G000583-2779          NORTHROP GRUMMAN CORPORATION COMMON STOCK   \n",
              "11088   Senate-C000174-831                     Citizens Financial Group, Inc.   \n",
              "19591     House-C001101-75                            HEWLETT-PACKARD COMPANY   \n",
              "18606     House-C001066-74                        BERKSHIRE HATHAWAY INC. NEW   \n",
              "7947     House-M001135-118                      IHS MARKIT LTD. COMMON SHARES   \n",
              "9595     House-F000462-589                                 INGERSOLL-RAND PLC   \n",
              "4865     Senate-M001190-26       Goldman Sachs Group, Inc. (The) Common Stock   \n",
              "11388   Senate-C000174-448                      MS Contingent Autocall on MPC   \n",
              "15123    House-B000574-274                                     COHERENT, INC.   \n",
              "4368    Senate-S001217-244             Washington St. General Obligation Bond   \n",
              "11820    House-F000450-934                      FLEX LNG LTD. ORDINARY SHARES   \n",
              "8905    House-F000462-1279             EATON CORPORATION, PLC ORDINARY SHARES   \n",
              "15647   Senate-C001047-218                           Illinois Tool Works Inc.   \n",
              "8314     House-S000250-197                       THE MICHAELS COMPANIES, INC.   \n",
              "800     House-G000583-2020                              MICROSOFT CORPORATION   \n",
              "115     House-G000583-2700                          ADOBE INC. - COMMON STOCK   \n",
              "2130     House-G000583-690                                     PHREESIA, INC.   \n",
              "10260    Senate-H000273-11                     Snap Inc. Class A Common Stock   \n",
              "14334     House-C001114-69  MESA ARIZ UTIL SYS REV REV BDS 2011 5.000% 07/...   \n",
              "20929   House-L000590-1225                  ELANCO ANIMAL HEALTH INCORPORATED   \n",
              "22561    House-G000599-972                                        NOVARTIS AG   \n",
              "5068     House-G000590-511  ENLINK MIDSTREAM, LLC COMMON UNITS REPRESENTIN...   \n",
              "2981   Senate-T000278-1236   Microchip Technology Incorporated - Common Stock   \n",
              "15770    Senate-C001047-40                            Asahi Kasei Corporation   \n",
              "13019     House-M001204-48                                 NVIDIA CORPORATION   \n",
              "14764     House-S001207-21                                    ASTRAZENECA PLC   \n",
              "5211     House-G000590-366  ENABLE MIDSTREAM PARTNERS, LP COMMON UNITS REP...   \n",
              "19359    House-C001101-310  ATWOOD OCEANICS INC GTD FXD RT S 12/8/2015 01/...   \n",
              "6274     House-H001082-127               INLAND REAL ESTATE INCOME TR INC COM   \n",
              "9097    House-F000462-1087                          GOLDMAN SACHS GROUP, INC.   \n",
              "690     House-G000583-2128                                         APPLE INC.   \n",
              "18562     House-T000483-43                        US TREASURY BILL 11/16/2023   \n",
              "394     House-G000583-2412       FIDELITY NATIONAL INFORMATION SERVICES, INC.   \n",
              "3302    Senate-T000278-906                 Cleveland-Cliffs Inc. Common Stock   \n",
              "\n",
              "                  Amount Range                Industry     Amount  \n",
              "19129         $1,001 - $15,000  Information Technology     8000.0  \n",
              "2506          $1,001 - $15,000             Industrials     8000.0  \n",
              "3544          $1,001 - $15,000  Consumer Discretionary     8000.0  \n",
              "7756          $1,001 - $15,000  Information Technology     8000.0  \n",
              "18004        $15,001 - $50,000                     NaN    32500.0  \n",
              "18345         $1,001 - $15,000  Communication Services     8000.0  \n",
              "46            $1,001 - $15,000             Health Care     8000.0  \n",
              "11211        $15,001 - $50,000                     NaN    32500.0  \n",
              "5604       $100,001 - $250,000                  Energy   175000.0  \n",
              "12539        $15,001 - $50,000                  Energy    32500.0  \n",
              "5381       $100,001 - $250,000                  Energy   175000.0  \n",
              "736           $1,001 - $15,000              Financials     8000.0  \n",
              "20098         $1,001 - $15,000  Consumer Discretionary     8000.0  \n",
              "5071       $250,001 - $500,000                  Energy   375000.0  \n",
              "1107          $1,001 - $15,000                  Energy     8000.0  \n",
              "2999          $1,001 - $15,000  Information Technology     8000.0  \n",
              "103           $1,001 - $15,000             Industrials     8000.0  \n",
              "11088         $1,001 - $15,000              Financials     8000.0  \n",
              "19591         $1,001 - $15,000  Information Technology     8000.0  \n",
              "18606         $1,001 - $15,000                     NaN     8000.0  \n",
              "7947         $15,001 - $50,000             Industrials    32500.0  \n",
              "9595          $1,001 - $15,000             Industrials     8000.0  \n",
              "4865         $15,001 - $50,000              Financials    32500.0  \n",
              "11388         $1,001 - $15,000                     NaN     8000.0  \n",
              "15123         $1,001 - $15,000  Information Technology     8000.0  \n",
              "4368     $500,001 - $1,000,000                     NaN   750000.0  \n",
              "11820         $1,001 - $15,000             Industrials     8000.0  \n",
              "8905          $1,001 - $15,000             Industrials     8000.0  \n",
              "15647         $1,001 - $15,000             Industrials     8000.0  \n",
              "8314          $1,001 - $15,000  Consumer Discretionary     8000.0  \n",
              "800    $1,000,001 - $5,000,000  Information Technology  3000000.0  \n",
              "115           $1,001 - $15,000  Information Technology     8000.0  \n",
              "2130          $1,001 - $15,000             Health Care     8000.0  \n",
              "10260        $15,001 - $50,000  Communication Services    32500.0  \n",
              "14334         $1,001 - $15,000                     NaN     8000.0  \n",
              "20929         $1,001 - $15,000             Health Care     8000.0  \n",
              "22561       $50,001 - $100,000             Health Care    75000.0  \n",
              "5068       $100,001 - $250,000                  Energy   175000.0  \n",
              "2981          $1,001 - $15,000  Information Technology     8000.0  \n",
              "15770         $1,001 - $15,000                     NaN     8000.0  \n",
              "13019         $1,001 - $15,000  Information Technology     8000.0  \n",
              "14764         $1,001 - $15,000             Health Care     8000.0  \n",
              "5211       $100,001 - $250,000                  Energy   175000.0  \n",
              "19359         $1,001 - $15,000                     NaN     8000.0  \n",
              "6274          $1,001 - $15,000                     NaN     8000.0  \n",
              "9097          $1,001 - $15,000              Financials     8000.0  \n",
              "690           $1,001 - $15,000  Information Technology     8000.0  \n",
              "18562      $250,001 - $500,000                     NaN   375000.0  \n",
              "394           $1,001 - $15,000              Financials     8000.0  \n",
              "3302         $15,001 - $50,000               Materials    32500.0  "
            ],
            "text/html": [
              "\n",
              "  <div id=\"df-644ff178-6adf-41a2-a49c-b7d4c9682fa2\" class=\"colab-df-container\">\n",
              "    <div>\n",
              "<style scoped>\n",
              "    .dataframe tbody tr th:only-of-type {\n",
              "        vertical-align: middle;\n",
              "    }\n",
              "\n",
              "    .dataframe tbody tr th {\n",
              "        vertical-align: top;\n",
              "    }\n",
              "\n",
              "    .dataframe thead th {\n",
              "        text-align: right;\n",
              "    }\n",
              "</style>\n",
              "<table border=\"1\" class=\"dataframe\">\n",
              "  <thead>\n",
              "    <tr style=\"text-align: right;\">\n",
              "      <th></th>\n",
              "      <th>Politician Profile</th>\n",
              "      <th>Stock Ticker</th>\n",
              "      <th>Transaction</th>\n",
              "      <th>Disclosed</th>\n",
              "      <th>Traded</th>\n",
              "      <th>Description</th>\n",
              "      <th>Politician</th>\n",
              "      <th>House Information</th>\n",
              "      <th>Stock</th>\n",
              "      <th>Amount Range</th>\n",
              "      <th>Industry</th>\n",
              "      <th>Amount</th>\n",
              "    </tr>\n",
              "  </thead>\n",
              "  <tbody>\n",
              "    <tr>\n",
              "      <th>19129</th>\n",
              "      <td>https://www.quiverquant.com/congresstrading/po...</td>\n",
              "      <td>AAPL</td>\n",
              "      <td>Purchase</td>\n",
              "      <td>2020-05-29 00:00:00</td>\n",
              "      <td>2020-04-03</td>\n",
              "      <td>NaN</td>\n",
              "      <td>Katherine M. Clark</td>\n",
              "      <td>House-C001101-525</td>\n",
              "      <td>APPLE INC.</td>\n",
              "      <td>$1,001 - $15,000</td>\n",
              "      <td>Information Technology</td>\n",
              "      <td>8000.0</td>\n",
              "    </tr>\n",
              "    <tr>\n",
              "      <th>2506</th>\n",
              "      <td>https://www.quiverquant.com/congresstrading/po...</td>\n",
              "      <td>NSC</td>\n",
              "      <td>Sale</td>\n",
              "      <td>2019-01-04 00:00:00</td>\n",
              "      <td>2018-12-10</td>\n",
              "      <td>NaN</td>\n",
              "      <td>Josh Gottheimer</td>\n",
              "      <td>House-G000583-311</td>\n",
              "      <td>NORFOLK SOUTHERN CORPORATION</td>\n",
              "      <td>$1,001 - $15,000</td>\n",
              "      <td>Industrials</td>\n",
              "      <td>8000.0</td>\n",
              "    </tr>\n",
              "    <tr>\n",
              "      <th>3544</th>\n",
              "      <td>https://www.quiverquant.com/congresstrading/po...</td>\n",
              "      <td>RACE</td>\n",
              "      <td>Purchase</td>\n",
              "      <td>2022-11-10 14:56:00</td>\n",
              "      <td>2022-10-06</td>\n",
              "      <td>NaN</td>\n",
              "      <td>Tommy Tuberville</td>\n",
              "      <td>Senate-T000278-590</td>\n",
              "      <td>Ferrari N.V. Common Shares</td>\n",
              "      <td>$1,001 - $15,000</td>\n",
              "      <td>Consumer Discretionary</td>\n",
              "      <td>8000.0</td>\n",
              "    </tr>\n",
              "    <tr>\n",
              "      <th>7756</th>\n",
              "      <td>https://www.quiverquant.com/congresstrading/po...</td>\n",
              "      <td>MSFT</td>\n",
              "      <td>Purchase</td>\n",
              "      <td>2022-08-10 00:00:00</td>\n",
              "      <td>2022-07-27</td>\n",
              "      <td>NaN</td>\n",
              "      <td>Kathy E. Manning</td>\n",
              "      <td>House-M001135-344</td>\n",
              "      <td>MICROSOFT CORPORATION</td>\n",
              "      <td>$1,001 - $15,000</td>\n",
              "      <td>Information Technology</td>\n",
              "      <td>8000.0</td>\n",
              "    </tr>\n",
              "    <tr>\n",
              "      <th>18004</th>\n",
              "      <td>https://www.quiverquant.com/congresstrading/po...</td>\n",
              "      <td>VTIP</td>\n",
              "      <td>Sale (Full)</td>\n",
              "      <td>2022-07-13 10:57:00</td>\n",
              "      <td>2022-06-30</td>\n",
              "      <td>NaN</td>\n",
              "      <td>Lindsey Graham</td>\n",
              "      <td>Senate-G000359-3</td>\n",
              "      <td>Vanguard Short-Term Inflation-Protected Securi...</td>\n",
              "      <td>$15,001 - $50,000</td>\n",
              "      <td>NaN</td>\n",
              "      <td>32500.0</td>\n",
              "    </tr>\n",
              "    <tr>\n",
              "      <th>18345</th>\n",
              "      <td>https://www.quiverquant.com/congresstrading/po...</td>\n",
              "      <td>VOD</td>\n",
              "      <td>Purchase</td>\n",
              "      <td>2018-04-18 00:00:00</td>\n",
              "      <td>2018-04-09</td>\n",
              "      <td>NaN</td>\n",
              "      <td>Debbie Dingell</td>\n",
              "      <td>House-D000624-156</td>\n",
              "      <td>VODAFONE GROUP PLC - AMERICAN DEPOSITARY SHARE...</td>\n",
              "      <td>$1,001 - $15,000</td>\n",
              "      <td>Communication Services</td>\n",
              "      <td>8000.0</td>\n",
              "    </tr>\n",
              "    <tr>\n",
              "      <th>46</th>\n",
              "      <td>https://www.quiverquant.com/congresstrading/po...</td>\n",
              "      <td>HQY</td>\n",
              "      <td>Sale</td>\n",
              "      <td>2024-07-09 00:00:00</td>\n",
              "      <td>2024-06-21</td>\n",
              "      <td>NaN</td>\n",
              "      <td>Josh Gottheimer</td>\n",
              "      <td>House-G000583-2750</td>\n",
              "      <td>HEALTHEQUITY, INC. - COMMON STOCK</td>\n",
              "      <td>$1,001 - $15,000</td>\n",
              "      <td>Health Care</td>\n",
              "      <td>8000.0</td>\n",
              "    </tr>\n",
              "    <tr>\n",
              "      <th>11211</th>\n",
              "      <td>https://www.quiverquant.com/congresstrading/po...</td>\n",
              "      <td>NaN</td>\n",
              "      <td>Purchase</td>\n",
              "      <td>2019-04-02 09:32:00</td>\n",
              "      <td>2019-03-29</td>\n",
              "      <td>Rate/Coupon: 8.35%  Matures: 0...</td>\n",
              "      <td>Thomas R. Carper</td>\n",
              "      <td>Senate-C000174-642</td>\n",
              "      <td>MS Contingent Autocall on Boeing</td>\n",
              "      <td>$15,001 - $50,000</td>\n",
              "      <td>NaN</td>\n",
              "      <td>32500.0</td>\n",
              "    </tr>\n",
              "    <tr>\n",
              "      <th>5604</th>\n",
              "      <td>https://www.quiverquant.com/congresstrading/po...</td>\n",
              "      <td>PXD</td>\n",
              "      <td>Exchange</td>\n",
              "      <td>2024-06-07 00:00:00</td>\n",
              "      <td>2024-05-03</td>\n",
              "      <td>EXCHANGED FOR 2.3234 SHARES OF...</td>\n",
              "      <td>Kevin Hern</td>\n",
              "      <td>House-H001082-802</td>\n",
              "      <td>PIONEER NATURAL RESOURCES COMPANY COMMON STOCK</td>\n",
              "      <td>$100,001 - $250,000</td>\n",
              "      <td>Energy</td>\n",
              "      <td>175000.0</td>\n",
              "    </tr>\n",
              "    <tr>\n",
              "      <th>12539</th>\n",
              "      <td>https://www.quiverquant.com/congresstrading/po...</td>\n",
              "      <td>ARLP</td>\n",
              "      <td>Sale</td>\n",
              "      <td>2017-04-11 00:00:00</td>\n",
              "      <td>2017-03-09</td>\n",
              "      <td>NaN</td>\n",
              "      <td>Virginia Foxx</td>\n",
              "      <td>House-F000450-180</td>\n",
              "      <td>ALLIANCE RESOURCE PARTNERS, L.P. - COMMON UNIT...</td>\n",
              "      <td>$15,001 - $50,000</td>\n",
              "      <td>Energy</td>\n",
              "      <td>32500.0</td>\n",
              "    </tr>\n",
              "    <tr>\n",
              "      <th>5381</th>\n",
              "      <td>https://www.quiverquant.com/congresstrading/po...</td>\n",
              "      <td>CEQP</td>\n",
              "      <td>Sale</td>\n",
              "      <td>2020-09-20 00:00:00</td>\n",
              "      <td>2020-09-11</td>\n",
              "      <td>NaN</td>\n",
              "      <td>Mark E. Green</td>\n",
              "      <td>House-G000590-192</td>\n",
              "      <td>CRESTWOOD EQUITY PARTNERS LP</td>\n",
              "      <td>$100,001 - $250,000</td>\n",
              "      <td>Energy</td>\n",
              "      <td>175000.0</td>\n",
              "    </tr>\n",
              "    <tr>\n",
              "      <th>736</th>\n",
              "      <td>https://www.quiverquant.com/congresstrading/po...</td>\n",
              "      <td>VBTX</td>\n",
              "      <td>Sale</td>\n",
              "      <td>2023-04-20 00:00:00</td>\n",
              "      <td>2023-03-16</td>\n",
              "      <td>NaN</td>\n",
              "      <td>Josh Gottheimer</td>\n",
              "      <td>House-G000583-2089</td>\n",
              "      <td>VERITEX HOLDINGS, INC.</td>\n",
              "      <td>$1,001 - $15,000</td>\n",
              "      <td>Financials</td>\n",
              "      <td>8000.0</td>\n",
              "    </tr>\n",
              "    <tr>\n",
              "      <th>20098</th>\n",
              "      <td>https://www.quiverquant.com/congresstrading/po...</td>\n",
              "      <td>DAN</td>\n",
              "      <td>Purchase</td>\n",
              "      <td>2021-09-23 00:00:00</td>\n",
              "      <td>2020-03-02</td>\n",
              "      <td>NaN</td>\n",
              "      <td>Thomas R. Suozzi</td>\n",
              "      <td>House-S001201-251</td>\n",
              "      <td>DANA INCORPORATED</td>\n",
              "      <td>$1,001 - $15,000</td>\n",
              "      <td>Consumer Discretionary</td>\n",
              "      <td>8000.0</td>\n",
              "    </tr>\n",
              "    <tr>\n",
              "      <th>5071</th>\n",
              "      <td>https://www.quiverquant.com/congresstrading/po...</td>\n",
              "      <td>PSXP</td>\n",
              "      <td>Purchase</td>\n",
              "      <td>2021-09-23 00:00:00</td>\n",
              "      <td>2021-09-02</td>\n",
              "      <td>NaN</td>\n",
              "      <td>Mark E. Green</td>\n",
              "      <td>House-G000590-514</td>\n",
              "      <td>PHILLIPS 66 PARTNERS LP COMMON UNITS REPRESENT...</td>\n",
              "      <td>$250,001 - $500,000</td>\n",
              "      <td>Energy</td>\n",
              "      <td>375000.0</td>\n",
              "    </tr>\n",
              "    <tr>\n",
              "      <th>1107</th>\n",
              "      <td>https://www.quiverquant.com/congresstrading/po...</td>\n",
              "      <td>COP</td>\n",
              "      <td>Purchase</td>\n",
              "      <td>2022-05-16 00:00:00</td>\n",
              "      <td>2022-04-28</td>\n",
              "      <td>NaN</td>\n",
              "      <td>Josh Gottheimer</td>\n",
              "      <td>House-G000583-1709</td>\n",
              "      <td>CONOCOPHILLIPS</td>\n",
              "      <td>$1,001 - $15,000</td>\n",
              "      <td>Energy</td>\n",
              "      <td>8000.0</td>\n",
              "    </tr>\n",
              "    <tr>\n",
              "      <th>2999</th>\n",
              "      <td>https://www.quiverquant.com/congresstrading/po...</td>\n",
              "      <td>TXN</td>\n",
              "      <td>Sale (Full)</td>\n",
              "      <td>2024-04-15 14:40:00</td>\n",
              "      <td>2024-03-12</td>\n",
              "      <td>NaN</td>\n",
              "      <td>Tommy Tuberville</td>\n",
              "      <td>Senate-T000278-1215</td>\n",
              "      <td>Texas Instruments Incorporated - Common Stock</td>\n",
              "      <td>$1,001 - $15,000</td>\n",
              "      <td>Information Technology</td>\n",
              "      <td>8000.0</td>\n",
              "    </tr>\n",
              "    <tr>\n",
              "      <th>103</th>\n",
              "      <td>https://www.quiverquant.com/congresstrading/po...</td>\n",
              "      <td>NOC</td>\n",
              "      <td>Sale</td>\n",
              "      <td>2024-07-09 00:00:00</td>\n",
              "      <td>2024-06-18</td>\n",
              "      <td>NaN</td>\n",
              "      <td>Josh Gottheimer</td>\n",
              "      <td>House-G000583-2779</td>\n",
              "      <td>NORTHROP GRUMMAN CORPORATION COMMON STOCK</td>\n",
              "      <td>$1,001 - $15,000</td>\n",
              "      <td>Industrials</td>\n",
              "      <td>8000.0</td>\n",
              "    </tr>\n",
              "    <tr>\n",
              "      <th>11088</th>\n",
              "      <td>https://www.quiverquant.com/congresstrading/po...</td>\n",
              "      <td>CFG</td>\n",
              "      <td>Sale (Full)</td>\n",
              "      <td>2020-05-04 11:45:00</td>\n",
              "      <td>2020-04-02</td>\n",
              "      <td>NaN</td>\n",
              "      <td>Thomas R. Carper</td>\n",
              "      <td>Senate-C000174-831</td>\n",
              "      <td>Citizens Financial Group, Inc.</td>\n",
              "      <td>$1,001 - $15,000</td>\n",
              "      <td>Financials</td>\n",
              "      <td>8000.0</td>\n",
              "    </tr>\n",
              "    <tr>\n",
              "      <th>19591</th>\n",
              "      <td>https://www.quiverquant.com/congresstrading/po...</td>\n",
              "      <td>HPQ</td>\n",
              "      <td>Purchase</td>\n",
              "      <td>2014-12-19 00:00:00</td>\n",
              "      <td>2014-04-28</td>\n",
              "      <td>NaN</td>\n",
              "      <td>Katherine M. Clark</td>\n",
              "      <td>House-C001101-75</td>\n",
              "      <td>HEWLETT-PACKARD COMPANY</td>\n",
              "      <td>$1,001 - $15,000</td>\n",
              "      <td>Information Technology</td>\n",
              "      <td>8000.0</td>\n",
              "    </tr>\n",
              "    <tr>\n",
              "      <th>18606</th>\n",
              "      <td>https://www.quiverquant.com/congresstrading/po...</td>\n",
              "      <td>BRK.B</td>\n",
              "      <td>Purchase</td>\n",
              "      <td>2021-04-14 00:00:00</td>\n",
              "      <td>2021-04-14</td>\n",
              "      <td>NaN</td>\n",
              "      <td>Kathy Castor</td>\n",
              "      <td>House-C001066-74</td>\n",
              "      <td>BERKSHIRE HATHAWAY INC. NEW</td>\n",
              "      <td>$1,001 - $15,000</td>\n",
              "      <td>NaN</td>\n",
              "      <td>8000.0</td>\n",
              "    </tr>\n",
              "    <tr>\n",
              "      <th>7947</th>\n",
              "      <td>https://www.quiverquant.com/congresstrading/po...</td>\n",
              "      <td>INFO</td>\n",
              "      <td>Sale</td>\n",
              "      <td>2022-02-11 00:00:00</td>\n",
              "      <td>2021-12-31</td>\n",
              "      <td>NaN</td>\n",
              "      <td>Kathy E. Manning</td>\n",
              "      <td>House-M001135-118</td>\n",
              "      <td>IHS MARKIT LTD. COMMON SHARES</td>\n",
              "      <td>$15,001 - $50,000</td>\n",
              "      <td>Industrials</td>\n",
              "      <td>32500.0</td>\n",
              "    </tr>\n",
              "    <tr>\n",
              "      <th>9595</th>\n",
              "      <td>https://www.quiverquant.com/congresstrading/po...</td>\n",
              "      <td>IR</td>\n",
              "      <td>Purchase</td>\n",
              "      <td>2017-12-20 00:00:00</td>\n",
              "      <td>2017-12-06</td>\n",
              "      <td>NaN</td>\n",
              "      <td>Lois Frankel</td>\n",
              "      <td>House-F000462-589</td>\n",
              "      <td>INGERSOLL-RAND PLC</td>\n",
              "      <td>$1,001 - $15,000</td>\n",
              "      <td>Industrials</td>\n",
              "      <td>8000.0</td>\n",
              "    </tr>\n",
              "    <tr>\n",
              "      <th>4865</th>\n",
              "      <td>https://www.quiverquant.com/congresstrading/po...</td>\n",
              "      <td>GS</td>\n",
              "      <td>Purchase</td>\n",
              "      <td>2023-10-12 09:43:00</td>\n",
              "      <td>2023-09-13</td>\n",
              "      <td>NaN</td>\n",
              "      <td>Markwayne Mullin</td>\n",
              "      <td>Senate-M001190-26</td>\n",
              "      <td>Goldman Sachs Group, Inc. (The) Common Stock</td>\n",
              "      <td>$15,001 - $50,000</td>\n",
              "      <td>Financials</td>\n",
              "      <td>32500.0</td>\n",
              "    </tr>\n",
              "    <tr>\n",
              "      <th>11388</th>\n",
              "      <td>https://www.quiverquant.com/congresstrading/po...</td>\n",
              "      <td>NaN</td>\n",
              "      <td>Sale (Full)</td>\n",
              "      <td>2017-11-01 11:50:00</td>\n",
              "      <td>2017-10-02</td>\n",
              "      <td>Rate/Coupon: 10.15%  Matures: ...</td>\n",
              "      <td>Thomas R. Carper</td>\n",
              "      <td>Senate-C000174-448</td>\n",
              "      <td>MS Contingent Autocall on MPC</td>\n",
              "      <td>$1,001 - $15,000</td>\n",
              "      <td>NaN</td>\n",
              "      <td>8000.0</td>\n",
              "    </tr>\n",
              "    <tr>\n",
              "      <th>15123</th>\n",
              "      <td>https://www.quiverquant.com/congresstrading/po...</td>\n",
              "      <td>COHR</td>\n",
              "      <td>Sale</td>\n",
              "      <td>2021-02-03 00:00:00</td>\n",
              "      <td>2021-01-19</td>\n",
              "      <td>PART OF MY SPOUSE'S RETIREMENT...</td>\n",
              "      <td>Earl Blumenauer</td>\n",
              "      <td>House-B000574-274</td>\n",
              "      <td>COHERENT, INC.</td>\n",
              "      <td>$1,001 - $15,000</td>\n",
              "      <td>Information Technology</td>\n",
              "      <td>8000.0</td>\n",
              "    </tr>\n",
              "    <tr>\n",
              "      <th>4368</th>\n",
              "      <td>https://www.quiverquant.com/congresstrading/po...</td>\n",
              "      <td>NaN</td>\n",
              "      <td>Purchase</td>\n",
              "      <td>2023-12-10 20:32:00</td>\n",
              "      <td>2023-11-27</td>\n",
              "      <td>Rate/Coupon: 5.0%  Matures: 08...</td>\n",
              "      <td>Rick Scott</td>\n",
              "      <td>Senate-S001217-244</td>\n",
              "      <td>Washington St. General Obligation Bond</td>\n",
              "      <td>$500,001 - $1,000,000</td>\n",
              "      <td>NaN</td>\n",
              "      <td>750000.0</td>\n",
              "    </tr>\n",
              "    <tr>\n",
              "      <th>11820</th>\n",
              "      <td>https://www.quiverquant.com/congresstrading/po...</td>\n",
              "      <td>FLNG</td>\n",
              "      <td>Purchase</td>\n",
              "      <td>2024-03-07 00:00:00</td>\n",
              "      <td>2024-02-02</td>\n",
              "      <td>NaN</td>\n",
              "      <td>Virginia Foxx</td>\n",
              "      <td>House-F000450-934</td>\n",
              "      <td>FLEX LNG LTD. ORDINARY SHARES</td>\n",
              "      <td>$1,001 - $15,000</td>\n",
              "      <td>Industrials</td>\n",
              "      <td>8000.0</td>\n",
              "    </tr>\n",
              "    <tr>\n",
              "      <th>8905</th>\n",
              "      <td>https://www.quiverquant.com/congresstrading/po...</td>\n",
              "      <td>ETN</td>\n",
              "      <td>Sale</td>\n",
              "      <td>2022-09-20 00:00:00</td>\n",
              "      <td>2022-09-07</td>\n",
              "      <td>NaN</td>\n",
              "      <td>Lois Frankel</td>\n",
              "      <td>House-F000462-1279</td>\n",
              "      <td>EATON CORPORATION, PLC ORDINARY SHARES</td>\n",
              "      <td>$1,001 - $15,000</td>\n",
              "      <td>Industrials</td>\n",
              "      <td>8000.0</td>\n",
              "    </tr>\n",
              "    <tr>\n",
              "      <th>15647</th>\n",
              "      <td>https://www.quiverquant.com/congresstrading/po...</td>\n",
              "      <td>ITW</td>\n",
              "      <td>Purchase</td>\n",
              "      <td>2018-05-14 16:40:00</td>\n",
              "      <td>2018-04-24</td>\n",
              "      <td>NaN</td>\n",
              "      <td>Shelley Moore Capito</td>\n",
              "      <td>Senate-C001047-218</td>\n",
              "      <td>Illinois Tool Works Inc.</td>\n",
              "      <td>$1,001 - $15,000</td>\n",
              "      <td>Industrials</td>\n",
              "      <td>8000.0</td>\n",
              "    </tr>\n",
              "    <tr>\n",
              "      <th>8314</th>\n",
              "      <td>https://www.quiverquant.com/congresstrading/po...</td>\n",
              "      <td>MIK</td>\n",
              "      <td>Sale</td>\n",
              "      <td>2017-07-04 00:00:00</td>\n",
              "      <td>2017-07-03</td>\n",
              "      <td>NaN</td>\n",
              "      <td>Pete Sessions</td>\n",
              "      <td>House-S000250-197</td>\n",
              "      <td>THE MICHAELS COMPANIES, INC.</td>\n",
              "      <td>$1,001 - $15,000</td>\n",
              "      <td>Consumer Discretionary</td>\n",
              "      <td>8000.0</td>\n",
              "    </tr>\n",
              "    <tr>\n",
              "      <th>800</th>\n",
              "      <td>https://www.quiverquant.com/congresstrading/po...</td>\n",
              "      <td>MSFT</td>\n",
              "      <td>Sale</td>\n",
              "      <td>2023-03-17 00:00:00</td>\n",
              "      <td>2023-02-13</td>\n",
              "      <td>CALL OPTIONS; STRIKE PRICE $15...</td>\n",
              "      <td>Josh Gottheimer</td>\n",
              "      <td>House-G000583-2020</td>\n",
              "      <td>MICROSOFT CORPORATION</td>\n",
              "      <td>$1,000,001 - $5,000,000</td>\n",
              "      <td>Information Technology</td>\n",
              "      <td>3000000.0</td>\n",
              "    </tr>\n",
              "    <tr>\n",
              "      <th>115</th>\n",
              "      <td>https://www.quiverquant.com/congresstrading/po...</td>\n",
              "      <td>ADBE</td>\n",
              "      <td>Sale</td>\n",
              "      <td>2024-07-09 00:00:00</td>\n",
              "      <td>2024-06-13</td>\n",
              "      <td>NaN</td>\n",
              "      <td>Josh Gottheimer</td>\n",
              "      <td>House-G000583-2700</td>\n",
              "      <td>ADOBE INC. - COMMON STOCK</td>\n",
              "      <td>$1,001 - $15,000</td>\n",
              "      <td>Information Technology</td>\n",
              "      <td>8000.0</td>\n",
              "    </tr>\n",
              "    <tr>\n",
              "      <th>2130</th>\n",
              "      <td>https://www.quiverquant.com/congresstrading/po...</td>\n",
              "      <td>PHR</td>\n",
              "      <td>Purchase</td>\n",
              "      <td>2020-03-16 00:00:00</td>\n",
              "      <td>2020-02-03</td>\n",
              "      <td>NaN</td>\n",
              "      <td>Josh Gottheimer</td>\n",
              "      <td>House-G000583-690</td>\n",
              "      <td>PHREESIA, INC.</td>\n",
              "      <td>$1,001 - $15,000</td>\n",
              "      <td>Health Care</td>\n",
              "      <td>8000.0</td>\n",
              "    </tr>\n",
              "    <tr>\n",
              "      <th>10260</th>\n",
              "      <td>https://www.quiverquant.com/congresstrading/po...</td>\n",
              "      <td>SNAP</td>\n",
              "      <td>Sale (Partial)</td>\n",
              "      <td>2021-08-09 11:58:00</td>\n",
              "      <td>2021-07-27</td>\n",
              "      <td>NaN</td>\n",
              "      <td>John W. Hickenlooper</td>\n",
              "      <td>Senate-H000273-11</td>\n",
              "      <td>Snap Inc. Class A Common Stock</td>\n",
              "      <td>$15,001 - $50,000</td>\n",
              "      <td>Communication Services</td>\n",
              "      <td>32500.0</td>\n",
              "    </tr>\n",
              "    <tr>\n",
              "      <th>14334</th>\n",
              "      <td>https://www.quiverquant.com/congresstrading/po...</td>\n",
              "      <td>NaN</td>\n",
              "      <td>Purchase</td>\n",
              "      <td>2020-04-20 00:00:00</td>\n",
              "      <td>2020-04-02</td>\n",
              "      <td>NaN</td>\n",
              "      <td>John R. Curtis</td>\n",
              "      <td>House-C001114-69</td>\n",
              "      <td>MESA ARIZ UTIL SYS REV REV BDS 2011 5.000% 07/...</td>\n",
              "      <td>$1,001 - $15,000</td>\n",
              "      <td>NaN</td>\n",
              "      <td>8000.0</td>\n",
              "    </tr>\n",
              "    <tr>\n",
              "      <th>20929</th>\n",
              "      <td>https://www.quiverquant.com/congresstrading/po...</td>\n",
              "      <td>ELAN</td>\n",
              "      <td>Sale</td>\n",
              "      <td>2022-12-29 00:00:00</td>\n",
              "      <td>2022-11-30</td>\n",
              "      <td>NaN</td>\n",
              "      <td>Susie Lee</td>\n",
              "      <td>House-L000590-1225</td>\n",
              "      <td>ELANCO ANIMAL HEALTH INCORPORATED</td>\n",
              "      <td>$1,001 - $15,000</td>\n",
              "      <td>Health Care</td>\n",
              "      <td>8000.0</td>\n",
              "    </tr>\n",
              "    <tr>\n",
              "      <th>22561</th>\n",
              "      <td>https://www.quiverquant.com/congresstrading/po...</td>\n",
              "      <td>NVS</td>\n",
              "      <td>Sale</td>\n",
              "      <td>2023-08-13 00:00:00</td>\n",
              "      <td>2023-07-10</td>\n",
              "      <td>NaN</td>\n",
              "      <td>Daniel S. Goldman</td>\n",
              "      <td>House-G000599-972</td>\n",
              "      <td>NOVARTIS AG</td>\n",
              "      <td>$50,001 - $100,000</td>\n",
              "      <td>Health Care</td>\n",
              "      <td>75000.0</td>\n",
              "    </tr>\n",
              "    <tr>\n",
              "      <th>5068</th>\n",
              "      <td>https://www.quiverquant.com/congresstrading/po...</td>\n",
              "      <td>ENLC</td>\n",
              "      <td>Purchase</td>\n",
              "      <td>2021-09-23 00:00:00</td>\n",
              "      <td>2021-09-02</td>\n",
              "      <td>NaN</td>\n",
              "      <td>Mark E. Green</td>\n",
              "      <td>House-G000590-511</td>\n",
              "      <td>ENLINK MIDSTREAM, LLC COMMON UNITS REPRESENTIN...</td>\n",
              "      <td>$100,001 - $250,000</td>\n",
              "      <td>Energy</td>\n",
              "      <td>175000.0</td>\n",
              "    </tr>\n",
              "    <tr>\n",
              "      <th>2981</th>\n",
              "      <td>https://www.quiverquant.com/congresstrading/po...</td>\n",
              "      <td>MCHP</td>\n",
              "      <td>Sale (Full)</td>\n",
              "      <td>2024-05-15 14:44:00</td>\n",
              "      <td>2024-04-03</td>\n",
              "      <td>NaN</td>\n",
              "      <td>Tommy Tuberville</td>\n",
              "      <td>Senate-T000278-1236</td>\n",
              "      <td>Microchip Technology Incorporated - Common Stock</td>\n",
              "      <td>$1,001 - $15,000</td>\n",
              "      <td>Information Technology</td>\n",
              "      <td>8000.0</td>\n",
              "    </tr>\n",
              "    <tr>\n",
              "      <th>15770</th>\n",
              "      <td>https://www.quiverquant.com/congresstrading/po...</td>\n",
              "      <td>AHKSY</td>\n",
              "      <td>Purchase</td>\n",
              "      <td>2017-10-06 13:40:00</td>\n",
              "      <td>2017-09-08</td>\n",
              "      <td>NaN</td>\n",
              "      <td>Shelley Moore Capito</td>\n",
              "      <td>Senate-C001047-40</td>\n",
              "      <td>Asahi Kasei Corporation</td>\n",
              "      <td>$1,001 - $15,000</td>\n",
              "      <td>NaN</td>\n",
              "      <td>8000.0</td>\n",
              "    </tr>\n",
              "    <tr>\n",
              "      <th>13019</th>\n",
              "      <td>https://www.quiverquant.com/congresstrading/po...</td>\n",
              "      <td>NVDA</td>\n",
              "      <td>Sale</td>\n",
              "      <td>2022-02-16 00:00:00</td>\n",
              "      <td>2022-01-21</td>\n",
              "      <td>NaN</td>\n",
              "      <td>Daniel Meuser</td>\n",
              "      <td>House-M001204-48</td>\n",
              "      <td>NVIDIA CORPORATION</td>\n",
              "      <td>$1,001 - $15,000</td>\n",
              "      <td>Information Technology</td>\n",
              "      <td>8000.0</td>\n",
              "    </tr>\n",
              "    <tr>\n",
              "      <th>14764</th>\n",
              "      <td>https://www.quiverquant.com/congresstrading/po...</td>\n",
              "      <td>AZN</td>\n",
              "      <td>Sale</td>\n",
              "      <td>2019-07-08 00:00:00</td>\n",
              "      <td>2019-05-28</td>\n",
              "      <td>NaN</td>\n",
              "      <td>Mikie Sherrill</td>\n",
              "      <td>House-S001207-21</td>\n",
              "      <td>ASTRAZENECA PLC</td>\n",
              "      <td>$1,001 - $15,000</td>\n",
              "      <td>Health Care</td>\n",
              "      <td>8000.0</td>\n",
              "    </tr>\n",
              "    <tr>\n",
              "      <th>5211</th>\n",
              "      <td>https://www.quiverquant.com/congresstrading/po...</td>\n",
              "      <td>ENBL</td>\n",
              "      <td>Sale</td>\n",
              "      <td>2021-03-05 00:00:00</td>\n",
              "      <td>2021-02-22</td>\n",
              "      <td>NaN</td>\n",
              "      <td>Mark E. Green</td>\n",
              "      <td>House-G000590-366</td>\n",
              "      <td>ENABLE MIDSTREAM PARTNERS, LP COMMON UNITS REP...</td>\n",
              "      <td>$100,001 - $250,000</td>\n",
              "      <td>Energy</td>\n",
              "      <td>175000.0</td>\n",
              "    </tr>\n",
              "    <tr>\n",
              "      <th>19359</th>\n",
              "      <td>https://www.quiverquant.com/congresstrading/po...</td>\n",
              "      <td>NaN</td>\n",
              "      <td>Sale</td>\n",
              "      <td>2016-01-19 00:00:00</td>\n",
              "      <td>2015-12-08</td>\n",
              "      <td>6.5%, 2/1/20...</td>\n",
              "      <td>Katherine M. Clark</td>\n",
              "      <td>House-C001101-310</td>\n",
              "      <td>ATWOOD OCEANICS INC GTD FXD RT S 12/8/2015 01/...</td>\n",
              "      <td>$1,001 - $15,000</td>\n",
              "      <td>NaN</td>\n",
              "      <td>8000.0</td>\n",
              "    </tr>\n",
              "    <tr>\n",
              "      <th>6274</th>\n",
              "      <td>https://www.quiverquant.com/congresstrading/po...</td>\n",
              "      <td>NaN</td>\n",
              "      <td>Purchase</td>\n",
              "      <td>2020-02-15 00:00:00</td>\n",
              "      <td>2020-01-03</td>\n",
              "      <td>DIVIDEND REINVESTMENT...</td>\n",
              "      <td>Kevin Hern</td>\n",
              "      <td>House-H001082-127</td>\n",
              "      <td>INLAND REAL ESTATE INCOME TR INC COM</td>\n",
              "      <td>$1,001 - $15,000</td>\n",
              "      <td>NaN</td>\n",
              "      <td>8000.0</td>\n",
              "    </tr>\n",
              "    <tr>\n",
              "      <th>9097</th>\n",
              "      <td>https://www.quiverquant.com/congresstrading/po...</td>\n",
              "      <td>GS</td>\n",
              "      <td>Sale</td>\n",
              "      <td>2021-05-25 00:00:00</td>\n",
              "      <td>2021-04-21</td>\n",
              "      <td>NaN</td>\n",
              "      <td>Lois Frankel</td>\n",
              "      <td>House-F000462-1087</td>\n",
              "      <td>GOLDMAN SACHS GROUP, INC.</td>\n",
              "      <td>$1,001 - $15,000</td>\n",
              "      <td>Financials</td>\n",
              "      <td>8000.0</td>\n",
              "    </tr>\n",
              "    <tr>\n",
              "      <th>690</th>\n",
              "      <td>https://www.quiverquant.com/congresstrading/po...</td>\n",
              "      <td>AAPL</td>\n",
              "      <td>Purchase</td>\n",
              "      <td>2023-05-19 00:00:00</td>\n",
              "      <td>2023-04-20</td>\n",
              "      <td>NaN</td>\n",
              "      <td>Josh Gottheimer</td>\n",
              "      <td>House-G000583-2128</td>\n",
              "      <td>APPLE INC.</td>\n",
              "      <td>$1,001 - $15,000</td>\n",
              "      <td>Information Technology</td>\n",
              "      <td>8000.0</td>\n",
              "    </tr>\n",
              "    <tr>\n",
              "      <th>18562</th>\n",
              "      <td>https://www.quiverquant.com/congresstrading/po...</td>\n",
              "      <td>NaN</td>\n",
              "      <td>Purchase</td>\n",
              "      <td>2024-05-15 00:00:00</td>\n",
              "      <td>2023-09-27</td>\n",
              "      <td>NaN</td>\n",
              "      <td>David J. Trone</td>\n",
              "      <td>House-T000483-43</td>\n",
              "      <td>US TREASURY BILL 11/16/2023</td>\n",
              "      <td>$250,001 - $500,000</td>\n",
              "      <td>NaN</td>\n",
              "      <td>375000.0</td>\n",
              "    </tr>\n",
              "    <tr>\n",
              "      <th>394</th>\n",
              "      <td>https://www.quiverquant.com/congresstrading/po...</td>\n",
              "      <td>FIS</td>\n",
              "      <td>Purchase</td>\n",
              "      <td>2023-11-11 00:00:00</td>\n",
              "      <td>2023-10-16</td>\n",
              "      <td>NaN</td>\n",
              "      <td>Josh Gottheimer</td>\n",
              "      <td>House-G000583-2412</td>\n",
              "      <td>FIDELITY NATIONAL INFORMATION SERVICES, INC.</td>\n",
              "      <td>$1,001 - $15,000</td>\n",
              "      <td>Financials</td>\n",
              "      <td>8000.0</td>\n",
              "    </tr>\n",
              "    <tr>\n",
              "      <th>3302</th>\n",
              "      <td>https://www.quiverquant.com/congresstrading/po...</td>\n",
              "      <td>CLF</td>\n",
              "      <td>Purchase</td>\n",
              "      <td>2023-07-14 12:55:00</td>\n",
              "      <td>2023-06-01</td>\n",
              "      <td>NaN</td>\n",
              "      <td>Tommy Tuberville</td>\n",
              "      <td>Senate-T000278-906</td>\n",
              "      <td>Cleveland-Cliffs Inc. Common Stock</td>\n",
              "      <td>$15,001 - $50,000</td>\n",
              "      <td>Materials</td>\n",
              "      <td>32500.0</td>\n",
              "    </tr>\n",
              "  </tbody>\n",
              "</table>\n",
              "</div>\n",
              "    <div class=\"colab-df-buttons\">\n",
              "\n",
              "  <div class=\"colab-df-container\">\n",
              "    <button class=\"colab-df-convert\" onclick=\"convertToInteractive('df-644ff178-6adf-41a2-a49c-b7d4c9682fa2')\"\n",
              "            title=\"Convert this dataframe to an interactive table.\"\n",
              "            style=\"display:none;\">\n",
              "\n",
              "  <svg xmlns=\"http://www.w3.org/2000/svg\" height=\"24px\" viewBox=\"0 -960 960 960\">\n",
              "    <path d=\"M120-120v-720h720v720H120Zm60-500h600v-160H180v160Zm220 220h160v-160H400v160Zm0 220h160v-160H400v160ZM180-400h160v-160H180v160Zm440 0h160v-160H620v160ZM180-180h160v-160H180v160Zm440 0h160v-160H620v160Z\"/>\n",
              "  </svg>\n",
              "    </button>\n",
              "\n",
              "  <style>\n",
              "    .colab-df-container {\n",
              "      display:flex;\n",
              "      gap: 12px;\n",
              "    }\n",
              "\n",
              "    .colab-df-convert {\n",
              "      background-color: #E8F0FE;\n",
              "      border: none;\n",
              "      border-radius: 50%;\n",
              "      cursor: pointer;\n",
              "      display: none;\n",
              "      fill: #1967D2;\n",
              "      height: 32px;\n",
              "      padding: 0 0 0 0;\n",
              "      width: 32px;\n",
              "    }\n",
              "\n",
              "    .colab-df-convert:hover {\n",
              "      background-color: #E2EBFA;\n",
              "      box-shadow: 0px 1px 2px rgba(60, 64, 67, 0.3), 0px 1px 3px 1px rgba(60, 64, 67, 0.15);\n",
              "      fill: #174EA6;\n",
              "    }\n",
              "\n",
              "    .colab-df-buttons div {\n",
              "      margin-bottom: 4px;\n",
              "    }\n",
              "\n",
              "    [theme=dark] .colab-df-convert {\n",
              "      background-color: #3B4455;\n",
              "      fill: #D2E3FC;\n",
              "    }\n",
              "\n",
              "    [theme=dark] .colab-df-convert:hover {\n",
              "      background-color: #434B5C;\n",
              "      box-shadow: 0px 1px 3px 1px rgba(0, 0, 0, 0.15);\n",
              "      filter: drop-shadow(0px 1px 2px rgba(0, 0, 0, 0.3));\n",
              "      fill: #FFFFFF;\n",
              "    }\n",
              "  </style>\n",
              "\n",
              "    <script>\n",
              "      const buttonEl =\n",
              "        document.querySelector('#df-644ff178-6adf-41a2-a49c-b7d4c9682fa2 button.colab-df-convert');\n",
              "      buttonEl.style.display =\n",
              "        google.colab.kernel.accessAllowed ? 'block' : 'none';\n",
              "\n",
              "      async function convertToInteractive(key) {\n",
              "        const element = document.querySelector('#df-644ff178-6adf-41a2-a49c-b7d4c9682fa2');\n",
              "        const dataTable =\n",
              "          await google.colab.kernel.invokeFunction('convertToInteractive',\n",
              "                                                    [key], {});\n",
              "        if (!dataTable) return;\n",
              "\n",
              "        const docLinkHtml = 'Like what you see? Visit the ' +\n",
              "          '<a target=\"_blank\" href=https://colab.research.google.com/notebooks/data_table.ipynb>data table notebook</a>'\n",
              "          + ' to learn more about interactive tables.';\n",
              "        element.innerHTML = '';\n",
              "        dataTable['output_type'] = 'display_data';\n",
              "        await google.colab.output.renderOutput(dataTable, element);\n",
              "        const docLink = document.createElement('div');\n",
              "        docLink.innerHTML = docLinkHtml;\n",
              "        element.appendChild(docLink);\n",
              "      }\n",
              "    </script>\n",
              "  </div>\n",
              "\n",
              "\n",
              "<div id=\"df-fe0c5b88-71f3-47a7-b410-a30a69f16cf3\">\n",
              "  <button class=\"colab-df-quickchart\" onclick=\"quickchart('df-fe0c5b88-71f3-47a7-b410-a30a69f16cf3')\"\n",
              "            title=\"Suggest charts\"\n",
              "            style=\"display:none;\">\n",
              "\n",
              "<svg xmlns=\"http://www.w3.org/2000/svg\" height=\"24px\"viewBox=\"0 0 24 24\"\n",
              "     width=\"24px\">\n",
              "    <g>\n",
              "        <path d=\"M19 3H5c-1.1 0-2 .9-2 2v14c0 1.1.9 2 2 2h14c1.1 0 2-.9 2-2V5c0-1.1-.9-2-2-2zM9 17H7v-7h2v7zm4 0h-2V7h2v10zm4 0h-2v-4h2v4z\"/>\n",
              "    </g>\n",
              "</svg>\n",
              "  </button>\n",
              "\n",
              "<style>\n",
              "  .colab-df-quickchart {\n",
              "      --bg-color: #E8F0FE;\n",
              "      --fill-color: #1967D2;\n",
              "      --hover-bg-color: #E2EBFA;\n",
              "      --hover-fill-color: #174EA6;\n",
              "      --disabled-fill-color: #AAA;\n",
              "      --disabled-bg-color: #DDD;\n",
              "  }\n",
              "\n",
              "  [theme=dark] .colab-df-quickchart {\n",
              "      --bg-color: #3B4455;\n",
              "      --fill-color: #D2E3FC;\n",
              "      --hover-bg-color: #434B5C;\n",
              "      --hover-fill-color: #FFFFFF;\n",
              "      --disabled-bg-color: #3B4455;\n",
              "      --disabled-fill-color: #666;\n",
              "  }\n",
              "\n",
              "  .colab-df-quickchart {\n",
              "    background-color: var(--bg-color);\n",
              "    border: none;\n",
              "    border-radius: 50%;\n",
              "    cursor: pointer;\n",
              "    display: none;\n",
              "    fill: var(--fill-color);\n",
              "    height: 32px;\n",
              "    padding: 0;\n",
              "    width: 32px;\n",
              "  }\n",
              "\n",
              "  .colab-df-quickchart:hover {\n",
              "    background-color: var(--hover-bg-color);\n",
              "    box-shadow: 0 1px 2px rgba(60, 64, 67, 0.3), 0 1px 3px 1px rgba(60, 64, 67, 0.15);\n",
              "    fill: var(--button-hover-fill-color);\n",
              "  }\n",
              "\n",
              "  .colab-df-quickchart-complete:disabled,\n",
              "  .colab-df-quickchart-complete:disabled:hover {\n",
              "    background-color: var(--disabled-bg-color);\n",
              "    fill: var(--disabled-fill-color);\n",
              "    box-shadow: none;\n",
              "  }\n",
              "\n",
              "  .colab-df-spinner {\n",
              "    border: 2px solid var(--fill-color);\n",
              "    border-color: transparent;\n",
              "    border-bottom-color: var(--fill-color);\n",
              "    animation:\n",
              "      spin 1s steps(1) infinite;\n",
              "  }\n",
              "\n",
              "  @keyframes spin {\n",
              "    0% {\n",
              "      border-color: transparent;\n",
              "      border-bottom-color: var(--fill-color);\n",
              "      border-left-color: var(--fill-color);\n",
              "    }\n",
              "    20% {\n",
              "      border-color: transparent;\n",
              "      border-left-color: var(--fill-color);\n",
              "      border-top-color: var(--fill-color);\n",
              "    }\n",
              "    30% {\n",
              "      border-color: transparent;\n",
              "      border-left-color: var(--fill-color);\n",
              "      border-top-color: var(--fill-color);\n",
              "      border-right-color: var(--fill-color);\n",
              "    }\n",
              "    40% {\n",
              "      border-color: transparent;\n",
              "      border-right-color: var(--fill-color);\n",
              "      border-top-color: var(--fill-color);\n",
              "    }\n",
              "    60% {\n",
              "      border-color: transparent;\n",
              "      border-right-color: var(--fill-color);\n",
              "    }\n",
              "    80% {\n",
              "      border-color: transparent;\n",
              "      border-right-color: var(--fill-color);\n",
              "      border-bottom-color: var(--fill-color);\n",
              "    }\n",
              "    90% {\n",
              "      border-color: transparent;\n",
              "      border-bottom-color: var(--fill-color);\n",
              "    }\n",
              "  }\n",
              "</style>\n",
              "\n",
              "  <script>\n",
              "    async function quickchart(key) {\n",
              "      const quickchartButtonEl =\n",
              "        document.querySelector('#' + key + ' button');\n",
              "      quickchartButtonEl.disabled = true;  // To prevent multiple clicks.\n",
              "      quickchartButtonEl.classList.add('colab-df-spinner');\n",
              "      try {\n",
              "        const charts = await google.colab.kernel.invokeFunction(\n",
              "            'suggestCharts', [key], {});\n",
              "      } catch (error) {\n",
              "        console.error('Error during call to suggestCharts:', error);\n",
              "      }\n",
              "      quickchartButtonEl.classList.remove('colab-df-spinner');\n",
              "      quickchartButtonEl.classList.add('colab-df-quickchart-complete');\n",
              "    }\n",
              "    (() => {\n",
              "      let quickchartButtonEl =\n",
              "        document.querySelector('#df-fe0c5b88-71f3-47a7-b410-a30a69f16cf3 button');\n",
              "      quickchartButtonEl.style.display =\n",
              "        google.colab.kernel.accessAllowed ? 'block' : 'none';\n",
              "    })();\n",
              "  </script>\n",
              "</div>\n",
              "\n",
              "    </div>\n",
              "  </div>\n"
            ],
            "application/vnd.google.colaboratory.intrinsic+json": {
              "type": "dataframe",
              "repr_error": "0"
            }
          },
          "metadata": {},
          "execution_count": 42
        }
      ]
    },
    {
      "cell_type": "code",
      "source": [
        "df = pd.DataFrame(transactions)\n",
        "\n",
        "df['Disclosed'] = pd.to_datetime(df['Disclosed'])\n",
        "df['Traded'] = pd.to_datetime(df['Traded'])\n",
        "\n",
        "df.head()"
      ],
      "metadata": {
        "colab": {
          "base_uri": "https://localhost:8080/",
          "height": 487
        },
        "id": "ExLKbNdIb--X",
        "outputId": "33d80eb2-5f0d-4847-a333-f83e44f42916"
      },
      "execution_count": 13,
      "outputs": [
        {
          "output_type": "execute_result",
          "data": {
            "text/plain": [
              "                                  Politician Profile Stock Ticker Transaction  \\\n",
              "0  https://www.quiverquant.com/congresstrading/po...         AAPL    Purchase   \n",
              "1  https://www.quiverquant.com/congresstrading/po...         AVGO    Purchase   \n",
              "2  https://www.quiverquant.com/congresstrading/po...           DE        Sale   \n",
              "3  https://www.quiverquant.com/congresstrading/po...          LOW        Sale   \n",
              "4  https://www.quiverquant.com/congresstrading/po...          MAR        Sale   \n",
              "\n",
              "   Disclosed     Traded Description       Politician   House Information  \\\n",
              "0 2024-07-09 2024-06-28         NaN  Josh Gottheimer  House-G000583-2712   \n",
              "1 2024-07-09 2024-06-28         NaN  Josh Gottheimer  House-G000583-2723   \n",
              "2 2024-07-09 2024-06-28         NaN  Josh Gottheimer  House-G000583-2734   \n",
              "3 2024-07-09 2024-06-28         NaN  Josh Gottheimer  House-G000583-2764   \n",
              "4 2024-07-09 2024-06-28         NaN  Josh Gottheimer  House-G000583-2768   \n",
              "\n",
              "                                           Stock      Amount Range  \\\n",
              "0                      APPLE INC. - COMMON STOCK  $1,001 - $15,000   \n",
              "1                   BROADCOM INC. - COMMON STOCK  $1,001 - $15,000   \n",
              "2                   DEERE & COMPANY COMMON STOCK  $1,001 - $15,000   \n",
              "3            LOWE'S COMPANIES, INC. COMMON STOCK  $1,001 - $15,000   \n",
              "4  MARRIOTT INTERNATIONAL - CLASS A COMMON STOCK  $1,001 - $15,000   \n",
              "\n",
              "                 Industry  Amount  \n",
              "0  Information Technology  8000.0  \n",
              "1  Information Technology  8000.0  \n",
              "2             Industrials  8000.0  \n",
              "3  Consumer Discretionary  8000.0  \n",
              "4  Consumer Discretionary  8000.0  "
            ],
            "text/html": [
              "\n",
              "  <div id=\"df-f8848b4f-2a66-4808-bb88-505640798dbd\" class=\"colab-df-container\">\n",
              "    <div>\n",
              "<style scoped>\n",
              "    .dataframe tbody tr th:only-of-type {\n",
              "        vertical-align: middle;\n",
              "    }\n",
              "\n",
              "    .dataframe tbody tr th {\n",
              "        vertical-align: top;\n",
              "    }\n",
              "\n",
              "    .dataframe thead th {\n",
              "        text-align: right;\n",
              "    }\n",
              "</style>\n",
              "<table border=\"1\" class=\"dataframe\">\n",
              "  <thead>\n",
              "    <tr style=\"text-align: right;\">\n",
              "      <th></th>\n",
              "      <th>Politician Profile</th>\n",
              "      <th>Stock Ticker</th>\n",
              "      <th>Transaction</th>\n",
              "      <th>Disclosed</th>\n",
              "      <th>Traded</th>\n",
              "      <th>Description</th>\n",
              "      <th>Politician</th>\n",
              "      <th>House Information</th>\n",
              "      <th>Stock</th>\n",
              "      <th>Amount Range</th>\n",
              "      <th>Industry</th>\n",
              "      <th>Amount</th>\n",
              "    </tr>\n",
              "  </thead>\n",
              "  <tbody>\n",
              "    <tr>\n",
              "      <th>0</th>\n",
              "      <td>https://www.quiverquant.com/congresstrading/po...</td>\n",
              "      <td>AAPL</td>\n",
              "      <td>Purchase</td>\n",
              "      <td>2024-07-09</td>\n",
              "      <td>2024-06-28</td>\n",
              "      <td>NaN</td>\n",
              "      <td>Josh Gottheimer</td>\n",
              "      <td>House-G000583-2712</td>\n",
              "      <td>APPLE INC. - COMMON STOCK</td>\n",
              "      <td>$1,001 - $15,000</td>\n",
              "      <td>Information Technology</td>\n",
              "      <td>8000.0</td>\n",
              "    </tr>\n",
              "    <tr>\n",
              "      <th>1</th>\n",
              "      <td>https://www.quiverquant.com/congresstrading/po...</td>\n",
              "      <td>AVGO</td>\n",
              "      <td>Purchase</td>\n",
              "      <td>2024-07-09</td>\n",
              "      <td>2024-06-28</td>\n",
              "      <td>NaN</td>\n",
              "      <td>Josh Gottheimer</td>\n",
              "      <td>House-G000583-2723</td>\n",
              "      <td>BROADCOM INC. - COMMON STOCK</td>\n",
              "      <td>$1,001 - $15,000</td>\n",
              "      <td>Information Technology</td>\n",
              "      <td>8000.0</td>\n",
              "    </tr>\n",
              "    <tr>\n",
              "      <th>2</th>\n",
              "      <td>https://www.quiverquant.com/congresstrading/po...</td>\n",
              "      <td>DE</td>\n",
              "      <td>Sale</td>\n",
              "      <td>2024-07-09</td>\n",
              "      <td>2024-06-28</td>\n",
              "      <td>NaN</td>\n",
              "      <td>Josh Gottheimer</td>\n",
              "      <td>House-G000583-2734</td>\n",
              "      <td>DEERE &amp; COMPANY COMMON STOCK</td>\n",
              "      <td>$1,001 - $15,000</td>\n",
              "      <td>Industrials</td>\n",
              "      <td>8000.0</td>\n",
              "    </tr>\n",
              "    <tr>\n",
              "      <th>3</th>\n",
              "      <td>https://www.quiverquant.com/congresstrading/po...</td>\n",
              "      <td>LOW</td>\n",
              "      <td>Sale</td>\n",
              "      <td>2024-07-09</td>\n",
              "      <td>2024-06-28</td>\n",
              "      <td>NaN</td>\n",
              "      <td>Josh Gottheimer</td>\n",
              "      <td>House-G000583-2764</td>\n",
              "      <td>LOWE'S COMPANIES, INC. COMMON STOCK</td>\n",
              "      <td>$1,001 - $15,000</td>\n",
              "      <td>Consumer Discretionary</td>\n",
              "      <td>8000.0</td>\n",
              "    </tr>\n",
              "    <tr>\n",
              "      <th>4</th>\n",
              "      <td>https://www.quiverquant.com/congresstrading/po...</td>\n",
              "      <td>MAR</td>\n",
              "      <td>Sale</td>\n",
              "      <td>2024-07-09</td>\n",
              "      <td>2024-06-28</td>\n",
              "      <td>NaN</td>\n",
              "      <td>Josh Gottheimer</td>\n",
              "      <td>House-G000583-2768</td>\n",
              "      <td>MARRIOTT INTERNATIONAL - CLASS A COMMON STOCK</td>\n",
              "      <td>$1,001 - $15,000</td>\n",
              "      <td>Consumer Discretionary</td>\n",
              "      <td>8000.0</td>\n",
              "    </tr>\n",
              "  </tbody>\n",
              "</table>\n",
              "</div>\n",
              "    <div class=\"colab-df-buttons\">\n",
              "\n",
              "  <div class=\"colab-df-container\">\n",
              "    <button class=\"colab-df-convert\" onclick=\"convertToInteractive('df-f8848b4f-2a66-4808-bb88-505640798dbd')\"\n",
              "            title=\"Convert this dataframe to an interactive table.\"\n",
              "            style=\"display:none;\">\n",
              "\n",
              "  <svg xmlns=\"http://www.w3.org/2000/svg\" height=\"24px\" viewBox=\"0 -960 960 960\">\n",
              "    <path d=\"M120-120v-720h720v720H120Zm60-500h600v-160H180v160Zm220 220h160v-160H400v160Zm0 220h160v-160H400v160ZM180-400h160v-160H180v160Zm440 0h160v-160H620v160ZM180-180h160v-160H180v160Zm440 0h160v-160H620v160Z\"/>\n",
              "  </svg>\n",
              "    </button>\n",
              "\n",
              "  <style>\n",
              "    .colab-df-container {\n",
              "      display:flex;\n",
              "      gap: 12px;\n",
              "    }\n",
              "\n",
              "    .colab-df-convert {\n",
              "      background-color: #E8F0FE;\n",
              "      border: none;\n",
              "      border-radius: 50%;\n",
              "      cursor: pointer;\n",
              "      display: none;\n",
              "      fill: #1967D2;\n",
              "      height: 32px;\n",
              "      padding: 0 0 0 0;\n",
              "      width: 32px;\n",
              "    }\n",
              "\n",
              "    .colab-df-convert:hover {\n",
              "      background-color: #E2EBFA;\n",
              "      box-shadow: 0px 1px 2px rgba(60, 64, 67, 0.3), 0px 1px 3px 1px rgba(60, 64, 67, 0.15);\n",
              "      fill: #174EA6;\n",
              "    }\n",
              "\n",
              "    .colab-df-buttons div {\n",
              "      margin-bottom: 4px;\n",
              "    }\n",
              "\n",
              "    [theme=dark] .colab-df-convert {\n",
              "      background-color: #3B4455;\n",
              "      fill: #D2E3FC;\n",
              "    }\n",
              "\n",
              "    [theme=dark] .colab-df-convert:hover {\n",
              "      background-color: #434B5C;\n",
              "      box-shadow: 0px 1px 3px 1px rgba(0, 0, 0, 0.15);\n",
              "      filter: drop-shadow(0px 1px 2px rgba(0, 0, 0, 0.3));\n",
              "      fill: #FFFFFF;\n",
              "    }\n",
              "  </style>\n",
              "\n",
              "    <script>\n",
              "      const buttonEl =\n",
              "        document.querySelector('#df-f8848b4f-2a66-4808-bb88-505640798dbd button.colab-df-convert');\n",
              "      buttonEl.style.display =\n",
              "        google.colab.kernel.accessAllowed ? 'block' : 'none';\n",
              "\n",
              "      async function convertToInteractive(key) {\n",
              "        const element = document.querySelector('#df-f8848b4f-2a66-4808-bb88-505640798dbd');\n",
              "        const dataTable =\n",
              "          await google.colab.kernel.invokeFunction('convertToInteractive',\n",
              "                                                    [key], {});\n",
              "        if (!dataTable) return;\n",
              "\n",
              "        const docLinkHtml = 'Like what you see? Visit the ' +\n",
              "          '<a target=\"_blank\" href=https://colab.research.google.com/notebooks/data_table.ipynb>data table notebook</a>'\n",
              "          + ' to learn more about interactive tables.';\n",
              "        element.innerHTML = '';\n",
              "        dataTable['output_type'] = 'display_data';\n",
              "        await google.colab.output.renderOutput(dataTable, element);\n",
              "        const docLink = document.createElement('div');\n",
              "        docLink.innerHTML = docLinkHtml;\n",
              "        element.appendChild(docLink);\n",
              "      }\n",
              "    </script>\n",
              "  </div>\n",
              "\n",
              "\n",
              "<div id=\"df-34559564-0a22-4cd8-a70f-c9e66554e90e\">\n",
              "  <button class=\"colab-df-quickchart\" onclick=\"quickchart('df-34559564-0a22-4cd8-a70f-c9e66554e90e')\"\n",
              "            title=\"Suggest charts\"\n",
              "            style=\"display:none;\">\n",
              "\n",
              "<svg xmlns=\"http://www.w3.org/2000/svg\" height=\"24px\"viewBox=\"0 0 24 24\"\n",
              "     width=\"24px\">\n",
              "    <g>\n",
              "        <path d=\"M19 3H5c-1.1 0-2 .9-2 2v14c0 1.1.9 2 2 2h14c1.1 0 2-.9 2-2V5c0-1.1-.9-2-2-2zM9 17H7v-7h2v7zm4 0h-2V7h2v10zm4 0h-2v-4h2v4z\"/>\n",
              "    </g>\n",
              "</svg>\n",
              "  </button>\n",
              "\n",
              "<style>\n",
              "  .colab-df-quickchart {\n",
              "      --bg-color: #E8F0FE;\n",
              "      --fill-color: #1967D2;\n",
              "      --hover-bg-color: #E2EBFA;\n",
              "      --hover-fill-color: #174EA6;\n",
              "      --disabled-fill-color: #AAA;\n",
              "      --disabled-bg-color: #DDD;\n",
              "  }\n",
              "\n",
              "  [theme=dark] .colab-df-quickchart {\n",
              "      --bg-color: #3B4455;\n",
              "      --fill-color: #D2E3FC;\n",
              "      --hover-bg-color: #434B5C;\n",
              "      --hover-fill-color: #FFFFFF;\n",
              "      --disabled-bg-color: #3B4455;\n",
              "      --disabled-fill-color: #666;\n",
              "  }\n",
              "\n",
              "  .colab-df-quickchart {\n",
              "    background-color: var(--bg-color);\n",
              "    border: none;\n",
              "    border-radius: 50%;\n",
              "    cursor: pointer;\n",
              "    display: none;\n",
              "    fill: var(--fill-color);\n",
              "    height: 32px;\n",
              "    padding: 0;\n",
              "    width: 32px;\n",
              "  }\n",
              "\n",
              "  .colab-df-quickchart:hover {\n",
              "    background-color: var(--hover-bg-color);\n",
              "    box-shadow: 0 1px 2px rgba(60, 64, 67, 0.3), 0 1px 3px 1px rgba(60, 64, 67, 0.15);\n",
              "    fill: var(--button-hover-fill-color);\n",
              "  }\n",
              "\n",
              "  .colab-df-quickchart-complete:disabled,\n",
              "  .colab-df-quickchart-complete:disabled:hover {\n",
              "    background-color: var(--disabled-bg-color);\n",
              "    fill: var(--disabled-fill-color);\n",
              "    box-shadow: none;\n",
              "  }\n",
              "\n",
              "  .colab-df-spinner {\n",
              "    border: 2px solid var(--fill-color);\n",
              "    border-color: transparent;\n",
              "    border-bottom-color: var(--fill-color);\n",
              "    animation:\n",
              "      spin 1s steps(1) infinite;\n",
              "  }\n",
              "\n",
              "  @keyframes spin {\n",
              "    0% {\n",
              "      border-color: transparent;\n",
              "      border-bottom-color: var(--fill-color);\n",
              "      border-left-color: var(--fill-color);\n",
              "    }\n",
              "    20% {\n",
              "      border-color: transparent;\n",
              "      border-left-color: var(--fill-color);\n",
              "      border-top-color: var(--fill-color);\n",
              "    }\n",
              "    30% {\n",
              "      border-color: transparent;\n",
              "      border-left-color: var(--fill-color);\n",
              "      border-top-color: var(--fill-color);\n",
              "      border-right-color: var(--fill-color);\n",
              "    }\n",
              "    40% {\n",
              "      border-color: transparent;\n",
              "      border-right-color: var(--fill-color);\n",
              "      border-top-color: var(--fill-color);\n",
              "    }\n",
              "    60% {\n",
              "      border-color: transparent;\n",
              "      border-right-color: var(--fill-color);\n",
              "    }\n",
              "    80% {\n",
              "      border-color: transparent;\n",
              "      border-right-color: var(--fill-color);\n",
              "      border-bottom-color: var(--fill-color);\n",
              "    }\n",
              "    90% {\n",
              "      border-color: transparent;\n",
              "      border-bottom-color: var(--fill-color);\n",
              "    }\n",
              "  }\n",
              "</style>\n",
              "\n",
              "  <script>\n",
              "    async function quickchart(key) {\n",
              "      const quickchartButtonEl =\n",
              "        document.querySelector('#' + key + ' button');\n",
              "      quickchartButtonEl.disabled = true;  // To prevent multiple clicks.\n",
              "      quickchartButtonEl.classList.add('colab-df-spinner');\n",
              "      try {\n",
              "        const charts = await google.colab.kernel.invokeFunction(\n",
              "            'suggestCharts', [key], {});\n",
              "      } catch (error) {\n",
              "        console.error('Error during call to suggestCharts:', error);\n",
              "      }\n",
              "      quickchartButtonEl.classList.remove('colab-df-spinner');\n",
              "      quickchartButtonEl.classList.add('colab-df-quickchart-complete');\n",
              "    }\n",
              "    (() => {\n",
              "      let quickchartButtonEl =\n",
              "        document.querySelector('#df-34559564-0a22-4cd8-a70f-c9e66554e90e button');\n",
              "      quickchartButtonEl.style.display =\n",
              "        google.colab.kernel.accessAllowed ? 'block' : 'none';\n",
              "    })();\n",
              "  </script>\n",
              "</div>\n",
              "\n",
              "    </div>\n",
              "  </div>\n"
            ],
            "application/vnd.google.colaboratory.intrinsic+json": {
              "type": "dataframe",
              "variable_name": "df",
              "summary": "{\n  \"name\": \"df\",\n  \"rows\": 23731,\n  \"fields\": [\n    {\n      \"column\": \"Politician Profile\",\n      \"properties\": {\n        \"dtype\": \"category\",\n        \"num_unique_values\": 86,\n        \"samples\": [\n          \"https://www.quiverquant.com/congresstrading/politician/Jeff%20Duncan-D000615\",\n          \"https://www.quiverquant.com/congresstrading/politician/Josh%20Gottheimer-G000583\",\n          \"https://www.quiverquant.com/congresstrading/politician/Mitch%20McConnell-M000355\"\n        ],\n        \"semantic_type\": \"\",\n        \"description\": \"\"\n      }\n    },\n    {\n      \"column\": \"Stock Ticker\",\n      \"properties\": {\n        \"dtype\": \"category\",\n        \"num_unique_values\": 2490,\n        \"samples\": [\n          \"SWK\",\n          \"RAI\",\n          \"AFSI\"\n        ],\n        \"semantic_type\": \"\",\n        \"description\": \"\"\n      }\n    },\n    {\n      \"column\": \"Transaction\",\n      \"properties\": {\n        \"dtype\": \"category\",\n        \"num_unique_values\": 5,\n        \"samples\": [\n          \"Sale\",\n          \"Sale (Partial)\",\n          \"Exchange\"\n        ],\n        \"semantic_type\": \"\",\n        \"description\": \"\"\n      }\n    },\n    {\n      \"column\": \"Disclosed\",\n      \"properties\": {\n        \"dtype\": \"date\",\n        \"min\": \"2014-02-05 17:36:00\",\n        \"max\": \"2024-07-21 00:00:00\",\n        \"num_unique_values\": 2092,\n        \"samples\": [\n          \"2014-05-06 00:00:00\",\n          \"2022-02-18 00:00:00\",\n          \"2023-10-12 00:00:00\"\n        ],\n        \"semantic_type\": \"\",\n        \"description\": \"\"\n      }\n    },\n    {\n      \"column\": \"Traded\",\n      \"properties\": {\n        \"dtype\": \"date\",\n        \"min\": \"2012-09-13 00:00:00\",\n        \"max\": \"2024-07-20 00:00:00\",\n        \"num_unique_values\": 2546,\n        \"samples\": [\n          \"2024-02-01 00:00:00\",\n          \"2019-09-19 00:00:00\",\n          \"2021-07-06 00:00:00\"\n        ],\n        \"semantic_type\": \"\",\n        \"description\": \"\"\n      }\n    },\n    {\n      \"column\": \"Description\",\n      \"properties\": {\n        \"dtype\": \"category\",\n        \"num_unique_values\": 1273,\n        \"samples\": [\n          \"EXERCISED 50 CALL OPTIONS PURC...\",\n          \"ASSET #RV2...\",\n          \"Rate/Coupon: 5.0%  Matures: 07...\"\n        ],\n        \"semantic_type\": \"\",\n        \"description\": \"\"\n      }\n    },\n    {\n      \"column\": \"Politician\",\n      \"properties\": {\n        \"dtype\": \"category\",\n        \"num_unique_values\": 85,\n        \"samples\": [\n          \"Susie Lee\",\n          \"Josh Gottheimer\",\n          \"Debbie Wasserman Schultz\"\n        ],\n        \"semantic_type\": \"\",\n        \"description\": \"\"\n      }\n    },\n    {\n      \"column\": \"House Information\",\n      \"properties\": {\n        \"dtype\": \"string\",\n        \"num_unique_values\": 23731,\n        \"samples\": [\n          \"House-G000583-1316\",\n          \"House-F000462-600\",\n          \"House-G000583-174\"\n        ],\n        \"semantic_type\": \"\",\n        \"description\": \"\"\n      }\n    },\n    {\n      \"column\": \"Stock\",\n      \"properties\": {\n        \"dtype\": \"category\",\n        \"num_unique_values\": 6659,\n        \"samples\": [\n          \"OFF. COMMENTS: ON 4/3/2020, UNITED TECHNOLOGIES\",\n          \"Under Armour Inc\",\n          \"IDEX Corporation Common Stock\"\n        ],\n        \"semantic_type\": \"\",\n        \"description\": \"\"\n      }\n    },\n    {\n      \"column\": \"Amount Range\",\n      \"properties\": {\n        \"dtype\": \"category\",\n        \"num_unique_values\": 57,\n        \"samples\": [\n          \"$1,001 - $15,000\",\n          \"$250,001 - $500,000\",\n          \"$639.67\"\n        ],\n        \"semantic_type\": \"\",\n        \"description\": \"\"\n      }\n    },\n    {\n      \"column\": \"Industry\",\n      \"properties\": {\n        \"dtype\": \"category\",\n        \"num_unique_values\": 11,\n        \"samples\": [\n          \"Materials\",\n          \"Information Technology\",\n          \"Energy\"\n        ],\n        \"semantic_type\": \"\",\n        \"description\": \"\"\n      }\n    },\n    {\n      \"column\": \"Amount\",\n      \"properties\": {\n        \"dtype\": \"number\",\n        \"std\": 576333.0143960742,\n        \"min\": 0.0,\n        \"max\": 50000000.0,\n        \"num_unique_values\": 57,\n        \"samples\": [\n          8000.0,\n          375000.0,\n          639.0\n        ],\n        \"semantic_type\": \"\",\n        \"description\": \"\"\n      }\n    }\n  ]\n}"
            }
          },
          "metadata": {},
          "execution_count": 13
        }
      ]
    },
    {
      "cell_type": "code",
      "source": [],
      "metadata": {
        "id": "nukzK8p9GjBR"
      },
      "execution_count": 40,
      "outputs": []
    },
    {
      "cell_type": "code",
      "source": [
        "# Handle missing values before using str.contains\n",
        "df[df['Stock Ticker'].notna() & df['Stock Ticker'].str.contains('\\.')].nunique()"
      ],
      "metadata": {
        "colab": {
          "base_uri": "https://localhost:8080/"
        },
        "id": "MWltmiPuGT7s",
        "outputId": "07f6cdb2-8b8c-4dbf-b0e8-f4a612990665"
      },
      "execution_count": 37,
      "outputs": [
        {
          "output_type": "execute_result",
          "data": {
            "text/plain": [
              "Politician Profile    21\n",
              "Stock Ticker          32\n",
              "Transaction            5\n",
              "Disclosed             68\n",
              "Traded                78\n",
              "Description            5\n",
              "Politician            21\n",
              "House Information     90\n",
              "Stock                 27\n",
              "Amount Range           5\n",
              "Industry               0\n",
              "Amount                 5\n",
              "dtype: int64"
            ]
          },
          "metadata": {},
          "execution_count": 37
        }
      ]
    },
    {
      "cell_type": "code",
      "source": [
        "# prompt: df.head() with stock ticker = (if any . in stock ticker)\n",
        "\n",
        "df[df['Stock Ticker'].str.contains('\\.')].head()\n"
      ],
      "metadata": {
        "colab": {
          "base_uri": "https://localhost:8080/",
          "height": 329
        },
        "id": "x0HpYFsZGBxg",
        "outputId": "8e9a6c91-c38f-4755-9aff-c563ce57a376"
      },
      "execution_count": 36,
      "outputs": [
        {
          "output_type": "error",
          "ename": "ValueError",
          "evalue": "Cannot mask with non-boolean array containing NA / NaN values",
          "traceback": [
            "\u001b[0;31m---------------------------------------------------------------------------\u001b[0m",
            "\u001b[0;31mValueError\u001b[0m                                Traceback (most recent call last)",
            "\u001b[0;32m<ipython-input-36-012086a7ca7c>\u001b[0m in \u001b[0;36m<cell line: 3>\u001b[0;34m()\u001b[0m\n\u001b[1;32m      1\u001b[0m \u001b[0;31m# prompt: df.head() with stock ticker = (if any . in stock ticker)\u001b[0m\u001b[0;34m\u001b[0m\u001b[0;34m\u001b[0m\u001b[0m\n\u001b[1;32m      2\u001b[0m \u001b[0;34m\u001b[0m\u001b[0m\n\u001b[0;32m----> 3\u001b[0;31m \u001b[0mdf\u001b[0m\u001b[0;34m[\u001b[0m\u001b[0mdf\u001b[0m\u001b[0;34m[\u001b[0m\u001b[0;34m'Stock Ticker'\u001b[0m\u001b[0;34m]\u001b[0m\u001b[0;34m.\u001b[0m\u001b[0mstr\u001b[0m\u001b[0;34m.\u001b[0m\u001b[0mcontains\u001b[0m\u001b[0;34m(\u001b[0m\u001b[0;34m'\\.'\u001b[0m\u001b[0;34m)\u001b[0m\u001b[0;34m]\u001b[0m\u001b[0;34m.\u001b[0m\u001b[0mhead\u001b[0m\u001b[0;34m(\u001b[0m\u001b[0;34m)\u001b[0m\u001b[0;34m\u001b[0m\u001b[0;34m\u001b[0m\u001b[0m\n\u001b[0m",
            "\u001b[0;32m/usr/local/lib/python3.10/dist-packages/pandas/core/frame.py\u001b[0m in \u001b[0;36m__getitem__\u001b[0;34m(self, key)\u001b[0m\n\u001b[1;32m   3749\u001b[0m \u001b[0;34m\u001b[0m\u001b[0m\n\u001b[1;32m   3750\u001b[0m         \u001b[0;31m# Do we have a (boolean) 1d indexer?\u001b[0m\u001b[0;34m\u001b[0m\u001b[0;34m\u001b[0m\u001b[0m\n\u001b[0;32m-> 3751\u001b[0;31m         \u001b[0;32mif\u001b[0m \u001b[0mcom\u001b[0m\u001b[0;34m.\u001b[0m\u001b[0mis_bool_indexer\u001b[0m\u001b[0;34m(\u001b[0m\u001b[0mkey\u001b[0m\u001b[0;34m)\u001b[0m\u001b[0;34m:\u001b[0m\u001b[0;34m\u001b[0m\u001b[0;34m\u001b[0m\u001b[0m\n\u001b[0m\u001b[1;32m   3752\u001b[0m             \u001b[0;32mreturn\u001b[0m \u001b[0mself\u001b[0m\u001b[0;34m.\u001b[0m\u001b[0m_getitem_bool_array\u001b[0m\u001b[0;34m(\u001b[0m\u001b[0mkey\u001b[0m\u001b[0;34m)\u001b[0m\u001b[0;34m\u001b[0m\u001b[0;34m\u001b[0m\u001b[0m\n\u001b[1;32m   3753\u001b[0m \u001b[0;34m\u001b[0m\u001b[0m\n",
            "\u001b[0;32m/usr/local/lib/python3.10/dist-packages/pandas/core/common.py\u001b[0m in \u001b[0;36mis_bool_indexer\u001b[0;34m(key)\u001b[0m\n\u001b[1;32m    132\u001b[0m                     \u001b[0;31m# Don't raise on e.g. [\"A\", \"B\", np.nan], see\u001b[0m\u001b[0;34m\u001b[0m\u001b[0;34m\u001b[0m\u001b[0m\n\u001b[1;32m    133\u001b[0m                     \u001b[0;31m#  test_loc_getitem_list_of_labels_categoricalindex_with_na\u001b[0m\u001b[0;34m\u001b[0m\u001b[0;34m\u001b[0m\u001b[0m\n\u001b[0;32m--> 134\u001b[0;31m                     \u001b[0;32mraise\u001b[0m \u001b[0mValueError\u001b[0m\u001b[0;34m(\u001b[0m\u001b[0mna_msg\u001b[0m\u001b[0;34m)\u001b[0m\u001b[0;34m\u001b[0m\u001b[0;34m\u001b[0m\u001b[0m\n\u001b[0m\u001b[1;32m    135\u001b[0m                 \u001b[0;32mreturn\u001b[0m \u001b[0;32mFalse\u001b[0m\u001b[0;34m\u001b[0m\u001b[0;34m\u001b[0m\u001b[0m\n\u001b[1;32m    136\u001b[0m             \u001b[0;32mreturn\u001b[0m \u001b[0;32mTrue\u001b[0m\u001b[0;34m\u001b[0m\u001b[0;34m\u001b[0m\u001b[0m\n",
            "\u001b[0;31mValueError\u001b[0m: Cannot mask with non-boolean array containing NA / NaN values"
          ]
        }
      ]
    },
    {
      "cell_type": "code",
      "source": [
        "data = yf.download(\"AAPL\", start=\"2020-01-01\", end=\"2021-01-01\")\n",
        "data.head()"
      ],
      "metadata": {
        "colab": {
          "base_uri": "https://localhost:8080/",
          "height": 255
        },
        "id": "Yd2FbutsEi_c",
        "outputId": "01048b9e-2d4e-4e90-dfcc-8ba74db080d9"
      },
      "execution_count": 19,
      "outputs": [
        {
          "output_type": "stream",
          "name": "stderr",
          "text": [
            "\r[*********************100%%**********************]  1 of 1 completed\n"
          ]
        },
        {
          "output_type": "execute_result",
          "data": {
            "text/plain": [
              "                 Open       High        Low      Close  Adj Close     Volume\n",
              "Date                                                                        \n",
              "2020-01-02  74.059998  75.150002  73.797501  75.087502  72.960472  135480400\n",
              "2020-01-03  74.287498  75.144997  74.125000  74.357498  72.251137  146322800\n",
              "2020-01-06  73.447502  74.989998  73.187500  74.949997  72.826851  118387200\n",
              "2020-01-07  74.959999  75.224998  74.370003  74.597504  72.484337  108872000\n",
              "2020-01-08  74.290001  76.110001  74.290001  75.797501  73.650337  132079200"
            ],
            "text/html": [
              "\n",
              "  <div id=\"df-b2500b14-c530-4873-99c5-5cb920ce9283\" class=\"colab-df-container\">\n",
              "    <div>\n",
              "<style scoped>\n",
              "    .dataframe tbody tr th:only-of-type {\n",
              "        vertical-align: middle;\n",
              "    }\n",
              "\n",
              "    .dataframe tbody tr th {\n",
              "        vertical-align: top;\n",
              "    }\n",
              "\n",
              "    .dataframe thead th {\n",
              "        text-align: right;\n",
              "    }\n",
              "</style>\n",
              "<table border=\"1\" class=\"dataframe\">\n",
              "  <thead>\n",
              "    <tr style=\"text-align: right;\">\n",
              "      <th></th>\n",
              "      <th>Open</th>\n",
              "      <th>High</th>\n",
              "      <th>Low</th>\n",
              "      <th>Close</th>\n",
              "      <th>Adj Close</th>\n",
              "      <th>Volume</th>\n",
              "    </tr>\n",
              "    <tr>\n",
              "      <th>Date</th>\n",
              "      <th></th>\n",
              "      <th></th>\n",
              "      <th></th>\n",
              "      <th></th>\n",
              "      <th></th>\n",
              "      <th></th>\n",
              "    </tr>\n",
              "  </thead>\n",
              "  <tbody>\n",
              "    <tr>\n",
              "      <th>2020-01-02</th>\n",
              "      <td>74.059998</td>\n",
              "      <td>75.150002</td>\n",
              "      <td>73.797501</td>\n",
              "      <td>75.087502</td>\n",
              "      <td>72.960472</td>\n",
              "      <td>135480400</td>\n",
              "    </tr>\n",
              "    <tr>\n",
              "      <th>2020-01-03</th>\n",
              "      <td>74.287498</td>\n",
              "      <td>75.144997</td>\n",
              "      <td>74.125000</td>\n",
              "      <td>74.357498</td>\n",
              "      <td>72.251137</td>\n",
              "      <td>146322800</td>\n",
              "    </tr>\n",
              "    <tr>\n",
              "      <th>2020-01-06</th>\n",
              "      <td>73.447502</td>\n",
              "      <td>74.989998</td>\n",
              "      <td>73.187500</td>\n",
              "      <td>74.949997</td>\n",
              "      <td>72.826851</td>\n",
              "      <td>118387200</td>\n",
              "    </tr>\n",
              "    <tr>\n",
              "      <th>2020-01-07</th>\n",
              "      <td>74.959999</td>\n",
              "      <td>75.224998</td>\n",
              "      <td>74.370003</td>\n",
              "      <td>74.597504</td>\n",
              "      <td>72.484337</td>\n",
              "      <td>108872000</td>\n",
              "    </tr>\n",
              "    <tr>\n",
              "      <th>2020-01-08</th>\n",
              "      <td>74.290001</td>\n",
              "      <td>76.110001</td>\n",
              "      <td>74.290001</td>\n",
              "      <td>75.797501</td>\n",
              "      <td>73.650337</td>\n",
              "      <td>132079200</td>\n",
              "    </tr>\n",
              "  </tbody>\n",
              "</table>\n",
              "</div>\n",
              "    <div class=\"colab-df-buttons\">\n",
              "\n",
              "  <div class=\"colab-df-container\">\n",
              "    <button class=\"colab-df-convert\" onclick=\"convertToInteractive('df-b2500b14-c530-4873-99c5-5cb920ce9283')\"\n",
              "            title=\"Convert this dataframe to an interactive table.\"\n",
              "            style=\"display:none;\">\n",
              "\n",
              "  <svg xmlns=\"http://www.w3.org/2000/svg\" height=\"24px\" viewBox=\"0 -960 960 960\">\n",
              "    <path d=\"M120-120v-720h720v720H120Zm60-500h600v-160H180v160Zm220 220h160v-160H400v160Zm0 220h160v-160H400v160ZM180-400h160v-160H180v160Zm440 0h160v-160H620v160ZM180-180h160v-160H180v160Zm440 0h160v-160H620v160Z\"/>\n",
              "  </svg>\n",
              "    </button>\n",
              "\n",
              "  <style>\n",
              "    .colab-df-container {\n",
              "      display:flex;\n",
              "      gap: 12px;\n",
              "    }\n",
              "\n",
              "    .colab-df-convert {\n",
              "      background-color: #E8F0FE;\n",
              "      border: none;\n",
              "      border-radius: 50%;\n",
              "      cursor: pointer;\n",
              "      display: none;\n",
              "      fill: #1967D2;\n",
              "      height: 32px;\n",
              "      padding: 0 0 0 0;\n",
              "      width: 32px;\n",
              "    }\n",
              "\n",
              "    .colab-df-convert:hover {\n",
              "      background-color: #E2EBFA;\n",
              "      box-shadow: 0px 1px 2px rgba(60, 64, 67, 0.3), 0px 1px 3px 1px rgba(60, 64, 67, 0.15);\n",
              "      fill: #174EA6;\n",
              "    }\n",
              "\n",
              "    .colab-df-buttons div {\n",
              "      margin-bottom: 4px;\n",
              "    }\n",
              "\n",
              "    [theme=dark] .colab-df-convert {\n",
              "      background-color: #3B4455;\n",
              "      fill: #D2E3FC;\n",
              "    }\n",
              "\n",
              "    [theme=dark] .colab-df-convert:hover {\n",
              "      background-color: #434B5C;\n",
              "      box-shadow: 0px 1px 3px 1px rgba(0, 0, 0, 0.15);\n",
              "      filter: drop-shadow(0px 1px 2px rgba(0, 0, 0, 0.3));\n",
              "      fill: #FFFFFF;\n",
              "    }\n",
              "  </style>\n",
              "\n",
              "    <script>\n",
              "      const buttonEl =\n",
              "        document.querySelector('#df-b2500b14-c530-4873-99c5-5cb920ce9283 button.colab-df-convert');\n",
              "      buttonEl.style.display =\n",
              "        google.colab.kernel.accessAllowed ? 'block' : 'none';\n",
              "\n",
              "      async function convertToInteractive(key) {\n",
              "        const element = document.querySelector('#df-b2500b14-c530-4873-99c5-5cb920ce9283');\n",
              "        const dataTable =\n",
              "          await google.colab.kernel.invokeFunction('convertToInteractive',\n",
              "                                                    [key], {});\n",
              "        if (!dataTable) return;\n",
              "\n",
              "        const docLinkHtml = 'Like what you see? Visit the ' +\n",
              "          '<a target=\"_blank\" href=https://colab.research.google.com/notebooks/data_table.ipynb>data table notebook</a>'\n",
              "          + ' to learn more about interactive tables.';\n",
              "        element.innerHTML = '';\n",
              "        dataTable['output_type'] = 'display_data';\n",
              "        await google.colab.output.renderOutput(dataTable, element);\n",
              "        const docLink = document.createElement('div');\n",
              "        docLink.innerHTML = docLinkHtml;\n",
              "        element.appendChild(docLink);\n",
              "      }\n",
              "    </script>\n",
              "  </div>\n",
              "\n",
              "\n",
              "<div id=\"df-06db801d-3844-4323-9e60-3b0714f0ad08\">\n",
              "  <button class=\"colab-df-quickchart\" onclick=\"quickchart('df-06db801d-3844-4323-9e60-3b0714f0ad08')\"\n",
              "            title=\"Suggest charts\"\n",
              "            style=\"display:none;\">\n",
              "\n",
              "<svg xmlns=\"http://www.w3.org/2000/svg\" height=\"24px\"viewBox=\"0 0 24 24\"\n",
              "     width=\"24px\">\n",
              "    <g>\n",
              "        <path d=\"M19 3H5c-1.1 0-2 .9-2 2v14c0 1.1.9 2 2 2h14c1.1 0 2-.9 2-2V5c0-1.1-.9-2-2-2zM9 17H7v-7h2v7zm4 0h-2V7h2v10zm4 0h-2v-4h2v4z\"/>\n",
              "    </g>\n",
              "</svg>\n",
              "  </button>\n",
              "\n",
              "<style>\n",
              "  .colab-df-quickchart {\n",
              "      --bg-color: #E8F0FE;\n",
              "      --fill-color: #1967D2;\n",
              "      --hover-bg-color: #E2EBFA;\n",
              "      --hover-fill-color: #174EA6;\n",
              "      --disabled-fill-color: #AAA;\n",
              "      --disabled-bg-color: #DDD;\n",
              "  }\n",
              "\n",
              "  [theme=dark] .colab-df-quickchart {\n",
              "      --bg-color: #3B4455;\n",
              "      --fill-color: #D2E3FC;\n",
              "      --hover-bg-color: #434B5C;\n",
              "      --hover-fill-color: #FFFFFF;\n",
              "      --disabled-bg-color: #3B4455;\n",
              "      --disabled-fill-color: #666;\n",
              "  }\n",
              "\n",
              "  .colab-df-quickchart {\n",
              "    background-color: var(--bg-color);\n",
              "    border: none;\n",
              "    border-radius: 50%;\n",
              "    cursor: pointer;\n",
              "    display: none;\n",
              "    fill: var(--fill-color);\n",
              "    height: 32px;\n",
              "    padding: 0;\n",
              "    width: 32px;\n",
              "  }\n",
              "\n",
              "  .colab-df-quickchart:hover {\n",
              "    background-color: var(--hover-bg-color);\n",
              "    box-shadow: 0 1px 2px rgba(60, 64, 67, 0.3), 0 1px 3px 1px rgba(60, 64, 67, 0.15);\n",
              "    fill: var(--button-hover-fill-color);\n",
              "  }\n",
              "\n",
              "  .colab-df-quickchart-complete:disabled,\n",
              "  .colab-df-quickchart-complete:disabled:hover {\n",
              "    background-color: var(--disabled-bg-color);\n",
              "    fill: var(--disabled-fill-color);\n",
              "    box-shadow: none;\n",
              "  }\n",
              "\n",
              "  .colab-df-spinner {\n",
              "    border: 2px solid var(--fill-color);\n",
              "    border-color: transparent;\n",
              "    border-bottom-color: var(--fill-color);\n",
              "    animation:\n",
              "      spin 1s steps(1) infinite;\n",
              "  }\n",
              "\n",
              "  @keyframes spin {\n",
              "    0% {\n",
              "      border-color: transparent;\n",
              "      border-bottom-color: var(--fill-color);\n",
              "      border-left-color: var(--fill-color);\n",
              "    }\n",
              "    20% {\n",
              "      border-color: transparent;\n",
              "      border-left-color: var(--fill-color);\n",
              "      border-top-color: var(--fill-color);\n",
              "    }\n",
              "    30% {\n",
              "      border-color: transparent;\n",
              "      border-left-color: var(--fill-color);\n",
              "      border-top-color: var(--fill-color);\n",
              "      border-right-color: var(--fill-color);\n",
              "    }\n",
              "    40% {\n",
              "      border-color: transparent;\n",
              "      border-right-color: var(--fill-color);\n",
              "      border-top-color: var(--fill-color);\n",
              "    }\n",
              "    60% {\n",
              "      border-color: transparent;\n",
              "      border-right-color: var(--fill-color);\n",
              "    }\n",
              "    80% {\n",
              "      border-color: transparent;\n",
              "      border-right-color: var(--fill-color);\n",
              "      border-bottom-color: var(--fill-color);\n",
              "    }\n",
              "    90% {\n",
              "      border-color: transparent;\n",
              "      border-bottom-color: var(--fill-color);\n",
              "    }\n",
              "  }\n",
              "</style>\n",
              "\n",
              "  <script>\n",
              "    async function quickchart(key) {\n",
              "      const quickchartButtonEl =\n",
              "        document.querySelector('#' + key + ' button');\n",
              "      quickchartButtonEl.disabled = true;  // To prevent multiple clicks.\n",
              "      quickchartButtonEl.classList.add('colab-df-spinner');\n",
              "      try {\n",
              "        const charts = await google.colab.kernel.invokeFunction(\n",
              "            'suggestCharts', [key], {});\n",
              "      } catch (error) {\n",
              "        console.error('Error during call to suggestCharts:', error);\n",
              "      }\n",
              "      quickchartButtonEl.classList.remove('colab-df-spinner');\n",
              "      quickchartButtonEl.classList.add('colab-df-quickchart-complete');\n",
              "    }\n",
              "    (() => {\n",
              "      let quickchartButtonEl =\n",
              "        document.querySelector('#df-06db801d-3844-4323-9e60-3b0714f0ad08 button');\n",
              "      quickchartButtonEl.style.display =\n",
              "        google.colab.kernel.accessAllowed ? 'block' : 'none';\n",
              "    })();\n",
              "  </script>\n",
              "</div>\n",
              "\n",
              "    </div>\n",
              "  </div>\n"
            ],
            "application/vnd.google.colaboratory.intrinsic+json": {
              "type": "dataframe",
              "variable_name": "data",
              "summary": "{\n  \"name\": \"data\",\n  \"rows\": 253,\n  \"fields\": [\n    {\n      \"column\": \"Date\",\n      \"properties\": {\n        \"dtype\": \"date\",\n        \"min\": \"2020-01-02 00:00:00\",\n        \"max\": \"2020-12-31 00:00:00\",\n        \"num_unique_values\": 253,\n        \"samples\": [\n          \"2020-10-28 00:00:00\",\n          \"2020-01-10 00:00:00\",\n          \"2020-04-27 00:00:00\"\n        ],\n        \"semantic_type\": \"\",\n        \"description\": \"\"\n      }\n    },\n    {\n      \"column\": \"Open\",\n      \"properties\": {\n        \"dtype\": \"number\",\n        \"std\": 22.01190735511129,\n        \"min\": 57.02000045776367,\n        \"max\": 138.0500030517578,\n        \"num_unique_values\": 249,\n        \"samples\": [\n          96.4175033569336,\n          77.6500015258789,\n          79.66500091552734\n        ],\n        \"semantic_type\": \"\",\n        \"description\": \"\"\n      }\n    },\n    {\n      \"column\": \"High\",\n      \"properties\": {\n        \"dtype\": \"number\",\n        \"std\": 22.09463709327716,\n        \"min\": 57.125,\n        \"max\": 138.7899932861328,\n        \"num_unique_values\": 249,\n        \"samples\": [\n          99.25,\n          78.1675033569336,\n          80.22250366210938\n        ],\n        \"semantic_type\": \"\",\n        \"description\": \"\"\n      }\n    },\n    {\n      \"column\": \"Low\",\n      \"properties\": {\n        \"dtype\": \"number\",\n        \"std\": 21.579913169629247,\n        \"min\": 53.15250015258789,\n        \"max\": 134.33999633789062,\n        \"num_unique_values\": 248,\n        \"samples\": [\n          79.55249786376953,\n          77.0625,\n          106.7699966430664\n        ],\n        \"semantic_type\": \"\",\n        \"description\": \"\"\n      }\n    },\n    {\n      \"column\": \"Close\",\n      \"properties\": {\n        \"dtype\": \"number\",\n        \"std\": 21.809814027487107,\n        \"min\": 56.092498779296875,\n        \"max\": 136.69000244140625,\n        \"num_unique_values\": 250,\n        \"samples\": [\n          95.04000091552734,\n          77.5824966430664,\n          79.72250366210938\n        ],\n        \"semantic_type\": \"\",\n        \"description\": \"\"\n      }\n    },\n    {\n      \"column\": \"Adj Close\",\n      \"properties\": {\n        \"dtype\": \"number\",\n        \"std\": 21.516500974002927,\n        \"min\": 54.632896423339844,\n        \"max\": 133.9649200439453,\n        \"num_unique_values\": 251,\n        \"samples\": [\n          112.42274475097656,\n          75.38479614257812,\n          122.30680084228516\n        ],\n        \"semantic_type\": \"\",\n        \"description\": \"\"\n      }\n    },\n    {\n      \"column\": \"Volume\",\n      \"properties\": {\n        \"dtype\": \"number\",\n        \"std\": 69830721,\n        \"min\": 46691300,\n        \"max\": 426510000,\n        \"num_unique_values\": 253,\n        \"samples\": [\n          143937800,\n          140644800,\n          117087600\n        ],\n        \"semantic_type\": \"\",\n        \"description\": \"\"\n      }\n    }\n  ]\n}"
            }
          },
          "metadata": {},
          "execution_count": 19
        }
      ]
    },
    {
      "cell_type": "code",
      "source": [
        "recent_data = yf.download(\"BRK-B\", period=\"5d\")\n",
        "recent_data"
      ],
      "metadata": {
        "colab": {
          "base_uri": "https://localhost:8080/",
          "height": 255
        },
        "id": "cyPHYUU_En8d",
        "outputId": "887439f1-5d52-4258-caf0-0ab3b992716c"
      },
      "execution_count": 28,
      "outputs": [
        {
          "output_type": "stream",
          "name": "stderr",
          "text": [
            "\r[*********************100%%**********************]  1 of 1 completed\n"
          ]
        },
        {
          "output_type": "execute_result",
          "data": {
            "text/plain": [
              "                  Open        High         Low       Close   Adj Close  \\\n",
              "Date                                                                     \n",
              "2024-07-22  435.049988  438.109985  432.119995  435.980011  435.980011   \n",
              "2024-07-23  437.339996  437.920013  433.470001  434.010010  434.010010   \n",
              "2024-07-24  433.989990  435.410004  430.730011  432.799988  432.799988   \n",
              "2024-07-25  431.600006  439.630005  431.600006  433.290009  433.290009   \n",
              "2024-07-26  435.660004  439.000000  434.100006  437.660004  437.660004   \n",
              "\n",
              "             Volume  \n",
              "Date                 \n",
              "2024-07-22  2995700  \n",
              "2024-07-23  2393000  \n",
              "2024-07-24  3143700  \n",
              "2024-07-25  3334300  \n",
              "2024-07-26  2716500  "
            ],
            "text/html": [
              "\n",
              "  <div id=\"df-efb58367-eabe-484a-98e6-43b4e6fe6bb2\" class=\"colab-df-container\">\n",
              "    <div>\n",
              "<style scoped>\n",
              "    .dataframe tbody tr th:only-of-type {\n",
              "        vertical-align: middle;\n",
              "    }\n",
              "\n",
              "    .dataframe tbody tr th {\n",
              "        vertical-align: top;\n",
              "    }\n",
              "\n",
              "    .dataframe thead th {\n",
              "        text-align: right;\n",
              "    }\n",
              "</style>\n",
              "<table border=\"1\" class=\"dataframe\">\n",
              "  <thead>\n",
              "    <tr style=\"text-align: right;\">\n",
              "      <th></th>\n",
              "      <th>Open</th>\n",
              "      <th>High</th>\n",
              "      <th>Low</th>\n",
              "      <th>Close</th>\n",
              "      <th>Adj Close</th>\n",
              "      <th>Volume</th>\n",
              "    </tr>\n",
              "    <tr>\n",
              "      <th>Date</th>\n",
              "      <th></th>\n",
              "      <th></th>\n",
              "      <th></th>\n",
              "      <th></th>\n",
              "      <th></th>\n",
              "      <th></th>\n",
              "    </tr>\n",
              "  </thead>\n",
              "  <tbody>\n",
              "    <tr>\n",
              "      <th>2024-07-22</th>\n",
              "      <td>435.049988</td>\n",
              "      <td>438.109985</td>\n",
              "      <td>432.119995</td>\n",
              "      <td>435.980011</td>\n",
              "      <td>435.980011</td>\n",
              "      <td>2995700</td>\n",
              "    </tr>\n",
              "    <tr>\n",
              "      <th>2024-07-23</th>\n",
              "      <td>437.339996</td>\n",
              "      <td>437.920013</td>\n",
              "      <td>433.470001</td>\n",
              "      <td>434.010010</td>\n",
              "      <td>434.010010</td>\n",
              "      <td>2393000</td>\n",
              "    </tr>\n",
              "    <tr>\n",
              "      <th>2024-07-24</th>\n",
              "      <td>433.989990</td>\n",
              "      <td>435.410004</td>\n",
              "      <td>430.730011</td>\n",
              "      <td>432.799988</td>\n",
              "      <td>432.799988</td>\n",
              "      <td>3143700</td>\n",
              "    </tr>\n",
              "    <tr>\n",
              "      <th>2024-07-25</th>\n",
              "      <td>431.600006</td>\n",
              "      <td>439.630005</td>\n",
              "      <td>431.600006</td>\n",
              "      <td>433.290009</td>\n",
              "      <td>433.290009</td>\n",
              "      <td>3334300</td>\n",
              "    </tr>\n",
              "    <tr>\n",
              "      <th>2024-07-26</th>\n",
              "      <td>435.660004</td>\n",
              "      <td>439.000000</td>\n",
              "      <td>434.100006</td>\n",
              "      <td>437.660004</td>\n",
              "      <td>437.660004</td>\n",
              "      <td>2716500</td>\n",
              "    </tr>\n",
              "  </tbody>\n",
              "</table>\n",
              "</div>\n",
              "    <div class=\"colab-df-buttons\">\n",
              "\n",
              "  <div class=\"colab-df-container\">\n",
              "    <button class=\"colab-df-convert\" onclick=\"convertToInteractive('df-efb58367-eabe-484a-98e6-43b4e6fe6bb2')\"\n",
              "            title=\"Convert this dataframe to an interactive table.\"\n",
              "            style=\"display:none;\">\n",
              "\n",
              "  <svg xmlns=\"http://www.w3.org/2000/svg\" height=\"24px\" viewBox=\"0 -960 960 960\">\n",
              "    <path d=\"M120-120v-720h720v720H120Zm60-500h600v-160H180v160Zm220 220h160v-160H400v160Zm0 220h160v-160H400v160ZM180-400h160v-160H180v160Zm440 0h160v-160H620v160ZM180-180h160v-160H180v160Zm440 0h160v-160H620v160Z\"/>\n",
              "  </svg>\n",
              "    </button>\n",
              "\n",
              "  <style>\n",
              "    .colab-df-container {\n",
              "      display:flex;\n",
              "      gap: 12px;\n",
              "    }\n",
              "\n",
              "    .colab-df-convert {\n",
              "      background-color: #E8F0FE;\n",
              "      border: none;\n",
              "      border-radius: 50%;\n",
              "      cursor: pointer;\n",
              "      display: none;\n",
              "      fill: #1967D2;\n",
              "      height: 32px;\n",
              "      padding: 0 0 0 0;\n",
              "      width: 32px;\n",
              "    }\n",
              "\n",
              "    .colab-df-convert:hover {\n",
              "      background-color: #E2EBFA;\n",
              "      box-shadow: 0px 1px 2px rgba(60, 64, 67, 0.3), 0px 1px 3px 1px rgba(60, 64, 67, 0.15);\n",
              "      fill: #174EA6;\n",
              "    }\n",
              "\n",
              "    .colab-df-buttons div {\n",
              "      margin-bottom: 4px;\n",
              "    }\n",
              "\n",
              "    [theme=dark] .colab-df-convert {\n",
              "      background-color: #3B4455;\n",
              "      fill: #D2E3FC;\n",
              "    }\n",
              "\n",
              "    [theme=dark] .colab-df-convert:hover {\n",
              "      background-color: #434B5C;\n",
              "      box-shadow: 0px 1px 3px 1px rgba(0, 0, 0, 0.15);\n",
              "      filter: drop-shadow(0px 1px 2px rgba(0, 0, 0, 0.3));\n",
              "      fill: #FFFFFF;\n",
              "    }\n",
              "  </style>\n",
              "\n",
              "    <script>\n",
              "      const buttonEl =\n",
              "        document.querySelector('#df-efb58367-eabe-484a-98e6-43b4e6fe6bb2 button.colab-df-convert');\n",
              "      buttonEl.style.display =\n",
              "        google.colab.kernel.accessAllowed ? 'block' : 'none';\n",
              "\n",
              "      async function convertToInteractive(key) {\n",
              "        const element = document.querySelector('#df-efb58367-eabe-484a-98e6-43b4e6fe6bb2');\n",
              "        const dataTable =\n",
              "          await google.colab.kernel.invokeFunction('convertToInteractive',\n",
              "                                                    [key], {});\n",
              "        if (!dataTable) return;\n",
              "\n",
              "        const docLinkHtml = 'Like what you see? Visit the ' +\n",
              "          '<a target=\"_blank\" href=https://colab.research.google.com/notebooks/data_table.ipynb>data table notebook</a>'\n",
              "          + ' to learn more about interactive tables.';\n",
              "        element.innerHTML = '';\n",
              "        dataTable['output_type'] = 'display_data';\n",
              "        await google.colab.output.renderOutput(dataTable, element);\n",
              "        const docLink = document.createElement('div');\n",
              "        docLink.innerHTML = docLinkHtml;\n",
              "        element.appendChild(docLink);\n",
              "      }\n",
              "    </script>\n",
              "  </div>\n",
              "\n",
              "\n",
              "<div id=\"df-efd3dfed-2cf6-42ec-8d9b-2725cf090f90\">\n",
              "  <button class=\"colab-df-quickchart\" onclick=\"quickchart('df-efd3dfed-2cf6-42ec-8d9b-2725cf090f90')\"\n",
              "            title=\"Suggest charts\"\n",
              "            style=\"display:none;\">\n",
              "\n",
              "<svg xmlns=\"http://www.w3.org/2000/svg\" height=\"24px\"viewBox=\"0 0 24 24\"\n",
              "     width=\"24px\">\n",
              "    <g>\n",
              "        <path d=\"M19 3H5c-1.1 0-2 .9-2 2v14c0 1.1.9 2 2 2h14c1.1 0 2-.9 2-2V5c0-1.1-.9-2-2-2zM9 17H7v-7h2v7zm4 0h-2V7h2v10zm4 0h-2v-4h2v4z\"/>\n",
              "    </g>\n",
              "</svg>\n",
              "  </button>\n",
              "\n",
              "<style>\n",
              "  .colab-df-quickchart {\n",
              "      --bg-color: #E8F0FE;\n",
              "      --fill-color: #1967D2;\n",
              "      --hover-bg-color: #E2EBFA;\n",
              "      --hover-fill-color: #174EA6;\n",
              "      --disabled-fill-color: #AAA;\n",
              "      --disabled-bg-color: #DDD;\n",
              "  }\n",
              "\n",
              "  [theme=dark] .colab-df-quickchart {\n",
              "      --bg-color: #3B4455;\n",
              "      --fill-color: #D2E3FC;\n",
              "      --hover-bg-color: #434B5C;\n",
              "      --hover-fill-color: #FFFFFF;\n",
              "      --disabled-bg-color: #3B4455;\n",
              "      --disabled-fill-color: #666;\n",
              "  }\n",
              "\n",
              "  .colab-df-quickchart {\n",
              "    background-color: var(--bg-color);\n",
              "    border: none;\n",
              "    border-radius: 50%;\n",
              "    cursor: pointer;\n",
              "    display: none;\n",
              "    fill: var(--fill-color);\n",
              "    height: 32px;\n",
              "    padding: 0;\n",
              "    width: 32px;\n",
              "  }\n",
              "\n",
              "  .colab-df-quickchart:hover {\n",
              "    background-color: var(--hover-bg-color);\n",
              "    box-shadow: 0 1px 2px rgba(60, 64, 67, 0.3), 0 1px 3px 1px rgba(60, 64, 67, 0.15);\n",
              "    fill: var(--button-hover-fill-color);\n",
              "  }\n",
              "\n",
              "  .colab-df-quickchart-complete:disabled,\n",
              "  .colab-df-quickchart-complete:disabled:hover {\n",
              "    background-color: var(--disabled-bg-color);\n",
              "    fill: var(--disabled-fill-color);\n",
              "    box-shadow: none;\n",
              "  }\n",
              "\n",
              "  .colab-df-spinner {\n",
              "    border: 2px solid var(--fill-color);\n",
              "    border-color: transparent;\n",
              "    border-bottom-color: var(--fill-color);\n",
              "    animation:\n",
              "      spin 1s steps(1) infinite;\n",
              "  }\n",
              "\n",
              "  @keyframes spin {\n",
              "    0% {\n",
              "      border-color: transparent;\n",
              "      border-bottom-color: var(--fill-color);\n",
              "      border-left-color: var(--fill-color);\n",
              "    }\n",
              "    20% {\n",
              "      border-color: transparent;\n",
              "      border-left-color: var(--fill-color);\n",
              "      border-top-color: var(--fill-color);\n",
              "    }\n",
              "    30% {\n",
              "      border-color: transparent;\n",
              "      border-left-color: var(--fill-color);\n",
              "      border-top-color: var(--fill-color);\n",
              "      border-right-color: var(--fill-color);\n",
              "    }\n",
              "    40% {\n",
              "      border-color: transparent;\n",
              "      border-right-color: var(--fill-color);\n",
              "      border-top-color: var(--fill-color);\n",
              "    }\n",
              "    60% {\n",
              "      border-color: transparent;\n",
              "      border-right-color: var(--fill-color);\n",
              "    }\n",
              "    80% {\n",
              "      border-color: transparent;\n",
              "      border-right-color: var(--fill-color);\n",
              "      border-bottom-color: var(--fill-color);\n",
              "    }\n",
              "    90% {\n",
              "      border-color: transparent;\n",
              "      border-bottom-color: var(--fill-color);\n",
              "    }\n",
              "  }\n",
              "</style>\n",
              "\n",
              "  <script>\n",
              "    async function quickchart(key) {\n",
              "      const quickchartButtonEl =\n",
              "        document.querySelector('#' + key + ' button');\n",
              "      quickchartButtonEl.disabled = true;  // To prevent multiple clicks.\n",
              "      quickchartButtonEl.classList.add('colab-df-spinner');\n",
              "      try {\n",
              "        const charts = await google.colab.kernel.invokeFunction(\n",
              "            'suggestCharts', [key], {});\n",
              "      } catch (error) {\n",
              "        console.error('Error during call to suggestCharts:', error);\n",
              "      }\n",
              "      quickchartButtonEl.classList.remove('colab-df-spinner');\n",
              "      quickchartButtonEl.classList.add('colab-df-quickchart-complete');\n",
              "    }\n",
              "    (() => {\n",
              "      let quickchartButtonEl =\n",
              "        document.querySelector('#df-efd3dfed-2cf6-42ec-8d9b-2725cf090f90 button');\n",
              "      quickchartButtonEl.style.display =\n",
              "        google.colab.kernel.accessAllowed ? 'block' : 'none';\n",
              "    })();\n",
              "  </script>\n",
              "</div>\n",
              "\n",
              "  <div id=\"id_d0ddb77e-3682-4efb-85ad-e2c43b7ce919\">\n",
              "    <style>\n",
              "      .colab-df-generate {\n",
              "        background-color: #E8F0FE;\n",
              "        border: none;\n",
              "        border-radius: 50%;\n",
              "        cursor: pointer;\n",
              "        display: none;\n",
              "        fill: #1967D2;\n",
              "        height: 32px;\n",
              "        padding: 0 0 0 0;\n",
              "        width: 32px;\n",
              "      }\n",
              "\n",
              "      .colab-df-generate:hover {\n",
              "        background-color: #E2EBFA;\n",
              "        box-shadow: 0px 1px 2px rgba(60, 64, 67, 0.3), 0px 1px 3px 1px rgba(60, 64, 67, 0.15);\n",
              "        fill: #174EA6;\n",
              "      }\n",
              "\n",
              "      [theme=dark] .colab-df-generate {\n",
              "        background-color: #3B4455;\n",
              "        fill: #D2E3FC;\n",
              "      }\n",
              "\n",
              "      [theme=dark] .colab-df-generate:hover {\n",
              "        background-color: #434B5C;\n",
              "        box-shadow: 0px 1px 3px 1px rgba(0, 0, 0, 0.15);\n",
              "        filter: drop-shadow(0px 1px 2px rgba(0, 0, 0, 0.3));\n",
              "        fill: #FFFFFF;\n",
              "      }\n",
              "    </style>\n",
              "    <button class=\"colab-df-generate\" onclick=\"generateWithVariable('recent_data')\"\n",
              "            title=\"Generate code using this dataframe.\"\n",
              "            style=\"display:none;\">\n",
              "\n",
              "  <svg xmlns=\"http://www.w3.org/2000/svg\" height=\"24px\"viewBox=\"0 0 24 24\"\n",
              "       width=\"24px\">\n",
              "    <path d=\"M7,19H8.4L18.45,9,17,7.55,7,17.6ZM5,21V16.75L18.45,3.32a2,2,0,0,1,2.83,0l1.4,1.43a1.91,1.91,0,0,1,.58,1.4,1.91,1.91,0,0,1-.58,1.4L9.25,21ZM18.45,9,17,7.55Zm-12,3A5.31,5.31,0,0,0,4.9,8.1,5.31,5.31,0,0,0,1,6.5,5.31,5.31,0,0,0,4.9,4.9,5.31,5.31,0,0,0,6.5,1,5.31,5.31,0,0,0,8.1,4.9,5.31,5.31,0,0,0,12,6.5,5.46,5.46,0,0,0,6.5,12Z\"/>\n",
              "  </svg>\n",
              "    </button>\n",
              "    <script>\n",
              "      (() => {\n",
              "      const buttonEl =\n",
              "        document.querySelector('#id_d0ddb77e-3682-4efb-85ad-e2c43b7ce919 button.colab-df-generate');\n",
              "      buttonEl.style.display =\n",
              "        google.colab.kernel.accessAllowed ? 'block' : 'none';\n",
              "\n",
              "      buttonEl.onclick = () => {\n",
              "        google.colab.notebook.generateWithVariable('recent_data');\n",
              "      }\n",
              "      })();\n",
              "    </script>\n",
              "  </div>\n",
              "\n",
              "    </div>\n",
              "  </div>\n"
            ],
            "application/vnd.google.colaboratory.intrinsic+json": {
              "type": "dataframe",
              "variable_name": "recent_data",
              "summary": "{\n  \"name\": \"recent_data\",\n  \"rows\": 5,\n  \"fields\": [\n    {\n      \"column\": \"Date\",\n      \"properties\": {\n        \"dtype\": \"date\",\n        \"min\": \"2024-07-22 00:00:00\",\n        \"max\": \"2024-07-26 00:00:00\",\n        \"num_unique_values\": 5,\n        \"samples\": [\n          \"2024-07-23 00:00:00\",\n          \"2024-07-26 00:00:00\",\n          \"2024-07-24 00:00:00\"\n        ],\n        \"semantic_type\": \"\",\n        \"description\": \"\"\n      }\n    },\n    {\n      \"column\": \"Open\",\n      \"properties\": {\n        \"dtype\": \"number\",\n        \"std\": 2.1286049460098986,\n        \"min\": 431.6000061035156,\n        \"max\": 437.3399963378906,\n        \"num_unique_values\": 5,\n        \"samples\": [\n          437.3399963378906,\n          435.6600036621094,\n          433.989990234375\n        ],\n        \"semantic_type\": \"\",\n        \"description\": \"\"\n      }\n    },\n    {\n      \"column\": \"High\",\n      \"properties\": {\n        \"dtype\": \"number\",\n        \"std\": 1.6110952309292363,\n        \"min\": 435.4100036621094,\n        \"max\": 439.6300048828125,\n        \"num_unique_values\": 5,\n        \"samples\": [\n          437.9200134277344,\n          439.0,\n          435.4100036621094\n        ],\n        \"semantic_type\": \"\",\n        \"description\": \"\"\n      }\n    },\n    {\n      \"column\": \"Low\",\n      \"properties\": {\n        \"dtype\": \"number\",\n        \"std\": 1.3731441550840646,\n        \"min\": 430.7300109863281,\n        \"max\": 434.1000061035156,\n        \"num_unique_values\": 5,\n        \"samples\": [\n          433.4700012207031,\n          434.1000061035156,\n          430.7300109863281\n        ],\n        \"semantic_type\": \"\",\n        \"description\": \"\"\n      }\n    },\n    {\n      \"column\": \"Close\",\n      \"properties\": {\n        \"dtype\": \"number\",\n        \"std\": 2.0287149027365783,\n        \"min\": 432.79998779296875,\n        \"max\": 437.6600036621094,\n        \"num_unique_values\": 5,\n        \"samples\": [\n          434.010009765625,\n          437.6600036621094,\n          432.79998779296875\n        ],\n        \"semantic_type\": \"\",\n        \"description\": \"\"\n      }\n    },\n    {\n      \"column\": \"Adj Close\",\n      \"properties\": {\n        \"dtype\": \"number\",\n        \"std\": 2.0287149027365783,\n        \"min\": 432.79998779296875,\n        \"max\": 437.6600036621094,\n        \"num_unique_values\": 5,\n        \"samples\": [\n          434.010009765625,\n          437.6600036621094,\n          432.79998779296875\n        ],\n        \"semantic_type\": \"\",\n        \"description\": \"\"\n      }\n    },\n    {\n      \"column\": \"Volume\",\n      \"properties\": {\n        \"dtype\": \"number\",\n        \"std\": 369628,\n        \"min\": 2393000,\n        \"max\": 3334300,\n        \"num_unique_values\": 5,\n        \"samples\": [\n          2393000,\n          2716500,\n          3143700\n        ],\n        \"semantic_type\": \"\",\n        \"description\": \"\"\n      }\n    }\n  ]\n}"
            }
          },
          "metadata": {},
          "execution_count": 28
        }
      ]
    },
    {
      "cell_type": "code",
      "source": [
        "all_stock_data.to_csv('/content/drive/MyDrive/Upwork/Stock Data Analysis/all_stock_data.csv', index=False)"
      ],
      "metadata": {
        "id": "scr67xhqPjFZ"
      },
      "execution_count": 51,
      "outputs": []
    },
    {
      "cell_type": "code",
      "source": [
        "stock_data"
      ],
      "metadata": {
        "colab": {
          "base_uri": "https://localhost:8080/",
          "height": 680
        },
        "id": "YLcnkx5ORaeX",
        "outputId": "d6255141-f2fe-4226-cdca-a9fadeae259c"
      },
      "execution_count": 56,
      "outputs": [
        {
          "output_type": "execute_result",
          "data": {
            "text/plain": [
              "Price        Adj Close                      Close                       High  \\\n",
              "Ticker               A          L   P           A          L   P           A   \n",
              "Date                                                                           \n",
              "2020-01-02   84.799675  52.331497 NaN   85.949997  52.959999 NaN   86.349998   \n",
              "2020-01-03   83.438141  52.133873 NaN   84.570000  52.759998 NaN   85.330002   \n",
              "2020-01-06   83.684799  51.461945 NaN   84.820000  52.080002 NaN   84.820000   \n",
              "2020-01-07   83.941315  51.224796 NaN   85.080002  51.840000 NaN   85.260002   \n",
              "2020-01-08   84.770073  51.234669 NaN   85.919998  51.849998 NaN   86.470001   \n",
              "...                ...        ...  ..         ...        ...  ..         ...   \n",
              "2024-07-22  133.419998  78.080002 NaN  133.419998  78.080002 NaN  133.929993   \n",
              "2024-07-23  130.649994  78.349998 NaN  130.649994  78.349998 NaN  137.660004   \n",
              "2024-07-24  134.160004  77.919998 NaN  134.160004  77.919998 NaN  134.429993   \n",
              "2024-07-25  134.979996  78.309998 NaN  134.979996  78.309998 NaN  138.369995   \n",
              "2024-07-26  137.320007  80.089996 NaN  137.320007  80.089996 NaN  140.289993   \n",
              "\n",
              "Price                             Low                       Open             \\\n",
              "Ticker              L   P           A          L   P           A          L   \n",
              "Date                                                                          \n",
              "2020-01-02  53.000000 NaN   85.199997  52.459999 NaN   85.900002  52.720001   \n",
              "2020-01-03  52.810001 NaN   84.500000  52.279999 NaN   84.669998  52.450001   \n",
              "2020-01-06  52.540001 NaN   83.599998  52.020000 NaN   84.000000  52.380001   \n",
              "2020-01-07  52.299999 NaN   83.940002  51.810001 NaN   83.959999  51.970001   \n",
              "2020-01-08  52.580002 NaN   85.199997  51.799999 NaN   85.959999  52.049999   \n",
              "...               ...  ..         ...        ...  ..         ...        ...   \n",
              "2024-07-22  78.559998 NaN  131.399994  77.510002 NaN  133.059998  77.970001   \n",
              "2024-07-23  78.589996 NaN  130.490005  78.089996 NaN  137.610001  78.180000   \n",
              "2024-07-24  78.599998 NaN  130.179993  77.820000 NaN  130.869995  78.500000   \n",
              "2024-07-25  79.690002 NaN  133.449997  77.900002 NaN  133.949997  78.260002   \n",
              "2024-07-26  80.339996 NaN  136.080002  78.769997 NaN  136.690002  78.809998   \n",
              "\n",
              "Price            Volume               \n",
              "Ticker       P        A        L   P  \n",
              "Date                                  \n",
              "2020-01-02 NaN  1410500  1081400 NaN  \n",
              "2020-01-03 NaN  1118300   829300 NaN  \n",
              "2020-01-06 NaN  1993200   786600 NaN  \n",
              "2020-01-07 NaN  1684700   759500 NaN  \n",
              "2020-01-08 NaN  1847600   904800 NaN  \n",
              "...         ..      ...      ...  ..  \n",
              "2024-07-22 NaN  2009400   327100 NaN  \n",
              "2024-07-23 NaN  1640800   428400 NaN  \n",
              "2024-07-24 NaN  2066700   570300 NaN  \n",
              "2024-07-25 NaN  1338900   457300 NaN  \n",
              "2024-07-26 NaN  1717700   649500 NaN  \n",
              "\n",
              "[1149 rows x 18 columns]"
            ],
            "text/html": [
              "\n",
              "  <div id=\"df-7aa01f81-6aea-4491-96a0-f700e589f167\" class=\"colab-df-container\">\n",
              "    <div>\n",
              "<style scoped>\n",
              "    .dataframe tbody tr th:only-of-type {\n",
              "        vertical-align: middle;\n",
              "    }\n",
              "\n",
              "    .dataframe tbody tr th {\n",
              "        vertical-align: top;\n",
              "    }\n",
              "\n",
              "    .dataframe thead tr th {\n",
              "        text-align: left;\n",
              "    }\n",
              "\n",
              "    .dataframe thead tr:last-of-type th {\n",
              "        text-align: right;\n",
              "    }\n",
              "</style>\n",
              "<table border=\"1\" class=\"dataframe\">\n",
              "  <thead>\n",
              "    <tr>\n",
              "      <th>Price</th>\n",
              "      <th colspan=\"3\" halign=\"left\">Adj Close</th>\n",
              "      <th colspan=\"3\" halign=\"left\">Close</th>\n",
              "      <th colspan=\"3\" halign=\"left\">High</th>\n",
              "      <th colspan=\"3\" halign=\"left\">Low</th>\n",
              "      <th colspan=\"3\" halign=\"left\">Open</th>\n",
              "      <th colspan=\"3\" halign=\"left\">Volume</th>\n",
              "    </tr>\n",
              "    <tr>\n",
              "      <th>Ticker</th>\n",
              "      <th>A</th>\n",
              "      <th>L</th>\n",
              "      <th>P</th>\n",
              "      <th>A</th>\n",
              "      <th>L</th>\n",
              "      <th>P</th>\n",
              "      <th>A</th>\n",
              "      <th>L</th>\n",
              "      <th>P</th>\n",
              "      <th>A</th>\n",
              "      <th>L</th>\n",
              "      <th>P</th>\n",
              "      <th>A</th>\n",
              "      <th>L</th>\n",
              "      <th>P</th>\n",
              "      <th>A</th>\n",
              "      <th>L</th>\n",
              "      <th>P</th>\n",
              "    </tr>\n",
              "    <tr>\n",
              "      <th>Date</th>\n",
              "      <th></th>\n",
              "      <th></th>\n",
              "      <th></th>\n",
              "      <th></th>\n",
              "      <th></th>\n",
              "      <th></th>\n",
              "      <th></th>\n",
              "      <th></th>\n",
              "      <th></th>\n",
              "      <th></th>\n",
              "      <th></th>\n",
              "      <th></th>\n",
              "      <th></th>\n",
              "      <th></th>\n",
              "      <th></th>\n",
              "      <th></th>\n",
              "      <th></th>\n",
              "      <th></th>\n",
              "    </tr>\n",
              "  </thead>\n",
              "  <tbody>\n",
              "    <tr>\n",
              "      <th>2020-01-02</th>\n",
              "      <td>84.799675</td>\n",
              "      <td>52.331497</td>\n",
              "      <td>NaN</td>\n",
              "      <td>85.949997</td>\n",
              "      <td>52.959999</td>\n",
              "      <td>NaN</td>\n",
              "      <td>86.349998</td>\n",
              "      <td>53.000000</td>\n",
              "      <td>NaN</td>\n",
              "      <td>85.199997</td>\n",
              "      <td>52.459999</td>\n",
              "      <td>NaN</td>\n",
              "      <td>85.900002</td>\n",
              "      <td>52.720001</td>\n",
              "      <td>NaN</td>\n",
              "      <td>1410500</td>\n",
              "      <td>1081400</td>\n",
              "      <td>NaN</td>\n",
              "    </tr>\n",
              "    <tr>\n",
              "      <th>2020-01-03</th>\n",
              "      <td>83.438141</td>\n",
              "      <td>52.133873</td>\n",
              "      <td>NaN</td>\n",
              "      <td>84.570000</td>\n",
              "      <td>52.759998</td>\n",
              "      <td>NaN</td>\n",
              "      <td>85.330002</td>\n",
              "      <td>52.810001</td>\n",
              "      <td>NaN</td>\n",
              "      <td>84.500000</td>\n",
              "      <td>52.279999</td>\n",
              "      <td>NaN</td>\n",
              "      <td>84.669998</td>\n",
              "      <td>52.450001</td>\n",
              "      <td>NaN</td>\n",
              "      <td>1118300</td>\n",
              "      <td>829300</td>\n",
              "      <td>NaN</td>\n",
              "    </tr>\n",
              "    <tr>\n",
              "      <th>2020-01-06</th>\n",
              "      <td>83.684799</td>\n",
              "      <td>51.461945</td>\n",
              "      <td>NaN</td>\n",
              "      <td>84.820000</td>\n",
              "      <td>52.080002</td>\n",
              "      <td>NaN</td>\n",
              "      <td>84.820000</td>\n",
              "      <td>52.540001</td>\n",
              "      <td>NaN</td>\n",
              "      <td>83.599998</td>\n",
              "      <td>52.020000</td>\n",
              "      <td>NaN</td>\n",
              "      <td>84.000000</td>\n",
              "      <td>52.380001</td>\n",
              "      <td>NaN</td>\n",
              "      <td>1993200</td>\n",
              "      <td>786600</td>\n",
              "      <td>NaN</td>\n",
              "    </tr>\n",
              "    <tr>\n",
              "      <th>2020-01-07</th>\n",
              "      <td>83.941315</td>\n",
              "      <td>51.224796</td>\n",
              "      <td>NaN</td>\n",
              "      <td>85.080002</td>\n",
              "      <td>51.840000</td>\n",
              "      <td>NaN</td>\n",
              "      <td>85.260002</td>\n",
              "      <td>52.299999</td>\n",
              "      <td>NaN</td>\n",
              "      <td>83.940002</td>\n",
              "      <td>51.810001</td>\n",
              "      <td>NaN</td>\n",
              "      <td>83.959999</td>\n",
              "      <td>51.970001</td>\n",
              "      <td>NaN</td>\n",
              "      <td>1684700</td>\n",
              "      <td>759500</td>\n",
              "      <td>NaN</td>\n",
              "    </tr>\n",
              "    <tr>\n",
              "      <th>2020-01-08</th>\n",
              "      <td>84.770073</td>\n",
              "      <td>51.234669</td>\n",
              "      <td>NaN</td>\n",
              "      <td>85.919998</td>\n",
              "      <td>51.849998</td>\n",
              "      <td>NaN</td>\n",
              "      <td>86.470001</td>\n",
              "      <td>52.580002</td>\n",
              "      <td>NaN</td>\n",
              "      <td>85.199997</td>\n",
              "      <td>51.799999</td>\n",
              "      <td>NaN</td>\n",
              "      <td>85.959999</td>\n",
              "      <td>52.049999</td>\n",
              "      <td>NaN</td>\n",
              "      <td>1847600</td>\n",
              "      <td>904800</td>\n",
              "      <td>NaN</td>\n",
              "    </tr>\n",
              "    <tr>\n",
              "      <th>...</th>\n",
              "      <td>...</td>\n",
              "      <td>...</td>\n",
              "      <td>...</td>\n",
              "      <td>...</td>\n",
              "      <td>...</td>\n",
              "      <td>...</td>\n",
              "      <td>...</td>\n",
              "      <td>...</td>\n",
              "      <td>...</td>\n",
              "      <td>...</td>\n",
              "      <td>...</td>\n",
              "      <td>...</td>\n",
              "      <td>...</td>\n",
              "      <td>...</td>\n",
              "      <td>...</td>\n",
              "      <td>...</td>\n",
              "      <td>...</td>\n",
              "      <td>...</td>\n",
              "    </tr>\n",
              "    <tr>\n",
              "      <th>2024-07-22</th>\n",
              "      <td>133.419998</td>\n",
              "      <td>78.080002</td>\n",
              "      <td>NaN</td>\n",
              "      <td>133.419998</td>\n",
              "      <td>78.080002</td>\n",
              "      <td>NaN</td>\n",
              "      <td>133.929993</td>\n",
              "      <td>78.559998</td>\n",
              "      <td>NaN</td>\n",
              "      <td>131.399994</td>\n",
              "      <td>77.510002</td>\n",
              "      <td>NaN</td>\n",
              "      <td>133.059998</td>\n",
              "      <td>77.970001</td>\n",
              "      <td>NaN</td>\n",
              "      <td>2009400</td>\n",
              "      <td>327100</td>\n",
              "      <td>NaN</td>\n",
              "    </tr>\n",
              "    <tr>\n",
              "      <th>2024-07-23</th>\n",
              "      <td>130.649994</td>\n",
              "      <td>78.349998</td>\n",
              "      <td>NaN</td>\n",
              "      <td>130.649994</td>\n",
              "      <td>78.349998</td>\n",
              "      <td>NaN</td>\n",
              "      <td>137.660004</td>\n",
              "      <td>78.589996</td>\n",
              "      <td>NaN</td>\n",
              "      <td>130.490005</td>\n",
              "      <td>78.089996</td>\n",
              "      <td>NaN</td>\n",
              "      <td>137.610001</td>\n",
              "      <td>78.180000</td>\n",
              "      <td>NaN</td>\n",
              "      <td>1640800</td>\n",
              "      <td>428400</td>\n",
              "      <td>NaN</td>\n",
              "    </tr>\n",
              "    <tr>\n",
              "      <th>2024-07-24</th>\n",
              "      <td>134.160004</td>\n",
              "      <td>77.919998</td>\n",
              "      <td>NaN</td>\n",
              "      <td>134.160004</td>\n",
              "      <td>77.919998</td>\n",
              "      <td>NaN</td>\n",
              "      <td>134.429993</td>\n",
              "      <td>78.599998</td>\n",
              "      <td>NaN</td>\n",
              "      <td>130.179993</td>\n",
              "      <td>77.820000</td>\n",
              "      <td>NaN</td>\n",
              "      <td>130.869995</td>\n",
              "      <td>78.500000</td>\n",
              "      <td>NaN</td>\n",
              "      <td>2066700</td>\n",
              "      <td>570300</td>\n",
              "      <td>NaN</td>\n",
              "    </tr>\n",
              "    <tr>\n",
              "      <th>2024-07-25</th>\n",
              "      <td>134.979996</td>\n",
              "      <td>78.309998</td>\n",
              "      <td>NaN</td>\n",
              "      <td>134.979996</td>\n",
              "      <td>78.309998</td>\n",
              "      <td>NaN</td>\n",
              "      <td>138.369995</td>\n",
              "      <td>79.690002</td>\n",
              "      <td>NaN</td>\n",
              "      <td>133.449997</td>\n",
              "      <td>77.900002</td>\n",
              "      <td>NaN</td>\n",
              "      <td>133.949997</td>\n",
              "      <td>78.260002</td>\n",
              "      <td>NaN</td>\n",
              "      <td>1338900</td>\n",
              "      <td>457300</td>\n",
              "      <td>NaN</td>\n",
              "    </tr>\n",
              "    <tr>\n",
              "      <th>2024-07-26</th>\n",
              "      <td>137.320007</td>\n",
              "      <td>80.089996</td>\n",
              "      <td>NaN</td>\n",
              "      <td>137.320007</td>\n",
              "      <td>80.089996</td>\n",
              "      <td>NaN</td>\n",
              "      <td>140.289993</td>\n",
              "      <td>80.339996</td>\n",
              "      <td>NaN</td>\n",
              "      <td>136.080002</td>\n",
              "      <td>78.769997</td>\n",
              "      <td>NaN</td>\n",
              "      <td>136.690002</td>\n",
              "      <td>78.809998</td>\n",
              "      <td>NaN</td>\n",
              "      <td>1717700</td>\n",
              "      <td>649500</td>\n",
              "      <td>NaN</td>\n",
              "    </tr>\n",
              "  </tbody>\n",
              "</table>\n",
              "<p>1149 rows × 18 columns</p>\n",
              "</div>\n",
              "    <div class=\"colab-df-buttons\">\n",
              "\n",
              "  <div class=\"colab-df-container\">\n",
              "    <button class=\"colab-df-convert\" onclick=\"convertToInteractive('df-7aa01f81-6aea-4491-96a0-f700e589f167')\"\n",
              "            title=\"Convert this dataframe to an interactive table.\"\n",
              "            style=\"display:none;\">\n",
              "\n",
              "  <svg xmlns=\"http://www.w3.org/2000/svg\" height=\"24px\" viewBox=\"0 -960 960 960\">\n",
              "    <path d=\"M120-120v-720h720v720H120Zm60-500h600v-160H180v160Zm220 220h160v-160H400v160Zm0 220h160v-160H400v160ZM180-400h160v-160H180v160Zm440 0h160v-160H620v160ZM180-180h160v-160H180v160Zm440 0h160v-160H620v160Z\"/>\n",
              "  </svg>\n",
              "    </button>\n",
              "\n",
              "  <style>\n",
              "    .colab-df-container {\n",
              "      display:flex;\n",
              "      gap: 12px;\n",
              "    }\n",
              "\n",
              "    .colab-df-convert {\n",
              "      background-color: #E8F0FE;\n",
              "      border: none;\n",
              "      border-radius: 50%;\n",
              "      cursor: pointer;\n",
              "      display: none;\n",
              "      fill: #1967D2;\n",
              "      height: 32px;\n",
              "      padding: 0 0 0 0;\n",
              "      width: 32px;\n",
              "    }\n",
              "\n",
              "    .colab-df-convert:hover {\n",
              "      background-color: #E2EBFA;\n",
              "      box-shadow: 0px 1px 2px rgba(60, 64, 67, 0.3), 0px 1px 3px 1px rgba(60, 64, 67, 0.15);\n",
              "      fill: #174EA6;\n",
              "    }\n",
              "\n",
              "    .colab-df-buttons div {\n",
              "      margin-bottom: 4px;\n",
              "    }\n",
              "\n",
              "    [theme=dark] .colab-df-convert {\n",
              "      background-color: #3B4455;\n",
              "      fill: #D2E3FC;\n",
              "    }\n",
              "\n",
              "    [theme=dark] .colab-df-convert:hover {\n",
              "      background-color: #434B5C;\n",
              "      box-shadow: 0px 1px 3px 1px rgba(0, 0, 0, 0.15);\n",
              "      filter: drop-shadow(0px 1px 2px rgba(0, 0, 0, 0.3));\n",
              "      fill: #FFFFFF;\n",
              "    }\n",
              "  </style>\n",
              "\n",
              "    <script>\n",
              "      const buttonEl =\n",
              "        document.querySelector('#df-7aa01f81-6aea-4491-96a0-f700e589f167 button.colab-df-convert');\n",
              "      buttonEl.style.display =\n",
              "        google.colab.kernel.accessAllowed ? 'block' : 'none';\n",
              "\n",
              "      async function convertToInteractive(key) {\n",
              "        const element = document.querySelector('#df-7aa01f81-6aea-4491-96a0-f700e589f167');\n",
              "        const dataTable =\n",
              "          await google.colab.kernel.invokeFunction('convertToInteractive',\n",
              "                                                    [key], {});\n",
              "        if (!dataTable) return;\n",
              "\n",
              "        const docLinkHtml = 'Like what you see? Visit the ' +\n",
              "          '<a target=\"_blank\" href=https://colab.research.google.com/notebooks/data_table.ipynb>data table notebook</a>'\n",
              "          + ' to learn more about interactive tables.';\n",
              "        element.innerHTML = '';\n",
              "        dataTable['output_type'] = 'display_data';\n",
              "        await google.colab.output.renderOutput(dataTable, element);\n",
              "        const docLink = document.createElement('div');\n",
              "        docLink.innerHTML = docLinkHtml;\n",
              "        element.appendChild(docLink);\n",
              "      }\n",
              "    </script>\n",
              "  </div>\n",
              "\n",
              "\n",
              "<div id=\"df-10a67a7c-8faa-4762-bcad-26c86176d6c4\">\n",
              "  <button class=\"colab-df-quickchart\" onclick=\"quickchart('df-10a67a7c-8faa-4762-bcad-26c86176d6c4')\"\n",
              "            title=\"Suggest charts\"\n",
              "            style=\"display:none;\">\n",
              "\n",
              "<svg xmlns=\"http://www.w3.org/2000/svg\" height=\"24px\"viewBox=\"0 0 24 24\"\n",
              "     width=\"24px\">\n",
              "    <g>\n",
              "        <path d=\"M19 3H5c-1.1 0-2 .9-2 2v14c0 1.1.9 2 2 2h14c1.1 0 2-.9 2-2V5c0-1.1-.9-2-2-2zM9 17H7v-7h2v7zm4 0h-2V7h2v10zm4 0h-2v-4h2v4z\"/>\n",
              "    </g>\n",
              "</svg>\n",
              "  </button>\n",
              "\n",
              "<style>\n",
              "  .colab-df-quickchart {\n",
              "      --bg-color: #E8F0FE;\n",
              "      --fill-color: #1967D2;\n",
              "      --hover-bg-color: #E2EBFA;\n",
              "      --hover-fill-color: #174EA6;\n",
              "      --disabled-fill-color: #AAA;\n",
              "      --disabled-bg-color: #DDD;\n",
              "  }\n",
              "\n",
              "  [theme=dark] .colab-df-quickchart {\n",
              "      --bg-color: #3B4455;\n",
              "      --fill-color: #D2E3FC;\n",
              "      --hover-bg-color: #434B5C;\n",
              "      --hover-fill-color: #FFFFFF;\n",
              "      --disabled-bg-color: #3B4455;\n",
              "      --disabled-fill-color: #666;\n",
              "  }\n",
              "\n",
              "  .colab-df-quickchart {\n",
              "    background-color: var(--bg-color);\n",
              "    border: none;\n",
              "    border-radius: 50%;\n",
              "    cursor: pointer;\n",
              "    display: none;\n",
              "    fill: var(--fill-color);\n",
              "    height: 32px;\n",
              "    padding: 0;\n",
              "    width: 32px;\n",
              "  }\n",
              "\n",
              "  .colab-df-quickchart:hover {\n",
              "    background-color: var(--hover-bg-color);\n",
              "    box-shadow: 0 1px 2px rgba(60, 64, 67, 0.3), 0 1px 3px 1px rgba(60, 64, 67, 0.15);\n",
              "    fill: var(--button-hover-fill-color);\n",
              "  }\n",
              "\n",
              "  .colab-df-quickchart-complete:disabled,\n",
              "  .colab-df-quickchart-complete:disabled:hover {\n",
              "    background-color: var(--disabled-bg-color);\n",
              "    fill: var(--disabled-fill-color);\n",
              "    box-shadow: none;\n",
              "  }\n",
              "\n",
              "  .colab-df-spinner {\n",
              "    border: 2px solid var(--fill-color);\n",
              "    border-color: transparent;\n",
              "    border-bottom-color: var(--fill-color);\n",
              "    animation:\n",
              "      spin 1s steps(1) infinite;\n",
              "  }\n",
              "\n",
              "  @keyframes spin {\n",
              "    0% {\n",
              "      border-color: transparent;\n",
              "      border-bottom-color: var(--fill-color);\n",
              "      border-left-color: var(--fill-color);\n",
              "    }\n",
              "    20% {\n",
              "      border-color: transparent;\n",
              "      border-left-color: var(--fill-color);\n",
              "      border-top-color: var(--fill-color);\n",
              "    }\n",
              "    30% {\n",
              "      border-color: transparent;\n",
              "      border-left-color: var(--fill-color);\n",
              "      border-top-color: var(--fill-color);\n",
              "      border-right-color: var(--fill-color);\n",
              "    }\n",
              "    40% {\n",
              "      border-color: transparent;\n",
              "      border-right-color: var(--fill-color);\n",
              "      border-top-color: var(--fill-color);\n",
              "    }\n",
              "    60% {\n",
              "      border-color: transparent;\n",
              "      border-right-color: var(--fill-color);\n",
              "    }\n",
              "    80% {\n",
              "      border-color: transparent;\n",
              "      border-right-color: var(--fill-color);\n",
              "      border-bottom-color: var(--fill-color);\n",
              "    }\n",
              "    90% {\n",
              "      border-color: transparent;\n",
              "      border-bottom-color: var(--fill-color);\n",
              "    }\n",
              "  }\n",
              "</style>\n",
              "\n",
              "  <script>\n",
              "    async function quickchart(key) {\n",
              "      const quickchartButtonEl =\n",
              "        document.querySelector('#' + key + ' button');\n",
              "      quickchartButtonEl.disabled = true;  // To prevent multiple clicks.\n",
              "      quickchartButtonEl.classList.add('colab-df-spinner');\n",
              "      try {\n",
              "        const charts = await google.colab.kernel.invokeFunction(\n",
              "            'suggestCharts', [key], {});\n",
              "      } catch (error) {\n",
              "        console.error('Error during call to suggestCharts:', error);\n",
              "      }\n",
              "      quickchartButtonEl.classList.remove('colab-df-spinner');\n",
              "      quickchartButtonEl.classList.add('colab-df-quickchart-complete');\n",
              "    }\n",
              "    (() => {\n",
              "      let quickchartButtonEl =\n",
              "        document.querySelector('#df-10a67a7c-8faa-4762-bcad-26c86176d6c4 button');\n",
              "      quickchartButtonEl.style.display =\n",
              "        google.colab.kernel.accessAllowed ? 'block' : 'none';\n",
              "    })();\n",
              "  </script>\n",
              "</div>\n",
              "\n",
              "  <div id=\"id_fd853801-7ff0-4ff7-bcf3-ff4d634cb7a3\">\n",
              "    <style>\n",
              "      .colab-df-generate {\n",
              "        background-color: #E8F0FE;\n",
              "        border: none;\n",
              "        border-radius: 50%;\n",
              "        cursor: pointer;\n",
              "        display: none;\n",
              "        fill: #1967D2;\n",
              "        height: 32px;\n",
              "        padding: 0 0 0 0;\n",
              "        width: 32px;\n",
              "      }\n",
              "\n",
              "      .colab-df-generate:hover {\n",
              "        background-color: #E2EBFA;\n",
              "        box-shadow: 0px 1px 2px rgba(60, 64, 67, 0.3), 0px 1px 3px 1px rgba(60, 64, 67, 0.15);\n",
              "        fill: #174EA6;\n",
              "      }\n",
              "\n",
              "      [theme=dark] .colab-df-generate {\n",
              "        background-color: #3B4455;\n",
              "        fill: #D2E3FC;\n",
              "      }\n",
              "\n",
              "      [theme=dark] .colab-df-generate:hover {\n",
              "        background-color: #434B5C;\n",
              "        box-shadow: 0px 1px 3px 1px rgba(0, 0, 0, 0.15);\n",
              "        filter: drop-shadow(0px 1px 2px rgba(0, 0, 0, 0.3));\n",
              "        fill: #FFFFFF;\n",
              "      }\n",
              "    </style>\n",
              "    <button class=\"colab-df-generate\" onclick=\"generateWithVariable('stock_data')\"\n",
              "            title=\"Generate code using this dataframe.\"\n",
              "            style=\"display:none;\">\n",
              "\n",
              "  <svg xmlns=\"http://www.w3.org/2000/svg\" height=\"24px\"viewBox=\"0 0 24 24\"\n",
              "       width=\"24px\">\n",
              "    <path d=\"M7,19H8.4L18.45,9,17,7.55,7,17.6ZM5,21V16.75L18.45,3.32a2,2,0,0,1,2.83,0l1.4,1.43a1.91,1.91,0,0,1,.58,1.4,1.91,1.91,0,0,1-.58,1.4L9.25,21ZM18.45,9,17,7.55Zm-12,3A5.31,5.31,0,0,0,4.9,8.1,5.31,5.31,0,0,0,1,6.5,5.31,5.31,0,0,0,4.9,4.9,5.31,5.31,0,0,0,6.5,1,5.31,5.31,0,0,0,8.1,4.9,5.31,5.31,0,0,0,12,6.5,5.46,5.46,0,0,0,6.5,12Z\"/>\n",
              "  </svg>\n",
              "    </button>\n",
              "    <script>\n",
              "      (() => {\n",
              "      const buttonEl =\n",
              "        document.querySelector('#id_fd853801-7ff0-4ff7-bcf3-ff4d634cb7a3 button.colab-df-generate');\n",
              "      buttonEl.style.display =\n",
              "        google.colab.kernel.accessAllowed ? 'block' : 'none';\n",
              "\n",
              "      buttonEl.onclick = () => {\n",
              "        google.colab.notebook.generateWithVariable('stock_data');\n",
              "      }\n",
              "      })();\n",
              "    </script>\n",
              "  </div>\n",
              "\n",
              "    </div>\n",
              "  </div>\n"
            ],
            "application/vnd.google.colaboratory.intrinsic+json": {
              "type": "dataframe",
              "variable_name": "stock_data",
              "summary": "{\n  \"name\": \"stock_data\",\n  \"rows\": 1149,\n  \"fields\": [\n    {\n      \"column\": [\n        \"Date\",\n        \"\"\n      ],\n      \"properties\": {\n        \"dtype\": \"date\",\n        \"min\": \"2020-01-02 00:00:00\",\n        \"max\": \"2024-07-26 00:00:00\",\n        \"num_unique_values\": 1149,\n        \"samples\": [\n          \"2020-09-10 00:00:00\",\n          \"2022-12-27 00:00:00\",\n          \"2021-11-08 00:00:00\"\n        ],\n        \"semantic_type\": \"\",\n        \"description\": \"\"\n      }\n    },\n    {\n      \"column\": [\n        \"Adj Close\",\n        \"A\"\n      ],\n      \"properties\": {\n        \"dtype\": \"number\",\n        \"std\": 23.224954428190674,\n        \"min\": 62.521873474121094,\n        \"max\": 178.82151794433594,\n        \"num_unique_values\": 1102,\n        \"samples\": [\n          126.45596313476562,\n          132.44000244140625,\n          148.24990844726562\n        ],\n        \"semantic_type\": \"\",\n        \"description\": \"\"\n      }\n    },\n    {\n      \"column\": [\n        \"Adj Close\",\n        \"L\"\n      ],\n      \"properties\": {\n        \"dtype\": \"number\",\n        \"std\": 11.824236432087874,\n        \"min\": 28.492517471313477,\n        \"max\": 80.08999633789062,\n        \"num_unique_values\": 1050,\n        \"samples\": [\n          56.067726135253906,\n          56.029998779296875,\n          59.329742431640625\n        ],\n        \"semantic_type\": \"\",\n        \"description\": \"\"\n      }\n    },\n    {\n      \"column\": [\n        \"Adj Close\",\n        \"P\"\n      ],\n      \"properties\": {\n        \"dtype\": \"number\",\n        \"std\": null,\n        \"min\": null,\n        \"max\": null,\n        \"num_unique_values\": 0,\n        \"samples\": [],\n        \"semantic_type\": \"\",\n        \"description\": \"\"\n      }\n    },\n    {\n      \"column\": [\n        \"Close\",\n        \"A\"\n      ],\n      \"properties\": {\n        \"dtype\": \"number\",\n        \"std\": 22.989582592877422,\n        \"min\": 63.369998931884766,\n        \"max\": 179.27999877929688,\n        \"num_unique_values\": 1073,\n        \"samples\": [],\n        \"semantic_type\": \"\",\n        \"description\": \"\"\n      }\n    },\n    {\n      \"column\": [\n        \"Close\",\n        \"L\"\n      ],\n      \"properties\": {\n        \"dtype\": \"number\",\n        \"std\": 11.715571588314571,\n        \"min\": 28.799999237060547,\n        \"max\": 80.08999633789062,\n        \"num_unique_values\": 965,\n        \"samples\": [],\n        \"semantic_type\": \"\",\n        \"description\": \"\"\n      }\n    },\n    {\n      \"column\": [\n        \"Close\",\n        \"P\"\n      ],\n      \"properties\": {\n        \"dtype\": \"number\",\n        \"std\": null,\n        \"min\": null,\n        \"max\": null,\n        \"num_unique_values\": 0,\n        \"samples\": [],\n        \"semantic_type\": \"\",\n        \"description\": \"\"\n      }\n    },\n    {\n      \"column\": [\n        \"High\",\n        \"A\"\n      ],\n      \"properties\": {\n        \"dtype\": \"number\",\n        \"std\": 23.123017080213845,\n        \"min\": 66.62000274658203,\n        \"max\": 179.57000732421875,\n        \"num_unique_values\": 1059,\n        \"samples\": [],\n        \"semantic_type\": \"\",\n        \"description\": \"\"\n      }\n    },\n    {\n      \"column\": [\n        \"High\",\n        \"L\"\n      ],\n      \"properties\": {\n        \"dtype\": \"number\",\n        \"std\": 11.642824570644855,\n        \"min\": 29.420000076293945,\n        \"max\": 81.11000061035156,\n        \"num_unique_values\": 943,\n        \"samples\": [],\n        \"semantic_type\": \"\",\n        \"description\": \"\"\n      }\n    },\n    {\n      \"column\": [\n        \"High\",\n        \"P\"\n      ],\n      \"properties\": {\n        \"dtype\": \"number\",\n        \"std\": null,\n        \"min\": null,\n        \"max\": null,\n        \"num_unique_values\": 0,\n        \"samples\": [],\n        \"semantic_type\": \"\",\n        \"description\": \"\"\n      }\n    },\n    {\n      \"column\": [\n        \"Low\",\n        \"A\"\n      ],\n      \"properties\": {\n        \"dtype\": \"number\",\n        \"std\": 22.87764774919124,\n        \"min\": 61.130001068115234,\n        \"max\": 177.1699981689453,\n        \"num_unique_values\": 1054,\n        \"samples\": [],\n        \"semantic_type\": \"\",\n        \"description\": \"\"\n      }\n    },\n    {\n      \"column\": [\n        \"Low\",\n        \"L\"\n      ],\n      \"properties\": {\n        \"dtype\": \"number\",\n        \"std\": 11.775656159628541,\n        \"min\": 27.329999923706055,\n        \"max\": 78.9800033569336,\n        \"num_unique_values\": 949,\n        \"samples\": [],\n        \"semantic_type\": \"\",\n        \"description\": \"\"\n      }\n    },\n    {\n      \"column\": [\n        \"Low\",\n        \"P\"\n      ],\n      \"properties\": {\n        \"dtype\": \"number\",\n        \"std\": null,\n        \"min\": null,\n        \"max\": null,\n        \"num_unique_values\": 0,\n        \"samples\": [],\n        \"semantic_type\": \"\",\n        \"description\": \"\"\n      }\n    },\n    {\n      \"column\": [\n        \"Open\",\n        \"A\"\n      ],\n      \"properties\": {\n        \"dtype\": \"number\",\n        \"std\": 23.053310357705087,\n        \"min\": 63.40999984741211,\n        \"max\": 179.27999877929688,\n        \"num_unique_values\": 1046,\n        \"samples\": [],\n        \"semantic_type\": \"\",\n        \"description\": \"\"\n      }\n    },\n    {\n      \"column\": [\n        \"Open\",\n        \"L\"\n      ],\n      \"properties\": {\n        \"dtype\": \"number\",\n        \"std\": 11.702754304099031,\n        \"min\": 28.25,\n        \"max\": 79.68000030517578,\n        \"num_unique_values\": 955,\n        \"samples\": [],\n        \"semantic_type\": \"\",\n        \"description\": \"\"\n      }\n    },\n    {\n      \"column\": [\n        \"Open\",\n        \"P\"\n      ],\n      \"properties\": {\n        \"dtype\": \"number\",\n        \"std\": null,\n        \"min\": null,\n        \"max\": null,\n        \"num_unique_values\": 0,\n        \"samples\": [],\n        \"semantic_type\": \"\",\n        \"description\": \"\"\n      }\n    },\n    {\n      \"column\": [\n        \"Volume\",\n        \"A\"\n      ],\n      \"properties\": {\n        \"dtype\": \"number\",\n        \"std\": 836569,\n        \"min\": 636000,\n        \"max\": 9817600,\n        \"num_unique_values\": 1123,\n        \"samples\": [],\n        \"semantic_type\": \"\",\n        \"description\": \"\"\n      }\n    },\n    {\n      \"column\": [\n        \"Volume\",\n        \"L\"\n      ],\n      \"properties\": {\n        \"dtype\": \"number\",\n        \"std\": 537851,\n        \"min\": 277900,\n        \"max\": 6165200,\n        \"num_unique_values\": 1094,\n        \"samples\": [],\n        \"semantic_type\": \"\",\n        \"description\": \"\"\n      }\n    },\n    {\n      \"column\": [\n        \"Volume\",\n        \"P\"\n      ],\n      \"properties\": {\n        \"dtype\": \"number\",\n        \"std\": null,\n        \"min\": null,\n        \"max\": null,\n        \"num_unique_values\": 0,\n        \"samples\": [],\n        \"semantic_type\": \"\",\n        \"description\": \"\"\n      }\n    }\n  ]\n}"
            }
          },
          "metadata": {},
          "execution_count": 56
        }
      ]
    },
    {
      "cell_type": "code",
      "source": [
        "import yfinance as yf\n",
        "import pandas as pd\n",
        "\n",
        "# Fetch historical prices for AAPL\n",
        "start_date = \"2020-01-01\"\n",
        "end_date = pd.Timestamp.today().strftime('%Y-%m-%d')  # Today's date\n",
        "\n",
        "stock_data = yf.download([\"AAPL\"], start=start_date, end=end_date, auto_adjust=False)\n",
        "\n",
        "stock_data"
      ],
      "metadata": {
        "colab": {
          "base_uri": "https://localhost:8080/",
          "height": 473
        },
        "id": "W1dYKtArRVsN",
        "outputId": "02f8c51b-afea-4c35-af2e-e73c073e1e8b"
      },
      "execution_count": 71,
      "outputs": [
        {
          "output_type": "stream",
          "name": "stderr",
          "text": [
            "\r[*********************100%%**********************]  1 of 1 completed\n"
          ]
        },
        {
          "output_type": "execute_result",
          "data": {
            "text/plain": [
              "                  Open        High         Low       Close   Adj Close  \\\n",
              "Date                                                                     \n",
              "2020-01-02   74.059998   75.150002   73.797501   75.087502   74.207466   \n",
              "2020-01-03   74.287498   75.144997   74.125000   74.357498   73.486023   \n",
              "2020-01-06   73.447502   74.989998   73.187500   74.949997   74.071579   \n",
              "2020-01-07   74.959999   75.224998   74.370003   74.597504   73.723213   \n",
              "2020-01-08   74.290001   76.110001   74.290001   75.797501   74.909149   \n",
              "...                ...         ...         ...         ...         ...   \n",
              "2024-07-22  227.009995  227.779999  223.089996  223.960007  223.960007   \n",
              "2024-07-23  224.369995  226.940002  222.679993  225.009995  225.009995   \n",
              "2024-07-24  224.000000  224.800003  217.130005  218.539993  218.539993   \n",
              "2024-07-25  218.929993  220.850006  214.619995  217.490005  217.490005   \n",
              "2024-07-26  218.699997  219.490005  216.009995  217.960007  217.960007   \n",
              "\n",
              "               Volume  \n",
              "Date                   \n",
              "2020-01-02  135480400  \n",
              "2020-01-03  146322800  \n",
              "2020-01-06  118387200  \n",
              "2020-01-07  108872000  \n",
              "2020-01-08  132079200  \n",
              "...               ...  \n",
              "2024-07-22   48201800  \n",
              "2024-07-23   39960300  \n",
              "2024-07-24   61777600  \n",
              "2024-07-25   51391200  \n",
              "2024-07-26   41580100  \n",
              "\n",
              "[1149 rows x 6 columns]"
            ],
            "text/html": [
              "\n",
              "  <div id=\"df-28866c0d-3203-44bd-861f-13bc26983ff3\" class=\"colab-df-container\">\n",
              "    <div>\n",
              "<style scoped>\n",
              "    .dataframe tbody tr th:only-of-type {\n",
              "        vertical-align: middle;\n",
              "    }\n",
              "\n",
              "    .dataframe tbody tr th {\n",
              "        vertical-align: top;\n",
              "    }\n",
              "\n",
              "    .dataframe thead th {\n",
              "        text-align: right;\n",
              "    }\n",
              "</style>\n",
              "<table border=\"1\" class=\"dataframe\">\n",
              "  <thead>\n",
              "    <tr style=\"text-align: right;\">\n",
              "      <th></th>\n",
              "      <th>Open</th>\n",
              "      <th>High</th>\n",
              "      <th>Low</th>\n",
              "      <th>Close</th>\n",
              "      <th>Adj Close</th>\n",
              "      <th>Volume</th>\n",
              "    </tr>\n",
              "    <tr>\n",
              "      <th>Date</th>\n",
              "      <th></th>\n",
              "      <th></th>\n",
              "      <th></th>\n",
              "      <th></th>\n",
              "      <th></th>\n",
              "      <th></th>\n",
              "    </tr>\n",
              "  </thead>\n",
              "  <tbody>\n",
              "    <tr>\n",
              "      <th>2020-01-02</th>\n",
              "      <td>74.059998</td>\n",
              "      <td>75.150002</td>\n",
              "      <td>73.797501</td>\n",
              "      <td>75.087502</td>\n",
              "      <td>74.207466</td>\n",
              "      <td>135480400</td>\n",
              "    </tr>\n",
              "    <tr>\n",
              "      <th>2020-01-03</th>\n",
              "      <td>74.287498</td>\n",
              "      <td>75.144997</td>\n",
              "      <td>74.125000</td>\n",
              "      <td>74.357498</td>\n",
              "      <td>73.486023</td>\n",
              "      <td>146322800</td>\n",
              "    </tr>\n",
              "    <tr>\n",
              "      <th>2020-01-06</th>\n",
              "      <td>73.447502</td>\n",
              "      <td>74.989998</td>\n",
              "      <td>73.187500</td>\n",
              "      <td>74.949997</td>\n",
              "      <td>74.071579</td>\n",
              "      <td>118387200</td>\n",
              "    </tr>\n",
              "    <tr>\n",
              "      <th>2020-01-07</th>\n",
              "      <td>74.959999</td>\n",
              "      <td>75.224998</td>\n",
              "      <td>74.370003</td>\n",
              "      <td>74.597504</td>\n",
              "      <td>73.723213</td>\n",
              "      <td>108872000</td>\n",
              "    </tr>\n",
              "    <tr>\n",
              "      <th>2020-01-08</th>\n",
              "      <td>74.290001</td>\n",
              "      <td>76.110001</td>\n",
              "      <td>74.290001</td>\n",
              "      <td>75.797501</td>\n",
              "      <td>74.909149</td>\n",
              "      <td>132079200</td>\n",
              "    </tr>\n",
              "    <tr>\n",
              "      <th>...</th>\n",
              "      <td>...</td>\n",
              "      <td>...</td>\n",
              "      <td>...</td>\n",
              "      <td>...</td>\n",
              "      <td>...</td>\n",
              "      <td>...</td>\n",
              "    </tr>\n",
              "    <tr>\n",
              "      <th>2024-07-22</th>\n",
              "      <td>227.009995</td>\n",
              "      <td>227.779999</td>\n",
              "      <td>223.089996</td>\n",
              "      <td>223.960007</td>\n",
              "      <td>223.960007</td>\n",
              "      <td>48201800</td>\n",
              "    </tr>\n",
              "    <tr>\n",
              "      <th>2024-07-23</th>\n",
              "      <td>224.369995</td>\n",
              "      <td>226.940002</td>\n",
              "      <td>222.679993</td>\n",
              "      <td>225.009995</td>\n",
              "      <td>225.009995</td>\n",
              "      <td>39960300</td>\n",
              "    </tr>\n",
              "    <tr>\n",
              "      <th>2024-07-24</th>\n",
              "      <td>224.000000</td>\n",
              "      <td>224.800003</td>\n",
              "      <td>217.130005</td>\n",
              "      <td>218.539993</td>\n",
              "      <td>218.539993</td>\n",
              "      <td>61777600</td>\n",
              "    </tr>\n",
              "    <tr>\n",
              "      <th>2024-07-25</th>\n",
              "      <td>218.929993</td>\n",
              "      <td>220.850006</td>\n",
              "      <td>214.619995</td>\n",
              "      <td>217.490005</td>\n",
              "      <td>217.490005</td>\n",
              "      <td>51391200</td>\n",
              "    </tr>\n",
              "    <tr>\n",
              "      <th>2024-07-26</th>\n",
              "      <td>218.699997</td>\n",
              "      <td>219.490005</td>\n",
              "      <td>216.009995</td>\n",
              "      <td>217.960007</td>\n",
              "      <td>217.960007</td>\n",
              "      <td>41580100</td>\n",
              "    </tr>\n",
              "  </tbody>\n",
              "</table>\n",
              "<p>1149 rows × 6 columns</p>\n",
              "</div>\n",
              "    <div class=\"colab-df-buttons\">\n",
              "\n",
              "  <div class=\"colab-df-container\">\n",
              "    <button class=\"colab-df-convert\" onclick=\"convertToInteractive('df-28866c0d-3203-44bd-861f-13bc26983ff3')\"\n",
              "            title=\"Convert this dataframe to an interactive table.\"\n",
              "            style=\"display:none;\">\n",
              "\n",
              "  <svg xmlns=\"http://www.w3.org/2000/svg\" height=\"24px\" viewBox=\"0 -960 960 960\">\n",
              "    <path d=\"M120-120v-720h720v720H120Zm60-500h600v-160H180v160Zm220 220h160v-160H400v160Zm0 220h160v-160H400v160ZM180-400h160v-160H180v160Zm440 0h160v-160H620v160ZM180-180h160v-160H180v160Zm440 0h160v-160H620v160Z\"/>\n",
              "  </svg>\n",
              "    </button>\n",
              "\n",
              "  <style>\n",
              "    .colab-df-container {\n",
              "      display:flex;\n",
              "      gap: 12px;\n",
              "    }\n",
              "\n",
              "    .colab-df-convert {\n",
              "      background-color: #E8F0FE;\n",
              "      border: none;\n",
              "      border-radius: 50%;\n",
              "      cursor: pointer;\n",
              "      display: none;\n",
              "      fill: #1967D2;\n",
              "      height: 32px;\n",
              "      padding: 0 0 0 0;\n",
              "      width: 32px;\n",
              "    }\n",
              "\n",
              "    .colab-df-convert:hover {\n",
              "      background-color: #E2EBFA;\n",
              "      box-shadow: 0px 1px 2px rgba(60, 64, 67, 0.3), 0px 1px 3px 1px rgba(60, 64, 67, 0.15);\n",
              "      fill: #174EA6;\n",
              "    }\n",
              "\n",
              "    .colab-df-buttons div {\n",
              "      margin-bottom: 4px;\n",
              "    }\n",
              "\n",
              "    [theme=dark] .colab-df-convert {\n",
              "      background-color: #3B4455;\n",
              "      fill: #D2E3FC;\n",
              "    }\n",
              "\n",
              "    [theme=dark] .colab-df-convert:hover {\n",
              "      background-color: #434B5C;\n",
              "      box-shadow: 0px 1px 3px 1px rgba(0, 0, 0, 0.15);\n",
              "      filter: drop-shadow(0px 1px 2px rgba(0, 0, 0, 0.3));\n",
              "      fill: #FFFFFF;\n",
              "    }\n",
              "  </style>\n",
              "\n",
              "    <script>\n",
              "      const buttonEl =\n",
              "        document.querySelector('#df-28866c0d-3203-44bd-861f-13bc26983ff3 button.colab-df-convert');\n",
              "      buttonEl.style.display =\n",
              "        google.colab.kernel.accessAllowed ? 'block' : 'none';\n",
              "\n",
              "      async function convertToInteractive(key) {\n",
              "        const element = document.querySelector('#df-28866c0d-3203-44bd-861f-13bc26983ff3');\n",
              "        const dataTable =\n",
              "          await google.colab.kernel.invokeFunction('convertToInteractive',\n",
              "                                                    [key], {});\n",
              "        if (!dataTable) return;\n",
              "\n",
              "        const docLinkHtml = 'Like what you see? Visit the ' +\n",
              "          '<a target=\"_blank\" href=https://colab.research.google.com/notebooks/data_table.ipynb>data table notebook</a>'\n",
              "          + ' to learn more about interactive tables.';\n",
              "        element.innerHTML = '';\n",
              "        dataTable['output_type'] = 'display_data';\n",
              "        await google.colab.output.renderOutput(dataTable, element);\n",
              "        const docLink = document.createElement('div');\n",
              "        docLink.innerHTML = docLinkHtml;\n",
              "        element.appendChild(docLink);\n",
              "      }\n",
              "    </script>\n",
              "  </div>\n",
              "\n",
              "\n",
              "<div id=\"df-9759ef37-788e-4f82-8dc6-e143e1117733\">\n",
              "  <button class=\"colab-df-quickchart\" onclick=\"quickchart('df-9759ef37-788e-4f82-8dc6-e143e1117733')\"\n",
              "            title=\"Suggest charts\"\n",
              "            style=\"display:none;\">\n",
              "\n",
              "<svg xmlns=\"http://www.w3.org/2000/svg\" height=\"24px\"viewBox=\"0 0 24 24\"\n",
              "     width=\"24px\">\n",
              "    <g>\n",
              "        <path d=\"M19 3H5c-1.1 0-2 .9-2 2v14c0 1.1.9 2 2 2h14c1.1 0 2-.9 2-2V5c0-1.1-.9-2-2-2zM9 17H7v-7h2v7zm4 0h-2V7h2v10zm4 0h-2v-4h2v4z\"/>\n",
              "    </g>\n",
              "</svg>\n",
              "  </button>\n",
              "\n",
              "<style>\n",
              "  .colab-df-quickchart {\n",
              "      --bg-color: #E8F0FE;\n",
              "      --fill-color: #1967D2;\n",
              "      --hover-bg-color: #E2EBFA;\n",
              "      --hover-fill-color: #174EA6;\n",
              "      --disabled-fill-color: #AAA;\n",
              "      --disabled-bg-color: #DDD;\n",
              "  }\n",
              "\n",
              "  [theme=dark] .colab-df-quickchart {\n",
              "      --bg-color: #3B4455;\n",
              "      --fill-color: #D2E3FC;\n",
              "      --hover-bg-color: #434B5C;\n",
              "      --hover-fill-color: #FFFFFF;\n",
              "      --disabled-bg-color: #3B4455;\n",
              "      --disabled-fill-color: #666;\n",
              "  }\n",
              "\n",
              "  .colab-df-quickchart {\n",
              "    background-color: var(--bg-color);\n",
              "    border: none;\n",
              "    border-radius: 50%;\n",
              "    cursor: pointer;\n",
              "    display: none;\n",
              "    fill: var(--fill-color);\n",
              "    height: 32px;\n",
              "    padding: 0;\n",
              "    width: 32px;\n",
              "  }\n",
              "\n",
              "  .colab-df-quickchart:hover {\n",
              "    background-color: var(--hover-bg-color);\n",
              "    box-shadow: 0 1px 2px rgba(60, 64, 67, 0.3), 0 1px 3px 1px rgba(60, 64, 67, 0.15);\n",
              "    fill: var(--button-hover-fill-color);\n",
              "  }\n",
              "\n",
              "  .colab-df-quickchart-complete:disabled,\n",
              "  .colab-df-quickchart-complete:disabled:hover {\n",
              "    background-color: var(--disabled-bg-color);\n",
              "    fill: var(--disabled-fill-color);\n",
              "    box-shadow: none;\n",
              "  }\n",
              "\n",
              "  .colab-df-spinner {\n",
              "    border: 2px solid var(--fill-color);\n",
              "    border-color: transparent;\n",
              "    border-bottom-color: var(--fill-color);\n",
              "    animation:\n",
              "      spin 1s steps(1) infinite;\n",
              "  }\n",
              "\n",
              "  @keyframes spin {\n",
              "    0% {\n",
              "      border-color: transparent;\n",
              "      border-bottom-color: var(--fill-color);\n",
              "      border-left-color: var(--fill-color);\n",
              "    }\n",
              "    20% {\n",
              "      border-color: transparent;\n",
              "      border-left-color: var(--fill-color);\n",
              "      border-top-color: var(--fill-color);\n",
              "    }\n",
              "    30% {\n",
              "      border-color: transparent;\n",
              "      border-left-color: var(--fill-color);\n",
              "      border-top-color: var(--fill-color);\n",
              "      border-right-color: var(--fill-color);\n",
              "    }\n",
              "    40% {\n",
              "      border-color: transparent;\n",
              "      border-right-color: var(--fill-color);\n",
              "      border-top-color: var(--fill-color);\n",
              "    }\n",
              "    60% {\n",
              "      border-color: transparent;\n",
              "      border-right-color: var(--fill-color);\n",
              "    }\n",
              "    80% {\n",
              "      border-color: transparent;\n",
              "      border-right-color: var(--fill-color);\n",
              "      border-bottom-color: var(--fill-color);\n",
              "    }\n",
              "    90% {\n",
              "      border-color: transparent;\n",
              "      border-bottom-color: var(--fill-color);\n",
              "    }\n",
              "  }\n",
              "</style>\n",
              "\n",
              "  <script>\n",
              "    async function quickchart(key) {\n",
              "      const quickchartButtonEl =\n",
              "        document.querySelector('#' + key + ' button');\n",
              "      quickchartButtonEl.disabled = true;  // To prevent multiple clicks.\n",
              "      quickchartButtonEl.classList.add('colab-df-spinner');\n",
              "      try {\n",
              "        const charts = await google.colab.kernel.invokeFunction(\n",
              "            'suggestCharts', [key], {});\n",
              "      } catch (error) {\n",
              "        console.error('Error during call to suggestCharts:', error);\n",
              "      }\n",
              "      quickchartButtonEl.classList.remove('colab-df-spinner');\n",
              "      quickchartButtonEl.classList.add('colab-df-quickchart-complete');\n",
              "    }\n",
              "    (() => {\n",
              "      let quickchartButtonEl =\n",
              "        document.querySelector('#df-9759ef37-788e-4f82-8dc6-e143e1117733 button');\n",
              "      quickchartButtonEl.style.display =\n",
              "        google.colab.kernel.accessAllowed ? 'block' : 'none';\n",
              "    })();\n",
              "  </script>\n",
              "</div>\n",
              "\n",
              "  <div id=\"id_6b9dd619-3d76-4de4-97e0-1e754bff7082\">\n",
              "    <style>\n",
              "      .colab-df-generate {\n",
              "        background-color: #E8F0FE;\n",
              "        border: none;\n",
              "        border-radius: 50%;\n",
              "        cursor: pointer;\n",
              "        display: none;\n",
              "        fill: #1967D2;\n",
              "        height: 32px;\n",
              "        padding: 0 0 0 0;\n",
              "        width: 32px;\n",
              "      }\n",
              "\n",
              "      .colab-df-generate:hover {\n",
              "        background-color: #E2EBFA;\n",
              "        box-shadow: 0px 1px 2px rgba(60, 64, 67, 0.3), 0px 1px 3px 1px rgba(60, 64, 67, 0.15);\n",
              "        fill: #174EA6;\n",
              "      }\n",
              "\n",
              "      [theme=dark] .colab-df-generate {\n",
              "        background-color: #3B4455;\n",
              "        fill: #D2E3FC;\n",
              "      }\n",
              "\n",
              "      [theme=dark] .colab-df-generate:hover {\n",
              "        background-color: #434B5C;\n",
              "        box-shadow: 0px 1px 3px 1px rgba(0, 0, 0, 0.15);\n",
              "        filter: drop-shadow(0px 1px 2px rgba(0, 0, 0, 0.3));\n",
              "        fill: #FFFFFF;\n",
              "      }\n",
              "    </style>\n",
              "    <button class=\"colab-df-generate\" onclick=\"generateWithVariable('stock_data')\"\n",
              "            title=\"Generate code using this dataframe.\"\n",
              "            style=\"display:none;\">\n",
              "\n",
              "  <svg xmlns=\"http://www.w3.org/2000/svg\" height=\"24px\"viewBox=\"0 0 24 24\"\n",
              "       width=\"24px\">\n",
              "    <path d=\"M7,19H8.4L18.45,9,17,7.55,7,17.6ZM5,21V16.75L18.45,3.32a2,2,0,0,1,2.83,0l1.4,1.43a1.91,1.91,0,0,1,.58,1.4,1.91,1.91,0,0,1-.58,1.4L9.25,21ZM18.45,9,17,7.55Zm-12,3A5.31,5.31,0,0,0,4.9,8.1,5.31,5.31,0,0,0,1,6.5,5.31,5.31,0,0,0,4.9,4.9,5.31,5.31,0,0,0,6.5,1,5.31,5.31,0,0,0,8.1,4.9,5.31,5.31,0,0,0,12,6.5,5.46,5.46,0,0,0,6.5,12Z\"/>\n",
              "  </svg>\n",
              "    </button>\n",
              "    <script>\n",
              "      (() => {\n",
              "      const buttonEl =\n",
              "        document.querySelector('#id_6b9dd619-3d76-4de4-97e0-1e754bff7082 button.colab-df-generate');\n",
              "      buttonEl.style.display =\n",
              "        google.colab.kernel.accessAllowed ? 'block' : 'none';\n",
              "\n",
              "      buttonEl.onclick = () => {\n",
              "        google.colab.notebook.generateWithVariable('stock_data');\n",
              "      }\n",
              "      })();\n",
              "    </script>\n",
              "  </div>\n",
              "\n",
              "    </div>\n",
              "  </div>\n"
            ],
            "application/vnd.google.colaboratory.intrinsic+json": {
              "type": "dataframe",
              "variable_name": "stock_data",
              "summary": "{\n  \"name\": \"stock_data\",\n  \"rows\": 1149,\n  \"fields\": [\n    {\n      \"column\": \"Date\",\n      \"properties\": {\n        \"dtype\": \"date\",\n        \"min\": \"2020-01-02 00:00:00\",\n        \"max\": \"2024-07-26 00:00:00\",\n        \"num_unique_values\": 1149,\n        \"samples\": [\n          \"2020-09-10 00:00:00\",\n          \"2022-12-27 00:00:00\",\n          \"2021-11-08 00:00:00\"\n        ],\n        \"semantic_type\": \"\",\n        \"description\": \"\"\n      }\n    },\n    {\n      \"column\": \"Open\",\n      \"properties\": {\n        \"dtype\": \"number\",\n        \"std\": 35.71173949531019,\n        \"min\": 57.02000045776367,\n        \"max\": 236.47999572753906,\n        \"num_unique_values\": 1087,\n        \"samples\": [\n          150.63999938964844,\n          59.09000015258789,\n          141.69000244140625\n        ],\n        \"semantic_type\": \"\",\n        \"description\": \"\"\n      }\n    },\n    {\n      \"column\": \"High\",\n      \"properties\": {\n        \"dtype\": \"number\",\n        \"std\": 35.846505206766814,\n        \"min\": 57.125,\n        \"max\": 237.22999572753906,\n        \"num_unique_values\": 1091,\n        \"samples\": [\n          197.1999969482422,\n          194.75999450683594,\n          226.8000030517578\n        ],\n        \"semantic_type\": \"\",\n        \"description\": \"\"\n      }\n    },\n    {\n      \"column\": \"Low\",\n      \"properties\": {\n        \"dtype\": \"number\",\n        \"std\": 35.54872199020526,\n        \"min\": 53.15250015258789,\n        \"max\": 233.08999633789062,\n        \"num_unique_values\": 1101,\n        \"samples\": [\n          131.8300018310547,\n          144.1300048828125,\n          154.38999938964844\n        ],\n        \"semantic_type\": \"\",\n        \"description\": \"\"\n      }\n    },\n    {\n      \"column\": \"Close\",\n      \"properties\": {\n        \"dtype\": \"number\",\n        \"std\": 35.69384214520185,\n        \"min\": 56.092498779296875,\n        \"max\": 234.82000732421875,\n        \"num_unique_values\": 1089,\n        \"samples\": [\n          127.12999725341797,\n          61.720001220703125,\n          171.17999267578125\n        ],\n        \"semantic_type\": \"\",\n        \"description\": \"\"\n      }\n    },\n    {\n      \"column\": \"Adj Close\",\n      \"properties\": {\n        \"dtype\": \"number\",\n        \"std\": 35.906416704134905,\n        \"min\": 55.56665802001953,\n        \"max\": 234.82000732421875,\n        \"num_unique_values\": 1096,\n        \"samples\": [\n          71.58012390136719,\n          167.22999572753906,\n          61.14140701293945\n        ],\n        \"semantic_type\": \"\",\n        \"description\": \"\"\n      }\n    },\n    {\n      \"column\": \"Volume\",\n      \"properties\": {\n        \"dtype\": \"number\",\n        \"std\": 53183948,\n        \"min\": 24048300,\n        \"max\": 426510000,\n        \"num_unique_values\": 1147,\n        \"samples\": [\n          164560400,\n          41181800,\n          45143500\n        ],\n        \"semantic_type\": \"\",\n        \"description\": \"\"\n      }\n    }\n  ]\n}"
            }
          },
          "metadata": {},
          "execution_count": 71
        }
      ]
    },
    {
      "cell_type": "code",
      "source": [
        "stock_data.info()"
      ],
      "metadata": {
        "colab": {
          "base_uri": "https://localhost:8080/"
        },
        "id": "cvb3sBGfSLQe",
        "outputId": "6768cee7-9a1c-480d-ebba-4d9b45cdbeb6"
      },
      "execution_count": 62,
      "outputs": [
        {
          "output_type": "stream",
          "name": "stdout",
          "text": [
            "<class 'pandas.core.series.Series'>\n",
            "DatetimeIndex: 1149 entries, 2020-01-02 to 2024-07-26\n",
            "Series name: Adj Close\n",
            "Non-Null Count  Dtype  \n",
            "--------------  -----  \n",
            "1149 non-null   float64\n",
            "dtypes: float64(1)\n",
            "memory usage: 18.0 KB\n"
          ]
        }
      ]
    },
    {
      "cell_type": "code",
      "source": [
        "all_stock_data_v2['AAPL']"
      ],
      "metadata": {
        "colab": {
          "base_uri": "https://localhost:8080/",
          "height": 455
        },
        "id": "qEXOjgSAUki1",
        "outputId": "dfc3d721-8517-477c-daa5-8f3e61cba46f"
      },
      "execution_count": 80,
      "outputs": [
        {
          "output_type": "execute_result",
          "data": {
            "text/plain": [
              "                  Open        High         Low       Close     Volume\n",
              "Date                                                                 \n",
              "2020-01-02   73.192005   74.269234   72.932584   74.207466  135480400\n",
              "2020-01-03   73.416844   74.264292   73.256250   73.486023  146322800\n",
              "2020-01-06   72.586693   74.111111   72.329739   74.071579  118387200\n",
              "2020-01-07   74.081460   74.343354   73.498379   73.723213  108872000\n",
              "2020-01-08   73.419317   75.217987   73.419317   74.909149  132079200\n",
              "...                ...         ...         ...         ...        ...\n",
              "2024-07-22  227.009995  227.779999  223.089996  223.960007   48201800\n",
              "2024-07-23  224.369995  226.940002  222.679993  225.009995   39960300\n",
              "2024-07-24  224.000000  224.800003  217.130005  218.539993   61777600\n",
              "2024-07-25  218.929993  220.850006  214.619995  217.490005   51391200\n",
              "2024-07-26  218.699997  219.490005  216.009995  217.960007   41580100\n",
              "\n",
              "[1149 rows x 5 columns]"
            ],
            "text/html": [
              "\n",
              "  <div id=\"df-81de0537-5cb4-446a-98eb-7828738b539e\" class=\"colab-df-container\">\n",
              "    <div>\n",
              "<style scoped>\n",
              "    .dataframe tbody tr th:only-of-type {\n",
              "        vertical-align: middle;\n",
              "    }\n",
              "\n",
              "    .dataframe tbody tr th {\n",
              "        vertical-align: top;\n",
              "    }\n",
              "\n",
              "    .dataframe thead th {\n",
              "        text-align: right;\n",
              "    }\n",
              "</style>\n",
              "<table border=\"1\" class=\"dataframe\">\n",
              "  <thead>\n",
              "    <tr style=\"text-align: right;\">\n",
              "      <th></th>\n",
              "      <th>Open</th>\n",
              "      <th>High</th>\n",
              "      <th>Low</th>\n",
              "      <th>Close</th>\n",
              "      <th>Volume</th>\n",
              "    </tr>\n",
              "    <tr>\n",
              "      <th>Date</th>\n",
              "      <th></th>\n",
              "      <th></th>\n",
              "      <th></th>\n",
              "      <th></th>\n",
              "      <th></th>\n",
              "    </tr>\n",
              "  </thead>\n",
              "  <tbody>\n",
              "    <tr>\n",
              "      <th>2020-01-02</th>\n",
              "      <td>73.192005</td>\n",
              "      <td>74.269234</td>\n",
              "      <td>72.932584</td>\n",
              "      <td>74.207466</td>\n",
              "      <td>135480400</td>\n",
              "    </tr>\n",
              "    <tr>\n",
              "      <th>2020-01-03</th>\n",
              "      <td>73.416844</td>\n",
              "      <td>74.264292</td>\n",
              "      <td>73.256250</td>\n",
              "      <td>73.486023</td>\n",
              "      <td>146322800</td>\n",
              "    </tr>\n",
              "    <tr>\n",
              "      <th>2020-01-06</th>\n",
              "      <td>72.586693</td>\n",
              "      <td>74.111111</td>\n",
              "      <td>72.329739</td>\n",
              "      <td>74.071579</td>\n",
              "      <td>118387200</td>\n",
              "    </tr>\n",
              "    <tr>\n",
              "      <th>2020-01-07</th>\n",
              "      <td>74.081460</td>\n",
              "      <td>74.343354</td>\n",
              "      <td>73.498379</td>\n",
              "      <td>73.723213</td>\n",
              "      <td>108872000</td>\n",
              "    </tr>\n",
              "    <tr>\n",
              "      <th>2020-01-08</th>\n",
              "      <td>73.419317</td>\n",
              "      <td>75.217987</td>\n",
              "      <td>73.419317</td>\n",
              "      <td>74.909149</td>\n",
              "      <td>132079200</td>\n",
              "    </tr>\n",
              "    <tr>\n",
              "      <th>...</th>\n",
              "      <td>...</td>\n",
              "      <td>...</td>\n",
              "      <td>...</td>\n",
              "      <td>...</td>\n",
              "      <td>...</td>\n",
              "    </tr>\n",
              "    <tr>\n",
              "      <th>2024-07-22</th>\n",
              "      <td>227.009995</td>\n",
              "      <td>227.779999</td>\n",
              "      <td>223.089996</td>\n",
              "      <td>223.960007</td>\n",
              "      <td>48201800</td>\n",
              "    </tr>\n",
              "    <tr>\n",
              "      <th>2024-07-23</th>\n",
              "      <td>224.369995</td>\n",
              "      <td>226.940002</td>\n",
              "      <td>222.679993</td>\n",
              "      <td>225.009995</td>\n",
              "      <td>39960300</td>\n",
              "    </tr>\n",
              "    <tr>\n",
              "      <th>2024-07-24</th>\n",
              "      <td>224.000000</td>\n",
              "      <td>224.800003</td>\n",
              "      <td>217.130005</td>\n",
              "      <td>218.539993</td>\n",
              "      <td>61777600</td>\n",
              "    </tr>\n",
              "    <tr>\n",
              "      <th>2024-07-25</th>\n",
              "      <td>218.929993</td>\n",
              "      <td>220.850006</td>\n",
              "      <td>214.619995</td>\n",
              "      <td>217.490005</td>\n",
              "      <td>51391200</td>\n",
              "    </tr>\n",
              "    <tr>\n",
              "      <th>2024-07-26</th>\n",
              "      <td>218.699997</td>\n",
              "      <td>219.490005</td>\n",
              "      <td>216.009995</td>\n",
              "      <td>217.960007</td>\n",
              "      <td>41580100</td>\n",
              "    </tr>\n",
              "  </tbody>\n",
              "</table>\n",
              "<p>1149 rows × 5 columns</p>\n",
              "</div>\n",
              "    <div class=\"colab-df-buttons\">\n",
              "\n",
              "  <div class=\"colab-df-container\">\n",
              "    <button class=\"colab-df-convert\" onclick=\"convertToInteractive('df-81de0537-5cb4-446a-98eb-7828738b539e')\"\n",
              "            title=\"Convert this dataframe to an interactive table.\"\n",
              "            style=\"display:none;\">\n",
              "\n",
              "  <svg xmlns=\"http://www.w3.org/2000/svg\" height=\"24px\" viewBox=\"0 -960 960 960\">\n",
              "    <path d=\"M120-120v-720h720v720H120Zm60-500h600v-160H180v160Zm220 220h160v-160H400v160Zm0 220h160v-160H400v160ZM180-400h160v-160H180v160Zm440 0h160v-160H620v160ZM180-180h160v-160H180v160Zm440 0h160v-160H620v160Z\"/>\n",
              "  </svg>\n",
              "    </button>\n",
              "\n",
              "  <style>\n",
              "    .colab-df-container {\n",
              "      display:flex;\n",
              "      gap: 12px;\n",
              "    }\n",
              "\n",
              "    .colab-df-convert {\n",
              "      background-color: #E8F0FE;\n",
              "      border: none;\n",
              "      border-radius: 50%;\n",
              "      cursor: pointer;\n",
              "      display: none;\n",
              "      fill: #1967D2;\n",
              "      height: 32px;\n",
              "      padding: 0 0 0 0;\n",
              "      width: 32px;\n",
              "    }\n",
              "\n",
              "    .colab-df-convert:hover {\n",
              "      background-color: #E2EBFA;\n",
              "      box-shadow: 0px 1px 2px rgba(60, 64, 67, 0.3), 0px 1px 3px 1px rgba(60, 64, 67, 0.15);\n",
              "      fill: #174EA6;\n",
              "    }\n",
              "\n",
              "    .colab-df-buttons div {\n",
              "      margin-bottom: 4px;\n",
              "    }\n",
              "\n",
              "    [theme=dark] .colab-df-convert {\n",
              "      background-color: #3B4455;\n",
              "      fill: #D2E3FC;\n",
              "    }\n",
              "\n",
              "    [theme=dark] .colab-df-convert:hover {\n",
              "      background-color: #434B5C;\n",
              "      box-shadow: 0px 1px 3px 1px rgba(0, 0, 0, 0.15);\n",
              "      filter: drop-shadow(0px 1px 2px rgba(0, 0, 0, 0.3));\n",
              "      fill: #FFFFFF;\n",
              "    }\n",
              "  </style>\n",
              "\n",
              "    <script>\n",
              "      const buttonEl =\n",
              "        document.querySelector('#df-81de0537-5cb4-446a-98eb-7828738b539e button.colab-df-convert');\n",
              "      buttonEl.style.display =\n",
              "        google.colab.kernel.accessAllowed ? 'block' : 'none';\n",
              "\n",
              "      async function convertToInteractive(key) {\n",
              "        const element = document.querySelector('#df-81de0537-5cb4-446a-98eb-7828738b539e');\n",
              "        const dataTable =\n",
              "          await google.colab.kernel.invokeFunction('convertToInteractive',\n",
              "                                                    [key], {});\n",
              "        if (!dataTable) return;\n",
              "\n",
              "        const docLinkHtml = 'Like what you see? Visit the ' +\n",
              "          '<a target=\"_blank\" href=https://colab.research.google.com/notebooks/data_table.ipynb>data table notebook</a>'\n",
              "          + ' to learn more about interactive tables.';\n",
              "        element.innerHTML = '';\n",
              "        dataTable['output_type'] = 'display_data';\n",
              "        await google.colab.output.renderOutput(dataTable, element);\n",
              "        const docLink = document.createElement('div');\n",
              "        docLink.innerHTML = docLinkHtml;\n",
              "        element.appendChild(docLink);\n",
              "      }\n",
              "    </script>\n",
              "  </div>\n",
              "\n",
              "\n",
              "<div id=\"df-30f2dd56-8f25-4640-9022-ef7fd92e1846\">\n",
              "  <button class=\"colab-df-quickchart\" onclick=\"quickchart('df-30f2dd56-8f25-4640-9022-ef7fd92e1846')\"\n",
              "            title=\"Suggest charts\"\n",
              "            style=\"display:none;\">\n",
              "\n",
              "<svg xmlns=\"http://www.w3.org/2000/svg\" height=\"24px\"viewBox=\"0 0 24 24\"\n",
              "     width=\"24px\">\n",
              "    <g>\n",
              "        <path d=\"M19 3H5c-1.1 0-2 .9-2 2v14c0 1.1.9 2 2 2h14c1.1 0 2-.9 2-2V5c0-1.1-.9-2-2-2zM9 17H7v-7h2v7zm4 0h-2V7h2v10zm4 0h-2v-4h2v4z\"/>\n",
              "    </g>\n",
              "</svg>\n",
              "  </button>\n",
              "\n",
              "<style>\n",
              "  .colab-df-quickchart {\n",
              "      --bg-color: #E8F0FE;\n",
              "      --fill-color: #1967D2;\n",
              "      --hover-bg-color: #E2EBFA;\n",
              "      --hover-fill-color: #174EA6;\n",
              "      --disabled-fill-color: #AAA;\n",
              "      --disabled-bg-color: #DDD;\n",
              "  }\n",
              "\n",
              "  [theme=dark] .colab-df-quickchart {\n",
              "      --bg-color: #3B4455;\n",
              "      --fill-color: #D2E3FC;\n",
              "      --hover-bg-color: #434B5C;\n",
              "      --hover-fill-color: #FFFFFF;\n",
              "      --disabled-bg-color: #3B4455;\n",
              "      --disabled-fill-color: #666;\n",
              "  }\n",
              "\n",
              "  .colab-df-quickchart {\n",
              "    background-color: var(--bg-color);\n",
              "    border: none;\n",
              "    border-radius: 50%;\n",
              "    cursor: pointer;\n",
              "    display: none;\n",
              "    fill: var(--fill-color);\n",
              "    height: 32px;\n",
              "    padding: 0;\n",
              "    width: 32px;\n",
              "  }\n",
              "\n",
              "  .colab-df-quickchart:hover {\n",
              "    background-color: var(--hover-bg-color);\n",
              "    box-shadow: 0 1px 2px rgba(60, 64, 67, 0.3), 0 1px 3px 1px rgba(60, 64, 67, 0.15);\n",
              "    fill: var(--button-hover-fill-color);\n",
              "  }\n",
              "\n",
              "  .colab-df-quickchart-complete:disabled,\n",
              "  .colab-df-quickchart-complete:disabled:hover {\n",
              "    background-color: var(--disabled-bg-color);\n",
              "    fill: var(--disabled-fill-color);\n",
              "    box-shadow: none;\n",
              "  }\n",
              "\n",
              "  .colab-df-spinner {\n",
              "    border: 2px solid var(--fill-color);\n",
              "    border-color: transparent;\n",
              "    border-bottom-color: var(--fill-color);\n",
              "    animation:\n",
              "      spin 1s steps(1) infinite;\n",
              "  }\n",
              "\n",
              "  @keyframes spin {\n",
              "    0% {\n",
              "      border-color: transparent;\n",
              "      border-bottom-color: var(--fill-color);\n",
              "      border-left-color: var(--fill-color);\n",
              "    }\n",
              "    20% {\n",
              "      border-color: transparent;\n",
              "      border-left-color: var(--fill-color);\n",
              "      border-top-color: var(--fill-color);\n",
              "    }\n",
              "    30% {\n",
              "      border-color: transparent;\n",
              "      border-left-color: var(--fill-color);\n",
              "      border-top-color: var(--fill-color);\n",
              "      border-right-color: var(--fill-color);\n",
              "    }\n",
              "    40% {\n",
              "      border-color: transparent;\n",
              "      border-right-color: var(--fill-color);\n",
              "      border-top-color: var(--fill-color);\n",
              "    }\n",
              "    60% {\n",
              "      border-color: transparent;\n",
              "      border-right-color: var(--fill-color);\n",
              "    }\n",
              "    80% {\n",
              "      border-color: transparent;\n",
              "      border-right-color: var(--fill-color);\n",
              "      border-bottom-color: var(--fill-color);\n",
              "    }\n",
              "    90% {\n",
              "      border-color: transparent;\n",
              "      border-bottom-color: var(--fill-color);\n",
              "    }\n",
              "  }\n",
              "</style>\n",
              "\n",
              "  <script>\n",
              "    async function quickchart(key) {\n",
              "      const quickchartButtonEl =\n",
              "        document.querySelector('#' + key + ' button');\n",
              "      quickchartButtonEl.disabled = true;  // To prevent multiple clicks.\n",
              "      quickchartButtonEl.classList.add('colab-df-spinner');\n",
              "      try {\n",
              "        const charts = await google.colab.kernel.invokeFunction(\n",
              "            'suggestCharts', [key], {});\n",
              "      } catch (error) {\n",
              "        console.error('Error during call to suggestCharts:', error);\n",
              "      }\n",
              "      quickchartButtonEl.classList.remove('colab-df-spinner');\n",
              "      quickchartButtonEl.classList.add('colab-df-quickchart-complete');\n",
              "    }\n",
              "    (() => {\n",
              "      let quickchartButtonEl =\n",
              "        document.querySelector('#df-30f2dd56-8f25-4640-9022-ef7fd92e1846 button');\n",
              "      quickchartButtonEl.style.display =\n",
              "        google.colab.kernel.accessAllowed ? 'block' : 'none';\n",
              "    })();\n",
              "  </script>\n",
              "</div>\n",
              "\n",
              "    </div>\n",
              "  </div>\n"
            ],
            "application/vnd.google.colaboratory.intrinsic+json": {
              "type": "dataframe",
              "summary": "{\n  \"name\": \"all_stock_data_v2['AAPL']\",\n  \"rows\": 1149,\n  \"fields\": [\n    {\n      \"column\": \"Date\",\n      \"properties\": {\n        \"dtype\": \"date\",\n        \"min\": \"2020-01-02 00:00:00\",\n        \"max\": \"2024-07-26 00:00:00\",\n        \"num_unique_values\": 1149,\n        \"samples\": [\n          \"2020-09-10 00:00:00\",\n          \"2022-12-27 00:00:00\",\n          \"2021-11-08 00:00:00\"\n        ],\n        \"semantic_type\": \"\",\n        \"description\": \"\"\n      }\n    },\n    {\n      \"column\": \"Open\",\n      \"properties\": {\n        \"dtype\": \"number\",\n        \"std\": 35.92348528331988,\n        \"min\": 56.48546480705789,\n        \"max\": 236.47999572753906,\n        \"num_unique_values\": 1101,\n        \"samples\": [\n          132.8144037189207,\n          134.99000549316406,\n          149.80999755859375\n        ],\n        \"semantic_type\": \"\",\n        \"description\": \"\"\n      }\n    },\n    {\n      \"column\": \"High\",\n      \"properties\": {\n        \"dtype\": \"number\",\n        \"std\": 36.062106523159464,\n        \"min\": 56.58948002803531,\n        \"max\": 237.22999572753906,\n        \"num_unique_values\": 1103,\n        \"samples\": [\n          121.45370623110344,\n          170.61000061035156,\n          144.05999755859375\n        ],\n        \"semantic_type\": \"\",\n        \"description\": \"\"\n      }\n    },\n    {\n      \"column\": \"Low\",\n      \"properties\": {\n        \"dtype\": \"number\",\n        \"std\": 35.75783132910731,\n        \"min\": 52.654220495842736,\n        \"max\": 233.08999633789062,\n        \"num_unique_values\": 1114,\n        \"samples\": [\n          177.35000610351562,\n          78.37936868646182,\n          217.1300048828125\n        ],\n        \"semantic_type\": \"\",\n        \"description\": \"\"\n      }\n    },\n    {\n      \"column\": \"Close\",\n      \"properties\": {\n        \"dtype\": \"number\",\n        \"std\": 35.906416704134905,\n        \"min\": 55.56665802001953,\n        \"max\": 234.82000732421875,\n        \"num_unique_values\": 1096,\n        \"samples\": [\n          71.58012390136719,\n          167.22999572753906,\n          61.14140701293945\n        ],\n        \"semantic_type\": \"\",\n        \"description\": \"\"\n      }\n    },\n    {\n      \"column\": \"Volume\",\n      \"properties\": {\n        \"dtype\": \"number\",\n        \"std\": 53183948,\n        \"min\": 24048300,\n        \"max\": 426510000,\n        \"num_unique_values\": 1147,\n        \"samples\": [\n          164560400,\n          41181800,\n          45143500\n        ],\n        \"semantic_type\": \"\",\n        \"description\": \"\"\n      }\n    }\n  ]\n}"
            }
          },
          "metadata": {},
          "execution_count": 80
        }
      ]
    },
    {
      "cell_type": "code",
      "source": [
        "import yfinance as yf\n",
        "import pandas as pd\n",
        "\n",
        "# Assuming 'transactions' is your DataFrame with a 'Stock Ticker' column\n",
        "unique_tickers = transactions['Stock Ticker'].unique()\n",
        "\n",
        "# Fetch historical prices for all unique tickers\n",
        "start_date = \"2020-01-01\"\n",
        "end_date = pd.Timestamp.today().strftime('%Y-%m-%d')  # Today's date\n",
        "\n",
        "all_stock_data_v3 = {}\n",
        "for ticker in unique_tickers:\n",
        "    try:\n",
        "        stock_data = yf.download([ticker], start=start_date, end=end_date, auto_adjust=True)[[\"Adj Close\"]]\n",
        "        all_stock_data_v3[ticker] = stock_data\n",
        "    except KeyError:\n",
        "        print(f\"Could not fetch data for {ticker}\")"
      ],
      "metadata": {
        "colab": {
          "base_uri": "https://localhost:8080/",
          "height": 1000
        },
        "id": "nwNXV4HcNAfI",
        "outputId": "c8e07041-116c-43bd-aad3-0abbcb800aa8"
      },
      "execution_count": 73,
      "outputs": [
        {
          "output_type": "stream",
          "name": "stderr",
          "text": [
            "\r[*********************100%%**********************]  1 of 1 completed\n"
          ]
        },
        {
          "output_type": "stream",
          "name": "stdout",
          "text": [
            "Could not fetch data for AAPL\n"
          ]
        },
        {
          "output_type": "stream",
          "name": "stderr",
          "text": [
            "\r[*********************100%%**********************]  1 of 1 completed\n"
          ]
        },
        {
          "output_type": "stream",
          "name": "stdout",
          "text": [
            "Could not fetch data for AVGO\n"
          ]
        },
        {
          "output_type": "stream",
          "name": "stderr",
          "text": [
            "\r[*********************100%%**********************]  1 of 1 completed\n"
          ]
        },
        {
          "output_type": "stream",
          "name": "stdout",
          "text": [
            "Could not fetch data for DE\n"
          ]
        },
        {
          "output_type": "stream",
          "name": "stderr",
          "text": [
            "\r[*********************100%%**********************]  1 of 1 completed\n"
          ]
        },
        {
          "output_type": "stream",
          "name": "stdout",
          "text": [
            "Could not fetch data for LOW\n"
          ]
        },
        {
          "output_type": "stream",
          "name": "stderr",
          "text": [
            "\r[*********************100%%**********************]  1 of 1 completed\n"
          ]
        },
        {
          "output_type": "stream",
          "name": "stdout",
          "text": [
            "Could not fetch data for MAR\n"
          ]
        },
        {
          "output_type": "stream",
          "name": "stderr",
          "text": [
            "\r[*********************100%%**********************]  1 of 1 completed\n"
          ]
        },
        {
          "output_type": "stream",
          "name": "stdout",
          "text": [
            "Could not fetch data for MSFT\n"
          ]
        },
        {
          "output_type": "stream",
          "name": "stderr",
          "text": [
            "[*********************100%%**********************]  1 of 1 completed\n",
            "[*********************100%%**********************]  1 of 1 completed"
          ]
        },
        {
          "output_type": "stream",
          "name": "stdout",
          "text": [
            "Could not fetch data for NVDA\n"
          ]
        },
        {
          "output_type": "stream",
          "name": "stderr",
          "text": [
            "\n"
          ]
        },
        {
          "output_type": "stream",
          "name": "stdout",
          "text": [
            "Could not fetch data for AEIS\n"
          ]
        },
        {
          "output_type": "stream",
          "name": "stderr",
          "text": [
            "\r[*********************100%%**********************]  1 of 1 completed\n"
          ]
        },
        {
          "output_type": "stream",
          "name": "stdout",
          "text": [
            "Could not fetch data for PRIM\n"
          ]
        },
        {
          "output_type": "stream",
          "name": "stderr",
          "text": [
            "\r[*********************100%%**********************]  1 of 1 completed\n"
          ]
        },
        {
          "output_type": "stream",
          "name": "stdout",
          "text": [
            "Could not fetch data for SPXC\n"
          ]
        },
        {
          "output_type": "stream",
          "name": "stderr",
          "text": [
            "[*********************100%%**********************]  1 of 1 completed\n",
            "[*********************100%%**********************]  1 of 1 completed\n"
          ]
        },
        {
          "output_type": "stream",
          "name": "stdout",
          "text": [
            "Could not fetch data for STRL\n",
            "Could not fetch data for ABNB\n"
          ]
        },
        {
          "output_type": "stream",
          "name": "stderr",
          "text": [
            "\r[*********************100%%**********************]  1 of 1 completed\n"
          ]
        },
        {
          "output_type": "stream",
          "name": "stdout",
          "text": [
            "Could not fetch data for CRM\n"
          ]
        },
        {
          "output_type": "stream",
          "name": "stderr",
          "text": [
            "\r[*********************100%%**********************]  1 of 1 completed\n"
          ]
        },
        {
          "output_type": "stream",
          "name": "stdout",
          "text": [
            "Could not fetch data for TEL\n"
          ]
        },
        {
          "output_type": "stream",
          "name": "stderr",
          "text": [
            "\r[*********************100%%**********************]  1 of 1 completed\n"
          ]
        },
        {
          "output_type": "stream",
          "name": "stdout",
          "text": [
            "Could not fetch data for ISRG\n"
          ]
        },
        {
          "output_type": "stream",
          "name": "stderr",
          "text": [
            "\r[*********************100%%**********************]  1 of 1 completed\n"
          ]
        },
        {
          "output_type": "stream",
          "name": "stdout",
          "text": [
            "Could not fetch data for VZ\n"
          ]
        },
        {
          "output_type": "stream",
          "name": "stderr",
          "text": [
            "\r[*********************100%%**********************]  1 of 1 completed\n"
          ]
        },
        {
          "output_type": "stream",
          "name": "stdout",
          "text": [
            "Could not fetch data for AAGIY\n"
          ]
        },
        {
          "output_type": "stream",
          "name": "stderr",
          "text": [
            "[*********************100%%**********************]  1 of 1 completed\n",
            "[*********************100%%**********************]  1 of 1 completed\n"
          ]
        },
        {
          "output_type": "stream",
          "name": "stdout",
          "text": [
            "Could not fetch data for AIQUY\n",
            "Could not fetch data for ALC\n"
          ]
        },
        {
          "output_type": "stream",
          "name": "stderr",
          "text": [
            "[*********************100%%**********************]  1 of 1 completed\n",
            "[*********************100%%**********************]  1 of 1 completed\n"
          ]
        },
        {
          "output_type": "stream",
          "name": "stdout",
          "text": [
            "Could not fetch data for ALFVY\n",
            "Could not fetch data for ALIZY\n"
          ]
        },
        {
          "output_type": "stream",
          "name": "stderr",
          "text": [
            "[*********************100%%**********************]  1 of 1 completed\n",
            "[*********************100%%**********************]  1 of 1 completed\n"
          ]
        },
        {
          "output_type": "stream",
          "name": "stdout",
          "text": [
            "Could not fetch data for APD\n",
            "Could not fetch data for APPF\n"
          ]
        },
        {
          "output_type": "stream",
          "name": "stderr",
          "text": [
            "[*********************100%%**********************]  1 of 1 completed\n",
            "[*********************100%%**********************]  1 of 1 completed\n"
          ]
        },
        {
          "output_type": "stream",
          "name": "stdout",
          "text": [
            "Could not fetch data for ASAZY\n",
            "Could not fetch data for ATLKY\n"
          ]
        },
        {
          "output_type": "stream",
          "name": "stderr",
          "text": [
            "\r[*********************100%%**********************]  1 of 1 completed\n"
          ]
        },
        {
          "output_type": "stream",
          "name": "stdout",
          "text": [
            "Could not fetch data for BBVA\n"
          ]
        },
        {
          "output_type": "stream",
          "name": "stderr",
          "text": [
            "\r[*********************100%%**********************]  1 of 1 completed\n"
          ]
        },
        {
          "output_type": "stream",
          "name": "stdout",
          "text": [
            "Could not fetch data for BHP\n"
          ]
        },
        {
          "output_type": "stream",
          "name": "stderr",
          "text": [
            "[*********************100%%**********************]  1 of 1 completed\n",
            "[*********************100%%**********************]  1 of 1 completed\n"
          ]
        },
        {
          "output_type": "stream",
          "name": "stdout",
          "text": [
            "Could not fetch data for BLK\n",
            "Could not fetch data for BRK-B\n"
          ]
        },
        {
          "output_type": "stream",
          "name": "stderr",
          "text": [
            "[*********************100%%**********************]  1 of 1 completed\n",
            "[*********************100%%**********************]  1 of 1 completed"
          ]
        },
        {
          "output_type": "stream",
          "name": "stdout",
          "text": [
            "Could not fetch data for CCI\n"
          ]
        },
        {
          "output_type": "stream",
          "name": "stderr",
          "text": [
            "\n"
          ]
        },
        {
          "output_type": "stream",
          "name": "stdout",
          "text": [
            "Could not fetch data for CENTA\n"
          ]
        },
        {
          "output_type": "error",
          "ename": "KeyboardInterrupt",
          "evalue": "",
          "traceback": [
            "\u001b[0;31m---------------------------------------------------------------------------\u001b[0m",
            "\u001b[0;31mKeyboardInterrupt\u001b[0m                         Traceback (most recent call last)",
            "\u001b[0;32m<ipython-input-73-b0e07c1319f6>\u001b[0m in \u001b[0;36m<cell line: 12>\u001b[0;34m()\u001b[0m\n\u001b[1;32m     12\u001b[0m \u001b[0;32mfor\u001b[0m \u001b[0mticker\u001b[0m \u001b[0;32min\u001b[0m \u001b[0munique_tickers\u001b[0m\u001b[0;34m:\u001b[0m\u001b[0;34m\u001b[0m\u001b[0;34m\u001b[0m\u001b[0m\n\u001b[1;32m     13\u001b[0m     \u001b[0;32mtry\u001b[0m\u001b[0;34m:\u001b[0m\u001b[0;34m\u001b[0m\u001b[0;34m\u001b[0m\u001b[0m\n\u001b[0;32m---> 14\u001b[0;31m         \u001b[0mstock_data\u001b[0m \u001b[0;34m=\u001b[0m \u001b[0myf\u001b[0m\u001b[0;34m.\u001b[0m\u001b[0mdownload\u001b[0m\u001b[0;34m(\u001b[0m\u001b[0;34m[\u001b[0m\u001b[0mticker\u001b[0m\u001b[0;34m]\u001b[0m\u001b[0;34m,\u001b[0m \u001b[0mstart\u001b[0m\u001b[0;34m=\u001b[0m\u001b[0mstart_date\u001b[0m\u001b[0;34m,\u001b[0m \u001b[0mend\u001b[0m\u001b[0;34m=\u001b[0m\u001b[0mend_date\u001b[0m\u001b[0;34m,\u001b[0m \u001b[0mauto_adjust\u001b[0m\u001b[0;34m=\u001b[0m\u001b[0;32mTrue\u001b[0m\u001b[0;34m)\u001b[0m\u001b[0;34m[\u001b[0m\u001b[0;34m[\u001b[0m\u001b[0;34m\"Adj Close\"\u001b[0m\u001b[0;34m]\u001b[0m\u001b[0;34m]\u001b[0m\u001b[0;34m\u001b[0m\u001b[0;34m\u001b[0m\u001b[0m\n\u001b[0m\u001b[1;32m     15\u001b[0m         \u001b[0mall_stock_data_v3\u001b[0m\u001b[0;34m[\u001b[0m\u001b[0mticker\u001b[0m\u001b[0;34m]\u001b[0m \u001b[0;34m=\u001b[0m \u001b[0mstock_data\u001b[0m\u001b[0;34m\u001b[0m\u001b[0;34m\u001b[0m\u001b[0m\n\u001b[1;32m     16\u001b[0m     \u001b[0;32mexcept\u001b[0m \u001b[0mKeyError\u001b[0m\u001b[0;34m:\u001b[0m\u001b[0;34m\u001b[0m\u001b[0;34m\u001b[0m\u001b[0m\n",
            "\u001b[0;32m/usr/local/lib/python3.10/dist-packages/yfinance/utils.py\u001b[0m in \u001b[0;36mwrapper\u001b[0;34m(*args, **kwargs)\u001b[0m\n\u001b[1;32m    102\u001b[0m \u001b[0;34m\u001b[0m\u001b[0m\n\u001b[1;32m    103\u001b[0m         \u001b[0;32mwith\u001b[0m \u001b[0mIndentationContext\u001b[0m\u001b[0;34m(\u001b[0m\u001b[0;34m)\u001b[0m\u001b[0;34m:\u001b[0m\u001b[0;34m\u001b[0m\u001b[0;34m\u001b[0m\u001b[0m\n\u001b[0;32m--> 104\u001b[0;31m             \u001b[0mresult\u001b[0m \u001b[0;34m=\u001b[0m \u001b[0mfunc\u001b[0m\u001b[0;34m(\u001b[0m\u001b[0;34m*\u001b[0m\u001b[0margs\u001b[0m\u001b[0;34m,\u001b[0m \u001b[0;34m**\u001b[0m\u001b[0mkwargs\u001b[0m\u001b[0;34m)\u001b[0m\u001b[0;34m\u001b[0m\u001b[0;34m\u001b[0m\u001b[0m\n\u001b[0m\u001b[1;32m    105\u001b[0m \u001b[0;34m\u001b[0m\u001b[0m\n\u001b[1;32m    106\u001b[0m         \u001b[0mlogger\u001b[0m\u001b[0;34m.\u001b[0m\u001b[0mdebug\u001b[0m\u001b[0;34m(\u001b[0m\u001b[0;34mf'Exiting {func.__name__}()'\u001b[0m\u001b[0;34m)\u001b[0m\u001b[0;34m\u001b[0m\u001b[0;34m\u001b[0m\u001b[0m\n",
            "\u001b[0;32m/usr/local/lib/python3.10/dist-packages/yfinance/multi.py\u001b[0m in \u001b[0;36mdownload\u001b[0;34m(tickers, start, end, actions, threads, ignore_tz, group_by, auto_adjust, back_adjust, repair, keepna, progress, period, interval, prepost, proxy, rounding, timeout, session)\u001b[0m\n\u001b[1;32m    150\u001b[0m                                    rounding=rounding, timeout=timeout)\n\u001b[1;32m    151\u001b[0m         \u001b[0;32mwhile\u001b[0m \u001b[0mlen\u001b[0m\u001b[0;34m(\u001b[0m\u001b[0mshared\u001b[0m\u001b[0;34m.\u001b[0m\u001b[0m_DFS\u001b[0m\u001b[0;34m)\u001b[0m \u001b[0;34m<\u001b[0m \u001b[0mlen\u001b[0m\u001b[0;34m(\u001b[0m\u001b[0mtickers\u001b[0m\u001b[0;34m)\u001b[0m\u001b[0;34m:\u001b[0m\u001b[0;34m\u001b[0m\u001b[0;34m\u001b[0m\u001b[0m\n\u001b[0;32m--> 152\u001b[0;31m             \u001b[0m_time\u001b[0m\u001b[0;34m.\u001b[0m\u001b[0msleep\u001b[0m\u001b[0;34m(\u001b[0m\u001b[0;36m0.01\u001b[0m\u001b[0;34m)\u001b[0m\u001b[0;34m\u001b[0m\u001b[0;34m\u001b[0m\u001b[0m\n\u001b[0m\u001b[1;32m    153\u001b[0m     \u001b[0;31m# download synchronously\u001b[0m\u001b[0;34m\u001b[0m\u001b[0;34m\u001b[0m\u001b[0m\n\u001b[1;32m    154\u001b[0m     \u001b[0;32melse\u001b[0m\u001b[0;34m:\u001b[0m\u001b[0;34m\u001b[0m\u001b[0;34m\u001b[0m\u001b[0m\n",
            "\u001b[0;31mKeyboardInterrupt\u001b[0m: "
          ]
        }
      ]
    },
    {
      "cell_type": "code",
      "source": [
        "multi_data = yf.download([\"AAPL\", \"MSFT\"], start=\"2020-01-01\", end=\"2021-01-01\")\n",
        "multi_data"
      ],
      "metadata": {
        "id": "CvVI9cj-Eq2e"
      },
      "execution_count": null,
      "outputs": []
    },
    {
      "cell_type": "code",
      "source": [
        "import yfinance as yf\n",
        "from datetime import datetime\n",
        "\n",
        "\n",
        "\n",
        "\n",
        "\n",
        "# Function to fetch stock price on or around a specific date\n",
        "def get_stock_price(symbol, date):\n",
        "    stock = yf.Ticker(symbol)\n",
        "    try:\n",
        "        # Try fetching data for the exact date, if not available, extend range\n",
        "        start_date = \"2021-01-01\"\n",
        "        end_date = datetime.strptime(date, \"%Y-%m-%d\")\n",
        "        df = stock.history(start=start_date, end=end_date)\n",
        "        #print(start_date, end_date)\n",
        "        if df.empty:\n",
        "            print(f\"No data found for {symbol} on {date}\")\n",
        "            return None\n",
        "\n",
        "        # Use the closest available trading day to the transaction date\n",
        "        closest_price = df['Close'].iloc[0]\n",
        "        return closest_price\n",
        "    except Exception as e:\n",
        "        print(f\"Error fetching data for {symbol} on {date}: {e}\")\n",
        "        return None\n",
        "\n"
      ],
      "metadata": {
        "id": "RWZypRJuBZyD"
      },
      "execution_count": 38,
      "outputs": []
    },
    {
      "cell_type": "code",
      "source": [
        "# prompt: change stock ticker BRK.B to BRK-B in df\n",
        "\n",
        "transactions['Stock Ticker'] = transactions['Stock Ticker'].replace('BRK.B', 'BRK-B')\n",
        "\n",
        "\n",
        "\n",
        "# Clean and process tickers and dates\n",
        "#transactions['Stock Ticker'] = transactions['Stock Ticker'].str.replace('$', '').str.strip()\n",
        "transactions['Traded'] = pd.to_datetime(transactions['Traded']).dt.strftime('%Y-%m-%d')\n",
        "transactions['Stock Ticker'] = transactions['Stock Ticker'].astype(str) # Convert 'Stock Ticker' column to string type\n",
        "\n",
        "\n",
        "# Add columns for buy and sell prices\n",
        "transactions['Transaction Price'] = transactions.apply(\n",
        "    lambda row: get_stock_price(row['Stock Ticker'], row['Traded']), axis=1)\n",
        "\n",
        "# Save the updated data with transaction prices\n",
        "transactions.to_csv('transactions_with_prices.csv', index=False)\n",
        "transactions.head()"
      ],
      "metadata": {
        "colab": {
          "base_uri": "https://localhost:8080/",
          "height": 1000
        },
        "id": "M2ZWqxv2HPfs",
        "outputId": "070cf1a1-2813-484c-86ca-5db888cf48f3"
      },
      "execution_count": 48,
      "outputs": [
        {
          "output_type": "stream",
          "name": "stderr",
          "text": [
            "ERROR:yfinance:$SGEN: possibly delisted; No timezone found\n"
          ]
        },
        {
          "output_type": "stream",
          "name": "stdout",
          "text": [
            "No data found for SGEN on 2023-10-27\n"
          ]
        },
        {
          "output_type": "stream",
          "name": "stderr",
          "text": [
            "ERROR:yfinance:$SGEN: possibly delisted; No timezone found\n"
          ]
        },
        {
          "output_type": "stream",
          "name": "stdout",
          "text": [
            "No data found for SGEN on 2023-06-26\n"
          ]
        },
        {
          "output_type": "stream",
          "name": "stderr",
          "text": [
            "ERROR:yfinance:$SGEN: possibly delisted; No timezone found\n"
          ]
        },
        {
          "output_type": "stream",
          "name": "stdout",
          "text": [
            "No data found for SGEN on 2023-05-19\n"
          ]
        },
        {
          "output_type": "stream",
          "name": "stderr",
          "text": [
            "ERROR:yfinance:SIVB: Period '1mo' is invalid, must be one of ['1d', '5d']\n"
          ]
        },
        {
          "output_type": "stream",
          "name": "stdout",
          "text": [
            "No data found for SIVB on 2023-03-09\n"
          ]
        },
        {
          "output_type": "stream",
          "name": "stderr",
          "text": [
            "ERROR:yfinance:$SYNH: possibly delisted; No timezone found\n"
          ]
        },
        {
          "output_type": "stream",
          "name": "stdout",
          "text": [
            "No data found for SYNH on 2023-01-23\n"
          ]
        },
        {
          "output_type": "stream",
          "name": "stderr",
          "text": [
            "ERROR:yfinance:$SYNH: possibly delisted; No timezone found\n"
          ]
        },
        {
          "output_type": "stream",
          "name": "stdout",
          "text": [
            "No data found for SYNH on 2022-12-06\n"
          ]
        },
        {
          "output_type": "stream",
          "name": "stderr",
          "text": [
            "ERROR:yfinance:$FB: possibly delisted; No timezone found\n"
          ]
        },
        {
          "output_type": "stream",
          "name": "stdout",
          "text": [
            "No data found for FB on 2022-10-27\n"
          ]
        },
        {
          "output_type": "stream",
          "name": "stderr",
          "text": [
            "ERROR:yfinance:$CCXI: possibly delisted; No timezone found\n"
          ]
        },
        {
          "output_type": "stream",
          "name": "stdout",
          "text": [
            "No data found for CCXI on 2022-10-20\n"
          ]
        },
        {
          "output_type": "stream",
          "name": "stderr",
          "text": [
            "ERROR:yfinance:$SGEN: possibly delisted; No timezone found\n"
          ]
        },
        {
          "output_type": "stream",
          "name": "stdout",
          "text": [
            "No data found for SGEN on 2022-10-17\n"
          ]
        },
        {
          "output_type": "stream",
          "name": "stderr",
          "text": [
            "ERROR:yfinance:$CVET: possibly delisted; No timezone found\n"
          ]
        },
        {
          "output_type": "stream",
          "name": "stdout",
          "text": [
            "No data found for CVET on 2022-09-15\n"
          ]
        },
        {
          "output_type": "stream",
          "name": "stderr",
          "text": [
            "ERROR:yfinance:$CCXI: possibly delisted; No timezone found\n"
          ]
        },
        {
          "output_type": "stream",
          "name": "stdout",
          "text": [
            "No data found for CCXI on 2022-08-11\n"
          ]
        },
        {
          "output_type": "stream",
          "name": "stderr",
          "text": [
            "ERROR:yfinance:SIVB: Period '1mo' is invalid, must be one of ['1d', '5d']\n"
          ]
        },
        {
          "output_type": "stream",
          "name": "stdout",
          "text": [
            "No data found for SIVB on 2022-07-15\n"
          ]
        },
        {
          "output_type": "stream",
          "name": "stderr",
          "text": [
            "ERROR:yfinance:$LHCG: possibly delisted; No timezone found\n"
          ]
        },
        {
          "output_type": "stream",
          "name": "stdout",
          "text": [
            "No data found for LHCG on 2022-06-21\n"
          ]
        },
        {
          "output_type": "stream",
          "name": "stderr",
          "text": [
            "ERROR:yfinance:SIVB: Period '1mo' is invalid, must be one of ['1d', '5d']\n"
          ]
        },
        {
          "output_type": "stream",
          "name": "stdout",
          "text": [
            "No data found for SIVB on 2022-06-14\n"
          ]
        },
        {
          "output_type": "stream",
          "name": "stderr",
          "text": [
            "ERROR:yfinance:$LHCG: possibly delisted; No timezone found\n"
          ]
        },
        {
          "output_type": "stream",
          "name": "stdout",
          "text": [
            "No data found for LHCG on 2022-05-09\n"
          ]
        },
        {
          "output_type": "stream",
          "name": "stderr",
          "text": [
            "ERROR:yfinance:$FB: possibly delisted; No timezone found\n"
          ]
        },
        {
          "output_type": "stream",
          "name": "stdout",
          "text": [
            "No data found for FB on 2022-04-20\n"
          ]
        },
        {
          "output_type": "stream",
          "name": "stderr",
          "text": [
            "ERROR:yfinance:$CCXI: possibly delisted; No timezone found\n"
          ]
        },
        {
          "output_type": "stream",
          "name": "stdout",
          "text": [
            "No data found for CCXI on 2022-04-19\n"
          ]
        },
        {
          "output_type": "stream",
          "name": "stderr",
          "text": [
            "ERROR:yfinance:$CVET: possibly delisted; No timezone found\n"
          ]
        },
        {
          "output_type": "stream",
          "name": "stdout",
          "text": [
            "No data found for CVET on 2022-04-19\n"
          ]
        },
        {
          "output_type": "stream",
          "name": "stderr",
          "text": [
            "ERROR:yfinance:$ECOL: possibly delisted; No timezone found\n"
          ]
        },
        {
          "output_type": "stream",
          "name": "stdout",
          "text": [
            "No data found for ECOL on 2022-04-13\n"
          ]
        },
        {
          "output_type": "stream",
          "name": "stderr",
          "text": [
            "ERROR:yfinance:$CCXI: possibly delisted; No timezone found\n"
          ]
        },
        {
          "output_type": "stream",
          "name": "stdout",
          "text": [
            "No data found for CCXI on 2022-03-15\n"
          ]
        },
        {
          "output_type": "stream",
          "name": "stderr",
          "text": [
            "ERROR:yfinance:$CVET: possibly delisted; No timezone found\n"
          ]
        },
        {
          "output_type": "stream",
          "name": "stdout",
          "text": [
            "No data found for CVET on 2022-03-15\n"
          ]
        },
        {
          "output_type": "stream",
          "name": "stderr",
          "text": [
            "ERROR:yfinance:$SGEN: possibly delisted; No timezone found\n"
          ]
        },
        {
          "output_type": "stream",
          "name": "stdout",
          "text": [
            "No data found for SGEN on 2022-02-18\n"
          ]
        },
        {
          "output_type": "stream",
          "name": "stderr",
          "text": [
            "ERROR:yfinance:SIVB: Period '1mo' is invalid, must be one of ['1d', '5d']\n"
          ]
        },
        {
          "output_type": "stream",
          "name": "stdout",
          "text": [
            "No data found for SIVB on 2022-02-09\n"
          ]
        },
        {
          "output_type": "stream",
          "name": "stderr",
          "text": [
            "ERROR:yfinance:$FB: possibly delisted; No timezone found\n"
          ]
        },
        {
          "output_type": "stream",
          "name": "stdout",
          "text": [
            "No data found for FB on 2022-02-07\n"
          ]
        },
        {
          "output_type": "stream",
          "name": "stderr",
          "text": [
            "ERROR:yfinance:$SYNH: possibly delisted; No timezone found\n",
            "ERROR:yfinance:$FB: possibly delisted; No timezone found\n"
          ]
        },
        {
          "output_type": "stream",
          "name": "stdout",
          "text": [
            "No data found for SYNH on 2022-01-04\n",
            "No data found for FB on 2021-12-29\n"
          ]
        },
        {
          "output_type": "stream",
          "name": "stderr",
          "text": [
            "ERROR:yfinance:$CCXI: possibly delisted; No timezone found\n",
            "ERROR:yfinance:$FB: possibly delisted; No timezone found\n"
          ]
        },
        {
          "output_type": "stream",
          "name": "stdout",
          "text": [
            "No data found for CCXI on 2021-12-02\n",
            "No data found for FB on 2021-12-02\n"
          ]
        },
        {
          "output_type": "stream",
          "name": "stderr",
          "text": [
            "ERROR:yfinance:$LHCG: possibly delisted; No timezone found\n"
          ]
        },
        {
          "output_type": "stream",
          "name": "stdout",
          "text": [
            "No data found for LHCG on 2021-11-04\n"
          ]
        },
        {
          "output_type": "stream",
          "name": "stderr",
          "text": [
            "ERROR:yfinance:$FB: possibly delisted; No timezone found\n"
          ]
        },
        {
          "output_type": "stream",
          "name": "stdout",
          "text": [
            "No data found for FB on 2021-10-27\n"
          ]
        },
        {
          "output_type": "stream",
          "name": "stderr",
          "text": [
            "ERROR:yfinance:$FB: possibly delisted; No timezone found\n"
          ]
        },
        {
          "output_type": "stream",
          "name": "stdout",
          "text": [
            "No data found for FB on 2021-10-26\n"
          ]
        },
        {
          "output_type": "stream",
          "name": "stderr",
          "text": [
            "ERROR:yfinance:$CVET: possibly delisted; No timezone found\n",
            "ERROR:yfinance:$FB: possibly delisted; No timezone found\n"
          ]
        },
        {
          "output_type": "stream",
          "name": "stdout",
          "text": [
            "No data found for CVET on 2021-10-18\n",
            "No data found for FB on 2021-10-18\n"
          ]
        },
        {
          "output_type": "stream",
          "name": "stderr",
          "text": [
            "ERROR:yfinance:$CVET: possibly delisted; No timezone found\n"
          ]
        },
        {
          "output_type": "stream",
          "name": "stdout",
          "text": [
            "No data found for CVET on 2021-09-15\n"
          ]
        },
        {
          "output_type": "stream",
          "name": "stderr",
          "text": [
            "ERROR:yfinance:$TWTR: possibly delisted; No timezone found\n"
          ]
        },
        {
          "output_type": "stream",
          "name": "stdout",
          "text": [
            "No data found for TWTR on 2021-09-13\n"
          ]
        },
        {
          "output_type": "stream",
          "name": "stderr",
          "text": [
            "ERROR:yfinance:$CREE: possibly delisted; No timezone found\n"
          ]
        },
        {
          "output_type": "stream",
          "name": "stdout",
          "text": [
            "No data found for CREE on 2021-09-01\n"
          ]
        },
        {
          "output_type": "stream",
          "name": "stderr",
          "text": [
            "ERROR:yfinance:$SYNH: possibly delisted; No timezone found\n"
          ]
        },
        {
          "output_type": "stream",
          "name": "stdout",
          "text": [
            "No data found for SYNH on 2021-08-20\n"
          ]
        },
        {
          "output_type": "stream",
          "name": "stderr",
          "text": [
            "ERROR:yfinance:$ROLL: possibly delisted; No timezone found\n"
          ]
        },
        {
          "output_type": "stream",
          "name": "stdout",
          "text": [
            "No data found for ROLL on 2021-07-27\n"
          ]
        },
        {
          "output_type": "stream",
          "name": "stderr",
          "text": [
            "ERROR:yfinance:$QTS: possibly delisted; No timezone found\n"
          ]
        },
        {
          "output_type": "stream",
          "name": "stdout",
          "text": [
            "No data found for QTS on 2021-07-23\n"
          ]
        },
        {
          "output_type": "stream",
          "name": "stderr",
          "text": [
            "ERROR:yfinance:$TWTR: possibly delisted; No timezone found\n"
          ]
        },
        {
          "output_type": "stream",
          "name": "stdout",
          "text": [
            "No data found for TWTR on 2021-07-20\n"
          ]
        },
        {
          "output_type": "stream",
          "name": "stderr",
          "text": [
            "ERROR:yfinance:SIVB: Period '1mo' is invalid, must be one of ['1d', '5d']\n"
          ]
        },
        {
          "output_type": "stream",
          "name": "stdout",
          "text": [
            "No data found for SIVB on 2021-07-09\n"
          ]
        },
        {
          "output_type": "stream",
          "name": "stderr",
          "text": [
            "ERROR:yfinance:$DISCA: possibly delisted; No timezone found\n"
          ]
        },
        {
          "output_type": "stream",
          "name": "stdout",
          "text": [
            "No data found for DISCA on 2021-06-15\n"
          ]
        },
        {
          "output_type": "stream",
          "name": "stderr",
          "text": [
            "ERROR:yfinance:$FB: possibly delisted; No timezone found\n"
          ]
        },
        {
          "output_type": "stream",
          "name": "stdout",
          "text": [
            "No data found for FB on 2021-05-28\n"
          ]
        },
        {
          "output_type": "stream",
          "name": "stderr",
          "text": [
            "ERROR:yfinance:$DISCA: possibly delisted; No timezone found\n"
          ]
        },
        {
          "output_type": "stream",
          "name": "stdout",
          "text": [
            "No data found for DISCA on 2021-05-18\n"
          ]
        },
        {
          "output_type": "stream",
          "name": "stderr",
          "text": [
            "ERROR:yfinance:$SGEN: possibly delisted; No timezone found\n"
          ]
        },
        {
          "output_type": "stream",
          "name": "stdout",
          "text": [
            "No data found for SGEN on 2021-05-17\n"
          ]
        },
        {
          "output_type": "stream",
          "name": "stderr",
          "text": [
            "ERROR:yfinance:$TWTR: possibly delisted; No timezone found\n"
          ]
        },
        {
          "output_type": "stream",
          "name": "stdout",
          "text": [
            "No data found for TWTR on 2021-04-30\n"
          ]
        },
        {
          "output_type": "stream",
          "name": "stderr",
          "text": [
            "ERROR:yfinance:$FB: possibly delisted; No timezone found\n"
          ]
        },
        {
          "output_type": "stream",
          "name": "stdout",
          "text": [
            "No data found for FB on 2021-04-16\n"
          ]
        },
        {
          "output_type": "stream",
          "name": "stderr",
          "text": [
            "ERROR:yfinance:$DISCA: possibly delisted; No timezone found\n"
          ]
        },
        {
          "output_type": "stream",
          "name": "stdout",
          "text": [
            "No data found for DISCA on 2021-03-31\n"
          ]
        },
        {
          "output_type": "stream",
          "name": "stderr",
          "text": [
            "ERROR:yfinance:$TWTR: possibly delisted; No timezone found\n"
          ]
        },
        {
          "output_type": "stream",
          "name": "stdout",
          "text": [
            "No data found for TWTR on 2021-03-16\n"
          ]
        },
        {
          "output_type": "stream",
          "name": "stderr",
          "text": [
            "ERROR:yfinance:SIVB: Period '1mo' is invalid, must be one of ['1d', '5d']\n"
          ]
        },
        {
          "output_type": "stream",
          "name": "stdout",
          "text": [
            "No data found for SIVB on 2021-03-15\n"
          ]
        },
        {
          "output_type": "stream",
          "name": "stderr",
          "text": [
            "ERROR:yfinance:$PFPT: possibly delisted; No timezone found\n"
          ]
        },
        {
          "output_type": "stream",
          "name": "stdout",
          "text": [
            "No data found for PFPT on 2021-02-26\n"
          ]
        },
        {
          "output_type": "stream",
          "name": "stderr",
          "text": [
            "ERROR:yfinance:$CREE: possibly delisted; No timezone found\n"
          ]
        },
        {
          "output_type": "stream",
          "name": "stdout",
          "text": [
            "No data found for CREE on 2021-02-23\n"
          ]
        },
        {
          "output_type": "stream",
          "name": "stderr",
          "text": [
            "ERROR:yfinance:$GRUB: possibly delisted; No timezone found\n"
          ]
        },
        {
          "output_type": "stream",
          "name": "stdout",
          "text": [
            "No data found for GRUB on 2021-02-12\n"
          ]
        },
        {
          "output_type": "stream",
          "name": "stderr",
          "text": [
            "ERROR:yfinance:$BRKS: possibly delisted; No timezone found\n",
            "ERROR:yfinance:$DE: possibly delisted; No price data found  (1d 2021-01-01 -> 2021-01-04 00:00:00)\n"
          ]
        },
        {
          "output_type": "stream",
          "name": "stdout",
          "text": [
            "No data found for BRKS on 2021-01-05\n",
            "$DE: possibly delisted; No price data found  (1d 2021-01-01 -> 2021-01-04 00:00:00)\n",
            "No data found for DE on 2021-01-04\n"
          ]
        },
        {
          "output_type": "stream",
          "name": "stderr",
          "text": [
            "ERROR:yfinance:$FDX: possibly delisted; No price data found  (1d 2021-01-01 -> 2021-01-04 00:00:00)\n",
            "ERROR:yfinance:$HCA: possibly delisted; No price data found  (1d 2021-01-01 -> 2021-01-04 00:00:00)\n"
          ]
        },
        {
          "output_type": "stream",
          "name": "stdout",
          "text": [
            "$FDX: possibly delisted; No price data found  (1d 2021-01-01 -> 2021-01-04 00:00:00)\n",
            "No data found for FDX on 2021-01-04\n",
            "$HCA: possibly delisted; No price data found  (1d 2021-01-01 -> 2021-01-04 00:00:00)\n",
            "No data found for HCA on 2021-01-04\n"
          ]
        },
        {
          "output_type": "stream",
          "name": "stderr",
          "text": [
            "ERROR:yfinance:DXCM: Invalid input - start date cannot be after end date. startDate = 1609477200, endDate = 1608786000\n"
          ]
        },
        {
          "output_type": "stream",
          "name": "stdout",
          "text": [
            "No data found for DXCM on 2020-12-24\n"
          ]
        },
        {
          "output_type": "stream",
          "name": "stderr",
          "text": [
            "ERROR:yfinance:BRK-B: Invalid input - start date cannot be after end date. startDate = 1609477200, endDate = 1608613200\n"
          ]
        },
        {
          "output_type": "stream",
          "name": "stdout",
          "text": [
            "No data found for BRK-B on 2020-12-22\n"
          ]
        },
        {
          "output_type": "stream",
          "name": "stderr",
          "text": [
            "ERROR:yfinance:CSTL: Invalid input - start date cannot be after end date. startDate = 1609477200, endDate = 1608526800\n"
          ]
        },
        {
          "output_type": "stream",
          "name": "stdout",
          "text": [
            "No data found for CSTL on 2020-12-21\n"
          ]
        },
        {
          "output_type": "stream",
          "name": "stderr",
          "text": [
            "ERROR:yfinance:ICUI: Invalid input - start date cannot be after end date. startDate = 1609477200, endDate = 1608526800\n"
          ]
        },
        {
          "output_type": "stream",
          "name": "stdout",
          "text": [
            "No data found for ICUI on 2020-12-21\n"
          ]
        },
        {
          "output_type": "stream",
          "name": "stderr",
          "text": [
            "ERROR:yfinance:PHR: Invalid input - start date cannot be after end date. startDate = 1609477200, endDate = 1608526800\n"
          ]
        },
        {
          "output_type": "stream",
          "name": "stdout",
          "text": [
            "No data found for PHR on 2020-12-21\n"
          ]
        },
        {
          "output_type": "stream",
          "name": "stderr",
          "text": [
            "ERROR:yfinance:CTSH: Invalid input - start date cannot be after end date. startDate = 1609477200, endDate = 1608094800\n"
          ]
        },
        {
          "output_type": "stream",
          "name": "stdout",
          "text": [
            "No data found for CTSH on 2020-12-16\n"
          ]
        },
        {
          "output_type": "stream",
          "name": "stderr",
          "text": [
            "ERROR:yfinance:DE: Invalid input - start date cannot be after end date. startDate = 1609477200, endDate = 1608094800\n"
          ]
        },
        {
          "output_type": "stream",
          "name": "stdout",
          "text": [
            "No data found for DE on 2020-12-16\n"
          ]
        },
        {
          "output_type": "stream",
          "name": "stderr",
          "text": [
            "ERROR:yfinance:MS: Invalid input - start date cannot be after end date. startDate = 1609477200, endDate = 1608094800\n"
          ]
        },
        {
          "output_type": "stream",
          "name": "stdout",
          "text": [
            "No data found for MS on 2020-12-16\n"
          ]
        },
        {
          "output_type": "stream",
          "name": "stderr",
          "text": [
            "ERROR:yfinance:UPS: Invalid input - start date cannot be after end date. startDate = 1609477200, endDate = 1608008400\n"
          ]
        },
        {
          "output_type": "stream",
          "name": "stdout",
          "text": [
            "No data found for UPS on 2020-12-15\n"
          ]
        },
        {
          "output_type": "stream",
          "name": "stderr",
          "text": [
            "ERROR:yfinance:VTRS: Invalid input - start date cannot be after end date. startDate = 1609477200, endDate = 1607922000\n"
          ]
        },
        {
          "output_type": "stream",
          "name": "stdout",
          "text": [
            "No data found for VTRS on 2020-12-14\n"
          ]
        },
        {
          "output_type": "stream",
          "name": "stderr",
          "text": [
            "ERROR:yfinance:$CHL: possibly delisted; No timezone found\n"
          ]
        },
        {
          "output_type": "stream",
          "name": "stdout",
          "text": [
            "No data found for CHL on 2020-12-11\n"
          ]
        },
        {
          "output_type": "stream",
          "name": "stderr",
          "text": [
            "ERROR:yfinance:CRM: Invalid input - start date cannot be after end date. startDate = 1609477200, endDate = 1607662800\n"
          ]
        },
        {
          "output_type": "stream",
          "name": "stdout",
          "text": [
            "No data found for CRM on 2020-12-11\n"
          ]
        },
        {
          "output_type": "stream",
          "name": "stderr",
          "text": [
            "ERROR:yfinance:FMX: Invalid input - start date cannot be after end date. startDate = 1609477200, endDate = 1607662800\n"
          ]
        },
        {
          "output_type": "stream",
          "name": "stdout",
          "text": [
            "No data found for FMX on 2020-12-11\n"
          ]
        },
        {
          "output_type": "stream",
          "name": "stderr",
          "text": [
            "ERROR:yfinance:MO: Invalid input - start date cannot be after end date. startDate = 1609477200, endDate = 1607662800\n"
          ]
        },
        {
          "output_type": "stream",
          "name": "stdout",
          "text": [
            "No data found for MO on 2020-12-11\n"
          ]
        },
        {
          "output_type": "stream",
          "name": "stderr",
          "text": [
            "ERROR:yfinance:REGN: Invalid input - start date cannot be after end date. startDate = 1609477200, endDate = 1607662800\n"
          ]
        },
        {
          "output_type": "stream",
          "name": "stdout",
          "text": [
            "No data found for REGN on 2020-12-11\n"
          ]
        },
        {
          "output_type": "stream",
          "name": "stderr",
          "text": [
            "ERROR:yfinance:HD: Invalid input - start date cannot be after end date. startDate = 1609477200, endDate = 1607490000\n"
          ]
        },
        {
          "output_type": "stream",
          "name": "stdout",
          "text": [
            "No data found for HD on 2020-12-09\n"
          ]
        },
        {
          "output_type": "stream",
          "name": "stderr",
          "text": [
            "ERROR:yfinance:MEDP: Invalid input - start date cannot be after end date. startDate = 1609477200, endDate = 1607403600\n"
          ]
        },
        {
          "output_type": "stream",
          "name": "stdout",
          "text": [
            "No data found for MEDP on 2020-12-08\n"
          ]
        },
        {
          "output_type": "stream",
          "name": "stderr",
          "text": [
            "ERROR:yfinance:VCYT: Invalid input - start date cannot be after end date. startDate = 1609477200, endDate = 1607403600\n"
          ]
        },
        {
          "output_type": "stream",
          "name": "stdout",
          "text": [
            "No data found for VCYT on 2020-12-08\n"
          ]
        },
        {
          "output_type": "stream",
          "name": "stderr",
          "text": [
            "ERROR:yfinance:DASTY: Invalid input - start date cannot be after end date. startDate = 1609477200, endDate = 1606971600\n"
          ]
        },
        {
          "output_type": "stream",
          "name": "stdout",
          "text": [
            "No data found for DASTY on 2020-12-03\n"
          ]
        },
        {
          "output_type": "stream",
          "name": "stderr",
          "text": [
            "ERROR:yfinance:IFNNY: Invalid input - start date cannot be after end date. startDate = 1609477200, endDate = 1606971600\n",
            "ERROR:yfinance:$BRKS: possibly delisted; No timezone found\n"
          ]
        },
        {
          "output_type": "stream",
          "name": "stdout",
          "text": [
            "No data found for IFNNY on 2020-12-03\n",
            "No data found for BRKS on 2020-12-02\n"
          ]
        },
        {
          "output_type": "stream",
          "name": "stderr",
          "text": [
            "ERROR:yfinance:$CCMP: possibly delisted; No timezone found\n"
          ]
        },
        {
          "output_type": "stream",
          "name": "stdout",
          "text": [
            "No data found for CCMP on 2020-12-02\n"
          ]
        },
        {
          "output_type": "stream",
          "name": "stderr",
          "text": [
            "ERROR:yfinance:SITE: Invalid input - start date cannot be after end date. startDate = 1609477200, endDate = 1606885200\n"
          ]
        },
        {
          "output_type": "stream",
          "name": "stdout",
          "text": [
            "No data found for SITE on 2020-12-02\n"
          ]
        },
        {
          "output_type": "stream",
          "name": "stderr",
          "text": [
            "ERROR:yfinance:CRNC: Invalid input - start date cannot be after end date. startDate = 1609477200, endDate = 1605762000\n"
          ]
        },
        {
          "output_type": "stream",
          "name": "stdout",
          "text": [
            "No data found for CRNC on 2020-11-19\n"
          ]
        },
        {
          "output_type": "stream",
          "name": "stderr",
          "text": [
            "ERROR:yfinance:HELE: Invalid input - start date cannot be after end date. startDate = 1609477200, endDate = 1605762000\n"
          ]
        },
        {
          "output_type": "stream",
          "name": "stdout",
          "text": [
            "No data found for HELE on 2020-11-19\n"
          ]
        },
        {
          "output_type": "stream",
          "name": "stderr",
          "text": [
            "ERROR:yfinance:$VRTU: possibly delisted; No timezone found\n"
          ]
        },
        {
          "output_type": "stream",
          "name": "stdout",
          "text": [
            "No data found for VRTU on 2020-11-19\n"
          ]
        },
        {
          "output_type": "stream",
          "name": "stderr",
          "text": [
            "ERROR:yfinance:VTRS: Invalid input - start date cannot be after end date. startDate = 1609477200, endDate = 1605762000\n"
          ]
        },
        {
          "output_type": "stream",
          "name": "stdout",
          "text": [
            "No data found for VTRS on 2020-11-19\n"
          ]
        },
        {
          "output_type": "stream",
          "name": "stderr",
          "text": [
            "ERROR:yfinance:MSFT: Invalid input - start date cannot be after end date. startDate = 1609477200, endDate = 1605589200\n",
            "ERROR:yfinance:MSFT: Invalid input - start date cannot be after end date. startDate = 1609477200, endDate = 1605589200\n",
            "ERROR:yfinance:MSFT: Invalid input - start date cannot be after end date. startDate = 1609477200, endDate = 1605589200\n",
            "ERROR:yfinance:MSFT: Invalid input - start date cannot be after end date. startDate = 1609477200, endDate = 1605589200\n",
            "ERROR:yfinance:MSFT: Invalid input - start date cannot be after end date. startDate = 1609477200, endDate = 1605589200\n",
            "ERROR:yfinance:MSFT: Invalid input - start date cannot be after end date. startDate = 1609477200, endDate = 1605589200\n",
            "ERROR:yfinance:MSFT: Invalid input - start date cannot be after end date. startDate = 1609477200, endDate = 1605589200\n",
            "ERROR:yfinance:MSFT: Invalid input - start date cannot be after end date. startDate = 1609477200, endDate = 1605589200\n"
          ]
        },
        {
          "output_type": "stream",
          "name": "stdout",
          "text": [
            "No data found for MSFT on 2020-11-17\n",
            "No data found for MSFT on 2020-11-17\n",
            "No data found for MSFT on 2020-11-17\n",
            "No data found for MSFT on 2020-11-17\n",
            "No data found for MSFT on 2020-11-17\n",
            "No data found for MSFT on 2020-11-17\n",
            "No data found for MSFT on 2020-11-17\n",
            "No data found for MSFT on 2020-11-17\n"
          ]
        },
        {
          "output_type": "stream",
          "name": "stderr",
          "text": [
            "ERROR:yfinance:AMD: Invalid input - start date cannot be after end date. startDate = 1609477200, endDate = 1605502800\n"
          ]
        },
        {
          "output_type": "stream",
          "name": "stdout",
          "text": [
            "No data found for AMD on 2020-11-16\n"
          ]
        },
        {
          "output_type": "stream",
          "name": "stderr",
          "text": [
            "ERROR:yfinance:CTSH: Invalid input - start date cannot be after end date. startDate = 1609477200, endDate = 1605502800\n"
          ]
        },
        {
          "output_type": "stream",
          "name": "stdout",
          "text": [
            "No data found for CTSH on 2020-11-16\n"
          ]
        },
        {
          "output_type": "stream",
          "name": "stderr",
          "text": [
            "ERROR:yfinance:FDX: Invalid input - start date cannot be after end date. startDate = 1609477200, endDate = 1605502800\n"
          ]
        },
        {
          "output_type": "stream",
          "name": "stdout",
          "text": [
            "No data found for FDX on 2020-11-16\n"
          ]
        },
        {
          "output_type": "stream",
          "name": "stderr",
          "text": [
            "ERROR:yfinance:HCA: Invalid input - start date cannot be after end date. startDate = 1609477200, endDate = 1605502800\n"
          ]
        },
        {
          "output_type": "stream",
          "name": "stdout",
          "text": [
            "No data found for HCA on 2020-11-16\n"
          ]
        },
        {
          "output_type": "stream",
          "name": "stderr",
          "text": [
            "ERROR:yfinance:LOW: Invalid input - start date cannot be after end date. startDate = 1609477200, endDate = 1605502800\n"
          ]
        },
        {
          "output_type": "stream",
          "name": "stdout",
          "text": [
            "No data found for LOW on 2020-11-16\n"
          ]
        },
        {
          "output_type": "stream",
          "name": "stderr",
          "text": [
            "ERROR:yfinance:NOW: Invalid input - start date cannot be after end date. startDate = 1609477200, endDate = 1605502800\n"
          ]
        },
        {
          "output_type": "stream",
          "name": "stdout",
          "text": [
            "No data found for NOW on 2020-11-16\n"
          ]
        },
        {
          "output_type": "stream",
          "name": "stderr",
          "text": [
            "ERROR:yfinance:NVDA: Invalid input - start date cannot be after end date. startDate = 1609477200, endDate = 1605502800\n"
          ]
        },
        {
          "output_type": "stream",
          "name": "stdout",
          "text": [
            "No data found for NVDA on 2020-11-16\n"
          ]
        },
        {
          "output_type": "stream",
          "name": "stderr",
          "text": [
            "ERROR:yfinance:QCOM: Invalid input - start date cannot be after end date. startDate = 1609477200, endDate = 1605502800\n"
          ]
        },
        {
          "output_type": "stream",
          "name": "stdout",
          "text": [
            "No data found for QCOM on 2020-11-16\n"
          ]
        },
        {
          "output_type": "stream",
          "name": "stderr",
          "text": [
            "ERROR:yfinance:SCHW: Invalid input - start date cannot be after end date. startDate = 1609477200, endDate = 1605502800\n"
          ]
        },
        {
          "output_type": "stream",
          "name": "stdout",
          "text": [
            "No data found for SCHW on 2020-11-16\n"
          ]
        },
        {
          "output_type": "stream",
          "name": "stderr",
          "text": [
            "ERROR:yfinance:TEAM: Invalid input - start date cannot be after end date. startDate = 1609477200, endDate = 1605502800\n"
          ]
        },
        {
          "output_type": "stream",
          "name": "stdout",
          "text": [
            "No data found for TEAM on 2020-11-16\n"
          ]
        },
        {
          "output_type": "stream",
          "name": "stderr",
          "text": [
            "ERROR:yfinance:TSLA: Invalid input - start date cannot be after end date. startDate = 1609477200, endDate = 1605502800\n"
          ]
        },
        {
          "output_type": "stream",
          "name": "stdout",
          "text": [
            "No data found for TSLA on 2020-11-16\n"
          ]
        },
        {
          "output_type": "stream",
          "name": "stderr",
          "text": [
            "ERROR:yfinance:VEEV: Invalid input - start date cannot be after end date. startDate = 1609477200, endDate = 1605502800\n"
          ]
        },
        {
          "output_type": "stream",
          "name": "stdout",
          "text": [
            "No data found for VEEV on 2020-11-16\n"
          ]
        },
        {
          "output_type": "stream",
          "name": "stderr",
          "text": [
            "ERROR:yfinance:ALNY: Invalid input - start date cannot be after end date. startDate = 1609477200, endDate = 1605243600\n"
          ]
        },
        {
          "output_type": "stream",
          "name": "stdout",
          "text": [
            "No data found for ALNY on 2020-11-13\n"
          ]
        },
        {
          "output_type": "stream",
          "name": "stderr",
          "text": [
            "ERROR:yfinance:APH: Invalid input - start date cannot be after end date. startDate = 1609477200, endDate = 1605243600\n"
          ]
        },
        {
          "output_type": "stream",
          "name": "stdout",
          "text": [
            "No data found for APH on 2020-11-13\n"
          ]
        },
        {
          "output_type": "stream",
          "name": "stderr",
          "text": [
            "ERROR:yfinance:CYRX: Invalid input - start date cannot be after end date. startDate = 1609477200, endDate = 1605243600\n"
          ]
        },
        {
          "output_type": "stream",
          "name": "stdout",
          "text": [
            "No data found for CYRX on 2020-11-13\n"
          ]
        },
        {
          "output_type": "stream",
          "name": "stderr",
          "text": [
            "ERROR:yfinance:EL: Invalid input - start date cannot be after end date. startDate = 1609477200, endDate = 1605243600\n"
          ]
        },
        {
          "output_type": "stream",
          "name": "stdout",
          "text": [
            "No data found for EL on 2020-11-13\n"
          ]
        },
        {
          "output_type": "stream",
          "name": "stderr",
          "text": [
            "ERROR:yfinance:MCK: Invalid input - start date cannot be after end date. startDate = 1609477200, endDate = 1605243600\n"
          ]
        },
        {
          "output_type": "stream",
          "name": "stdout",
          "text": [
            "No data found for MCK on 2020-11-13\n"
          ]
        },
        {
          "output_type": "stream",
          "name": "stderr",
          "text": [
            "ERROR:yfinance:MKTX: Invalid input - start date cannot be after end date. startDate = 1609477200, endDate = 1605243600\n"
          ]
        },
        {
          "output_type": "stream",
          "name": "stdout",
          "text": [
            "No data found for MKTX on 2020-11-13\n"
          ]
        },
        {
          "output_type": "stream",
          "name": "stderr",
          "text": [
            "ERROR:yfinance:MTCH: Invalid input - start date cannot be after end date. startDate = 1609477200, endDate = 1605243600\n"
          ]
        },
        {
          "output_type": "stream",
          "name": "stdout",
          "text": [
            "No data found for MTCH on 2020-11-13\n"
          ]
        },
        {
          "output_type": "stream",
          "name": "stderr",
          "text": [
            "ERROR:yfinance:NOW: Invalid input - start date cannot be after end date. startDate = 1609477200, endDate = 1605243600\n"
          ]
        },
        {
          "output_type": "stream",
          "name": "stdout",
          "text": [
            "No data found for NOW on 2020-11-13\n"
          ]
        },
        {
          "output_type": "stream",
          "name": "stderr",
          "text": [
            "ERROR:yfinance:TSLA: Invalid input - start date cannot be after end date. startDate = 1609477200, endDate = 1605243600\n"
          ]
        },
        {
          "output_type": "stream",
          "name": "stdout",
          "text": [
            "No data found for TSLA on 2020-11-13\n"
          ]
        },
        {
          "output_type": "stream",
          "name": "stderr",
          "text": [
            "ERROR:yfinance:QCOM: Invalid input - start date cannot be after end date. startDate = 1609477200, endDate = 1605157200\n"
          ]
        },
        {
          "output_type": "stream",
          "name": "stdout",
          "text": [
            "No data found for QCOM on 2020-11-12\n"
          ]
        },
        {
          "output_type": "stream",
          "name": "stderr",
          "text": [
            "ERROR:yfinance:Z: Invalid input - start date cannot be after end date. startDate = 1609477200, endDate = 1605157200\n"
          ]
        },
        {
          "output_type": "stream",
          "name": "stdout",
          "text": [
            "No data found for Z on 2020-11-12\n"
          ]
        },
        {
          "output_type": "stream",
          "name": "stderr",
          "text": [
            "ERROR:yfinance:ALGN: Invalid input - start date cannot be after end date. startDate = 1609477200, endDate = 1605070800\n"
          ]
        },
        {
          "output_type": "stream",
          "name": "stdout",
          "text": [
            "No data found for ALGN on 2020-11-11\n"
          ]
        },
        {
          "output_type": "stream",
          "name": "stderr",
          "text": [
            "ERROR:yfinance:AMD: Invalid input - start date cannot be after end date. startDate = 1609477200, endDate = 1605070800\n"
          ]
        },
        {
          "output_type": "stream",
          "name": "stdout",
          "text": [
            "No data found for AMD on 2020-11-11\n"
          ]
        },
        {
          "output_type": "stream",
          "name": "stderr",
          "text": [
            "ERROR:yfinance:BABA: Invalid input - start date cannot be after end date. startDate = 1609477200, endDate = 1605070800\n"
          ]
        },
        {
          "output_type": "stream",
          "name": "stdout",
          "text": [
            "No data found for BABA on 2020-11-11\n"
          ]
        },
        {
          "output_type": "stream",
          "name": "stderr",
          "text": [
            "ERROR:yfinance:EXAS: Invalid input - start date cannot be after end date. startDate = 1609477200, endDate = 1605070800\n"
          ]
        },
        {
          "output_type": "stream",
          "name": "stdout",
          "text": [
            "No data found for EXAS on 2020-11-11\n"
          ]
        },
        {
          "output_type": "stream",
          "name": "stderr",
          "text": [
            "ERROR:yfinance:FIVE: Invalid input - start date cannot be after end date. startDate = 1609477200, endDate = 1605070800\n"
          ]
        },
        {
          "output_type": "stream",
          "name": "stdout",
          "text": [
            "No data found for FIVE on 2020-11-11\n"
          ]
        },
        {
          "output_type": "stream",
          "name": "stderr",
          "text": [
            "ERROR:yfinance:MELI: Invalid input - start date cannot be after end date. startDate = 1609477200, endDate = 1605070800\n"
          ]
        },
        {
          "output_type": "stream",
          "name": "stdout",
          "text": [
            "No data found for MELI on 2020-11-11\n"
          ]
        },
        {
          "output_type": "stream",
          "name": "stderr",
          "text": [
            "ERROR:yfinance:NFLX: Invalid input - start date cannot be after end date. startDate = 1609477200, endDate = 1605070800\n"
          ]
        },
        {
          "output_type": "stream",
          "name": "stdout",
          "text": [
            "No data found for NFLX on 2020-11-11\n"
          ]
        },
        {
          "output_type": "stream",
          "name": "stderr",
          "text": [
            "ERROR:yfinance:NVDA: Invalid input - start date cannot be after end date. startDate = 1609477200, endDate = 1605070800\n"
          ]
        },
        {
          "output_type": "stream",
          "name": "stdout",
          "text": [
            "No data found for NVDA on 2020-11-11\n"
          ]
        },
        {
          "output_type": "stream",
          "name": "stderr",
          "text": [
            "ERROR:yfinance:PINS: Invalid input - start date cannot be after end date. startDate = 1609477200, endDate = 1605070800\n"
          ]
        },
        {
          "output_type": "stream",
          "name": "stdout",
          "text": [
            "No data found for PINS on 2020-11-11\n"
          ]
        },
        {
          "output_type": "stream",
          "name": "stderr",
          "text": [
            "ERROR:yfinance:QDEL: Invalid input - start date cannot be after end date. startDate = 1609477200, endDate = 1605070800\n"
          ]
        },
        {
          "output_type": "stream",
          "name": "stdout",
          "text": [
            "No data found for QDEL on 2020-11-11\n"
          ]
        },
        {
          "output_type": "stream",
          "name": "stderr",
          "text": [
            "ERROR:yfinance:RBA: Invalid input - start date cannot be after end date. startDate = 1609477200, endDate = 1605070800\n"
          ]
        },
        {
          "output_type": "stream",
          "name": "stdout",
          "text": [
            "No data found for RBA on 2020-11-11\n"
          ]
        },
        {
          "output_type": "stream",
          "name": "stderr",
          "text": [
            "ERROR:yfinance:SNOW: Invalid input - start date cannot be after end date. startDate = 1609477200, endDate = 1605070800\n"
          ]
        },
        {
          "output_type": "stream",
          "name": "stdout",
          "text": [
            "No data found for SNOW on 2020-11-11\n"
          ]
        },
        {
          "output_type": "stream",
          "name": "stderr",
          "text": [
            "ERROR:yfinance:SPOT: Invalid input - start date cannot be after end date. startDate = 1609477200, endDate = 1605070800\n"
          ]
        },
        {
          "output_type": "stream",
          "name": "stdout",
          "text": [
            "No data found for SPOT on 2020-11-11\n"
          ]
        },
        {
          "output_type": "stream",
          "name": "stderr",
          "text": [
            "ERROR:yfinance:TMO: Invalid input - start date cannot be after end date. startDate = 1609477200, endDate = 1605070800\n"
          ]
        },
        {
          "output_type": "stream",
          "name": "stdout",
          "text": [
            "No data found for TMO on 2020-11-11\n"
          ]
        },
        {
          "output_type": "stream",
          "name": "stderr",
          "text": [
            "ERROR:yfinance:TTD: Invalid input - start date cannot be after end date. startDate = 1609477200, endDate = 1605070800\n"
          ]
        },
        {
          "output_type": "stream",
          "name": "stdout",
          "text": [
            "No data found for TTD on 2020-11-11\n"
          ]
        },
        {
          "output_type": "stream",
          "name": "stderr",
          "text": [
            "ERROR:yfinance:$TWTR: possibly delisted; No timezone found\n",
            "ERROR:yfinance:$VRTU: possibly delisted; No timezone found\n"
          ]
        },
        {
          "output_type": "stream",
          "name": "stdout",
          "text": [
            "No data found for TWTR on 2020-11-11\n",
            "No data found for VRTU on 2020-11-11\n"
          ]
        },
        {
          "output_type": "stream",
          "name": "stderr",
          "text": [
            "ERROR:yfinance:ALGN: Invalid input - start date cannot be after end date. startDate = 1609477200, endDate = 1604638800\n"
          ]
        },
        {
          "output_type": "stream",
          "name": "stdout",
          "text": [
            "No data found for ALGN on 2020-11-06\n"
          ]
        },
        {
          "output_type": "stream",
          "name": "stderr",
          "text": [
            "ERROR:yfinance:$FB: possibly delisted; No timezone found\n"
          ]
        },
        {
          "output_type": "stream",
          "name": "stdout",
          "text": [
            "No data found for FB on 2020-11-06\n"
          ]
        },
        {
          "output_type": "stream",
          "name": "stderr",
          "text": [
            "ERROR:yfinance:ILMN: Invalid input - start date cannot be after end date. startDate = 1609477200, endDate = 1604638800\n"
          ]
        },
        {
          "output_type": "stream",
          "name": "stdout",
          "text": [
            "No data found for ILMN on 2020-11-06\n"
          ]
        },
        {
          "output_type": "stream",
          "name": "stderr",
          "text": [
            "ERROR:yfinance:SNAP: Invalid input - start date cannot be after end date. startDate = 1609477200, endDate = 1604638800\n"
          ]
        },
        {
          "output_type": "stream",
          "name": "stdout",
          "text": [
            "No data found for SNAP on 2020-11-06\n"
          ]
        },
        {
          "output_type": "stream",
          "name": "stderr",
          "text": [
            "ERROR:yfinance:SNOW: Invalid input - start date cannot be after end date. startDate = 1609477200, endDate = 1604638800\n"
          ]
        },
        {
          "output_type": "stream",
          "name": "stdout",
          "text": [
            "No data found for SNOW on 2020-11-06\n"
          ]
        },
        {
          "output_type": "stream",
          "name": "stderr",
          "text": [
            "ERROR:yfinance:SRPT: Invalid input - start date cannot be after end date. startDate = 1609477200, endDate = 1604638800\n"
          ]
        },
        {
          "output_type": "stream",
          "name": "stdout",
          "text": [
            "No data found for SRPT on 2020-11-06\n"
          ]
        },
        {
          "output_type": "stream",
          "name": "stderr",
          "text": [
            "ERROR:yfinance:TEAM: Invalid input - start date cannot be after end date. startDate = 1609477200, endDate = 1604638800\n"
          ]
        },
        {
          "output_type": "stream",
          "name": "stdout",
          "text": [
            "No data found for TEAM on 2020-11-06\n"
          ]
        },
        {
          "output_type": "stream",
          "name": "stderr",
          "text": [
            "ERROR:yfinance:TSLA: Invalid input - start date cannot be after end date. startDate = 1609477200, endDate = 1604638800\n"
          ]
        },
        {
          "output_type": "stream",
          "name": "stdout",
          "text": [
            "No data found for TSLA on 2020-11-06\n"
          ]
        },
        {
          "output_type": "stream",
          "name": "stderr",
          "text": [
            "ERROR:yfinance:SNAP: Invalid input - start date cannot be after end date. startDate = 1609477200, endDate = 1604293200\n"
          ]
        },
        {
          "output_type": "stream",
          "name": "stdout",
          "text": [
            "No data found for SNAP on 2020-11-02\n"
          ]
        },
        {
          "output_type": "stream",
          "name": "stderr",
          "text": [
            "ERROR:yfinance:MA: Invalid input - start date cannot be after end date. startDate = 1609477200, endDate = 1603944000\n"
          ]
        },
        {
          "output_type": "stream",
          "name": "stdout",
          "text": [
            "No data found for MA on 2020-10-29\n"
          ]
        },
        {
          "output_type": "stream",
          "name": "stderr",
          "text": [
            "ERROR:yfinance:MEDP: Invalid input - start date cannot be after end date. startDate = 1609477200, endDate = 1603944000\n"
          ]
        },
        {
          "output_type": "stream",
          "name": "stdout",
          "text": [
            "No data found for MEDP on 2020-10-29\n"
          ]
        },
        {
          "output_type": "stream",
          "name": "stderr",
          "text": [
            "ERROR:yfinance:ROG: Invalid input - start date cannot be after end date. startDate = 1609477200, endDate = 1603944000\n"
          ]
        },
        {
          "output_type": "stream",
          "name": "stdout",
          "text": [
            "No data found for ROG on 2020-10-29\n"
          ]
        },
        {
          "output_type": "stream",
          "name": "stderr",
          "text": [
            "ERROR:yfinance:ENPH: Invalid input - start date cannot be after end date. startDate = 1609477200, endDate = 1603857600\n"
          ]
        },
        {
          "output_type": "stream",
          "name": "stdout",
          "text": [
            "No data found for ENPH on 2020-10-28\n"
          ]
        },
        {
          "output_type": "stream",
          "name": "stderr",
          "text": [
            "ERROR:yfinance:ROP: Invalid input - start date cannot be after end date. startDate = 1609477200, endDate = 1603857600\n"
          ]
        },
        {
          "output_type": "stream",
          "name": "stdout",
          "text": [
            "No data found for ROP on 2020-10-28\n"
          ]
        },
        {
          "output_type": "stream",
          "name": "stderr",
          "text": [
            "ERROR:yfinance:CVNA: Invalid input - start date cannot be after end date. startDate = 1609477200, endDate = 1603684800\n"
          ]
        },
        {
          "output_type": "stream",
          "name": "stdout",
          "text": [
            "No data found for CVNA on 2020-10-26\n"
          ]
        },
        {
          "output_type": "stream",
          "name": "stderr",
          "text": [
            "ERROR:yfinance:EXAS: Invalid input - start date cannot be after end date. startDate = 1609477200, endDate = 1603684800\n"
          ]
        },
        {
          "output_type": "stream",
          "name": "stdout",
          "text": [
            "No data found for EXAS on 2020-10-26\n"
          ]
        },
        {
          "output_type": "stream",
          "name": "stderr",
          "text": [
            "ERROR:yfinance:$FLT: possibly delisted; No timezone found\n"
          ]
        },
        {
          "output_type": "stream",
          "name": "stdout",
          "text": [
            "No data found for FLT on 2020-10-26\n"
          ]
        },
        {
          "output_type": "stream",
          "name": "stderr",
          "text": [
            "ERROR:yfinance:LYFT: Invalid input - start date cannot be after end date. startDate = 1609477200, endDate = 1603684800\n"
          ]
        },
        {
          "output_type": "stream",
          "name": "stdout",
          "text": [
            "No data found for LYFT on 2020-10-26\n"
          ]
        },
        {
          "output_type": "stream",
          "name": "stderr",
          "text": [
            "ERROR:yfinance:ROG: Invalid input - start date cannot be after end date. startDate = 1609477200, endDate = 1603684800\n"
          ]
        },
        {
          "output_type": "stream",
          "name": "stdout",
          "text": [
            "No data found for ROG on 2020-10-26\n"
          ]
        },
        {
          "output_type": "stream",
          "name": "stderr",
          "text": [
            "ERROR:yfinance:OCFC: Invalid input - start date cannot be after end date. startDate = 1609477200, endDate = 1603425600\n"
          ]
        },
        {
          "output_type": "stream",
          "name": "stdout",
          "text": [
            "No data found for OCFC on 2020-10-23\n"
          ]
        },
        {
          "output_type": "stream",
          "name": "stderr",
          "text": [
            "ERROR:yfinance:SBCF: Invalid input - start date cannot be after end date. startDate = 1609477200, endDate = 1603425600\n"
          ]
        },
        {
          "output_type": "stream",
          "name": "stdout",
          "text": [
            "No data found for SBCF on 2020-10-23\n"
          ]
        },
        {
          "output_type": "stream",
          "name": "stderr",
          "text": [
            "ERROR:yfinance:SITE: Invalid input - start date cannot be after end date. startDate = 1609477200, endDate = 1603425600\n"
          ]
        },
        {
          "output_type": "stream",
          "name": "stdout",
          "text": [
            "No data found for SITE on 2020-10-23\n"
          ]
        },
        {
          "output_type": "stream",
          "name": "stderr",
          "text": [
            "ERROR:yfinance:WBS: Invalid input - start date cannot be after end date. startDate = 1609477200, endDate = 1603425600\n"
          ]
        },
        {
          "output_type": "stream",
          "name": "stdout",
          "text": [
            "No data found for WBS on 2020-10-23\n"
          ]
        },
        {
          "output_type": "stream",
          "name": "stderr",
          "text": [
            "ERROR:yfinance:AMGN: Invalid input - start date cannot be after end date. startDate = 1609477200, endDate = 1603339200\n"
          ]
        },
        {
          "output_type": "stream",
          "name": "stdout",
          "text": [
            "No data found for AMGN on 2020-10-22\n"
          ]
        },
        {
          "output_type": "stream",
          "name": "stderr",
          "text": [
            "ERROR:yfinance:CVNA: Invalid input - start date cannot be after end date. startDate = 1609477200, endDate = 1603339200\n"
          ]
        },
        {
          "output_type": "stream",
          "name": "stdout",
          "text": [
            "No data found for CVNA on 2020-10-22\n"
          ]
        },
        {
          "output_type": "stream",
          "name": "stderr",
          "text": [
            "ERROR:yfinance:ROK: Invalid input - start date cannot be after end date. startDate = 1609477200, endDate = 1603339200\n"
          ]
        },
        {
          "output_type": "stream",
          "name": "stdout",
          "text": [
            "No data found for ROK on 2020-10-22\n"
          ]
        },
        {
          "output_type": "stream",
          "name": "stderr",
          "text": [
            "ERROR:yfinance:SPOT: Invalid input - start date cannot be after end date. startDate = 1609477200, endDate = 1603339200\n"
          ]
        },
        {
          "output_type": "stream",
          "name": "stdout",
          "text": [
            "No data found for SPOT on 2020-10-22\n"
          ]
        },
        {
          "output_type": "stream",
          "name": "stderr",
          "text": [
            "ERROR:yfinance:Z: Invalid input - start date cannot be after end date. startDate = 1609477200, endDate = 1603339200\n"
          ]
        },
        {
          "output_type": "stream",
          "name": "stdout",
          "text": [
            "No data found for Z on 2020-10-22\n"
          ]
        },
        {
          "output_type": "stream",
          "name": "stderr",
          "text": [
            "ERROR:yfinance:HALO: Invalid input - start date cannot be after end date. startDate = 1609477200, endDate = 1603080000\n"
          ]
        },
        {
          "output_type": "stream",
          "name": "stdout",
          "text": [
            "No data found for HALO on 2020-10-19\n"
          ]
        },
        {
          "output_type": "stream",
          "name": "stderr",
          "text": [
            "ERROR:yfinance:PSX: Invalid input - start date cannot be after end date. startDate = 1609477200, endDate = 1603080000\n"
          ]
        },
        {
          "output_type": "stream",
          "name": "stdout",
          "text": [
            "No data found for PSX on 2020-10-19\n"
          ]
        },
        {
          "output_type": "stream",
          "name": "stderr",
          "text": [
            "ERROR:yfinance:SLGN: Invalid input - start date cannot be after end date. startDate = 1609477200, endDate = 1603080000\n"
          ]
        },
        {
          "output_type": "stream",
          "name": "stdout",
          "text": [
            "No data found for SLGN on 2020-10-19\n"
          ]
        },
        {
          "output_type": "stream",
          "name": "stderr",
          "text": [
            "ERROR:yfinance:WSC: Invalid input - start date cannot be after end date. startDate = 1609477200, endDate = 1603080000\n"
          ]
        },
        {
          "output_type": "stream",
          "name": "stdout",
          "text": [
            "No data found for WSC on 2020-10-19\n"
          ]
        },
        {
          "output_type": "stream",
          "name": "stderr",
          "text": [
            "ERROR:yfinance:ABCB: Invalid input - start date cannot be after end date. startDate = 1609477200, endDate = 1602820800\n"
          ]
        },
        {
          "output_type": "stream",
          "name": "stdout",
          "text": [
            "No data found for ABCB on 2020-10-16\n"
          ]
        },
        {
          "output_type": "stream",
          "name": "stderr",
          "text": [
            "ERROR:yfinance:ALC: Invalid input - start date cannot be after end date. startDate = 1609477200, endDate = 1602820800\n"
          ]
        },
        {
          "output_type": "stream",
          "name": "stdout",
          "text": [
            "No data found for ALC on 2020-10-16\n"
          ]
        },
        {
          "output_type": "stream",
          "name": "stderr",
          "text": [
            "ERROR:yfinance:ALGT: Invalid input - start date cannot be after end date. startDate = 1609477200, endDate = 1602820800\n"
          ]
        },
        {
          "output_type": "stream",
          "name": "stdout",
          "text": [
            "No data found for ALGT on 2020-10-16\n"
          ]
        },
        {
          "output_type": "stream",
          "name": "stderr",
          "text": [
            "ERROR:yfinance:BBVA: Invalid input - start date cannot be after end date. startDate = 1609477200, endDate = 1602820800\n"
          ]
        },
        {
          "output_type": "stream",
          "name": "stdout",
          "text": [
            "No data found for BBVA on 2020-10-16\n"
          ]
        },
        {
          "output_type": "stream",
          "name": "stderr",
          "text": [
            "ERROR:yfinance:BEN: Invalid input - start date cannot be after end date. startDate = 1609477200, endDate = 1602820800\n"
          ]
        },
        {
          "output_type": "stream",
          "name": "stdout",
          "text": [
            "No data found for BEN on 2020-10-16\n"
          ]
        },
        {
          "output_type": "stream",
          "name": "stderr",
          "text": [
            "ERROR:yfinance:BMRN: Invalid input - start date cannot be after end date. startDate = 1609477200, endDate = 1602820800\n"
          ]
        },
        {
          "output_type": "stream",
          "name": "stdout",
          "text": [
            "No data found for BMRN on 2020-10-16\n"
          ]
        },
        {
          "output_type": "stream",
          "name": "stderr",
          "text": [
            "ERROR:yfinance:CATY: Invalid input - start date cannot be after end date. startDate = 1609477200, endDate = 1602820800\n"
          ]
        },
        {
          "output_type": "stream",
          "name": "stdout",
          "text": [
            "No data found for CATY on 2020-10-16\n"
          ]
        },
        {
          "output_type": "stream",
          "name": "stderr",
          "text": [
            "ERROR:yfinance:$CRY: possibly delisted; No timezone found\n"
          ]
        },
        {
          "output_type": "stream",
          "name": "stdout",
          "text": [
            "No data found for CRY on 2020-10-16\n"
          ]
        },
        {
          "output_type": "stream",
          "name": "stderr",
          "text": [
            "ERROR:yfinance:$CVET: possibly delisted; No timezone found\n"
          ]
        },
        {
          "output_type": "stream",
          "name": "stdout",
          "text": [
            "No data found for CVET on 2020-10-16\n"
          ]
        },
        {
          "output_type": "stream",
          "name": "stderr",
          "text": [
            "ERROR:yfinance:CVNA: Invalid input - start date cannot be after end date. startDate = 1609477200, endDate = 1602820800\n"
          ]
        },
        {
          "output_type": "stream",
          "name": "stdout",
          "text": [
            "No data found for CVNA on 2020-10-16\n"
          ]
        },
        {
          "output_type": "stream",
          "name": "stderr",
          "text": [
            "ERROR:yfinance:CVX: Invalid input - start date cannot be after end date. startDate = 1609477200, endDate = 1602820800\n"
          ]
        },
        {
          "output_type": "stream",
          "name": "stdout",
          "text": [
            "No data found for CVX on 2020-10-16\n"
          ]
        },
        {
          "output_type": "stream",
          "name": "stderr",
          "text": [
            "ERROR:yfinance:$EBSB: possibly delisted; No timezone found\n",
            "ERROR:yfinance:$FLT: possibly delisted; No timezone found\n"
          ]
        },
        {
          "output_type": "stream",
          "name": "stdout",
          "text": [
            "No data found for EBSB on 2020-10-16\n",
            "No data found for FLT on 2020-10-16\n"
          ]
        },
        {
          "output_type": "stream",
          "name": "stderr",
          "text": [
            "ERROR:yfinance:HAE: Invalid input - start date cannot be after end date. startDate = 1609477200, endDate = 1602820800\n"
          ]
        },
        {
          "output_type": "stream",
          "name": "stdout",
          "text": [
            "No data found for HAE on 2020-10-16\n"
          ]
        },
        {
          "output_type": "stream",
          "name": "stderr",
          "text": [
            "ERROR:yfinance:HMN: Invalid input - start date cannot be after end date. startDate = 1609477200, endDate = 1602820800\n"
          ]
        },
        {
          "output_type": "stream",
          "name": "stdout",
          "text": [
            "No data found for HMN on 2020-10-16\n"
          ]
        },
        {
          "output_type": "stream",
          "name": "stderr",
          "text": [
            "ERROR:yfinance:IART: Invalid input - start date cannot be after end date. startDate = 1609477200, endDate = 1602820800\n"
          ]
        },
        {
          "output_type": "stream",
          "name": "stdout",
          "text": [
            "No data found for IART on 2020-10-16\n"
          ]
        },
        {
          "output_type": "stream",
          "name": "stderr",
          "text": [
            "ERROR:yfinance:LUKOY: Invalid input - start date cannot be after end date. startDate = 1609477200, endDate = 1602820800\n"
          ]
        },
        {
          "output_type": "stream",
          "name": "stdout",
          "text": [
            "No data found for LUKOY on 2020-10-16\n"
          ]
        },
        {
          "output_type": "stream",
          "name": "stderr",
          "text": [
            "ERROR:yfinance:LYFT: Invalid input - start date cannot be after end date. startDate = 1609477200, endDate = 1602820800\n"
          ]
        },
        {
          "output_type": "stream",
          "name": "stdout",
          "text": [
            "No data found for LYFT on 2020-10-16\n"
          ]
        },
        {
          "output_type": "stream",
          "name": "stderr",
          "text": [
            "ERROR:yfinance:PPBI: Invalid input - start date cannot be after end date. startDate = 1609477200, endDate = 1602820800\n"
          ]
        },
        {
          "output_type": "stream",
          "name": "stdout",
          "text": [
            "No data found for PPBI on 2020-10-16\n"
          ]
        },
        {
          "output_type": "stream",
          "name": "stderr",
          "text": [
            "ERROR:yfinance:PSX: Invalid input - start date cannot be after end date. startDate = 1609477200, endDate = 1602820800\n"
          ]
        },
        {
          "output_type": "stream",
          "name": "stdout",
          "text": [
            "No data found for PSX on 2020-10-16\n"
          ]
        },
        {
          "output_type": "stream",
          "name": "stderr",
          "text": [
            "ERROR:yfinance:SBCF: Invalid input - start date cannot be after end date. startDate = 1609477200, endDate = 1602820800\n"
          ]
        },
        {
          "output_type": "stream",
          "name": "stdout",
          "text": [
            "No data found for SBCF on 2020-10-16\n"
          ]
        },
        {
          "output_type": "stream",
          "name": "stderr",
          "text": [
            "ERROR:yfinance:WBS: Invalid input - start date cannot be after end date. startDate = 1609477200, endDate = 1602820800\n"
          ]
        },
        {
          "output_type": "stream",
          "name": "stdout",
          "text": [
            "No data found for WBS on 2020-10-16\n"
          ]
        },
        {
          "output_type": "stream",
          "name": "stderr",
          "text": [
            "ERROR:yfinance:NAN: Invalid input - start date cannot be after end date. startDate = 1609477200, endDate = 1602820800\n"
          ]
        },
        {
          "output_type": "stream",
          "name": "stdout",
          "text": [
            "No data found for nan on 2020-10-16\n"
          ]
        },
        {
          "output_type": "stream",
          "name": "stderr",
          "text": [
            "ERROR:yfinance:BOOT: Invalid input - start date cannot be after end date. startDate = 1609477200, endDate = 1602734400\n"
          ]
        },
        {
          "output_type": "stream",
          "name": "stdout",
          "text": [
            "No data found for BOOT on 2020-10-15\n"
          ]
        },
        {
          "output_type": "stream",
          "name": "stderr",
          "text": [
            "ERROR:yfinance:PRA: Invalid input - start date cannot be after end date. startDate = 1609477200, endDate = 1602734400\n"
          ]
        },
        {
          "output_type": "stream",
          "name": "stdout",
          "text": [
            "No data found for PRA on 2020-10-15\n"
          ]
        },
        {
          "output_type": "stream",
          "name": "stderr",
          "text": [
            "ERROR:yfinance:AMGN: Invalid input - start date cannot be after end date. startDate = 1609477200, endDate = 1602129600\n"
          ]
        },
        {
          "output_type": "stream",
          "name": "stdout",
          "text": [
            "No data found for AMGN on 2020-10-08\n"
          ]
        },
        {
          "output_type": "stream",
          "name": "stderr",
          "text": [
            "ERROR:yfinance:YNDX: Invalid input - start date cannot be after end date. startDate = 1609477200, endDate = 1601956800\n"
          ]
        },
        {
          "output_type": "stream",
          "name": "stdout",
          "text": [
            "No data found for YNDX on 2020-10-06\n"
          ]
        },
        {
          "output_type": "stream",
          "name": "stderr",
          "text": [
            "ERROR:yfinance:DEO: Invalid input - start date cannot be after end date. startDate = 1609477200, endDate = 1601438400\n"
          ]
        },
        {
          "output_type": "stream",
          "name": "stdout",
          "text": [
            "No data found for DEO on 2020-09-30\n"
          ]
        },
        {
          "output_type": "stream",
          "name": "stderr",
          "text": [
            "ERROR:yfinance:JNJ: Invalid input - start date cannot be after end date. startDate = 1609477200, endDate = 1601438400\n"
          ]
        },
        {
          "output_type": "stream",
          "name": "stdout",
          "text": [
            "No data found for JNJ on 2020-09-30\n"
          ]
        },
        {
          "output_type": "stream",
          "name": "stderr",
          "text": [
            "ERROR:yfinance:TXN: Invalid input - start date cannot be after end date. startDate = 1609477200, endDate = 1601438400\n"
          ]
        },
        {
          "output_type": "stream",
          "name": "stdout",
          "text": [
            "No data found for TXN on 2020-09-30\n"
          ]
        },
        {
          "output_type": "stream",
          "name": "stderr",
          "text": [
            "ERROR:yfinance:WFC: Invalid input - start date cannot be after end date. startDate = 1609477200, endDate = 1601438400\n"
          ]
        },
        {
          "output_type": "stream",
          "name": "stdout",
          "text": [
            "No data found for WFC on 2020-09-30\n"
          ]
        },
        {
          "output_type": "stream",
          "name": "stderr",
          "text": [
            "ERROR:yfinance:BKNG: Invalid input - start date cannot be after end date. startDate = 1609477200, endDate = 1601006400\n"
          ]
        },
        {
          "output_type": "stream",
          "name": "stdout",
          "text": [
            "No data found for BKNG on 2020-09-25\n"
          ]
        },
        {
          "output_type": "stream",
          "name": "stderr",
          "text": [
            "ERROR:yfinance:CRM: Invalid input - start date cannot be after end date. startDate = 1609477200, endDate = 1601006400\n"
          ]
        },
        {
          "output_type": "stream",
          "name": "stdout",
          "text": [
            "No data found for CRM on 2020-09-25\n"
          ]
        },
        {
          "output_type": "stream",
          "name": "stderr",
          "text": [
            "ERROR:yfinance:CSGP: Invalid input - start date cannot be after end date. startDate = 1609477200, endDate = 1601006400\n"
          ]
        },
        {
          "output_type": "stream",
          "name": "stdout",
          "text": [
            "No data found for CSGP on 2020-09-25\n"
          ]
        },
        {
          "output_type": "stream",
          "name": "stderr",
          "text": [
            "ERROR:yfinance:GOOG: Invalid input - start date cannot be after end date. startDate = 1609477200, endDate = 1601006400\n"
          ]
        },
        {
          "output_type": "stream",
          "name": "stdout",
          "text": [
            "No data found for GOOG on 2020-09-25\n"
          ]
        },
        {
          "output_type": "stream",
          "name": "stderr",
          "text": [
            "ERROR:yfinance:PYPL: Invalid input - start date cannot be after end date. startDate = 1609477200, endDate = 1601006400\n"
          ]
        },
        {
          "output_type": "stream",
          "name": "stdout",
          "text": [
            "No data found for PYPL on 2020-09-25\n"
          ]
        },
        {
          "output_type": "stream",
          "name": "stderr",
          "text": [
            "ERROR:yfinance:SQ: Invalid input - start date cannot be after end date. startDate = 1609477200, endDate = 1601006400\n"
          ]
        },
        {
          "output_type": "stream",
          "name": "stdout",
          "text": [
            "No data found for SQ on 2020-09-25\n"
          ]
        },
        {
          "output_type": "stream",
          "name": "stderr",
          "text": [
            "ERROR:yfinance:WDAY: Invalid input - start date cannot be after end date. startDate = 1609477200, endDate = 1601006400\n"
          ]
        },
        {
          "output_type": "stream",
          "name": "stdout",
          "text": [
            "No data found for WDAY on 2020-09-25\n"
          ]
        },
        {
          "output_type": "stream",
          "name": "stderr",
          "text": [
            "ERROR:yfinance:CTLT: Invalid input - start date cannot be after end date. startDate = 1609477200, endDate = 1600920000\n"
          ]
        },
        {
          "output_type": "stream",
          "name": "stdout",
          "text": [
            "No data found for CTLT on 2020-09-24\n"
          ]
        },
        {
          "output_type": "stream",
          "name": "stderr",
          "text": [
            "ERROR:yfinance:DAVA: Invalid input - start date cannot be after end date. startDate = 1609477200, endDate = 1600920000\n"
          ]
        },
        {
          "output_type": "stream",
          "name": "stdout",
          "text": [
            "No data found for DAVA on 2020-09-24\n"
          ]
        },
        {
          "output_type": "stream",
          "name": "stderr",
          "text": [
            "ERROR:yfinance:HUBS: Invalid input - start date cannot be after end date. startDate = 1609477200, endDate = 1600920000\n"
          ]
        },
        {
          "output_type": "stream",
          "name": "stdout",
          "text": [
            "No data found for HUBS on 2020-09-24\n"
          ]
        },
        {
          "output_type": "stream",
          "name": "stderr",
          "text": [
            "ERROR:yfinance:MTX: Invalid input - start date cannot be after end date. startDate = 1609477200, endDate = 1600920000\n"
          ]
        },
        {
          "output_type": "stream",
          "name": "stdout",
          "text": [
            "No data found for MTX on 2020-09-24\n"
          ]
        },
        {
          "output_type": "stream",
          "name": "stderr",
          "text": [
            "ERROR:yfinance:NAN: Invalid input - start date cannot be after end date. startDate = 1609477200, endDate = 1600747200\n"
          ]
        },
        {
          "output_type": "stream",
          "name": "stdout",
          "text": [
            "No data found for nan on 2020-09-22\n"
          ]
        },
        {
          "output_type": "stream",
          "name": "stderr",
          "text": [
            "ERROR:yfinance:BKNG: Invalid input - start date cannot be after end date. startDate = 1609477200, endDate = 1600660800\n"
          ]
        },
        {
          "output_type": "stream",
          "name": "stdout",
          "text": [
            "No data found for BKNG on 2020-09-21\n"
          ]
        },
        {
          "output_type": "stream",
          "name": "stderr",
          "text": [
            "ERROR:yfinance:GOOG: Invalid input - start date cannot be after end date. startDate = 1609477200, endDate = 1600660800\n"
          ]
        },
        {
          "output_type": "stream",
          "name": "stdout",
          "text": [
            "No data found for GOOG on 2020-09-21\n"
          ]
        },
        {
          "output_type": "stream",
          "name": "stderr",
          "text": [
            "ERROR:yfinance:IFNNY: Invalid input - start date cannot be after end date. startDate = 1609477200, endDate = 1600315200\n"
          ]
        },
        {
          "output_type": "stream",
          "name": "stdout",
          "text": [
            "No data found for IFNNY on 2020-09-17\n"
          ]
        },
        {
          "output_type": "stream",
          "name": "stderr",
          "text": [
            "ERROR:yfinance:SBUX: Invalid input - start date cannot be after end date. startDate = 1609477200, endDate = 1600315200\n"
          ]
        },
        {
          "output_type": "stream",
          "name": "stdout",
          "text": [
            "No data found for SBUX on 2020-09-17\n"
          ]
        },
        {
          "output_type": "stream",
          "name": "stderr",
          "text": [
            "ERROR:yfinance:Z: Invalid input - start date cannot be after end date. startDate = 1609477200, endDate = 1600315200\n"
          ]
        },
        {
          "output_type": "stream",
          "name": "stdout",
          "text": [
            "No data found for Z on 2020-09-17\n"
          ]
        },
        {
          "output_type": "stream",
          "name": "stderr",
          "text": [
            "ERROR:yfinance:AAPL: Invalid input - start date cannot be after end date. startDate = 1609477200, endDate = 1600142400\n"
          ]
        },
        {
          "output_type": "stream",
          "name": "stdout",
          "text": [
            "No data found for AAPL on 2020-09-15\n"
          ]
        },
        {
          "output_type": "stream",
          "name": "stderr",
          "text": [
            "ERROR:yfinance:ABCB: Invalid input - start date cannot be after end date. startDate = 1609477200, endDate = 1600142400\n"
          ]
        },
        {
          "output_type": "stream",
          "name": "stdout",
          "text": [
            "No data found for ABCB on 2020-09-15\n"
          ]
        },
        {
          "output_type": "stream",
          "name": "stderr",
          "text": [
            "ERROR:yfinance:ALC: Invalid input - start date cannot be after end date. startDate = 1609477200, endDate = 1600142400\n"
          ]
        },
        {
          "output_type": "stream",
          "name": "stdout",
          "text": [
            "No data found for ALC on 2020-09-15\n"
          ]
        },
        {
          "output_type": "stream",
          "name": "stderr",
          "text": [
            "ERROR:yfinance:ALGT: Invalid input - start date cannot be after end date. startDate = 1609477200, endDate = 1600142400\n"
          ]
        },
        {
          "output_type": "stream",
          "name": "stdout",
          "text": [
            "No data found for ALGT on 2020-09-15\n"
          ]
        },
        {
          "output_type": "stream",
          "name": "stderr",
          "text": [
            "ERROR:yfinance:BBVA: Invalid input - start date cannot be after end date. startDate = 1609477200, endDate = 1600142400\n"
          ]
        },
        {
          "output_type": "stream",
          "name": "stdout",
          "text": [
            "No data found for BBVA on 2020-09-15\n"
          ]
        },
        {
          "output_type": "stream",
          "name": "stderr",
          "text": [
            "ERROR:yfinance:BEN: Invalid input - start date cannot be after end date. startDate = 1609477200, endDate = 1600142400\n"
          ]
        },
        {
          "output_type": "stream",
          "name": "stdout",
          "text": [
            "No data found for BEN on 2020-09-15\n"
          ]
        },
        {
          "output_type": "stream",
          "name": "stderr",
          "text": [
            "ERROR:yfinance:BMRN: Invalid input - start date cannot be after end date. startDate = 1609477200, endDate = 1600142400\n"
          ]
        },
        {
          "output_type": "stream",
          "name": "stdout",
          "text": [
            "No data found for BMRN on 2020-09-15\n"
          ]
        },
        {
          "output_type": "stream",
          "name": "stderr",
          "text": [
            "ERROR:yfinance:CATY: Invalid input - start date cannot be after end date. startDate = 1609477200, endDate = 1600142400\n"
          ]
        },
        {
          "output_type": "stream",
          "name": "stdout",
          "text": [
            "No data found for CATY on 2020-09-15\n"
          ]
        },
        {
          "output_type": "stream",
          "name": "stderr",
          "text": [
            "ERROR:yfinance:CHUY: Invalid input - start date cannot be after end date. startDate = 1609477200, endDate = 1600142400\n",
            "ERROR:yfinance:$CRY: possibly delisted; No timezone found\n",
            "ERROR:yfinance:$CVET: possibly delisted; No timezone found\n"
          ]
        },
        {
          "output_type": "stream",
          "name": "stdout",
          "text": [
            "No data found for CHUY on 2020-09-15\n",
            "No data found for CRY on 2020-09-15\n",
            "No data found for CVET on 2020-09-15\n"
          ]
        },
        {
          "output_type": "stream",
          "name": "stderr",
          "text": [
            "ERROR:yfinance:CVNA: Invalid input - start date cannot be after end date. startDate = 1609477200, endDate = 1600142400\n"
          ]
        },
        {
          "output_type": "stream",
          "name": "stdout",
          "text": [
            "No data found for CVNA on 2020-09-15\n"
          ]
        },
        {
          "output_type": "stream",
          "name": "stderr",
          "text": [
            "ERROR:yfinance:CVX: Invalid input - start date cannot be after end date. startDate = 1609477200, endDate = 1600142400\n"
          ]
        },
        {
          "output_type": "stream",
          "name": "stdout",
          "text": [
            "No data found for CVX on 2020-09-15\n"
          ]
        },
        {
          "output_type": "stream",
          "name": "stderr",
          "text": [
            "ERROR:yfinance:DRQ: Invalid input - start date cannot be after end date. startDate = 1609477200, endDate = 1600142400\n",
            "ERROR:yfinance:$EBSB: possibly delisted; No timezone found\n"
          ]
        },
        {
          "output_type": "stream",
          "name": "stdout",
          "text": [
            "No data found for DRQ on 2020-09-15\n",
            "No data found for EBSB on 2020-09-15\n"
          ]
        },
        {
          "output_type": "stream",
          "name": "stderr",
          "text": [
            "ERROR:yfinance:$ECOL: possibly delisted; No timezone found\n"
          ]
        },
        {
          "output_type": "stream",
          "name": "stdout",
          "text": [
            "No data found for ECOL on 2020-09-15\n"
          ]
        },
        {
          "output_type": "stream",
          "name": "stderr",
          "text": [
            "ERROR:yfinance:EXAS: Invalid input - start date cannot be after end date. startDate = 1609477200, endDate = 1600142400\n",
            "ERROR:yfinance:$FLT: possibly delisted; No timezone found\n"
          ]
        },
        {
          "output_type": "stream",
          "name": "stdout",
          "text": [
            "No data found for EXAS on 2020-09-15\n",
            "No data found for FLT on 2020-09-15\n"
          ]
        },
        {
          "output_type": "stream",
          "name": "stderr",
          "text": [
            "ERROR:yfinance:HAE: Invalid input - start date cannot be after end date. startDate = 1609477200, endDate = 1600142400\n"
          ]
        },
        {
          "output_type": "stream",
          "name": "stdout",
          "text": [
            "No data found for HAE on 2020-09-15\n"
          ]
        },
        {
          "output_type": "stream",
          "name": "stderr",
          "text": [
            "ERROR:yfinance:HMN: Invalid input - start date cannot be after end date. startDate = 1609477200, endDate = 1600142400\n"
          ]
        },
        {
          "output_type": "stream",
          "name": "stdout",
          "text": [
            "No data found for HMN on 2020-09-15\n"
          ]
        },
        {
          "output_type": "stream",
          "name": "stderr",
          "text": [
            "ERROR:yfinance:IART: Invalid input - start date cannot be after end date. startDate = 1609477200, endDate = 1600142400\n"
          ]
        },
        {
          "output_type": "stream",
          "name": "stdout",
          "text": [
            "No data found for IART on 2020-09-15\n"
          ]
        },
        {
          "output_type": "stream",
          "name": "stderr",
          "text": [
            "ERROR:yfinance:LUKOY: Invalid input - start date cannot be after end date. startDate = 1609477200, endDate = 1600142400\n"
          ]
        },
        {
          "output_type": "stream",
          "name": "stdout",
          "text": [
            "No data found for LUKOY on 2020-09-15\n"
          ]
        },
        {
          "output_type": "stream",
          "name": "stderr",
          "text": [
            "ERROR:yfinance:LYFT: Invalid input - start date cannot be after end date. startDate = 1609477200, endDate = 1600142400\n"
          ]
        },
        {
          "output_type": "stream",
          "name": "stdout",
          "text": [
            "No data found for LYFT on 2020-09-15\n"
          ]
        },
        {
          "output_type": "stream",
          "name": "stderr",
          "text": [
            "ERROR:yfinance:PPBI: Invalid input - start date cannot be after end date. startDate = 1609477200, endDate = 1600142400\n"
          ]
        },
        {
          "output_type": "stream",
          "name": "stdout",
          "text": [
            "No data found for PPBI on 2020-09-15\n"
          ]
        },
        {
          "output_type": "stream",
          "name": "stderr",
          "text": [
            "ERROR:yfinance:PRIM: Invalid input - start date cannot be after end date. startDate = 1609477200, endDate = 1600142400\n"
          ]
        },
        {
          "output_type": "stream",
          "name": "stdout",
          "text": [
            "No data found for PRIM on 2020-09-15\n"
          ]
        },
        {
          "output_type": "stream",
          "name": "stderr",
          "text": [
            "ERROR:yfinance:PSX: Invalid input - start date cannot be after end date. startDate = 1609477200, endDate = 1600142400\n"
          ]
        },
        {
          "output_type": "stream",
          "name": "stdout",
          "text": [
            "No data found for PSX on 2020-09-15\n"
          ]
        },
        {
          "output_type": "stream",
          "name": "stderr",
          "text": [
            "ERROR:yfinance:ROG: Invalid input - start date cannot be after end date. startDate = 1609477200, endDate = 1600142400\n"
          ]
        },
        {
          "output_type": "stream",
          "name": "stdout",
          "text": [
            "No data found for ROG on 2020-09-15\n"
          ]
        },
        {
          "output_type": "stream",
          "name": "stderr",
          "text": [
            "ERROR:yfinance:SBCF: Invalid input - start date cannot be after end date. startDate = 1609477200, endDate = 1600142400\n"
          ]
        },
        {
          "output_type": "stream",
          "name": "stdout",
          "text": [
            "No data found for SBCF on 2020-09-15\n"
          ]
        },
        {
          "output_type": "stream",
          "name": "stderr",
          "text": [
            "ERROR:yfinance:WBS: Invalid input - start date cannot be after end date. startDate = 1609477200, endDate = 1600142400\n"
          ]
        },
        {
          "output_type": "stream",
          "name": "stdout",
          "text": [
            "No data found for WBS on 2020-09-15\n"
          ]
        },
        {
          "output_type": "stream",
          "name": "stderr",
          "text": [
            "ERROR:yfinance:AMD: Invalid input - start date cannot be after end date. startDate = 1609477200, endDate = 1600056000\n"
          ]
        },
        {
          "output_type": "stream",
          "name": "stdout",
          "text": [
            "No data found for AMD on 2020-09-14\n"
          ]
        },
        {
          "output_type": "stream",
          "name": "stderr",
          "text": [
            "ERROR:yfinance:MA: Invalid input - start date cannot be after end date. startDate = 1609477200, endDate = 1600056000\n"
          ]
        },
        {
          "output_type": "stream",
          "name": "stdout",
          "text": [
            "No data found for MA on 2020-09-14\n"
          ]
        },
        {
          "output_type": "stream",
          "name": "stderr",
          "text": [
            "ERROR:yfinance:NVDA: Invalid input - start date cannot be after end date. startDate = 1609477200, endDate = 1600056000\n"
          ]
        },
        {
          "output_type": "stream",
          "name": "stdout",
          "text": [
            "No data found for NVDA on 2020-09-14\n"
          ]
        },
        {
          "output_type": "stream",
          "name": "stderr",
          "text": [
            "ERROR:yfinance:VEEV: Invalid input - start date cannot be after end date. startDate = 1609477200, endDate = 1600056000\n"
          ]
        },
        {
          "output_type": "stream",
          "name": "stdout",
          "text": [
            "No data found for VEEV on 2020-09-14\n"
          ]
        },
        {
          "output_type": "stream",
          "name": "stderr",
          "text": [
            "ERROR:yfinance:AAPL: Invalid input - start date cannot be after end date. startDate = 1609477200, endDate = 1598932800\n"
          ]
        },
        {
          "output_type": "stream",
          "name": "stdout",
          "text": [
            "No data found for AAPL on 2020-09-01\n"
          ]
        },
        {
          "output_type": "stream",
          "name": "stderr",
          "text": [
            "ERROR:yfinance:FAST: Invalid input - start date cannot be after end date. startDate = 1609477200, endDate = 1598932800\n"
          ]
        },
        {
          "output_type": "stream",
          "name": "stdout",
          "text": [
            "No data found for FAST on 2020-09-01\n"
          ]
        },
        {
          "output_type": "stream",
          "name": "stderr",
          "text": [
            "ERROR:yfinance:NTDOY: Invalid input - start date cannot be after end date. startDate = 1609477200, endDate = 1598932800\n"
          ]
        },
        {
          "output_type": "stream",
          "name": "stdout",
          "text": [
            "No data found for NTDOY on 2020-09-01\n"
          ]
        },
        {
          "output_type": "stream",
          "name": "stderr",
          "text": [
            "ERROR:yfinance:FAST: Invalid input - start date cannot be after end date. startDate = 1609477200, endDate = 1598846400\n"
          ]
        },
        {
          "output_type": "stream",
          "name": "stdout",
          "text": [
            "No data found for FAST on 2020-08-31\n"
          ]
        },
        {
          "output_type": "stream",
          "name": "stderr",
          "text": [
            "ERROR:yfinance:SPGI: Invalid input - start date cannot be after end date. startDate = 1609477200, endDate = 1598500800\n",
            "ERROR:yfinance:$CVET: possibly delisted; No timezone found\n"
          ]
        },
        {
          "output_type": "stream",
          "name": "stdout",
          "text": [
            "No data found for SPGI on 2020-08-27\n",
            "No data found for CVET on 2020-08-24\n"
          ]
        },
        {
          "output_type": "stream",
          "name": "stderr",
          "text": [
            "ERROR:yfinance:POWI: Invalid input - start date cannot be after end date. startDate = 1609477200, endDate = 1598241600\n"
          ]
        },
        {
          "output_type": "stream",
          "name": "stdout",
          "text": [
            "No data found for POWI on 2020-08-24\n"
          ]
        },
        {
          "output_type": "stream",
          "name": "stderr",
          "text": [
            "ERROR:yfinance:RBA: Invalid input - start date cannot be after end date. startDate = 1609477200, endDate = 1598241600\n"
          ]
        },
        {
          "output_type": "stream",
          "name": "stdout",
          "text": [
            "No data found for RBA on 2020-08-24\n"
          ]
        },
        {
          "output_type": "stream",
          "name": "stderr",
          "text": [
            "ERROR:yfinance:DXCM: Invalid input - start date cannot be after end date. startDate = 1609477200, endDate = 1597291200\n"
          ]
        },
        {
          "output_type": "stream",
          "name": "stdout",
          "text": [
            "No data found for DXCM on 2020-08-13\n"
          ]
        },
        {
          "output_type": "stream",
          "name": "stderr",
          "text": [
            "ERROR:yfinance:SAM: Invalid input - start date cannot be after end date. startDate = 1609477200, endDate = 1597291200\n"
          ]
        },
        {
          "output_type": "stream",
          "name": "stdout",
          "text": [
            "No data found for SAM on 2020-08-13\n"
          ]
        },
        {
          "output_type": "stream",
          "name": "stderr",
          "text": [
            "ERROR:yfinance:W: Invalid input - start date cannot be after end date. startDate = 1609477200, endDate = 1597291200\n"
          ]
        },
        {
          "output_type": "stream",
          "name": "stdout",
          "text": [
            "No data found for W on 2020-08-13\n"
          ]
        },
        {
          "output_type": "stream",
          "name": "stderr",
          "text": [
            "ERROR:yfinance:CTLT: Invalid input - start date cannot be after end date. startDate = 1609477200, endDate = 1597204800\n",
            "ERROR:yfinance:$CVET: possibly delisted; No timezone found\n"
          ]
        },
        {
          "output_type": "stream",
          "name": "stdout",
          "text": [
            "No data found for CTLT on 2020-08-12\n",
            "No data found for CVET on 2020-08-12\n"
          ]
        },
        {
          "output_type": "stream",
          "name": "stderr",
          "text": [
            "ERROR:yfinance:BKNG: Invalid input - start date cannot be after end date. startDate = 1609477200, endDate = 1597032000\n"
          ]
        },
        {
          "output_type": "stream",
          "name": "stdout",
          "text": [
            "No data found for BKNG on 2020-08-10\n"
          ]
        },
        {
          "output_type": "stream",
          "name": "stderr",
          "text": [
            "ERROR:yfinance:$CCMP: possibly delisted; No timezone found\n"
          ]
        },
        {
          "output_type": "stream",
          "name": "stdout",
          "text": [
            "No data found for CCMP on 2020-08-10\n"
          ]
        },
        {
          "output_type": "stream",
          "name": "stderr",
          "text": [
            "ERROR:yfinance:ENTG: Invalid input - start date cannot be after end date. startDate = 1609477200, endDate = 1597032000\n"
          ]
        },
        {
          "output_type": "stream",
          "name": "stdout",
          "text": [
            "No data found for ENTG on 2020-08-10\n"
          ]
        },
        {
          "output_type": "stream",
          "name": "stderr",
          "text": [
            "ERROR:yfinance:ANET: Invalid input - start date cannot be after end date. startDate = 1609477200, endDate = 1596772800\n"
          ]
        },
        {
          "output_type": "stream",
          "name": "stdout",
          "text": [
            "No data found for ANET on 2020-08-07\n"
          ]
        },
        {
          "output_type": "stream",
          "name": "stderr",
          "text": [
            "ERROR:yfinance:CVNA: Invalid input - start date cannot be after end date. startDate = 1609477200, endDate = 1596772800\n"
          ]
        },
        {
          "output_type": "stream",
          "name": "stdout",
          "text": [
            "No data found for CVNA on 2020-08-07\n"
          ]
        },
        {
          "output_type": "stream",
          "name": "stderr",
          "text": [
            "ERROR:yfinance:LVS: Invalid input - start date cannot be after end date. startDate = 1609477200, endDate = 1596772800\n"
          ]
        },
        {
          "output_type": "stream",
          "name": "stdout",
          "text": [
            "No data found for LVS on 2020-08-07\n"
          ]
        },
        {
          "output_type": "stream",
          "name": "stderr",
          "text": [
            "ERROR:yfinance:SCHW: Invalid input - start date cannot be after end date. startDate = 1609477200, endDate = 1596772800\n"
          ]
        },
        {
          "output_type": "stream",
          "name": "stdout",
          "text": [
            "No data found for SCHW on 2020-08-07\n"
          ]
        },
        {
          "output_type": "stream",
          "name": "stderr",
          "text": [
            "ERROR:yfinance:NAN: Invalid input - start date cannot be after end date. startDate = 1609477200, endDate = 1596772800\n"
          ]
        },
        {
          "output_type": "stream",
          "name": "stdout",
          "text": [
            "No data found for nan on 2020-08-07\n"
          ]
        },
        {
          "output_type": "stream",
          "name": "stderr",
          "text": [
            "ERROR:yfinance:HUBS: Invalid input - start date cannot be after end date. startDate = 1609477200, endDate = 1596600000\n"
          ]
        },
        {
          "output_type": "stream",
          "name": "stdout",
          "text": [
            "No data found for HUBS on 2020-08-05\n"
          ]
        },
        {
          "output_type": "stream",
          "name": "stderr",
          "text": [
            "ERROR:yfinance:LAD: Invalid input - start date cannot be after end date. startDate = 1609477200, endDate = 1596600000\n"
          ]
        },
        {
          "output_type": "stream",
          "name": "stdout",
          "text": [
            "No data found for LAD on 2020-08-05\n"
          ]
        },
        {
          "output_type": "stream",
          "name": "stderr",
          "text": [
            "ERROR:yfinance:$FB: possibly delisted; No timezone found\n"
          ]
        },
        {
          "output_type": "stream",
          "name": "stdout",
          "text": [
            "No data found for FB on 2020-08-04\n"
          ]
        },
        {
          "output_type": "stream",
          "name": "stderr",
          "text": [
            "ERROR:yfinance:ROST: Invalid input - start date cannot be after end date. startDate = 1609477200, endDate = 1596513600\n"
          ]
        },
        {
          "output_type": "stream",
          "name": "stdout",
          "text": [
            "No data found for ROST on 2020-08-04\n"
          ]
        },
        {
          "output_type": "stream",
          "name": "stderr",
          "text": [
            "ERROR:yfinance:SBUX: Invalid input - start date cannot be after end date. startDate = 1609477200, endDate = 1596513600\n"
          ]
        },
        {
          "output_type": "stream",
          "name": "stdout",
          "text": [
            "No data found for SBUX on 2020-08-04\n"
          ]
        },
        {
          "output_type": "stream",
          "name": "stderr",
          "text": [
            "ERROR:yfinance:TSM: Invalid input - start date cannot be after end date. startDate = 1609477200, endDate = 1596513600\n"
          ]
        },
        {
          "output_type": "stream",
          "name": "stdout",
          "text": [
            "No data found for TSM on 2020-08-04\n"
          ]
        },
        {
          "output_type": "stream",
          "name": "stderr",
          "text": [
            "ERROR:yfinance:AMD: Invalid input - start date cannot be after end date. startDate = 1609477200, endDate = 1596427200\n"
          ]
        },
        {
          "output_type": "stream",
          "name": "stdout",
          "text": [
            "No data found for AMD on 2020-08-03\n"
          ]
        },
        {
          "output_type": "stream",
          "name": "stderr",
          "text": [
            "ERROR:yfinance:GOOG: Invalid input - start date cannot be after end date. startDate = 1609477200, endDate = 1596427200\n"
          ]
        },
        {
          "output_type": "stream",
          "name": "stdout",
          "text": [
            "No data found for GOOG on 2020-08-03\n"
          ]
        },
        {
          "output_type": "stream",
          "name": "stderr",
          "text": [
            "ERROR:yfinance:$SGEN: possibly delisted; No timezone found\n"
          ]
        },
        {
          "output_type": "stream",
          "name": "stdout",
          "text": [
            "No data found for SGEN on 2020-08-03\n"
          ]
        },
        {
          "output_type": "stream",
          "name": "stderr",
          "text": [
            "ERROR:yfinance:TSM: Invalid input - start date cannot be after end date. startDate = 1609477200, endDate = 1595822400\n"
          ]
        },
        {
          "output_type": "stream",
          "name": "stdout",
          "text": [
            "No data found for TSM on 2020-07-27\n"
          ]
        },
        {
          "output_type": "stream",
          "name": "stderr",
          "text": [
            "ERROR:yfinance:AAPL: Invalid input - start date cannot be after end date. startDate = 1609477200, endDate = 1595476800\n"
          ]
        },
        {
          "output_type": "stream",
          "name": "stdout",
          "text": [
            "No data found for AAPL on 2020-07-23\n"
          ]
        },
        {
          "output_type": "stream",
          "name": "stderr",
          "text": [
            "ERROR:yfinance:BRK-B: Invalid input - start date cannot be after end date. startDate = 1609477200, endDate = 1595476800\n"
          ]
        },
        {
          "output_type": "stream",
          "name": "stdout",
          "text": [
            "No data found for BRK-B on 2020-07-23\n"
          ]
        },
        {
          "output_type": "stream",
          "name": "stderr",
          "text": [
            "ERROR:yfinance:JNJ: Invalid input - start date cannot be after end date. startDate = 1609477200, endDate = 1595476800\n"
          ]
        },
        {
          "output_type": "stream",
          "name": "stdout",
          "text": [
            "No data found for JNJ on 2020-07-23\n"
          ]
        },
        {
          "output_type": "stream",
          "name": "stderr",
          "text": [
            "ERROR:yfinance:VZ: Invalid input - start date cannot be after end date. startDate = 1609477200, endDate = 1595476800\n"
          ]
        },
        {
          "output_type": "stream",
          "name": "stdout",
          "text": [
            "No data found for VZ on 2020-07-23\n"
          ]
        },
        {
          "output_type": "stream",
          "name": "stderr",
          "text": [
            "ERROR:yfinance:ADC: Invalid input - start date cannot be after end date. startDate = 1609477200, endDate = 1595390400\n"
          ]
        },
        {
          "output_type": "stream",
          "name": "stdout",
          "text": [
            "No data found for ADC on 2020-07-22\n"
          ]
        },
        {
          "output_type": "stream",
          "name": "stderr",
          "text": [
            "ERROR:yfinance:WDFC: Invalid input - start date cannot be after end date. startDate = 1609477200, endDate = 1595390400\n"
          ]
        },
        {
          "output_type": "stream",
          "name": "stdout",
          "text": [
            "No data found for WDFC on 2020-07-22\n"
          ]
        },
        {
          "output_type": "stream",
          "name": "stderr",
          "text": [
            "ERROR:yfinance:ABEV: Invalid input - start date cannot be after end date. startDate = 1609477200, endDate = 1594872000\n"
          ]
        },
        {
          "output_type": "stream",
          "name": "stdout",
          "text": [
            "No data found for ABEV on 2020-07-16\n"
          ]
        },
        {
          "output_type": "stream",
          "name": "stderr",
          "text": [
            "ERROR:yfinance:BEN: Invalid input - start date cannot be after end date. startDate = 1609477200, endDate = 1594872000\n"
          ]
        },
        {
          "output_type": "stream",
          "name": "stdout",
          "text": [
            "No data found for BEN on 2020-07-16\n"
          ]
        },
        {
          "output_type": "stream",
          "name": "stderr",
          "text": [
            "ERROR:yfinance:BKNG: Invalid input - start date cannot be after end date. startDate = 1609477200, endDate = 1594872000\n"
          ]
        },
        {
          "output_type": "stream",
          "name": "stdout",
          "text": [
            "No data found for BKNG on 2020-07-16\n"
          ]
        },
        {
          "output_type": "stream",
          "name": "stderr",
          "text": [
            "ERROR:yfinance:$CHL: possibly delisted; No timezone found\n"
          ]
        },
        {
          "output_type": "stream",
          "name": "stdout",
          "text": [
            "No data found for CHL on 2020-07-16\n"
          ]
        },
        {
          "output_type": "stream",
          "name": "stderr",
          "text": [
            "ERROR:yfinance:RDS.B: Invalid input - start date cannot be after end date. startDate = 1609477200, endDate = 1594872000\n"
          ]
        },
        {
          "output_type": "stream",
          "name": "stdout",
          "text": [
            "No data found for RDS.B on 2020-07-16\n"
          ]
        },
        {
          "output_type": "stream",
          "name": "stderr",
          "text": [
            "ERROR:yfinance:ENTG: Invalid input - start date cannot be after end date. startDate = 1609477200, endDate = 1594785600\n"
          ]
        },
        {
          "output_type": "stream",
          "name": "stdout",
          "text": [
            "No data found for ENTG on 2020-07-15\n"
          ]
        },
        {
          "output_type": "stream",
          "name": "stderr",
          "text": [
            "ERROR:yfinance:TSLA: Invalid input - start date cannot be after end date. startDate = 1609477200, endDate = 1594699200\n"
          ]
        },
        {
          "output_type": "stream",
          "name": "stdout",
          "text": [
            "No data found for TSLA on 2020-07-14\n"
          ]
        },
        {
          "output_type": "stream",
          "name": "stderr",
          "text": [
            "ERROR:yfinance:HQY: Invalid input - start date cannot be after end date. startDate = 1609477200, endDate = 1594267200\n"
          ]
        },
        {
          "output_type": "stream",
          "name": "stdout",
          "text": [
            "No data found for HQY on 2020-07-09\n"
          ]
        },
        {
          "output_type": "stream",
          "name": "stderr",
          "text": [
            "ERROR:yfinance:QDEL: Invalid input - start date cannot be after end date. startDate = 1609477200, endDate = 1594180800\n"
          ]
        },
        {
          "output_type": "stream",
          "name": "stdout",
          "text": [
            "No data found for QDEL on 2020-07-08\n"
          ]
        },
        {
          "output_type": "stream",
          "name": "stderr",
          "text": [
            "ERROR:yfinance:BIIB: Invalid input - start date cannot be after end date. startDate = 1609477200, endDate = 1594094400\n"
          ]
        },
        {
          "output_type": "stream",
          "name": "stdout",
          "text": [
            "No data found for BIIB on 2020-07-07\n"
          ]
        },
        {
          "output_type": "stream",
          "name": "stderr",
          "text": [
            "ERROR:yfinance:AAPL: Invalid input - start date cannot be after end date. startDate = 1609477200, endDate = 1593144000\n"
          ]
        },
        {
          "output_type": "stream",
          "name": "stdout",
          "text": [
            "No data found for AAPL on 2020-06-26\n"
          ]
        },
        {
          "output_type": "stream",
          "name": "stderr",
          "text": [
            "ERROR:yfinance:EBS: Invalid input - start date cannot be after end date. startDate = 1609477200, endDate = 1593144000\n"
          ]
        },
        {
          "output_type": "stream",
          "name": "stdout",
          "text": [
            "No data found for EBS on 2020-06-26\n"
          ]
        },
        {
          "output_type": "stream",
          "name": "stderr",
          "text": [
            "ERROR:yfinance:ENTG: Invalid input - start date cannot be after end date. startDate = 1609477200, endDate = 1593144000\n"
          ]
        },
        {
          "output_type": "stream",
          "name": "stdout",
          "text": [
            "No data found for ENTG on 2020-06-26\n"
          ]
        },
        {
          "output_type": "stream",
          "name": "stderr",
          "text": [
            "ERROR:yfinance:GOOG: Invalid input - start date cannot be after end date. startDate = 1609477200, endDate = 1593144000\n"
          ]
        },
        {
          "output_type": "stream",
          "name": "stdout",
          "text": [
            "No data found for GOOG on 2020-06-26\n"
          ]
        },
        {
          "output_type": "stream",
          "name": "stderr",
          "text": [
            "ERROR:yfinance:HON: Invalid input - start date cannot be after end date. startDate = 1609477200, endDate = 1593144000\n"
          ]
        },
        {
          "output_type": "stream",
          "name": "stdout",
          "text": [
            "No data found for HON on 2020-06-26\n"
          ]
        },
        {
          "output_type": "stream",
          "name": "stderr",
          "text": [
            "ERROR:yfinance:HUBS: Invalid input - start date cannot be after end date. startDate = 1609477200, endDate = 1593144000\n"
          ]
        },
        {
          "output_type": "stream",
          "name": "stdout",
          "text": [
            "No data found for HUBS on 2020-06-26\n"
          ]
        },
        {
          "output_type": "stream",
          "name": "stderr",
          "text": [
            "ERROR:yfinance:FIS: Invalid input - start date cannot be after end date. startDate = 1609477200, endDate = 1593057600\n"
          ]
        },
        {
          "output_type": "stream",
          "name": "stdout",
          "text": [
            "No data found for FIS on 2020-06-25\n"
          ]
        },
        {
          "output_type": "stream",
          "name": "stderr",
          "text": [
            "ERROR:yfinance:SCHW: Invalid input - start date cannot be after end date. startDate = 1609477200, endDate = 1593057600\n"
          ]
        },
        {
          "output_type": "stream",
          "name": "stdout",
          "text": [
            "No data found for SCHW on 2020-06-25\n"
          ]
        },
        {
          "output_type": "stream",
          "name": "stderr",
          "text": [
            "ERROR:yfinance:GOOG: Invalid input - start date cannot be after end date. startDate = 1609477200, endDate = 1592798400\n"
          ]
        },
        {
          "output_type": "stream",
          "name": "stdout",
          "text": [
            "No data found for GOOG on 2020-06-22\n"
          ]
        },
        {
          "output_type": "stream",
          "name": "stderr",
          "text": [
            "ERROR:yfinance:MKTX: Invalid input - start date cannot be after end date. startDate = 1609477200, endDate = 1592798400\n"
          ]
        },
        {
          "output_type": "stream",
          "name": "stdout",
          "text": [
            "No data found for MKTX on 2020-06-22\n"
          ]
        },
        {
          "output_type": "stream",
          "name": "stderr",
          "text": [
            "ERROR:yfinance:MSFT: Invalid input - start date cannot be after end date. startDate = 1609477200, endDate = 1592798400\n"
          ]
        },
        {
          "output_type": "stream",
          "name": "stdout",
          "text": [
            "No data found for MSFT on 2020-06-22\n"
          ]
        },
        {
          "output_type": "stream",
          "name": "stderr",
          "text": [
            "ERROR:yfinance:ABEV: Invalid input - start date cannot be after end date. startDate = 1609477200, endDate = 1592193600\n"
          ]
        },
        {
          "output_type": "stream",
          "name": "stdout",
          "text": [
            "No data found for ABEV on 2020-06-15\n"
          ]
        },
        {
          "output_type": "stream",
          "name": "stderr",
          "text": [
            "ERROR:yfinance:BEN: Invalid input - start date cannot be after end date. startDate = 1609477200, endDate = 1592193600\n"
          ]
        },
        {
          "output_type": "stream",
          "name": "stdout",
          "text": [
            "No data found for BEN on 2020-06-15\n"
          ]
        },
        {
          "output_type": "stream",
          "name": "stderr",
          "text": [
            "ERROR:yfinance:BKNG: Invalid input - start date cannot be after end date. startDate = 1609477200, endDate = 1592193600\n",
            "ERROR:yfinance:$CHL: possibly delisted; No timezone found\n"
          ]
        },
        {
          "output_type": "stream",
          "name": "stdout",
          "text": [
            "No data found for BKNG on 2020-06-15\n",
            "No data found for CHL on 2020-06-15\n"
          ]
        },
        {
          "output_type": "stream",
          "name": "stderr",
          "text": [
            "ERROR:yfinance:EBS: Invalid input - start date cannot be after end date. startDate = 1609477200, endDate = 1592193600\n"
          ]
        },
        {
          "output_type": "stream",
          "name": "stdout",
          "text": [
            "No data found for EBS on 2020-06-15\n"
          ]
        },
        {
          "output_type": "stream",
          "name": "stderr",
          "text": [
            "ERROR:yfinance:RDS.B: Invalid input - start date cannot be after end date. startDate = 1609477200, endDate = 1592193600\n"
          ]
        },
        {
          "output_type": "stream",
          "name": "stdout",
          "text": [
            "No data found for RDS.B on 2020-06-15\n"
          ]
        },
        {
          "output_type": "stream",
          "name": "stderr",
          "text": [
            "ERROR:yfinance:RHP: Invalid input - start date cannot be after end date. startDate = 1609477200, endDate = 1592193600\n"
          ]
        },
        {
          "output_type": "stream",
          "name": "stdout",
          "text": [
            "No data found for RHP on 2020-06-15\n"
          ]
        },
        {
          "output_type": "stream",
          "name": "stderr",
          "text": [
            "ERROR:yfinance:SLGN: Invalid input - start date cannot be after end date. startDate = 1609477200, endDate = 1592193600\n"
          ]
        },
        {
          "output_type": "stream",
          "name": "stdout",
          "text": [
            "No data found for SLGN on 2020-06-15\n"
          ]
        },
        {
          "output_type": "stream",
          "name": "stderr",
          "text": [
            "ERROR:yfinance:$FLT: possibly delisted; No timezone found\n"
          ]
        },
        {
          "output_type": "stream",
          "name": "stdout",
          "text": [
            "No data found for FLT on 2020-06-09\n"
          ]
        },
        {
          "output_type": "stream",
          "name": "stderr",
          "text": [
            "ERROR:yfinance:COST: Invalid input - start date cannot be after end date. startDate = 1609477200, endDate = 1591588800\n"
          ]
        },
        {
          "output_type": "stream",
          "name": "stdout",
          "text": [
            "No data found for COST on 2020-06-08\n"
          ]
        },
        {
          "output_type": "stream",
          "name": "stderr",
          "text": [
            "ERROR:yfinance:CRM: Invalid input - start date cannot be after end date. startDate = 1609477200, endDate = 1591329600\n"
          ]
        },
        {
          "output_type": "stream",
          "name": "stdout",
          "text": [
            "No data found for CRM on 2020-06-05\n"
          ]
        },
        {
          "output_type": "stream",
          "name": "stderr",
          "text": [
            "ERROR:yfinance:EXAS: Invalid input - start date cannot be after end date. startDate = 1609477200, endDate = 1591329600\n"
          ]
        },
        {
          "output_type": "stream",
          "name": "stdout",
          "text": [
            "No data found for EXAS on 2020-06-05\n"
          ]
        },
        {
          "output_type": "stream",
          "name": "stderr",
          "text": [
            "ERROR:yfinance:LYFT: Invalid input - start date cannot be after end date. startDate = 1609477200, endDate = 1591329600\n"
          ]
        },
        {
          "output_type": "stream",
          "name": "stdout",
          "text": [
            "No data found for LYFT on 2020-06-05\n"
          ]
        },
        {
          "output_type": "stream",
          "name": "stderr",
          "text": [
            "ERROR:yfinance:PSX: Invalid input - start date cannot be after end date. startDate = 1609477200, endDate = 1591329600\n"
          ]
        },
        {
          "output_type": "stream",
          "name": "stdout",
          "text": [
            "No data found for PSX on 2020-06-05\n"
          ]
        },
        {
          "output_type": "stream",
          "name": "stderr",
          "text": [
            "ERROR:yfinance:TTD: Invalid input - start date cannot be after end date. startDate = 1609477200, endDate = 1591329600\n"
          ]
        },
        {
          "output_type": "stream",
          "name": "stdout",
          "text": [
            "No data found for TTD on 2020-06-05\n"
          ]
        },
        {
          "output_type": "stream",
          "name": "stderr",
          "text": [
            "ERROR:yfinance:ALC: Invalid input - start date cannot be after end date. startDate = 1609477200, endDate = 1591156800\n"
          ]
        },
        {
          "output_type": "stream",
          "name": "stdout",
          "text": [
            "No data found for ALC on 2020-06-03\n"
          ]
        },
        {
          "output_type": "stream",
          "name": "stderr",
          "text": [
            "ERROR:yfinance:AMADY: Invalid input - start date cannot be after end date. startDate = 1609477200, endDate = 1591156800\n"
          ]
        },
        {
          "output_type": "stream",
          "name": "stdout",
          "text": [
            "No data found for AMADY on 2020-06-03\n"
          ]
        },
        {
          "output_type": "stream",
          "name": "stderr",
          "text": [
            "ERROR:yfinance:BIDU: Invalid input - start date cannot be after end date. startDate = 1609477200, endDate = 1591156800\n"
          ]
        },
        {
          "output_type": "stream",
          "name": "stdout",
          "text": [
            "No data found for BIDU on 2020-06-03\n"
          ]
        },
        {
          "output_type": "stream",
          "name": "stderr",
          "text": [
            "ERROR:yfinance:ITUB: Invalid input - start date cannot be after end date. startDate = 1609477200, endDate = 1591156800\n"
          ]
        },
        {
          "output_type": "stream",
          "name": "stdout",
          "text": [
            "No data found for ITUB on 2020-06-03\n"
          ]
        },
        {
          "output_type": "stream",
          "name": "stderr",
          "text": [
            "ERROR:yfinance:ADYEY: Invalid input - start date cannot be after end date. startDate = 1609477200, endDate = 1591070400\n"
          ]
        },
        {
          "output_type": "stream",
          "name": "stdout",
          "text": [
            "No data found for ADYEY on 2020-06-02\n"
          ]
        },
        {
          "output_type": "stream",
          "name": "stderr",
          "text": [
            "ERROR:yfinance:ALC: Invalid input - start date cannot be after end date. startDate = 1609477200, endDate = 1591070400\n"
          ]
        },
        {
          "output_type": "stream",
          "name": "stdout",
          "text": [
            "No data found for ALC on 2020-06-02\n"
          ]
        },
        {
          "output_type": "stream",
          "name": "stderr",
          "text": [
            "ERROR:yfinance:BIDU: Invalid input - start date cannot be after end date. startDate = 1609477200, endDate = 1591070400\n"
          ]
        },
        {
          "output_type": "stream",
          "name": "stdout",
          "text": [
            "No data found for BIDU on 2020-06-02\n"
          ]
        },
        {
          "output_type": "stream",
          "name": "stderr",
          "text": [
            "ERROR:yfinance:EXAS: Invalid input - start date cannot be after end date. startDate = 1609477200, endDate = 1591070400\n"
          ]
        },
        {
          "output_type": "stream",
          "name": "stdout",
          "text": [
            "No data found for EXAS on 2020-06-02\n"
          ]
        },
        {
          "output_type": "stream",
          "name": "stderr",
          "text": [
            "ERROR:yfinance:ITUB: Invalid input - start date cannot be after end date. startDate = 1609477200, endDate = 1591070400\n"
          ]
        },
        {
          "output_type": "stream",
          "name": "stdout",
          "text": [
            "No data found for ITUB on 2020-06-02\n"
          ]
        },
        {
          "output_type": "stream",
          "name": "stderr",
          "text": [
            "ERROR:yfinance:TCEHY: Invalid input - start date cannot be after end date. startDate = 1609477200, endDate = 1591070400\n"
          ]
        },
        {
          "output_type": "stream",
          "name": "stdout",
          "text": [
            "No data found for TCEHY on 2020-06-02\n"
          ]
        },
        {
          "output_type": "stream",
          "name": "stderr",
          "text": [
            "ERROR:yfinance:NAN: Invalid input - start date cannot be after end date. startDate = 1609477200, endDate = 1591070400\n"
          ]
        },
        {
          "output_type": "stream",
          "name": "stdout",
          "text": [
            "No data found for nan on 2020-06-02\n"
          ]
        },
        {
          "output_type": "stream",
          "name": "stderr",
          "text": [
            "ERROR:yfinance:HD: Invalid input - start date cannot be after end date. startDate = 1609477200, endDate = 1590984000\n"
          ]
        },
        {
          "output_type": "stream",
          "name": "stdout",
          "text": [
            "No data found for HD on 2020-06-01\n"
          ]
        },
        {
          "output_type": "stream",
          "name": "stderr",
          "text": [
            "ERROR:yfinance:NVDA: Invalid input - start date cannot be after end date. startDate = 1609477200, endDate = 1590984000\n"
          ]
        },
        {
          "output_type": "stream",
          "name": "stdout",
          "text": [
            "No data found for NVDA on 2020-06-01\n"
          ]
        },
        {
          "output_type": "stream",
          "name": "stderr",
          "text": [
            "ERROR:yfinance:SNPS: Invalid input - start date cannot be after end date. startDate = 1609477200, endDate = 1590984000\n"
          ]
        },
        {
          "output_type": "stream",
          "name": "stdout",
          "text": [
            "No data found for SNPS on 2020-06-01\n"
          ]
        },
        {
          "output_type": "stream",
          "name": "stderr",
          "text": [
            "ERROR:yfinance:TMO: Invalid input - start date cannot be after end date. startDate = 1609477200, endDate = 1590984000\n"
          ]
        },
        {
          "output_type": "stream",
          "name": "stdout",
          "text": [
            "No data found for TMO on 2020-06-01\n"
          ]
        },
        {
          "output_type": "stream",
          "name": "stderr",
          "text": [
            "ERROR:yfinance:CTLT: Invalid input - start date cannot be after end date. startDate = 1609477200, endDate = 1590638400\n"
          ]
        },
        {
          "output_type": "stream",
          "name": "stdout",
          "text": [
            "No data found for CTLT on 2020-05-28\n"
          ]
        },
        {
          "output_type": "stream",
          "name": "stderr",
          "text": [
            "ERROR:yfinance:GMED: Invalid input - start date cannot be after end date. startDate = 1609477200, endDate = 1590638400\n"
          ]
        },
        {
          "output_type": "stream",
          "name": "stdout",
          "text": [
            "No data found for GMED on 2020-05-28\n"
          ]
        },
        {
          "output_type": "stream",
          "name": "stderr",
          "text": [
            "ERROR:yfinance:HAE: Invalid input - start date cannot be after end date. startDate = 1609477200, endDate = 1590638400\n"
          ]
        },
        {
          "output_type": "stream",
          "name": "stdout",
          "text": [
            "No data found for HAE on 2020-05-28\n"
          ]
        },
        {
          "output_type": "stream",
          "name": "stderr",
          "text": [
            "ERROR:yfinance:SUPN: Invalid input - start date cannot be after end date. startDate = 1609477200, endDate = 1590638400\n"
          ]
        },
        {
          "output_type": "stream",
          "name": "stdout",
          "text": [
            "No data found for SUPN on 2020-05-28\n"
          ]
        },
        {
          "output_type": "stream",
          "name": "stderr",
          "text": [
            "ERROR:yfinance:REGN: Invalid input - start date cannot be after end date. startDate = 1609477200, endDate = 1590552000\n"
          ]
        },
        {
          "output_type": "stream",
          "name": "stdout",
          "text": [
            "No data found for REGN on 2020-05-27\n"
          ]
        },
        {
          "output_type": "stream",
          "name": "stderr",
          "text": [
            "ERROR:yfinance:GOOG: Invalid input - start date cannot be after end date. startDate = 1609477200, endDate = 1590120000\n"
          ]
        },
        {
          "output_type": "stream",
          "name": "stdout",
          "text": [
            "No data found for GOOG on 2020-05-22\n"
          ]
        },
        {
          "output_type": "stream",
          "name": "stderr",
          "text": [
            "ERROR:yfinance:MRNA: Invalid input - start date cannot be after end date. startDate = 1609477200, endDate = 1590120000\n"
          ]
        },
        {
          "output_type": "stream",
          "name": "stdout",
          "text": [
            "No data found for MRNA on 2020-05-22\n"
          ]
        },
        {
          "output_type": "stream",
          "name": "stderr",
          "text": [
            "ERROR:yfinance:TSLA: Invalid input - start date cannot be after end date. startDate = 1609477200, endDate = 1590120000\n"
          ]
        },
        {
          "output_type": "stream",
          "name": "stdout",
          "text": [
            "No data found for TSLA on 2020-05-22\n"
          ]
        },
        {
          "output_type": "stream",
          "name": "stderr",
          "text": [
            "ERROR:yfinance:AAPL: Invalid input - start date cannot be after end date. startDate = 1609477200, endDate = 1589774400\n"
          ]
        },
        {
          "output_type": "stream",
          "name": "stdout",
          "text": [
            "No data found for AAPL on 2020-05-18\n"
          ]
        },
        {
          "output_type": "stream",
          "name": "stderr",
          "text": [
            "ERROR:yfinance:AMZN: Invalid input - start date cannot be after end date. startDate = 1609477200, endDate = 1589774400\n"
          ]
        },
        {
          "output_type": "stream",
          "name": "stdout",
          "text": [
            "No data found for AMZN on 2020-05-18\n"
          ]
        },
        {
          "output_type": "stream",
          "name": "stderr",
          "text": [
            "ERROR:yfinance:BX: Invalid input - start date cannot be after end date. startDate = 1609477200, endDate = 1589774400\n"
          ]
        },
        {
          "output_type": "stream",
          "name": "stdout",
          "text": [
            "No data found for BX on 2020-05-18\n"
          ]
        },
        {
          "output_type": "stream",
          "name": "stderr",
          "text": [
            "ERROR:yfinance:GS: Invalid input - start date cannot be after end date. startDate = 1609477200, endDate = 1589774400\n"
          ]
        },
        {
          "output_type": "stream",
          "name": "stdout",
          "text": [
            "No data found for GS on 2020-05-18\n"
          ]
        },
        {
          "output_type": "stream",
          "name": "stderr",
          "text": [
            "ERROR:yfinance:JPM: Invalid input - start date cannot be after end date. startDate = 1609477200, endDate = 1589774400\n"
          ]
        },
        {
          "output_type": "stream",
          "name": "stdout",
          "text": [
            "No data found for JPM on 2020-05-18\n"
          ]
        },
        {
          "output_type": "stream",
          "name": "stderr",
          "text": [
            "ERROR:yfinance:MSFT: Invalid input - start date cannot be after end date. startDate = 1609477200, endDate = 1589774400\n"
          ]
        },
        {
          "output_type": "stream",
          "name": "stdout",
          "text": [
            "No data found for MSFT on 2020-05-18\n"
          ]
        },
        {
          "output_type": "stream",
          "name": "stderr",
          "text": [
            "ERROR:yfinance:AMD: Invalid input - start date cannot be after end date. startDate = 1609477200, endDate = 1589515200\n"
          ]
        },
        {
          "output_type": "stream",
          "name": "stdout",
          "text": [
            "No data found for AMD on 2020-05-15\n"
          ]
        },
        {
          "output_type": "stream",
          "name": "stderr",
          "text": [
            "ERROR:yfinance:AMGN: Invalid input - start date cannot be after end date. startDate = 1609477200, endDate = 1589515200\n"
          ]
        },
        {
          "output_type": "stream",
          "name": "stdout",
          "text": [
            "No data found for AMGN on 2020-05-15\n"
          ]
        },
        {
          "output_type": "stream",
          "name": "stderr",
          "text": [
            "ERROR:yfinance:CTLT: Invalid input - start date cannot be after end date. startDate = 1609477200, endDate = 1589515200\n"
          ]
        },
        {
          "output_type": "stream",
          "name": "stdout",
          "text": [
            "No data found for CTLT on 2020-05-15\n"
          ]
        },
        {
          "output_type": "stream",
          "name": "stderr",
          "text": [
            "ERROR:yfinance:HAE: Invalid input - start date cannot be after end date. startDate = 1609477200, endDate = 1589515200\n"
          ]
        },
        {
          "output_type": "stream",
          "name": "stdout",
          "text": [
            "No data found for HAE on 2020-05-15\n"
          ]
        },
        {
          "output_type": "stream",
          "name": "stderr",
          "text": [
            "ERROR:yfinance:MSFT: Invalid input - start date cannot be after end date. startDate = 1609477200, endDate = 1589515200\n"
          ]
        },
        {
          "output_type": "stream",
          "name": "stdout",
          "text": [
            "No data found for MSFT on 2020-05-15\n"
          ]
        },
        {
          "output_type": "stream",
          "name": "stderr",
          "text": [
            "ERROR:yfinance:$GRUB: possibly delisted; No timezone found\n"
          ]
        },
        {
          "output_type": "stream",
          "name": "stdout",
          "text": [
            "No data found for GRUB on 2020-05-12\n"
          ]
        },
        {
          "output_type": "stream",
          "name": "stderr",
          "text": [
            "ERROR:yfinance:DXCM: Invalid input - start date cannot be after end date. startDate = 1609477200, endDate = 1589169600\n"
          ]
        },
        {
          "output_type": "stream",
          "name": "stdout",
          "text": [
            "No data found for DXCM on 2020-05-11\n"
          ]
        },
        {
          "output_type": "stream",
          "name": "stderr",
          "text": [
            "ERROR:yfinance:NSRGY: Invalid input - start date cannot be after end date. startDate = 1609477200, endDate = 1589169600\n"
          ]
        },
        {
          "output_type": "stream",
          "name": "stdout",
          "text": [
            "No data found for NSRGY on 2020-05-11\n"
          ]
        },
        {
          "output_type": "stream",
          "name": "stderr",
          "text": [
            "ERROR:yfinance:BABA: Invalid input - start date cannot be after end date. startDate = 1609477200, endDate = 1588910400\n"
          ]
        },
        {
          "output_type": "stream",
          "name": "stdout",
          "text": [
            "No data found for BABA on 2020-05-08\n"
          ]
        },
        {
          "output_type": "stream",
          "name": "stderr",
          "text": [
            "ERROR:yfinance:CNI: Invalid input - start date cannot be after end date. startDate = 1609477200, endDate = 1588910400\n"
          ]
        },
        {
          "output_type": "stream",
          "name": "stdout",
          "text": [
            "No data found for CNI on 2020-05-08\n"
          ]
        },
        {
          "output_type": "stream",
          "name": "stderr",
          "text": [
            "ERROR:yfinance:CENT: Invalid input - start date cannot be after end date. startDate = 1609477200, endDate = 1588824000\n"
          ]
        },
        {
          "output_type": "stream",
          "name": "stdout",
          "text": [
            "No data found for CENT on 2020-05-07\n"
          ]
        },
        {
          "output_type": "stream",
          "name": "stderr",
          "text": [
            "ERROR:yfinance:VIAV: Invalid input - start date cannot be after end date. startDate = 1609477200, endDate = 1588824000\n"
          ]
        },
        {
          "output_type": "stream",
          "name": "stdout",
          "text": [
            "No data found for VIAV on 2020-05-07\n"
          ]
        },
        {
          "output_type": "stream",
          "name": "stderr",
          "text": [
            "ERROR:yfinance:$CMD: possibly delisted; No timezone found\n"
          ]
        },
        {
          "output_type": "stream",
          "name": "stdout",
          "text": [
            "No data found for CMD on 2020-05-05\n"
          ]
        },
        {
          "output_type": "stream",
          "name": "stderr",
          "text": [
            "ERROR:yfinance:VIAV: Invalid input - start date cannot be after end date. startDate = 1609477200, endDate = 1588651200\n"
          ]
        },
        {
          "output_type": "stream",
          "name": "stdout",
          "text": [
            "No data found for VIAV on 2020-05-05\n"
          ]
        },
        {
          "output_type": "stream",
          "name": "stderr",
          "text": [
            "ERROR:yfinance:CVX: Invalid input - start date cannot be after end date. startDate = 1609477200, endDate = 1588564800\n"
          ]
        },
        {
          "output_type": "stream",
          "name": "stdout",
          "text": [
            "No data found for CVX on 2020-05-04\n"
          ]
        },
        {
          "output_type": "stream",
          "name": "stderr",
          "text": [
            "ERROR:yfinance:DAL: Invalid input - start date cannot be after end date. startDate = 1609477200, endDate = 1588564800\n"
          ]
        },
        {
          "output_type": "stream",
          "name": "stdout",
          "text": [
            "No data found for DAL on 2020-05-04\n"
          ]
        },
        {
          "output_type": "stream",
          "name": "stderr",
          "text": [
            "ERROR:yfinance:KMI: Invalid input - start date cannot be after end date. startDate = 1609477200, endDate = 1588564800\n"
          ]
        },
        {
          "output_type": "stream",
          "name": "stdout",
          "text": [
            "No data found for KMI on 2020-05-04\n"
          ]
        },
        {
          "output_type": "stream",
          "name": "stderr",
          "text": [
            "ERROR:yfinance:PM: Invalid input - start date cannot be after end date. startDate = 1609477200, endDate = 1588564800\n"
          ]
        },
        {
          "output_type": "stream",
          "name": "stdout",
          "text": [
            "No data found for PM on 2020-05-04\n"
          ]
        },
        {
          "output_type": "stream",
          "name": "stderr",
          "text": [
            "ERROR:yfinance:FIS: Invalid input - start date cannot be after end date. startDate = 1609477200, endDate = 1588305600\n"
          ]
        },
        {
          "output_type": "stream",
          "name": "stdout",
          "text": [
            "No data found for FIS on 2020-05-01\n"
          ]
        },
        {
          "output_type": "stream",
          "name": "stderr",
          "text": [
            "ERROR:yfinance:SBUX: Invalid input - start date cannot be after end date. startDate = 1609477200, endDate = 1588305600\n"
          ]
        },
        {
          "output_type": "stream",
          "name": "stdout",
          "text": [
            "No data found for SBUX on 2020-05-01\n"
          ]
        },
        {
          "output_type": "stream",
          "name": "stderr",
          "text": [
            "ERROR:yfinance:$FB: possibly delisted; No timezone found\n"
          ]
        },
        {
          "output_type": "stream",
          "name": "stdout",
          "text": [
            "No data found for FB on 2020-04-30\n"
          ]
        },
        {
          "output_type": "stream",
          "name": "stderr",
          "text": [
            "ERROR:yfinance:GOOG: Invalid input - start date cannot be after end date. startDate = 1609477200, endDate = 1588219200\n"
          ]
        },
        {
          "output_type": "stream",
          "name": "stdout",
          "text": [
            "No data found for GOOG on 2020-04-30\n"
          ]
        },
        {
          "output_type": "stream",
          "name": "stderr",
          "text": [
            "ERROR:yfinance:$SGEN: possibly delisted; No timezone found\n"
          ]
        },
        {
          "output_type": "stream",
          "name": "stdout",
          "text": [
            "No data found for SGEN on 2020-04-30\n"
          ]
        },
        {
          "output_type": "stream",
          "name": "stderr",
          "text": [
            "ERROR:yfinance:LVS: Invalid input - start date cannot be after end date. startDate = 1609477200, endDate = 1587960000\n"
          ]
        },
        {
          "output_type": "stream",
          "name": "stdout",
          "text": [
            "No data found for LVS on 2020-04-27\n"
          ]
        },
        {
          "output_type": "stream",
          "name": "stderr",
          "text": [
            "ERROR:yfinance:SNAP: Invalid input - start date cannot be after end date. startDate = 1609477200, endDate = 1587614400\n"
          ]
        },
        {
          "output_type": "stream",
          "name": "stdout",
          "text": [
            "No data found for SNAP on 2020-04-23\n"
          ]
        },
        {
          "output_type": "stream",
          "name": "stderr",
          "text": [
            "ERROR:yfinance:AAPL: Invalid input - start date cannot be after end date. startDate = 1609477200, endDate = 1587355200\n"
          ]
        },
        {
          "output_type": "stream",
          "name": "stdout",
          "text": [
            "No data found for AAPL on 2020-04-20\n"
          ]
        },
        {
          "output_type": "stream",
          "name": "stderr",
          "text": [
            "ERROR:yfinance:AAGIY: Invalid input - start date cannot be after end date. startDate = 1609477200, endDate = 1587096000\n"
          ]
        },
        {
          "output_type": "stream",
          "name": "stdout",
          "text": [
            "No data found for AAGIY on 2020-04-17\n"
          ]
        },
        {
          "output_type": "stream",
          "name": "stderr",
          "text": [
            "ERROR:yfinance:GOOG: Invalid input - start date cannot be after end date. startDate = 1609477200, endDate = 1587096000\n"
          ]
        },
        {
          "output_type": "stream",
          "name": "stdout",
          "text": [
            "No data found for GOOG on 2020-04-17\n"
          ]
        },
        {
          "output_type": "stream",
          "name": "stderr",
          "text": [
            "ERROR:yfinance:ISRG: Invalid input - start date cannot be after end date. startDate = 1609477200, endDate = 1587096000\n"
          ]
        },
        {
          "output_type": "stream",
          "name": "stdout",
          "text": [
            "No data found for ISRG on 2020-04-17\n"
          ]
        },
        {
          "output_type": "stream",
          "name": "stderr",
          "text": [
            "ERROR:yfinance:MA: Invalid input - start date cannot be after end date. startDate = 1609477200, endDate = 1587096000\n"
          ]
        },
        {
          "output_type": "stream",
          "name": "stdout",
          "text": [
            "No data found for MA on 2020-04-17\n"
          ]
        },
        {
          "output_type": "stream",
          "name": "stderr",
          "text": [
            "ERROR:yfinance:TSLA: Invalid input - start date cannot be after end date. startDate = 1609477200, endDate = 1587096000\n"
          ]
        },
        {
          "output_type": "stream",
          "name": "stdout",
          "text": [
            "No data found for TSLA on 2020-04-17\n"
          ]
        },
        {
          "output_type": "stream",
          "name": "stderr",
          "text": [
            "ERROR:yfinance:TSM: Invalid input - start date cannot be after end date. startDate = 1609477200, endDate = 1587096000\n"
          ]
        },
        {
          "output_type": "stream",
          "name": "stdout",
          "text": [
            "No data found for TSM on 2020-04-17\n"
          ]
        },
        {
          "output_type": "stream",
          "name": "stderr",
          "text": [
            "ERROR:yfinance:BSX: Invalid input - start date cannot be after end date. startDate = 1609477200, endDate = 1586836800\n"
          ]
        },
        {
          "output_type": "stream",
          "name": "stdout",
          "text": [
            "No data found for BSX on 2020-04-14\n"
          ]
        },
        {
          "output_type": "stream",
          "name": "stderr",
          "text": [
            "ERROR:yfinance:RHHBY: Invalid input - start date cannot be after end date. startDate = 1609477200, endDate = 1586836800\n"
          ]
        },
        {
          "output_type": "stream",
          "name": "stdout",
          "text": [
            "No data found for RHHBY on 2020-04-14\n"
          ]
        },
        {
          "output_type": "stream",
          "name": "stderr",
          "text": [
            "ERROR:yfinance:RIO: Invalid input - start date cannot be after end date. startDate = 1609477200, endDate = 1586836800\n"
          ]
        },
        {
          "output_type": "stream",
          "name": "stdout",
          "text": [
            "No data found for RIO on 2020-04-14\n"
          ]
        },
        {
          "output_type": "stream",
          "name": "stderr",
          "text": [
            "ERROR:yfinance:SBGSY: Invalid input - start date cannot be after end date. startDate = 1609477200, endDate = 1586836800\n"
          ]
        },
        {
          "output_type": "stream",
          "name": "stdout",
          "text": [
            "No data found for SBGSY on 2020-04-14\n"
          ]
        },
        {
          "output_type": "stream",
          "name": "stderr",
          "text": [
            "ERROR:yfinance:ANET: Invalid input - start date cannot be after end date. startDate = 1609477200, endDate = 1586750400\n"
          ]
        },
        {
          "output_type": "stream",
          "name": "stdout",
          "text": [
            "No data found for ANET on 2020-04-13\n"
          ]
        },
        {
          "output_type": "stream",
          "name": "stderr",
          "text": [
            "ERROR:yfinance:CHGCY: Invalid input - start date cannot be after end date. startDate = 1609477200, endDate = 1586750400\n"
          ]
        },
        {
          "output_type": "stream",
          "name": "stdout",
          "text": [
            "No data found for CHGCY on 2020-04-13\n"
          ]
        },
        {
          "output_type": "stream",
          "name": "stderr",
          "text": [
            "ERROR:yfinance:KMTUY: Invalid input - start date cannot be after end date. startDate = 1609477200, endDate = 1586750400\n"
          ]
        },
        {
          "output_type": "stream",
          "name": "stdout",
          "text": [
            "No data found for KMTUY on 2020-04-13\n"
          ]
        },
        {
          "output_type": "stream",
          "name": "stderr",
          "text": [
            "ERROR:yfinance:LIN: Invalid input - start date cannot be after end date. startDate = 1609477200, endDate = 1586750400\n"
          ]
        },
        {
          "output_type": "stream",
          "name": "stdout",
          "text": [
            "No data found for LIN on 2020-04-13\n"
          ]
        },
        {
          "output_type": "stream",
          "name": "stderr",
          "text": [
            "ERROR:yfinance:MSFT: Invalid input - start date cannot be after end date. startDate = 1609477200, endDate = 1586750400\n"
          ]
        },
        {
          "output_type": "stream",
          "name": "stdout",
          "text": [
            "No data found for MSFT on 2020-04-13\n"
          ]
        },
        {
          "output_type": "stream",
          "name": "stderr",
          "text": [
            "ERROR:yfinance:RDS.B: Invalid input - start date cannot be after end date. startDate = 1609477200, endDate = 1586750400\n"
          ]
        },
        {
          "output_type": "stream",
          "name": "stdout",
          "text": [
            "No data found for RDS.B on 2020-04-13\n"
          ]
        },
        {
          "output_type": "stream",
          "name": "stderr",
          "text": [
            "ERROR:yfinance:RIO: Invalid input - start date cannot be after end date. startDate = 1609477200, endDate = 1586750400\n"
          ]
        },
        {
          "output_type": "stream",
          "name": "stdout",
          "text": [
            "No data found for RIO on 2020-04-13\n"
          ]
        },
        {
          "output_type": "stream",
          "name": "stderr",
          "text": [
            "ERROR:yfinance:SLB: Invalid input - start date cannot be after end date. startDate = 1609477200, endDate = 1586750400\n"
          ]
        },
        {
          "output_type": "stream",
          "name": "stdout",
          "text": [
            "No data found for SLB on 2020-04-13\n"
          ]
        },
        {
          "output_type": "stream",
          "name": "stderr",
          "text": [
            "ERROR:yfinance:BA: Invalid input - start date cannot be after end date. startDate = 1609477200, endDate = 1586404800\n"
          ]
        },
        {
          "output_type": "stream",
          "name": "stdout",
          "text": [
            "No data found for BA on 2020-04-09\n"
          ]
        },
        {
          "output_type": "stream",
          "name": "stderr",
          "text": [
            "ERROR:yfinance:BSX: Invalid input - start date cannot be after end date. startDate = 1609477200, endDate = 1586404800\n"
          ]
        },
        {
          "output_type": "stream",
          "name": "stdout",
          "text": [
            "No data found for BSX on 2020-04-09\n"
          ]
        },
        {
          "output_type": "stream",
          "name": "stderr",
          "text": [
            "ERROR:yfinance:ALNY: Invalid input - start date cannot be after end date. startDate = 1609477200, endDate = 1586145600\n"
          ]
        },
        {
          "output_type": "stream",
          "name": "stdout",
          "text": [
            "No data found for ALNY on 2020-04-06\n"
          ]
        },
        {
          "output_type": "stream",
          "name": "stderr",
          "text": [
            "ERROR:yfinance:HQY: Invalid input - start date cannot be after end date. startDate = 1609477200, endDate = 1585886400\n"
          ]
        },
        {
          "output_type": "stream",
          "name": "stdout",
          "text": [
            "No data found for HQY on 2020-04-03\n"
          ]
        },
        {
          "output_type": "stream",
          "name": "stderr",
          "text": [
            "ERROR:yfinance:BA: Invalid input - start date cannot be after end date. startDate = 1609477200, endDate = 1585800000\n"
          ]
        },
        {
          "output_type": "stream",
          "name": "stdout",
          "text": [
            "No data found for BA on 2020-04-02\n"
          ]
        },
        {
          "output_type": "stream",
          "name": "stderr",
          "text": [
            "ERROR:yfinance:LULU: Invalid input - start date cannot be after end date. startDate = 1609477200, endDate = 1585281600\n"
          ]
        },
        {
          "output_type": "stream",
          "name": "stdout",
          "text": [
            "No data found for LULU on 2020-03-27\n"
          ]
        },
        {
          "output_type": "stream",
          "name": "stderr",
          "text": [
            "ERROR:yfinance:ROP: Invalid input - start date cannot be after end date. startDate = 1609477200, endDate = 1585281600\n"
          ]
        },
        {
          "output_type": "stream",
          "name": "stdout",
          "text": [
            "No data found for ROP on 2020-03-27\n"
          ]
        },
        {
          "output_type": "stream",
          "name": "stderr",
          "text": [
            "ERROR:yfinance:ADYEY: Invalid input - start date cannot be after end date. startDate = 1609477200, endDate = 1585195200\n"
          ]
        },
        {
          "output_type": "stream",
          "name": "stdout",
          "text": [
            "No data found for ADYEY on 2020-03-26\n"
          ]
        },
        {
          "output_type": "stream",
          "name": "stderr",
          "text": [
            "ERROR:yfinance:CHKP: Invalid input - start date cannot be after end date. startDate = 1609477200, endDate = 1585195200\n"
          ]
        },
        {
          "output_type": "stream",
          "name": "stdout",
          "text": [
            "No data found for CHKP on 2020-03-26\n"
          ]
        },
        {
          "output_type": "stream",
          "name": "stderr",
          "text": [
            "ERROR:yfinance:DNTUY: Invalid input - start date cannot be after end date. startDate = 1609477200, endDate = 1585195200\n"
          ]
        },
        {
          "output_type": "stream",
          "name": "stdout",
          "text": [
            "No data found for DNTUY on 2020-03-26\n"
          ]
        },
        {
          "output_type": "stream",
          "name": "stderr",
          "text": [
            "ERROR:yfinance:DSGX: Invalid input - start date cannot be after end date. startDate = 1609477200, endDate = 1585195200\n"
          ]
        },
        {
          "output_type": "stream",
          "name": "stdout",
          "text": [
            "No data found for DSGX on 2020-03-26\n"
          ]
        },
        {
          "output_type": "stream",
          "name": "stderr",
          "text": [
            "ERROR:yfinance:EXLS: Invalid input - start date cannot be after end date. startDate = 1609477200, endDate = 1585195200\n"
          ]
        },
        {
          "output_type": "stream",
          "name": "stdout",
          "text": [
            "No data found for EXLS on 2020-03-26\n"
          ]
        },
        {
          "output_type": "stream",
          "name": "stderr",
          "text": [
            "ERROR:yfinance:HON: Invalid input - start date cannot be after end date. startDate = 1609477200, endDate = 1585195200\n"
          ]
        },
        {
          "output_type": "stream",
          "name": "stdout",
          "text": [
            "No data found for HON on 2020-03-26\n"
          ]
        },
        {
          "output_type": "stream",
          "name": "stderr",
          "text": [
            "ERROR:yfinance:HQY: Invalid input - start date cannot be after end date. startDate = 1609477200, endDate = 1585195200\n"
          ]
        },
        {
          "output_type": "stream",
          "name": "stdout",
          "text": [
            "No data found for HQY on 2020-03-26\n"
          ]
        },
        {
          "output_type": "stream",
          "name": "stderr",
          "text": [
            "ERROR:yfinance:HSBC: Invalid input - start date cannot be after end date. startDate = 1609477200, endDate = 1585195200\n"
          ]
        },
        {
          "output_type": "stream",
          "name": "stdout",
          "text": [
            "No data found for HSBC on 2020-03-26\n"
          ]
        },
        {
          "output_type": "stream",
          "name": "stderr",
          "text": [
            "ERROR:yfinance:SQ: Invalid input - start date cannot be after end date. startDate = 1609477200, endDate = 1585195200\n"
          ]
        },
        {
          "output_type": "stream",
          "name": "stdout",
          "text": [
            "No data found for SQ on 2020-03-26\n"
          ]
        },
        {
          "output_type": "stream",
          "name": "stderr",
          "text": [
            "ERROR:yfinance:UL: Invalid input - start date cannot be after end date. startDate = 1609477200, endDate = 1585195200\n"
          ]
        },
        {
          "output_type": "stream",
          "name": "stdout",
          "text": [
            "No data found for UL on 2020-03-26\n"
          ]
        },
        {
          "output_type": "stream",
          "name": "stderr",
          "text": [
            "ERROR:yfinance:CACI: Invalid input - start date cannot be after end date. startDate = 1609477200, endDate = 1585022400\n"
          ]
        },
        {
          "output_type": "stream",
          "name": "stdout",
          "text": [
            "No data found for CACI on 2020-03-24\n"
          ]
        },
        {
          "output_type": "stream",
          "name": "stderr",
          "text": [
            "ERROR:yfinance:MSFT: Invalid input - start date cannot be after end date. startDate = 1609477200, endDate = 1585022400\n"
          ]
        },
        {
          "output_type": "stream",
          "name": "stdout",
          "text": [
            "No data found for MSFT on 2020-03-24\n"
          ]
        },
        {
          "output_type": "stream",
          "name": "stderr",
          "text": [
            "ERROR:yfinance:AAPL: Invalid input - start date cannot be after end date. startDate = 1609477200, endDate = 1584936000\n"
          ]
        },
        {
          "output_type": "stream",
          "name": "stdout",
          "text": [
            "No data found for AAPL on 2020-03-23\n"
          ]
        },
        {
          "output_type": "stream",
          "name": "stderr",
          "text": [
            "ERROR:yfinance:AAPL: Invalid input - start date cannot be after end date. startDate = 1609477200, endDate = 1584676800\n"
          ]
        },
        {
          "output_type": "stream",
          "name": "stdout",
          "text": [
            "No data found for AAPL on 2020-03-20\n"
          ]
        },
        {
          "output_type": "stream",
          "name": "stderr",
          "text": [
            "ERROR:yfinance:MSFT: Invalid input - start date cannot be after end date. startDate = 1609477200, endDate = 1584676800\n",
            "ERROR:yfinance:MSFT: Invalid input - start date cannot be after end date. startDate = 1609477200, endDate = 1584676800\n",
            "ERROR:yfinance:MSFT: Invalid input - start date cannot be after end date. startDate = 1609477200, endDate = 1584676800\n",
            "ERROR:yfinance:MSFT: Invalid input - start date cannot be after end date. startDate = 1609477200, endDate = 1584676800\n"
          ]
        },
        {
          "output_type": "stream",
          "name": "stdout",
          "text": [
            "No data found for MSFT on 2020-03-20\n",
            "No data found for MSFT on 2020-03-20\n",
            "No data found for MSFT on 2020-03-20\n",
            "No data found for MSFT on 2020-03-20\n"
          ]
        },
        {
          "output_type": "stream",
          "name": "stderr",
          "text": [
            "ERROR:yfinance:SBUX: Invalid input - start date cannot be after end date. startDate = 1609477200, endDate = 1584504000\n"
          ]
        },
        {
          "output_type": "stream",
          "name": "stdout",
          "text": [
            "No data found for SBUX on 2020-03-18\n"
          ]
        },
        {
          "output_type": "stream",
          "name": "stderr",
          "text": [
            "ERROR:yfinance:AMZN: Invalid input - start date cannot be after end date. startDate = 1609477200, endDate = 1584417600\n"
          ]
        },
        {
          "output_type": "stream",
          "name": "stdout",
          "text": [
            "No data found for AMZN on 2020-03-17\n"
          ]
        },
        {
          "output_type": "stream",
          "name": "stderr",
          "text": [
            "ERROR:yfinance:BX: Invalid input - start date cannot be after end date. startDate = 1609477200, endDate = 1584417600\n"
          ]
        },
        {
          "output_type": "stream",
          "name": "stdout",
          "text": [
            "No data found for BX on 2020-03-17\n"
          ]
        },
        {
          "output_type": "stream",
          "name": "stderr",
          "text": [
            "ERROR:yfinance:GS: Invalid input - start date cannot be after end date. startDate = 1609477200, endDate = 1584417600\n"
          ]
        },
        {
          "output_type": "stream",
          "name": "stdout",
          "text": [
            "No data found for GS on 2020-03-17\n"
          ]
        },
        {
          "output_type": "stream",
          "name": "stderr",
          "text": [
            "ERROR:yfinance:JPM: Invalid input - start date cannot be after end date. startDate = 1609477200, endDate = 1584417600\n"
          ]
        },
        {
          "output_type": "stream",
          "name": "stdout",
          "text": [
            "No data found for JPM on 2020-03-17\n"
          ]
        },
        {
          "output_type": "stream",
          "name": "stderr",
          "text": [
            "ERROR:yfinance:MSFT: Invalid input - start date cannot be after end date. startDate = 1609477200, endDate = 1584417600\n",
            "ERROR:yfinance:MSFT: Invalid input - start date cannot be after end date. startDate = 1609477200, endDate = 1584417600\n"
          ]
        },
        {
          "output_type": "stream",
          "name": "stdout",
          "text": [
            "No data found for MSFT on 2020-03-17\n",
            "No data found for MSFT on 2020-03-17\n"
          ]
        },
        {
          "output_type": "stream",
          "name": "stderr",
          "text": [
            "ERROR:yfinance:UAL: Invalid input - start date cannot be after end date. startDate = 1609477200, endDate = 1584417600\n"
          ]
        },
        {
          "output_type": "stream",
          "name": "stdout",
          "text": [
            "No data found for UAL on 2020-03-17\n"
          ]
        },
        {
          "output_type": "stream",
          "name": "stderr",
          "text": [
            "ERROR:yfinance:ABT: Invalid input - start date cannot be after end date. startDate = 1609477200, endDate = 1584072000\n"
          ]
        },
        {
          "output_type": "stream",
          "name": "stdout",
          "text": [
            "No data found for ABT on 2020-03-13\n"
          ]
        },
        {
          "output_type": "stream",
          "name": "stderr",
          "text": [
            "ERROR:yfinance:CCL: Invalid input - start date cannot be after end date. startDate = 1609477200, endDate = 1584072000\n"
          ]
        },
        {
          "output_type": "stream",
          "name": "stdout",
          "text": [
            "No data found for CCL on 2020-03-13\n"
          ]
        },
        {
          "output_type": "stream",
          "name": "stderr",
          "text": [
            "ERROR:yfinance:MO: Invalid input - start date cannot be after end date. startDate = 1609477200, endDate = 1584072000\n"
          ]
        },
        {
          "output_type": "stream",
          "name": "stdout",
          "text": [
            "No data found for MO on 2020-03-13\n"
          ]
        },
        {
          "output_type": "stream",
          "name": "stderr",
          "text": [
            "ERROR:yfinance:NSRGY: Invalid input - start date cannot be after end date. startDate = 1609477200, endDate = 1584072000\n"
          ]
        },
        {
          "output_type": "stream",
          "name": "stdout",
          "text": [
            "No data found for NSRGY on 2020-03-13\n"
          ]
        },
        {
          "output_type": "stream",
          "name": "stderr",
          "text": [
            "ERROR:yfinance:MSFT: Invalid input - start date cannot be after end date. startDate = 1609477200, endDate = 1583985600\n",
            "ERROR:yfinance:MSFT: Invalid input - start date cannot be after end date. startDate = 1609477200, endDate = 1583985600\n",
            "ERROR:yfinance:MSFT: Invalid input - start date cannot be after end date. startDate = 1609477200, endDate = 1583985600\n",
            "ERROR:yfinance:MSFT: Invalid input - start date cannot be after end date. startDate = 1609477200, endDate = 1583985600\n",
            "ERROR:yfinance:MSFT: Invalid input - start date cannot be after end date. startDate = 1609477200, endDate = 1583985600\n",
            "ERROR:yfinance:MSFT: Invalid input - start date cannot be after end date. startDate = 1609477200, endDate = 1583985600\n",
            "ERROR:yfinance:MSFT: Invalid input - start date cannot be after end date. startDate = 1609477200, endDate = 1583985600\n",
            "ERROR:yfinance:MSFT: Invalid input - start date cannot be after end date. startDate = 1609477200, endDate = 1583985600\n",
            "ERROR:yfinance:MSFT: Invalid input - start date cannot be after end date. startDate = 1609477200, endDate = 1583985600\n",
            "ERROR:yfinance:MSFT: Invalid input - start date cannot be after end date. startDate = 1609477200, endDate = 1583985600\n",
            "ERROR:yfinance:MSFT: Invalid input - start date cannot be after end date. startDate = 1609477200, endDate = 1583985600\n",
            "ERROR:yfinance:MSFT: Invalid input - start date cannot be after end date. startDate = 1609477200, endDate = 1583985600\n",
            "ERROR:yfinance:MSFT: Invalid input - start date cannot be after end date. startDate = 1609477200, endDate = 1583985600\n"
          ]
        },
        {
          "output_type": "stream",
          "name": "stdout",
          "text": [
            "No data found for MSFT on 2020-03-12\n",
            "No data found for MSFT on 2020-03-12\n",
            "No data found for MSFT on 2020-03-12\n",
            "No data found for MSFT on 2020-03-12\n",
            "No data found for MSFT on 2020-03-12\n",
            "No data found for MSFT on 2020-03-12\n",
            "No data found for MSFT on 2020-03-12\n",
            "No data found for MSFT on 2020-03-12\n",
            "No data found for MSFT on 2020-03-12\n",
            "No data found for MSFT on 2020-03-12\n",
            "No data found for MSFT on 2020-03-12\n",
            "No data found for MSFT on 2020-03-12\n",
            "No data found for MSFT on 2020-03-12\n"
          ]
        },
        {
          "output_type": "stream",
          "name": "stderr",
          "text": [
            "ERROR:yfinance:NCLTY: Invalid input - start date cannot be after end date. startDate = 1609477200, endDate = 1583985600\n"
          ]
        },
        {
          "output_type": "stream",
          "name": "stdout",
          "text": [
            "No data found for NCLTY on 2020-03-12\n"
          ]
        },
        {
          "output_type": "stream",
          "name": "stderr",
          "text": [
            "ERROR:yfinance:TSM: Invalid input - start date cannot be after end date. startDate = 1609477200, endDate = 1583985600\n"
          ]
        },
        {
          "output_type": "stream",
          "name": "stdout",
          "text": [
            "No data found for TSM on 2020-03-12\n"
          ]
        },
        {
          "output_type": "stream",
          "name": "stderr",
          "text": [
            "ERROR:yfinance:NCLTY: Invalid input - start date cannot be after end date. startDate = 1609477200, endDate = 1583899200\n"
          ]
        },
        {
          "output_type": "stream",
          "name": "stdout",
          "text": [
            "No data found for NCLTY on 2020-03-11\n"
          ]
        },
        {
          "output_type": "stream",
          "name": "stderr",
          "text": [
            "ERROR:yfinance:MSFT: Invalid input - start date cannot be after end date. startDate = 1609477200, endDate = 1583470800\n",
            "ERROR:yfinance:MSFT: Invalid input - start date cannot be after end date. startDate = 1609477200, endDate = 1583470800\n",
            "ERROR:yfinance:MSFT: Invalid input - start date cannot be after end date. startDate = 1609477200, endDate = 1583470800\n",
            "ERROR:yfinance:MSFT: Invalid input - start date cannot be after end date. startDate = 1609477200, endDate = 1583470800\n",
            "ERROR:yfinance:MSFT: Invalid input - start date cannot be after end date. startDate = 1609477200, endDate = 1583470800\n",
            "ERROR:yfinance:MSFT: Invalid input - start date cannot be after end date. startDate = 1609477200, endDate = 1583470800\n",
            "ERROR:yfinance:MSFT: Invalid input - start date cannot be after end date. startDate = 1609477200, endDate = 1583470800\n",
            "ERROR:yfinance:MSFT: Invalid input - start date cannot be after end date. startDate = 1609477200, endDate = 1583470800\n"
          ]
        },
        {
          "output_type": "stream",
          "name": "stdout",
          "text": [
            "No data found for MSFT on 2020-03-06\n",
            "No data found for MSFT on 2020-03-06\n",
            "No data found for MSFT on 2020-03-06\n",
            "No data found for MSFT on 2020-03-06\n",
            "No data found for MSFT on 2020-03-06\n",
            "No data found for MSFT on 2020-03-06\n",
            "No data found for MSFT on 2020-03-06\n",
            "No data found for MSFT on 2020-03-06\n"
          ]
        },
        {
          "output_type": "stream",
          "name": "stderr",
          "text": [
            "ERROR:yfinance:AAPL: Invalid input - start date cannot be after end date. startDate = 1609477200, endDate = 1583384400\n"
          ]
        },
        {
          "output_type": "stream",
          "name": "stdout",
          "text": [
            "No data found for AAPL on 2020-03-05\n"
          ]
        },
        {
          "output_type": "stream",
          "name": "stderr",
          "text": [
            "ERROR:yfinance:HELE: Invalid input - start date cannot be after end date. startDate = 1609477200, endDate = 1583125200\n"
          ]
        },
        {
          "output_type": "stream",
          "name": "stdout",
          "text": [
            "No data found for HELE on 2020-03-02\n"
          ]
        },
        {
          "output_type": "stream",
          "name": "stderr",
          "text": [
            "ERROR:yfinance:JBT: Invalid input - start date cannot be after end date. startDate = 1609477200, endDate = 1583125200\n"
          ]
        },
        {
          "output_type": "stream",
          "name": "stdout",
          "text": [
            "No data found for JBT on 2020-03-02\n"
          ]
        },
        {
          "output_type": "stream",
          "name": "stderr",
          "text": [
            "ERROR:yfinance:PEB: Invalid input - start date cannot be after end date. startDate = 1609477200, endDate = 1583125200\n"
          ]
        },
        {
          "output_type": "stream",
          "name": "stdout",
          "text": [
            "No data found for PEB on 2020-03-02\n"
          ]
        },
        {
          "output_type": "stream",
          "name": "stderr",
          "text": [
            "ERROR:yfinance:QDEL: Invalid input - start date cannot be after end date. startDate = 1609477200, endDate = 1583125200\n"
          ]
        },
        {
          "output_type": "stream",
          "name": "stdout",
          "text": [
            "No data found for QDEL on 2020-03-02\n"
          ]
        },
        {
          "output_type": "stream",
          "name": "stderr",
          "text": [
            "ERROR:yfinance:ECL: Invalid input - start date cannot be after end date. startDate = 1609477200, endDate = 1582866000\n"
          ]
        },
        {
          "output_type": "stream",
          "name": "stdout",
          "text": [
            "No data found for ECL on 2020-02-28\n"
          ]
        },
        {
          "output_type": "stream",
          "name": "stderr",
          "text": [
            "ERROR:yfinance:$LHCG: possibly delisted; No timezone found\n"
          ]
        },
        {
          "output_type": "stream",
          "name": "stdout",
          "text": [
            "No data found for LHCG on 2020-02-28\n"
          ]
        },
        {
          "output_type": "stream",
          "name": "stderr",
          "text": [
            "ERROR:yfinance:LRCX: Invalid input - start date cannot be after end date. startDate = 1609477200, endDate = 1582866000\n"
          ]
        },
        {
          "output_type": "stream",
          "name": "stdout",
          "text": [
            "No data found for LRCX on 2020-02-28\n"
          ]
        },
        {
          "output_type": "stream",
          "name": "stderr",
          "text": [
            "ERROR:yfinance:NVDA: Invalid input - start date cannot be after end date. startDate = 1609477200, endDate = 1582866000\n"
          ]
        },
        {
          "output_type": "stream",
          "name": "stdout",
          "text": [
            "No data found for NVDA on 2020-02-28\n"
          ]
        },
        {
          "output_type": "stream",
          "name": "stderr",
          "text": [
            "ERROR:yfinance:BSX: Invalid input - start date cannot be after end date. startDate = 1609477200, endDate = 1582779600\n"
          ]
        },
        {
          "output_type": "stream",
          "name": "stdout",
          "text": [
            "No data found for BSX on 2020-02-27\n"
          ]
        },
        {
          "output_type": "stream",
          "name": "stderr",
          "text": [
            "ERROR:yfinance:NFLX: Invalid input - start date cannot be after end date. startDate = 1609477200, endDate = 1582779600\n"
          ]
        },
        {
          "output_type": "stream",
          "name": "stdout",
          "text": [
            "No data found for NFLX on 2020-02-27\n"
          ]
        },
        {
          "output_type": "stream",
          "name": "stderr",
          "text": [
            "ERROR:yfinance:PYPL: Invalid input - start date cannot be after end date. startDate = 1609477200, endDate = 1582779600\n"
          ]
        },
        {
          "output_type": "stream",
          "name": "stdout",
          "text": [
            "No data found for PYPL on 2020-02-27\n"
          ]
        },
        {
          "output_type": "stream",
          "name": "stderr",
          "text": [
            "ERROR:yfinance:AAPL: Invalid input - start date cannot be after end date. startDate = 1609477200, endDate = 1582693200\n"
          ]
        },
        {
          "output_type": "stream",
          "name": "stdout",
          "text": [
            "No data found for AAPL on 2020-02-26\n"
          ]
        },
        {
          "output_type": "stream",
          "name": "stderr",
          "text": [
            "ERROR:yfinance:AMZN: Invalid input - start date cannot be after end date. startDate = 1609477200, endDate = 1582693200\n"
          ]
        },
        {
          "output_type": "stream",
          "name": "stdout",
          "text": [
            "No data found for AMZN on 2020-02-26\n"
          ]
        },
        {
          "output_type": "stream",
          "name": "stderr",
          "text": [
            "ERROR:yfinance:MSFT: Invalid input - start date cannot be after end date. startDate = 1609477200, endDate = 1582693200\n"
          ]
        },
        {
          "output_type": "stream",
          "name": "stdout",
          "text": [
            "No data found for MSFT on 2020-02-26\n"
          ]
        },
        {
          "output_type": "stream",
          "name": "stderr",
          "text": [
            "ERROR:yfinance:HMN: Invalid input - start date cannot be after end date. startDate = 1609477200, endDate = 1582002000\n"
          ]
        },
        {
          "output_type": "stream",
          "name": "stdout",
          "text": [
            "No data found for HMN on 2020-02-18\n"
          ]
        },
        {
          "output_type": "stream",
          "name": "stderr",
          "text": [
            "ERROR:yfinance:$SGEN: possibly delisted; No timezone found\n"
          ]
        },
        {
          "output_type": "stream",
          "name": "stdout",
          "text": [
            "No data found for SGEN on 2020-02-18\n"
          ]
        },
        {
          "output_type": "stream",
          "name": "stderr",
          "text": [
            "ERROR:yfinance:SGIOY: Invalid input - start date cannot be after end date. startDate = 1609477200, endDate = 1582002000\n"
          ]
        },
        {
          "output_type": "stream",
          "name": "stdout",
          "text": [
            "No data found for SGIOY on 2020-02-18\n"
          ]
        },
        {
          "output_type": "stream",
          "name": "stderr",
          "text": [
            "ERROR:yfinance:HMN: Invalid input - start date cannot be after end date. startDate = 1609477200, endDate = 1581656400\n"
          ]
        },
        {
          "output_type": "stream",
          "name": "stdout",
          "text": [
            "No data found for HMN on 2020-02-14\n"
          ]
        },
        {
          "output_type": "stream",
          "name": "stderr",
          "text": [
            "ERROR:yfinance:PCTY: Invalid input - start date cannot be after end date. startDate = 1609477200, endDate = 1581656400\n"
          ]
        },
        {
          "output_type": "stream",
          "name": "stdout",
          "text": [
            "No data found for PCTY on 2020-02-14\n"
          ]
        },
        {
          "output_type": "stream",
          "name": "stderr",
          "text": [
            "ERROR:yfinance:RPD: Invalid input - start date cannot be after end date. startDate = 1609477200, endDate = 1581656400\n"
          ]
        },
        {
          "output_type": "stream",
          "name": "stdout",
          "text": [
            "No data found for RPD on 2020-02-14\n"
          ]
        },
        {
          "output_type": "stream",
          "name": "stderr",
          "text": [
            "ERROR:yfinance:SGIOY: Invalid input - start date cannot be after end date. startDate = 1609477200, endDate = 1581656400\n"
          ]
        },
        {
          "output_type": "stream",
          "name": "stdout",
          "text": [
            "No data found for SGIOY on 2020-02-14\n"
          ]
        },
        {
          "output_type": "stream",
          "name": "stderr",
          "text": [
            "ERROR:yfinance:MSFT: Invalid input - start date cannot be after end date. startDate = 1609477200, endDate = 1581570000\n",
            "ERROR:yfinance:MSFT: Invalid input - start date cannot be after end date. startDate = 1609477200, endDate = 1581570000\n",
            "ERROR:yfinance:MSFT: Invalid input - start date cannot be after end date. startDate = 1609477200, endDate = 1581570000\n",
            "ERROR:yfinance:MSFT: Invalid input - start date cannot be after end date. startDate = 1609477200, endDate = 1581570000\n",
            "ERROR:yfinance:MSFT: Invalid input - start date cannot be after end date. startDate = 1609477200, endDate = 1581570000\n",
            "ERROR:yfinance:MSFT: Invalid input - start date cannot be after end date. startDate = 1609477200, endDate = 1581570000\n",
            "ERROR:yfinance:MSFT: Invalid input - start date cannot be after end date. startDate = 1609477200, endDate = 1581570000\n",
            "ERROR:yfinance:MSFT: Invalid input - start date cannot be after end date. startDate = 1609477200, endDate = 1581570000\n",
            "ERROR:yfinance:MSFT: Invalid input - start date cannot be after end date. startDate = 1609477200, endDate = 1581570000\n",
            "ERROR:yfinance:MSFT: Invalid input - start date cannot be after end date. startDate = 1609477200, endDate = 1581570000\n",
            "ERROR:yfinance:MSFT: Invalid input - start date cannot be after end date. startDate = 1609477200, endDate = 1581570000\n",
            "ERROR:yfinance:MSFT: Invalid input - start date cannot be after end date. startDate = 1609477200, endDate = 1581570000\n",
            "ERROR:yfinance:MSFT: Invalid input - start date cannot be after end date. startDate = 1609477200, endDate = 1581570000\n",
            "ERROR:yfinance:MSFT: Invalid input - start date cannot be after end date. startDate = 1609477200, endDate = 1581570000\n",
            "ERROR:yfinance:MSFT: Invalid input - start date cannot be after end date. startDate = 1609477200, endDate = 1581570000\n",
            "ERROR:yfinance:MSFT: Invalid input - start date cannot be after end date. startDate = 1609477200, endDate = 1581570000\n",
            "ERROR:yfinance:MSFT: Invalid input - start date cannot be after end date. startDate = 1609477200, endDate = 1581570000\n",
            "ERROR:yfinance:MSFT: Invalid input - start date cannot be after end date. startDate = 1609477200, endDate = 1581570000\n"
          ]
        },
        {
          "output_type": "stream",
          "name": "stdout",
          "text": [
            "No data found for MSFT on 2020-02-13\n",
            "No data found for MSFT on 2020-02-13\n",
            "No data found for MSFT on 2020-02-13\n",
            "No data found for MSFT on 2020-02-13\n",
            "No data found for MSFT on 2020-02-13\n",
            "No data found for MSFT on 2020-02-13\n",
            "No data found for MSFT on 2020-02-13\n",
            "No data found for MSFT on 2020-02-13\n",
            "No data found for MSFT on 2020-02-13\n",
            "No data found for MSFT on 2020-02-13\n",
            "No data found for MSFT on 2020-02-13\n",
            "No data found for MSFT on 2020-02-13\n",
            "No data found for MSFT on 2020-02-13\n",
            "No data found for MSFT on 2020-02-13\n",
            "No data found for MSFT on 2020-02-13\n",
            "No data found for MSFT on 2020-02-13\n",
            "No data found for MSFT on 2020-02-13\n",
            "No data found for MSFT on 2020-02-13\n"
          ]
        },
        {
          "output_type": "stream",
          "name": "stderr",
          "text": [
            "ERROR:yfinance:APD: Invalid input - start date cannot be after end date. startDate = 1609477200, endDate = 1580878800\n"
          ]
        },
        {
          "output_type": "stream",
          "name": "stdout",
          "text": [
            "No data found for APD on 2020-02-05\n"
          ]
        },
        {
          "output_type": "stream",
          "name": "stderr",
          "text": [
            "ERROR:yfinance:EL: Invalid input - start date cannot be after end date. startDate = 1609477200, endDate = 1580878800\n"
          ]
        },
        {
          "output_type": "stream",
          "name": "stdout",
          "text": [
            "No data found for EL on 2020-02-05\n"
          ]
        },
        {
          "output_type": "stream",
          "name": "stderr",
          "text": [
            "ERROR:yfinance:MELI: Invalid input - start date cannot be after end date. startDate = 1609477200, endDate = 1580878800\n"
          ]
        },
        {
          "output_type": "stream",
          "name": "stdout",
          "text": [
            "No data found for MELI on 2020-02-05\n"
          ]
        },
        {
          "output_type": "stream",
          "name": "stderr",
          "text": [
            "ERROR:yfinance:TEAM: Invalid input - start date cannot be after end date. startDate = 1609477200, endDate = 1580878800\n"
          ]
        },
        {
          "output_type": "stream",
          "name": "stdout",
          "text": [
            "No data found for TEAM on 2020-02-05\n"
          ]
        },
        {
          "output_type": "stream",
          "name": "stderr",
          "text": [
            "ERROR:yfinance:APD: Invalid input - start date cannot be after end date. startDate = 1609477200, endDate = 1580792400\n"
          ]
        },
        {
          "output_type": "stream",
          "name": "stdout",
          "text": [
            "No data found for APD on 2020-02-04\n"
          ]
        },
        {
          "output_type": "stream",
          "name": "stderr",
          "text": [
            "ERROR:yfinance:PCAR: Invalid input - start date cannot be after end date. startDate = 1609477200, endDate = 1580792400\n"
          ]
        },
        {
          "output_type": "stream",
          "name": "stdout",
          "text": [
            "No data found for PCAR on 2020-02-04\n"
          ]
        },
        {
          "output_type": "stream",
          "name": "stderr",
          "text": [
            "ERROR:yfinance:AAPL: Invalid input - start date cannot be after end date. startDate = 1609477200, endDate = 1580706000\n"
          ]
        },
        {
          "output_type": "stream",
          "name": "stdout",
          "text": [
            "No data found for AAPL on 2020-02-03\n"
          ]
        },
        {
          "output_type": "stream",
          "name": "stderr",
          "text": [
            "ERROR:yfinance:APD: Invalid input - start date cannot be after end date. startDate = 1609477200, endDate = 1580706000\n"
          ]
        },
        {
          "output_type": "stream",
          "name": "stdout",
          "text": [
            "No data found for APD on 2020-02-03\n"
          ]
        },
        {
          "output_type": "stream",
          "name": "stderr",
          "text": [
            "ERROR:yfinance:CTLT: Invalid input - start date cannot be after end date. startDate = 1609477200, endDate = 1580706000\n"
          ]
        },
        {
          "output_type": "stream",
          "name": "stdout",
          "text": [
            "No data found for CTLT on 2020-02-03\n"
          ]
        },
        {
          "output_type": "stream",
          "name": "stderr",
          "text": [
            "ERROR:yfinance:IART: Invalid input - start date cannot be after end date. startDate = 1609477200, endDate = 1580706000\n"
          ]
        },
        {
          "output_type": "stream",
          "name": "stdout",
          "text": [
            "No data found for IART on 2020-02-03\n"
          ]
        },
        {
          "output_type": "stream",
          "name": "stderr",
          "text": [
            "ERROR:yfinance:PCAR: Invalid input - start date cannot be after end date. startDate = 1609477200, endDate = 1580706000\n"
          ]
        },
        {
          "output_type": "stream",
          "name": "stdout",
          "text": [
            "No data found for PCAR on 2020-02-03\n"
          ]
        },
        {
          "output_type": "stream",
          "name": "stderr",
          "text": [
            "ERROR:yfinance:PHR: Invalid input - start date cannot be after end date. startDate = 1609477200, endDate = 1580706000\n"
          ]
        },
        {
          "output_type": "stream",
          "name": "stdout",
          "text": [
            "No data found for PHR on 2020-02-03\n"
          ]
        },
        {
          "output_type": "stream",
          "name": "stderr",
          "text": [
            "ERROR:yfinance:UBSI: Invalid input - start date cannot be after end date. startDate = 1609477200, endDate = 1580706000\n"
          ]
        },
        {
          "output_type": "stream",
          "name": "stdout",
          "text": [
            "No data found for UBSI on 2020-02-03\n"
          ]
        },
        {
          "output_type": "stream",
          "name": "stderr",
          "text": [
            "ERROR:yfinance:$WMGI: possibly delisted; No timezone found\n"
          ]
        },
        {
          "output_type": "stream",
          "name": "stdout",
          "text": [
            "No data found for WMGI on 2020-02-03\n"
          ]
        },
        {
          "output_type": "stream",
          "name": "stderr",
          "text": [
            "ERROR:yfinance:KMTUY: Invalid input - start date cannot be after end date. startDate = 1609477200, endDate = 1580360400\n"
          ]
        },
        {
          "output_type": "stream",
          "name": "stdout",
          "text": [
            "No data found for KMTUY on 2020-01-30\n"
          ]
        },
        {
          "output_type": "stream",
          "name": "stderr",
          "text": [
            "ERROR:yfinance:AAPL: Invalid input - start date cannot be after end date. startDate = 1609477200, endDate = 1580274000\n"
          ]
        },
        {
          "output_type": "stream",
          "name": "stdout",
          "text": [
            "No data found for AAPL on 2020-01-29\n"
          ]
        },
        {
          "output_type": "stream",
          "name": "stderr",
          "text": [
            "ERROR:yfinance:EL: Invalid input - start date cannot be after end date. startDate = 1609477200, endDate = 1579669200\n"
          ]
        },
        {
          "output_type": "stream",
          "name": "stdout",
          "text": [
            "No data found for EL on 2020-01-22\n"
          ]
        },
        {
          "output_type": "stream",
          "name": "stderr",
          "text": [
            "ERROR:yfinance:EXAS: Invalid input - start date cannot be after end date. startDate = 1609477200, endDate = 1579669200\n"
          ]
        },
        {
          "output_type": "stream",
          "name": "stdout",
          "text": [
            "No data found for EXAS on 2020-01-22\n"
          ]
        },
        {
          "output_type": "stream",
          "name": "stderr",
          "text": [
            "ERROR:yfinance:BA: Invalid input - start date cannot be after end date. startDate = 1609477200, endDate = 1579582800\n"
          ]
        },
        {
          "output_type": "stream",
          "name": "stdout",
          "text": [
            "No data found for BA on 2020-01-21\n"
          ]
        },
        {
          "output_type": "stream",
          "name": "stderr",
          "text": [
            "ERROR:yfinance:CSGP: Invalid input - start date cannot be after end date. startDate = 1609477200, endDate = 1579237200\n"
          ]
        },
        {
          "output_type": "stream",
          "name": "stdout",
          "text": [
            "No data found for CSGP on 2020-01-17\n"
          ]
        },
        {
          "output_type": "stream",
          "name": "stderr",
          "text": [
            "ERROR:yfinance:FUPBY: Invalid input - start date cannot be after end date. startDate = 1609477200, endDate = 1579237200\n"
          ]
        },
        {
          "output_type": "stream",
          "name": "stdout",
          "text": [
            "No data found for FUPBY on 2020-01-17\n"
          ]
        },
        {
          "output_type": "stream",
          "name": "stderr",
          "text": [
            "ERROR:yfinance:MSFT: Invalid input - start date cannot be after end date. startDate = 1609477200, endDate = 1579150800\n"
          ]
        },
        {
          "output_type": "stream",
          "name": "stdout",
          "text": [
            "No data found for MSFT on 2020-01-16\n"
          ]
        },
        {
          "output_type": "stream",
          "name": "stderr",
          "text": [
            "ERROR:yfinance:AAPL: Invalid input - start date cannot be after end date. startDate = 1609477200, endDate = 1578978000\n"
          ]
        },
        {
          "output_type": "stream",
          "name": "stdout",
          "text": [
            "No data found for AAPL on 2020-01-14\n"
          ]
        },
        {
          "output_type": "stream",
          "name": "stderr",
          "text": [
            "ERROR:yfinance:AMGN: Invalid input - start date cannot be after end date. startDate = 1609477200, endDate = 1578978000\n"
          ]
        },
        {
          "output_type": "stream",
          "name": "stdout",
          "text": [
            "No data found for AMGN on 2020-01-14\n"
          ]
        },
        {
          "output_type": "stream",
          "name": "stderr",
          "text": [
            "ERROR:yfinance:$CRY: possibly delisted; No timezone found\n"
          ]
        },
        {
          "output_type": "stream",
          "name": "stdout",
          "text": [
            "No data found for CRY on 2020-01-14\n"
          ]
        },
        {
          "output_type": "stream",
          "name": "stderr",
          "text": [
            "ERROR:yfinance:CYRX: Invalid input - start date cannot be after end date. startDate = 1609477200, endDate = 1578978000\n"
          ]
        },
        {
          "output_type": "stream",
          "name": "stdout",
          "text": [
            "No data found for CYRX on 2020-01-14\n"
          ]
        },
        {
          "output_type": "stream",
          "name": "stderr",
          "text": [
            "ERROR:yfinance:LULU: Invalid input - start date cannot be after end date. startDate = 1609477200, endDate = 1578978000\n"
          ]
        },
        {
          "output_type": "stream",
          "name": "stdout",
          "text": [
            "No data found for LULU on 2020-01-14\n"
          ]
        },
        {
          "output_type": "stream",
          "name": "stderr",
          "text": [
            "ERROR:yfinance:MELI: Invalid input - start date cannot be after end date. startDate = 1609477200, endDate = 1578978000\n"
          ]
        },
        {
          "output_type": "stream",
          "name": "stdout",
          "text": [
            "No data found for MELI on 2020-01-14\n"
          ]
        },
        {
          "output_type": "stream",
          "name": "stderr",
          "text": [
            "ERROR:yfinance:ABMD: Invalid input - start date cannot be after end date. startDate = 1609477200, endDate = 1578632400\n"
          ]
        },
        {
          "output_type": "stream",
          "name": "stdout",
          "text": [
            "No data found for ABMD on 2020-01-10\n"
          ]
        },
        {
          "output_type": "stream",
          "name": "stderr",
          "text": [
            "ERROR:yfinance:BBVA: Invalid input - start date cannot be after end date. startDate = 1609477200, endDate = 1578632400\n"
          ]
        },
        {
          "output_type": "stream",
          "name": "stdout",
          "text": [
            "No data found for BBVA on 2020-01-10\n"
          ]
        },
        {
          "output_type": "stream",
          "name": "stderr",
          "text": [
            "ERROR:yfinance:BEN: Invalid input - start date cannot be after end date. startDate = 1609477200, endDate = 1578632400\n"
          ]
        },
        {
          "output_type": "stream",
          "name": "stdout",
          "text": [
            "No data found for BEN on 2020-01-10\n"
          ]
        },
        {
          "output_type": "stream",
          "name": "stderr",
          "text": [
            "ERROR:yfinance:BIDU: Invalid input - start date cannot be after end date. startDate = 1609477200, endDate = 1578632400\n"
          ]
        },
        {
          "output_type": "stream",
          "name": "stdout",
          "text": [
            "No data found for BIDU on 2020-01-10\n"
          ]
        },
        {
          "output_type": "stream",
          "name": "stderr",
          "text": [
            "ERROR:yfinance:BKNG: Invalid input - start date cannot be after end date. startDate = 1609477200, endDate = 1578632400\n"
          ]
        },
        {
          "output_type": "stream",
          "name": "stdout",
          "text": [
            "No data found for BKNG on 2020-01-10\n"
          ]
        },
        {
          "output_type": "stream",
          "name": "stderr",
          "text": [
            "ERROR:yfinance:CCL: Invalid input - start date cannot be after end date. startDate = 1609477200, endDate = 1578632400\n"
          ]
        },
        {
          "output_type": "stream",
          "name": "stdout",
          "text": [
            "No data found for CCL on 2020-01-10\n"
          ]
        },
        {
          "output_type": "stream",
          "name": "stderr",
          "text": [
            "ERROR:yfinance:CENT: Invalid input - start date cannot be after end date. startDate = 1609477200, endDate = 1578632400\n"
          ]
        },
        {
          "output_type": "stream",
          "name": "stdout",
          "text": [
            "No data found for CENT on 2020-01-10\n"
          ]
        },
        {
          "output_type": "stream",
          "name": "stderr",
          "text": [
            "ERROR:yfinance:CENTA: Invalid input - start date cannot be after end date. startDate = 1609477200, endDate = 1578632400\n"
          ]
        },
        {
          "output_type": "stream",
          "name": "stdout",
          "text": [
            "No data found for CENTA on 2020-01-10\n"
          ]
        },
        {
          "output_type": "stream",
          "name": "stderr",
          "text": [
            "ERROR:yfinance:$CHL: possibly delisted; No timezone found\n"
          ]
        },
        {
          "output_type": "stream",
          "name": "stdout",
          "text": [
            "No data found for CHL on 2020-01-10\n"
          ]
        },
        {
          "output_type": "stream",
          "name": "stderr",
          "text": [
            "ERROR:yfinance:CMP: Invalid input - start date cannot be after end date. startDate = 1609477200, endDate = 1578632400\n"
          ]
        },
        {
          "output_type": "stream",
          "name": "stdout",
          "text": [
            "No data found for CMP on 2020-01-10\n"
          ]
        },
        {
          "output_type": "stream",
          "name": "stderr",
          "text": [
            "ERROR:yfinance:DNTUY: Invalid input - start date cannot be after end date. startDate = 1609477200, endDate = 1578632400\n"
          ]
        },
        {
          "output_type": "stream",
          "name": "stdout",
          "text": [
            "No data found for DNTUY on 2020-01-10\n"
          ]
        },
        {
          "output_type": "stream",
          "name": "stderr",
          "text": [
            "ERROR:yfinance:DRQ: Invalid input - start date cannot be after end date. startDate = 1609477200, endDate = 1578632400\n"
          ]
        },
        {
          "output_type": "stream",
          "name": "stdout",
          "text": [
            "No data found for DRQ on 2020-01-10\n"
          ]
        },
        {
          "output_type": "stream",
          "name": "stderr",
          "text": [
            "ERROR:yfinance:EXAS: Invalid input - start date cannot be after end date. startDate = 1609477200, endDate = 1578632400\n"
          ]
        },
        {
          "output_type": "stream",
          "name": "stdout",
          "text": [
            "No data found for EXAS on 2020-01-10\n"
          ]
        },
        {
          "output_type": "stream",
          "name": "stderr",
          "text": [
            "ERROR:yfinance:MTDR: Invalid input - start date cannot be after end date. startDate = 1609477200, endDate = 1578632400\n"
          ]
        },
        {
          "output_type": "stream",
          "name": "stdout",
          "text": [
            "No data found for MTDR on 2020-01-10\n"
          ]
        },
        {
          "output_type": "stream",
          "name": "stderr",
          "text": [
            "ERROR:yfinance:PRIM: Invalid input - start date cannot be after end date. startDate = 1609477200, endDate = 1578632400\n"
          ]
        },
        {
          "output_type": "stream",
          "name": "stdout",
          "text": [
            "No data found for PRIM on 2020-01-10\n"
          ]
        },
        {
          "output_type": "stream",
          "name": "stderr",
          "text": [
            "ERROR:yfinance:SLB: Invalid input - start date cannot be after end date. startDate = 1609477200, endDate = 1578632400\n"
          ]
        },
        {
          "output_type": "stream",
          "name": "stdout",
          "text": [
            "No data found for SLB on 2020-01-10\n"
          ]
        },
        {
          "output_type": "stream",
          "name": "stderr",
          "text": [
            "ERROR:yfinance:SSL: Invalid input - start date cannot be after end date. startDate = 1609477200, endDate = 1578632400\n"
          ]
        },
        {
          "output_type": "stream",
          "name": "stdout",
          "text": [
            "No data found for SSL on 2020-01-10\n"
          ]
        },
        {
          "output_type": "stream",
          "name": "stderr",
          "text": [
            "ERROR:yfinance:UBSI: Invalid input - start date cannot be after end date. startDate = 1609477200, endDate = 1578632400\n"
          ]
        },
        {
          "output_type": "stream",
          "name": "stdout",
          "text": [
            "No data found for UBSI on 2020-01-10\n"
          ]
        },
        {
          "output_type": "stream",
          "name": "stderr",
          "text": [
            "ERROR:yfinance:MA: Invalid input - start date cannot be after end date. startDate = 1609477200, endDate = 1578546000\n"
          ]
        },
        {
          "output_type": "stream",
          "name": "stdout",
          "text": [
            "No data found for MA on 2020-01-09\n"
          ]
        },
        {
          "output_type": "stream",
          "name": "stderr",
          "text": [
            "ERROR:yfinance:MSFT: Invalid input - start date cannot be after end date. startDate = 1609477200, endDate = 1578546000\n",
            "ERROR:yfinance:MSFT: Invalid input - start date cannot be after end date. startDate = 1609477200, endDate = 1578546000\n"
          ]
        },
        {
          "output_type": "stream",
          "name": "stdout",
          "text": [
            "No data found for MSFT on 2020-01-09\n",
            "No data found for MSFT on 2020-01-09\n"
          ]
        },
        {
          "output_type": "stream",
          "name": "stderr",
          "text": [
            "ERROR:yfinance:BA: Invalid input - start date cannot be after end date. startDate = 1609477200, endDate = 1578373200\n"
          ]
        },
        {
          "output_type": "stream",
          "name": "stdout",
          "text": [
            "No data found for BA on 2020-01-07\n"
          ]
        },
        {
          "output_type": "stream",
          "name": "stderr",
          "text": [
            "ERROR:yfinance:DASTY: Invalid input - start date cannot be after end date. startDate = 1609477200, endDate = 1577682000\n"
          ]
        },
        {
          "output_type": "stream",
          "name": "stdout",
          "text": [
            "No data found for DASTY on 2019-12-30\n"
          ]
        },
        {
          "output_type": "stream",
          "name": "stderr",
          "text": [
            "ERROR:yfinance:KMTUY: Invalid input - start date cannot be after end date. startDate = 1609477200, endDate = 1577682000\n"
          ]
        },
        {
          "output_type": "stream",
          "name": "stdout",
          "text": [
            "No data found for KMTUY on 2019-12-30\n"
          ]
        },
        {
          "output_type": "stream",
          "name": "stderr",
          "text": [
            "ERROR:yfinance:UNICY: Invalid input - start date cannot be after end date. startDate = 1609477200, endDate = 1577682000\n"
          ]
        },
        {
          "output_type": "stream",
          "name": "stdout",
          "text": [
            "No data found for UNICY on 2019-12-30\n"
          ]
        },
        {
          "output_type": "stream",
          "name": "stderr",
          "text": [
            "ERROR:yfinance:SPGI: Invalid input - start date cannot be after end date. startDate = 1609477200, endDate = 1577077200\n"
          ]
        },
        {
          "output_type": "stream",
          "name": "stdout",
          "text": [
            "No data found for SPGI on 2019-12-23\n"
          ]
        },
        {
          "output_type": "stream",
          "name": "stderr",
          "text": [
            "ERROR:yfinance:BMRN: Invalid input - start date cannot be after end date. startDate = 1609477200, endDate = 1576472400\n"
          ]
        },
        {
          "output_type": "stream",
          "name": "stdout",
          "text": [
            "No data found for BMRN on 2019-12-16\n"
          ]
        },
        {
          "output_type": "stream",
          "name": "stderr",
          "text": [
            "ERROR:yfinance:ICE: Invalid input - start date cannot be after end date. startDate = 1609477200, endDate = 1576472400\n"
          ]
        },
        {
          "output_type": "stream",
          "name": "stdout",
          "text": [
            "No data found for ICE on 2019-12-16\n"
          ]
        },
        {
          "output_type": "stream",
          "name": "stderr",
          "text": [
            "ERROR:yfinance:SSNC: Invalid input - start date cannot be after end date. startDate = 1609477200, endDate = 1576472400\n"
          ]
        },
        {
          "output_type": "stream",
          "name": "stdout",
          "text": [
            "No data found for SSNC on 2019-12-16\n"
          ]
        },
        {
          "output_type": "stream",
          "name": "stderr",
          "text": [
            "ERROR:yfinance:SRPT: Invalid input - start date cannot be after end date. startDate = 1609477200, endDate = 1576213200\n"
          ]
        },
        {
          "output_type": "stream",
          "name": "stdout",
          "text": [
            "No data found for SRPT on 2019-12-13\n"
          ]
        },
        {
          "output_type": "stream",
          "name": "stderr",
          "text": [
            "ERROR:yfinance:BMRN: Invalid input - start date cannot be after end date. startDate = 1609477200, endDate = 1576040400\n"
          ]
        },
        {
          "output_type": "stream",
          "name": "stdout",
          "text": [
            "No data found for BMRN on 2019-12-11\n"
          ]
        },
        {
          "output_type": "stream",
          "name": "stderr",
          "text": [
            "ERROR:yfinance:ABMD: Invalid input - start date cannot be after end date. startDate = 1609477200, endDate = 1575954000\n"
          ]
        },
        {
          "output_type": "stream",
          "name": "stdout",
          "text": [
            "No data found for ABMD on 2019-12-10\n"
          ]
        },
        {
          "output_type": "stream",
          "name": "stderr",
          "text": [
            "ERROR:yfinance:BBVA: Invalid input - start date cannot be after end date. startDate = 1609477200, endDate = 1575954000\n"
          ]
        },
        {
          "output_type": "stream",
          "name": "stdout",
          "text": [
            "No data found for BBVA on 2019-12-10\n"
          ]
        },
        {
          "output_type": "stream",
          "name": "stderr",
          "text": [
            "ERROR:yfinance:BEN: Invalid input - start date cannot be after end date. startDate = 1609477200, endDate = 1575954000\n"
          ]
        },
        {
          "output_type": "stream",
          "name": "stdout",
          "text": [
            "No data found for BEN on 2019-12-10\n"
          ]
        },
        {
          "output_type": "stream",
          "name": "stderr",
          "text": [
            "ERROR:yfinance:BIDU: Invalid input - start date cannot be after end date. startDate = 1609477200, endDate = 1575954000\n"
          ]
        },
        {
          "output_type": "stream",
          "name": "stdout",
          "text": [
            "No data found for BIDU on 2019-12-10\n"
          ]
        },
        {
          "output_type": "stream",
          "name": "stderr",
          "text": [
            "ERROR:yfinance:BKNG: Invalid input - start date cannot be after end date. startDate = 1609477200, endDate = 1575954000\n"
          ]
        },
        {
          "output_type": "stream",
          "name": "stdout",
          "text": [
            "No data found for BKNG on 2019-12-10\n"
          ]
        },
        {
          "output_type": "stream",
          "name": "stderr",
          "text": [
            "ERROR:yfinance:CCL: Invalid input - start date cannot be after end date. startDate = 1609477200, endDate = 1575954000\n"
          ]
        },
        {
          "output_type": "stream",
          "name": "stdout",
          "text": [
            "No data found for CCL on 2019-12-10\n"
          ]
        },
        {
          "output_type": "stream",
          "name": "stderr",
          "text": [
            "ERROR:yfinance:CENT: Invalid input - start date cannot be after end date. startDate = 1609477200, endDate = 1575954000\n"
          ]
        },
        {
          "output_type": "stream",
          "name": "stdout",
          "text": [
            "No data found for CENT on 2019-12-10\n"
          ]
        },
        {
          "output_type": "stream",
          "name": "stderr",
          "text": [
            "ERROR:yfinance:CENTA: Invalid input - start date cannot be after end date. startDate = 1609477200, endDate = 1575954000\n",
            "ERROR:yfinance:$CHL: possibly delisted; No timezone found\n"
          ]
        },
        {
          "output_type": "stream",
          "name": "stdout",
          "text": [
            "No data found for CENTA on 2019-12-10\n",
            "No data found for CHL on 2019-12-10\n"
          ]
        },
        {
          "output_type": "stream",
          "name": "stderr",
          "text": [
            "ERROR:yfinance:CMP: Invalid input - start date cannot be after end date. startDate = 1609477200, endDate = 1575954000\n"
          ]
        },
        {
          "output_type": "stream",
          "name": "stdout",
          "text": [
            "No data found for CMP on 2019-12-10\n"
          ]
        },
        {
          "output_type": "stream",
          "name": "stderr",
          "text": [
            "ERROR:yfinance:DNTUY: Invalid input - start date cannot be after end date. startDate = 1609477200, endDate = 1575954000\n"
          ]
        },
        {
          "output_type": "stream",
          "name": "stdout",
          "text": [
            "No data found for DNTUY on 2019-12-10\n"
          ]
        },
        {
          "output_type": "stream",
          "name": "stderr",
          "text": [
            "ERROR:yfinance:DRQ: Invalid input - start date cannot be after end date. startDate = 1609477200, endDate = 1575954000\n"
          ]
        },
        {
          "output_type": "stream",
          "name": "stdout",
          "text": [
            "No data found for DRQ on 2019-12-10\n"
          ]
        },
        {
          "output_type": "stream",
          "name": "stderr",
          "text": [
            "ERROR:yfinance:EXAS: Invalid input - start date cannot be after end date. startDate = 1609477200, endDate = 1575954000\n"
          ]
        },
        {
          "output_type": "stream",
          "name": "stdout",
          "text": [
            "No data found for EXAS on 2019-12-10\n"
          ]
        },
        {
          "output_type": "stream",
          "name": "stderr",
          "text": [
            "ERROR:yfinance:IFNNY: Invalid input - start date cannot be after end date. startDate = 1609477200, endDate = 1575954000\n"
          ]
        },
        {
          "output_type": "stream",
          "name": "stdout",
          "text": [
            "No data found for IFNNY on 2019-12-10\n"
          ]
        },
        {
          "output_type": "stream",
          "name": "stderr",
          "text": [
            "ERROR:yfinance:MTDR: Invalid input - start date cannot be after end date. startDate = 1609477200, endDate = 1575954000\n"
          ]
        },
        {
          "output_type": "stream",
          "name": "stdout",
          "text": [
            "No data found for MTDR on 2019-12-10\n"
          ]
        },
        {
          "output_type": "stream",
          "name": "stderr",
          "text": [
            "ERROR:yfinance:PRIM: Invalid input - start date cannot be after end date. startDate = 1609477200, endDate = 1575954000\n"
          ]
        },
        {
          "output_type": "stream",
          "name": "stdout",
          "text": [
            "No data found for PRIM on 2019-12-10\n"
          ]
        },
        {
          "output_type": "stream",
          "name": "stderr",
          "text": [
            "ERROR:yfinance:RHP: Invalid input - start date cannot be after end date. startDate = 1609477200, endDate = 1575954000\n"
          ]
        },
        {
          "output_type": "stream",
          "name": "stdout",
          "text": [
            "No data found for RHP on 2019-12-10\n"
          ]
        },
        {
          "output_type": "stream",
          "name": "stderr",
          "text": [
            "ERROR:yfinance:SLB: Invalid input - start date cannot be after end date. startDate = 1609477200, endDate = 1575954000\n"
          ]
        },
        {
          "output_type": "stream",
          "name": "stdout",
          "text": [
            "No data found for SLB on 2019-12-10\n"
          ]
        },
        {
          "output_type": "stream",
          "name": "stderr",
          "text": [
            "ERROR:yfinance:SSL: Invalid input - start date cannot be after end date. startDate = 1609477200, endDate = 1575954000\n"
          ]
        },
        {
          "output_type": "stream",
          "name": "stdout",
          "text": [
            "No data found for SSL on 2019-12-10\n"
          ]
        },
        {
          "output_type": "stream",
          "name": "stderr",
          "text": [
            "ERROR:yfinance:UBSI: Invalid input - start date cannot be after end date. startDate = 1609477200, endDate = 1575954000\n"
          ]
        },
        {
          "output_type": "stream",
          "name": "stdout",
          "text": [
            "No data found for UBSI on 2019-12-10\n"
          ]
        },
        {
          "output_type": "stream",
          "name": "stderr",
          "text": [
            "ERROR:yfinance:BABA: Invalid input - start date cannot be after end date. startDate = 1609477200, endDate = 1575608400\n"
          ]
        },
        {
          "output_type": "stream",
          "name": "stdout",
          "text": [
            "No data found for BABA on 2019-12-06\n"
          ]
        },
        {
          "output_type": "stream",
          "name": "stderr",
          "text": [
            "ERROR:yfinance:VCYT: Invalid input - start date cannot be after end date. startDate = 1609477200, endDate = 1575608400\n"
          ]
        },
        {
          "output_type": "stream",
          "name": "stdout",
          "text": [
            "No data found for VCYT on 2019-12-06\n"
          ]
        },
        {
          "output_type": "stream",
          "name": "stderr",
          "text": [
            "ERROR:yfinance:HSBC: Invalid input - start date cannot be after end date. startDate = 1609477200, endDate = 1574830800\n"
          ]
        },
        {
          "output_type": "stream",
          "name": "stdout",
          "text": [
            "No data found for HSBC on 2019-11-27\n"
          ]
        },
        {
          "output_type": "stream",
          "name": "stderr",
          "text": [
            "ERROR:yfinance:LZAGY: Invalid input - start date cannot be after end date. startDate = 1609477200, endDate = 1574830800\n"
          ]
        },
        {
          "output_type": "stream",
          "name": "stdout",
          "text": [
            "No data found for LZAGY on 2019-11-27\n"
          ]
        },
        {
          "output_type": "stream",
          "name": "stderr",
          "text": [
            "ERROR:yfinance:NPSNY: Invalid input - start date cannot be after end date. startDate = 1609477200, endDate = 1574830800\n"
          ]
        },
        {
          "output_type": "stream",
          "name": "stdout",
          "text": [
            "No data found for NPSNY on 2019-11-27\n"
          ]
        },
        {
          "output_type": "stream",
          "name": "stderr",
          "text": [
            "ERROR:yfinance:RHHBY: Invalid input - start date cannot be after end date. startDate = 1609477200, endDate = 1574830800\n"
          ]
        },
        {
          "output_type": "stream",
          "name": "stdout",
          "text": [
            "No data found for RHHBY on 2019-11-27\n"
          ]
        },
        {
          "output_type": "stream",
          "name": "stderr",
          "text": [
            "ERROR:yfinance:SBGSY: Invalid input - start date cannot be after end date. startDate = 1609477200, endDate = 1574830800\n"
          ]
        },
        {
          "output_type": "stream",
          "name": "stdout",
          "text": [
            "No data found for SBGSY on 2019-11-27\n"
          ]
        },
        {
          "output_type": "stream",
          "name": "stderr",
          "text": [
            "ERROR:yfinance:BABA: Invalid input - start date cannot be after end date. startDate = 1609477200, endDate = 1574744400\n"
          ]
        },
        {
          "output_type": "stream",
          "name": "stdout",
          "text": [
            "No data found for BABA on 2019-11-26\n"
          ]
        },
        {
          "output_type": "stream",
          "name": "stderr",
          "text": [
            "ERROR:yfinance:V: Invalid input - start date cannot be after end date. startDate = 1609477200, endDate = 1574744400\n"
          ]
        },
        {
          "output_type": "stream",
          "name": "stdout",
          "text": [
            "No data found for V on 2019-11-26\n"
          ]
        },
        {
          "output_type": "stream",
          "name": "stderr",
          "text": [
            "ERROR:yfinance:CSGP: Invalid input - start date cannot be after end date. startDate = 1609477200, endDate = 1574398800\n"
          ]
        },
        {
          "output_type": "stream",
          "name": "stdout",
          "text": [
            "No data found for CSGP on 2019-11-22\n"
          ]
        },
        {
          "output_type": "stream",
          "name": "stderr",
          "text": [
            "ERROR:yfinance:AMGN: Invalid input - start date cannot be after end date. startDate = 1609477200, endDate = 1574226000\n"
          ]
        },
        {
          "output_type": "stream",
          "name": "stdout",
          "text": [
            "No data found for AMGN on 2019-11-20\n"
          ]
        },
        {
          "output_type": "stream",
          "name": "stderr",
          "text": [
            "ERROR:yfinance:TEAM: Invalid input - start date cannot be after end date. startDate = 1609477200, endDate = 1574226000\n"
          ]
        },
        {
          "output_type": "stream",
          "name": "stdout",
          "text": [
            "No data found for TEAM on 2019-11-20\n"
          ]
        },
        {
          "output_type": "stream",
          "name": "stderr",
          "text": [
            "ERROR:yfinance:MSFT: Invalid input - start date cannot be after end date. startDate = 1609477200, endDate = 1574139600\n"
          ]
        },
        {
          "output_type": "stream",
          "name": "stdout",
          "text": [
            "No data found for MSFT on 2019-11-19\n"
          ]
        },
        {
          "output_type": "stream",
          "name": "stderr",
          "text": [
            "ERROR:yfinance:MSFT: Invalid input - start date cannot be after end date. startDate = 1609477200, endDate = 1574053200\n",
            "ERROR:yfinance:MSFT: Invalid input - start date cannot be after end date. startDate = 1609477200, endDate = 1574053200\n",
            "ERROR:yfinance:MSFT: Invalid input - start date cannot be after end date. startDate = 1609477200, endDate = 1574053200\n",
            "ERROR:yfinance:MSFT: Invalid input - start date cannot be after end date. startDate = 1609477200, endDate = 1574053200\n",
            "ERROR:yfinance:MSFT: Invalid input - start date cannot be after end date. startDate = 1609477200, endDate = 1574053200\n",
            "ERROR:yfinance:MSFT: Invalid input - start date cannot be after end date. startDate = 1609477200, endDate = 1574053200\n"
          ]
        },
        {
          "output_type": "stream",
          "name": "stdout",
          "text": [
            "No data found for MSFT on 2019-11-18\n",
            "No data found for MSFT on 2019-11-18\n",
            "No data found for MSFT on 2019-11-18\n",
            "No data found for MSFT on 2019-11-18\n",
            "No data found for MSFT on 2019-11-18\n",
            "No data found for MSFT on 2019-11-18\n"
          ]
        },
        {
          "output_type": "stream",
          "name": "stderr",
          "text": [
            "ERROR:yfinance:ROP: Invalid input - start date cannot be after end date. startDate = 1609477200, endDate = 1573707600\n"
          ]
        },
        {
          "output_type": "stream",
          "name": "stdout",
          "text": [
            "No data found for ROP on 2019-11-14\n"
          ]
        },
        {
          "output_type": "stream",
          "name": "stderr",
          "text": [
            "ERROR:yfinance:NOW: Invalid input - start date cannot be after end date. startDate = 1609477200, endDate = 1573534800\n"
          ]
        },
        {
          "output_type": "stream",
          "name": "stdout",
          "text": [
            "No data found for NOW on 2019-11-12\n"
          ]
        },
        {
          "output_type": "stream",
          "name": "stderr",
          "text": [
            "ERROR:yfinance:CINF: Invalid input - start date cannot be after end date. startDate = 1609477200, endDate = 1573448400\n"
          ]
        },
        {
          "output_type": "stream",
          "name": "stdout",
          "text": [
            "No data found for CINF on 2019-11-11\n"
          ]
        },
        {
          "output_type": "stream",
          "name": "stderr",
          "text": [
            "ERROR:yfinance:TSLA: Invalid input - start date cannot be after end date. startDate = 1609477200, endDate = 1573448400\n"
          ]
        },
        {
          "output_type": "stream",
          "name": "stdout",
          "text": [
            "No data found for TSLA on 2019-11-11\n"
          ]
        },
        {
          "output_type": "stream",
          "name": "stderr",
          "text": [
            "ERROR:yfinance:AMGN: Invalid input - start date cannot be after end date. startDate = 1609477200, endDate = 1573102800\n"
          ]
        },
        {
          "output_type": "stream",
          "name": "stdout",
          "text": [
            "No data found for AMGN on 2019-11-07\n"
          ]
        },
        {
          "output_type": "stream",
          "name": "stderr",
          "text": [
            "ERROR:yfinance:BDX: Invalid input - start date cannot be after end date. startDate = 1609477200, endDate = 1573102800\n"
          ]
        },
        {
          "output_type": "stream",
          "name": "stdout",
          "text": [
            "No data found for BDX on 2019-11-07\n"
          ]
        },
        {
          "output_type": "stream",
          "name": "stderr",
          "text": [
            "ERROR:yfinance:GOOG: Invalid input - start date cannot be after end date. startDate = 1609477200, endDate = 1573102800\n"
          ]
        },
        {
          "output_type": "stream",
          "name": "stdout",
          "text": [
            "No data found for GOOG on 2019-11-07\n"
          ]
        },
        {
          "output_type": "stream",
          "name": "stderr",
          "text": [
            "ERROR:yfinance:TSLA: Invalid input - start date cannot be after end date. startDate = 1609477200, endDate = 1573102800\n"
          ]
        },
        {
          "output_type": "stream",
          "name": "stdout",
          "text": [
            "No data found for TSLA on 2019-11-07\n"
          ]
        },
        {
          "output_type": "stream",
          "name": "stderr",
          "text": [
            "ERROR:yfinance:BKNG: Invalid input - start date cannot be after end date. startDate = 1609477200, endDate = 1572930000\n"
          ]
        },
        {
          "output_type": "stream",
          "name": "stdout",
          "text": [
            "No data found for BKNG on 2019-11-05\n"
          ]
        },
        {
          "output_type": "stream",
          "name": "stderr",
          "text": [
            "ERROR:yfinance:GOOG: Invalid input - start date cannot be after end date. startDate = 1609477200, endDate = 1572930000\n"
          ]
        },
        {
          "output_type": "stream",
          "name": "stdout",
          "text": [
            "No data found for GOOG on 2019-11-05\n"
          ]
        },
        {
          "output_type": "stream",
          "name": "stderr",
          "text": [
            "ERROR:yfinance:ICE: Invalid input - start date cannot be after end date. startDate = 1609477200, endDate = 1572930000\n"
          ]
        },
        {
          "output_type": "stream",
          "name": "stdout",
          "text": [
            "No data found for ICE on 2019-11-05\n"
          ]
        },
        {
          "output_type": "stream",
          "name": "stderr",
          "text": [
            "ERROR:yfinance:$IBKC: possibly delisted; No timezone found\n"
          ]
        },
        {
          "output_type": "stream",
          "name": "stdout",
          "text": [
            "No data found for IBKC on 2019-11-01\n"
          ]
        },
        {
          "output_type": "stream",
          "name": "stderr",
          "text": [
            "ERROR:yfinance:MS: Invalid input - start date cannot be after end date. startDate = 1609477200, endDate = 1572580800\n"
          ]
        },
        {
          "output_type": "stream",
          "name": "stdout",
          "text": [
            "No data found for MS on 2019-11-01\n"
          ]
        },
        {
          "output_type": "stream",
          "name": "stderr",
          "text": [
            "ERROR:yfinance:NOW: Invalid input - start date cannot be after end date. startDate = 1609477200, endDate = 1572580800\n"
          ]
        },
        {
          "output_type": "stream",
          "name": "stdout",
          "text": [
            "No data found for NOW on 2019-11-01\n"
          ]
        },
        {
          "output_type": "stream",
          "name": "stderr",
          "text": [
            "ERROR:yfinance:REGN: Invalid input - start date cannot be after end date. startDate = 1609477200, endDate = 1572580800\n"
          ]
        },
        {
          "output_type": "stream",
          "name": "stdout",
          "text": [
            "No data found for REGN on 2019-11-01\n"
          ]
        },
        {
          "output_type": "stream",
          "name": "stderr",
          "text": [
            "ERROR:yfinance:SBCF: Invalid input - start date cannot be after end date. startDate = 1609477200, endDate = 1572580800\n"
          ]
        },
        {
          "output_type": "stream",
          "name": "stdout",
          "text": [
            "No data found for SBCF on 2019-11-01\n"
          ]
        },
        {
          "output_type": "stream",
          "name": "stderr",
          "text": [
            "ERROR:yfinance:BA: Invalid input - start date cannot be after end date. startDate = 1609477200, endDate = 1572494400\n"
          ]
        },
        {
          "output_type": "stream",
          "name": "stdout",
          "text": [
            "No data found for BA on 2019-10-31\n"
          ]
        },
        {
          "output_type": "stream",
          "name": "stderr",
          "text": [
            "ERROR:yfinance:EL: Invalid input - start date cannot be after end date. startDate = 1609477200, endDate = 1572494400\n"
          ]
        },
        {
          "output_type": "stream",
          "name": "stdout",
          "text": [
            "No data found for EL on 2019-10-31\n"
          ]
        },
        {
          "output_type": "stream",
          "name": "stderr",
          "text": [
            "ERROR:yfinance:$FB: possibly delisted; No timezone found\n"
          ]
        },
        {
          "output_type": "stream",
          "name": "stdout",
          "text": [
            "No data found for FB on 2019-10-30\n"
          ]
        },
        {
          "output_type": "stream",
          "name": "stderr",
          "text": [
            "ERROR:yfinance:NOW: Invalid input - start date cannot be after end date. startDate = 1609477200, endDate = 1572235200\n"
          ]
        },
        {
          "output_type": "stream",
          "name": "stdout",
          "text": [
            "No data found for NOW on 2019-10-28\n"
          ]
        },
        {
          "output_type": "stream",
          "name": "stderr",
          "text": [
            "ERROR:yfinance:TSLA: Invalid input - start date cannot be after end date. startDate = 1609477200, endDate = 1572235200\n"
          ]
        },
        {
          "output_type": "stream",
          "name": "stdout",
          "text": [
            "No data found for TSLA on 2019-10-28\n"
          ]
        },
        {
          "output_type": "stream",
          "name": "stderr",
          "text": [
            "ERROR:yfinance:GOOG: Invalid input - start date cannot be after end date. startDate = 1609477200, endDate = 1571976000\n"
          ]
        },
        {
          "output_type": "stream",
          "name": "stdout",
          "text": [
            "No data found for GOOG on 2019-10-25\n"
          ]
        },
        {
          "output_type": "stream",
          "name": "stderr",
          "text": [
            "ERROR:yfinance:GOOG: Invalid input - start date cannot be after end date. startDate = 1609477200, endDate = 1571889600\n"
          ]
        },
        {
          "output_type": "stream",
          "name": "stdout",
          "text": [
            "No data found for GOOG on 2019-10-24\n"
          ]
        },
        {
          "output_type": "stream",
          "name": "stderr",
          "text": [
            "ERROR:yfinance:ASML: Invalid input - start date cannot be after end date. startDate = 1609477200, endDate = 1571630400\n"
          ]
        },
        {
          "output_type": "stream",
          "name": "stdout",
          "text": [
            "No data found for ASML on 2019-10-21\n"
          ]
        },
        {
          "output_type": "stream",
          "name": "stderr",
          "text": [
            "ERROR:yfinance:LVS: Invalid input - start date cannot be after end date. startDate = 1609477200, endDate = 1571630400\n"
          ]
        },
        {
          "output_type": "stream",
          "name": "stdout",
          "text": [
            "No data found for LVS on 2019-10-21\n"
          ]
        },
        {
          "output_type": "stream",
          "name": "stderr",
          "text": [
            "ERROR:yfinance:TWLO: Invalid input - start date cannot be after end date. startDate = 1609477200, endDate = 1571630400\n"
          ]
        },
        {
          "output_type": "stream",
          "name": "stdout",
          "text": [
            "No data found for TWLO on 2019-10-21\n"
          ]
        },
        {
          "output_type": "stream",
          "name": "stderr",
          "text": [
            "ERROR:yfinance:$XLNX: possibly delisted; No timezone found\n"
          ]
        },
        {
          "output_type": "stream",
          "name": "stdout",
          "text": [
            "No data found for XLNX on 2019-10-21\n"
          ]
        },
        {
          "output_type": "stream",
          "name": "stderr",
          "text": [
            "ERROR:yfinance:$ZEN: possibly delisted; No timezone found\n"
          ]
        },
        {
          "output_type": "stream",
          "name": "stdout",
          "text": [
            "No data found for ZEN on 2019-10-21\n"
          ]
        },
        {
          "output_type": "stream",
          "name": "stderr",
          "text": [
            "ERROR:yfinance:$CBM: possibly delisted; No timezone found\n"
          ]
        },
        {
          "output_type": "stream",
          "name": "stdout",
          "text": [
            "No data found for CBM on 2019-10-18\n"
          ]
        },
        {
          "output_type": "stream",
          "name": "stderr",
          "text": [
            "ERROR:yfinance:FIVE: Invalid input - start date cannot be after end date. startDate = 1609477200, endDate = 1571371200\n"
          ]
        },
        {
          "output_type": "stream",
          "name": "stdout",
          "text": [
            "No data found for FIVE on 2019-10-18\n"
          ]
        },
        {
          "output_type": "stream",
          "name": "stderr",
          "text": [
            "ERROR:yfinance:OLLI: Invalid input - start date cannot be after end date. startDate = 1609477200, endDate = 1571371200\n"
          ]
        },
        {
          "output_type": "stream",
          "name": "stdout",
          "text": [
            "No data found for OLLI on 2019-10-18\n"
          ]
        },
        {
          "output_type": "stream",
          "name": "stderr",
          "text": [
            "ERROR:yfinance:TXN: Invalid input - start date cannot be after end date. startDate = 1609477200, endDate = 1571198400\n"
          ]
        },
        {
          "output_type": "stream",
          "name": "stdout",
          "text": [
            "No data found for TXN on 2019-10-16\n"
          ]
        },
        {
          "output_type": "stream",
          "name": "stderr",
          "text": [
            "ERROR:yfinance:ASML: Invalid input - start date cannot be after end date. startDate = 1609477200, endDate = 1571112000\n"
          ]
        },
        {
          "output_type": "stream",
          "name": "stdout",
          "text": [
            "No data found for ASML on 2019-10-15\n"
          ]
        },
        {
          "output_type": "stream",
          "name": "stderr",
          "text": [
            "ERROR:yfinance:MA: Invalid input - start date cannot be after end date. startDate = 1609477200, endDate = 1570593600\n"
          ]
        },
        {
          "output_type": "stream",
          "name": "stdout",
          "text": [
            "No data found for MA on 2019-10-09\n"
          ]
        },
        {
          "output_type": "stream",
          "name": "stderr",
          "text": [
            "ERROR:yfinance:GOOG: Invalid input - start date cannot be after end date. startDate = 1609477200, endDate = 1570420800\n"
          ]
        },
        {
          "output_type": "stream",
          "name": "stdout",
          "text": [
            "No data found for GOOG on 2019-10-07\n"
          ]
        },
        {
          "output_type": "stream",
          "name": "stderr",
          "text": [
            "ERROR:yfinance:MSFT: Invalid input - start date cannot be after end date. startDate = 1609477200, endDate = 1569988800\n",
            "ERROR:yfinance:MSFT: Invalid input - start date cannot be after end date. startDate = 1609477200, endDate = 1569988800\n"
          ]
        },
        {
          "output_type": "stream",
          "name": "stdout",
          "text": [
            "No data found for MSFT on 2019-10-02\n",
            "No data found for MSFT on 2019-10-02\n"
          ]
        },
        {
          "output_type": "stream",
          "name": "stderr",
          "text": [
            "ERROR:yfinance:TSM: Invalid input - start date cannot be after end date. startDate = 1609477200, endDate = 1569816000\n"
          ]
        },
        {
          "output_type": "stream",
          "name": "stdout",
          "text": [
            "No data found for TSM on 2019-09-30\n"
          ]
        },
        {
          "output_type": "stream",
          "name": "stderr",
          "text": [
            "ERROR:yfinance:UNH: Invalid input - start date cannot be after end date. startDate = 1609477200, endDate = 1569556800\n"
          ]
        },
        {
          "output_type": "stream",
          "name": "stdout",
          "text": [
            "No data found for UNH on 2019-09-27\n"
          ]
        },
        {
          "output_type": "stream",
          "name": "stderr",
          "text": [
            "ERROR:yfinance:BKNG: Invalid input - start date cannot be after end date. startDate = 1609477200, endDate = 1568952000\n"
          ]
        },
        {
          "output_type": "stream",
          "name": "stdout",
          "text": [
            "No data found for BKNG on 2019-09-20\n"
          ]
        },
        {
          "output_type": "stream",
          "name": "stderr",
          "text": [
            "ERROR:yfinance:ISRG: Invalid input - start date cannot be after end date. startDate = 1609477200, endDate = 1568952000\n"
          ]
        },
        {
          "output_type": "stream",
          "name": "stdout",
          "text": [
            "No data found for ISRG on 2019-09-20\n"
          ]
        },
        {
          "output_type": "stream",
          "name": "stderr",
          "text": [
            "ERROR:yfinance:REGN: Invalid input - start date cannot be after end date. startDate = 1609477200, endDate = 1568952000\n"
          ]
        },
        {
          "output_type": "stream",
          "name": "stdout",
          "text": [
            "No data found for REGN on 2019-09-20\n"
          ]
        },
        {
          "output_type": "stream",
          "name": "stderr",
          "text": [
            "ERROR:yfinance:VRTX: Invalid input - start date cannot be after end date. startDate = 1609477200, endDate = 1568865600\n"
          ]
        },
        {
          "output_type": "stream",
          "name": "stdout",
          "text": [
            "No data found for VRTX on 2019-09-19\n"
          ]
        },
        {
          "output_type": "stream",
          "name": "stderr",
          "text": [
            "ERROR:yfinance:COST: Invalid input - start date cannot be after end date. startDate = 1609477200, endDate = 1568606400\n"
          ]
        },
        {
          "output_type": "stream",
          "name": "stdout",
          "text": [
            "No data found for COST on 2019-09-16\n"
          ]
        },
        {
          "output_type": "stream",
          "name": "stderr",
          "text": [
            "ERROR:yfinance:LULU: Invalid input - start date cannot be after end date. startDate = 1609477200, endDate = 1568606400\n"
          ]
        },
        {
          "output_type": "stream",
          "name": "stdout",
          "text": [
            "No data found for LULU on 2019-09-16\n"
          ]
        },
        {
          "output_type": "stream",
          "name": "stderr",
          "text": [
            "ERROR:yfinance:MNST: Invalid input - start date cannot be after end date. startDate = 1609477200, endDate = 1568606400\n"
          ]
        },
        {
          "output_type": "stream",
          "name": "stdout",
          "text": [
            "No data found for MNST on 2019-09-16\n"
          ]
        },
        {
          "output_type": "stream",
          "name": "stderr",
          "text": [
            "ERROR:yfinance:MSFT: Invalid input - start date cannot be after end date. startDate = 1609477200, endDate = 1568606400\n",
            "ERROR:yfinance:MSFT: Invalid input - start date cannot be after end date. startDate = 1609477200, endDate = 1568606400\n"
          ]
        },
        {
          "output_type": "stream",
          "name": "stdout",
          "text": [
            "No data found for MSFT on 2019-09-16\n",
            "No data found for MSFT on 2019-09-16\n"
          ]
        },
        {
          "output_type": "stream",
          "name": "stderr",
          "text": [
            "ERROR:yfinance:ROST: Invalid input - start date cannot be after end date. startDate = 1609477200, endDate = 1568606400\n"
          ]
        },
        {
          "output_type": "stream",
          "name": "stdout",
          "text": [
            "No data found for ROST on 2019-09-16\n"
          ]
        },
        {
          "output_type": "stream",
          "name": "stderr",
          "text": [
            "ERROR:yfinance:GOOG: Invalid input - start date cannot be after end date. startDate = 1609477200, endDate = 1568347200\n"
          ]
        },
        {
          "output_type": "stream",
          "name": "stdout",
          "text": [
            "No data found for GOOG on 2019-09-13\n"
          ]
        },
        {
          "output_type": "stream",
          "name": "stderr",
          "text": [
            "ERROR:yfinance:HLI: Invalid input - start date cannot be after end date. startDate = 1609477200, endDate = 1568347200\n"
          ]
        },
        {
          "output_type": "stream",
          "name": "stdout",
          "text": [
            "No data found for HLI on 2019-09-13\n"
          ]
        },
        {
          "output_type": "stream",
          "name": "stderr",
          "text": [
            "ERROR:yfinance:MA: Invalid input - start date cannot be after end date. startDate = 1609477200, endDate = 1568347200\n"
          ]
        },
        {
          "output_type": "stream",
          "name": "stdout",
          "text": [
            "No data found for MA on 2019-09-13\n"
          ]
        },
        {
          "output_type": "stream",
          "name": "stderr",
          "text": [
            "ERROR:yfinance:PODD: Invalid input - start date cannot be after end date. startDate = 1609477200, endDate = 1568347200\n"
          ]
        },
        {
          "output_type": "stream",
          "name": "stdout",
          "text": [
            "No data found for PODD on 2019-09-13\n"
          ]
        },
        {
          "output_type": "stream",
          "name": "stderr",
          "text": [
            "ERROR:yfinance:$WPX: possibly delisted; No timezone found\n"
          ]
        },
        {
          "output_type": "stream",
          "name": "stdout",
          "text": [
            "No data found for WPX on 2019-09-13\n"
          ]
        },
        {
          "output_type": "stream",
          "name": "stderr",
          "text": [
            "ERROR:yfinance:APD: Invalid input - start date cannot be after end date. startDate = 1609477200, endDate = 1568260800\n"
          ]
        },
        {
          "output_type": "stream",
          "name": "stdout",
          "text": [
            "No data found for APD on 2019-09-12\n"
          ]
        },
        {
          "output_type": "stream",
          "name": "stderr",
          "text": [
            "ERROR:yfinance:APH: Invalid input - start date cannot be after end date. startDate = 1609477200, endDate = 1568260800\n"
          ]
        },
        {
          "output_type": "stream",
          "name": "stdout",
          "text": [
            "No data found for APH on 2019-09-12\n"
          ]
        },
        {
          "output_type": "stream",
          "name": "stderr",
          "text": [
            "ERROR:yfinance:PYPL: Invalid input - start date cannot be after end date. startDate = 1609477200, endDate = 1568260800\n"
          ]
        },
        {
          "output_type": "stream",
          "name": "stdout",
          "text": [
            "No data found for PYPL on 2019-09-12\n"
          ]
        },
        {
          "output_type": "stream",
          "name": "stderr",
          "text": [
            "ERROR:yfinance:SCHW: Invalid input - start date cannot be after end date. startDate = 1609477200, endDate = 1568260800\n"
          ]
        },
        {
          "output_type": "stream",
          "name": "stdout",
          "text": [
            "No data found for SCHW on 2019-09-12\n"
          ]
        },
        {
          "output_type": "stream",
          "name": "stderr",
          "text": [
            "ERROR:yfinance:ADBE: Invalid input - start date cannot be after end date. startDate = 1609477200, endDate = 1568174400\n"
          ]
        },
        {
          "output_type": "stream",
          "name": "stdout",
          "text": [
            "No data found for ADBE on 2019-09-11\n"
          ]
        },
        {
          "output_type": "stream",
          "name": "stderr",
          "text": [
            "ERROR:yfinance:GOOG: Invalid input - start date cannot be after end date. startDate = 1609477200, endDate = 1568174400\n"
          ]
        },
        {
          "output_type": "stream",
          "name": "stdout",
          "text": [
            "No data found for GOOG on 2019-09-11\n"
          ]
        },
        {
          "output_type": "stream",
          "name": "stderr",
          "text": [
            "ERROR:yfinance:ILMN: Invalid input - start date cannot be after end date. startDate = 1609477200, endDate = 1568174400\n"
          ]
        },
        {
          "output_type": "stream",
          "name": "stdout",
          "text": [
            "No data found for ILMN on 2019-09-11\n"
          ]
        },
        {
          "output_type": "stream",
          "name": "stderr",
          "text": [
            "ERROR:yfinance:MA: Invalid input - start date cannot be after end date. startDate = 1609477200, endDate = 1568088000\n"
          ]
        },
        {
          "output_type": "stream",
          "name": "stdout",
          "text": [
            "No data found for MA on 2019-09-10\n"
          ]
        },
        {
          "output_type": "stream",
          "name": "stderr",
          "text": [
            "ERROR:yfinance:V: Invalid input - start date cannot be after end date. startDate = 1609477200, endDate = 1568088000\n"
          ]
        },
        {
          "output_type": "stream",
          "name": "stdout",
          "text": [
            "No data found for V on 2019-09-10\n"
          ]
        },
        {
          "output_type": "stream",
          "name": "stderr",
          "text": [
            "ERROR:yfinance:CRM: Invalid input - start date cannot be after end date. startDate = 1609477200, endDate = 1567656000\n"
          ]
        },
        {
          "output_type": "stream",
          "name": "stdout",
          "text": [
            "No data found for CRM on 2019-09-05\n"
          ]
        },
        {
          "output_type": "stream",
          "name": "stderr",
          "text": [
            "ERROR:yfinance:BRK-B: Invalid input - start date cannot be after end date. startDate = 1609477200, endDate = 1567569600\n"
          ]
        },
        {
          "output_type": "stream",
          "name": "stdout",
          "text": [
            "No data found for BRK-B on 2019-09-04\n"
          ]
        },
        {
          "output_type": "stream",
          "name": "stderr",
          "text": [
            "ERROR:yfinance:LULU: Invalid input - start date cannot be after end date. startDate = 1609477200, endDate = 1567483200\n"
          ]
        },
        {
          "output_type": "stream",
          "name": "stdout",
          "text": [
            "No data found for LULU on 2019-09-03\n"
          ]
        },
        {
          "output_type": "stream",
          "name": "stderr",
          "text": [
            "ERROR:yfinance:PYPL: Invalid input - start date cannot be after end date. startDate = 1609477200, endDate = 1567051200\n"
          ]
        },
        {
          "output_type": "stream",
          "name": "stdout",
          "text": [
            "No data found for PYPL on 2019-08-29\n"
          ]
        },
        {
          "output_type": "stream",
          "name": "stderr",
          "text": [
            "ERROR:yfinance:RHHBY: Invalid input - start date cannot be after end date. startDate = 1609477200, endDate = 1566273600\n"
          ]
        },
        {
          "output_type": "stream",
          "name": "stdout",
          "text": [
            "No data found for RHHBY on 2019-08-20\n"
          ]
        },
        {
          "output_type": "stream",
          "name": "stderr",
          "text": [
            "ERROR:yfinance:$MDSO: possibly delisted; No timezone found\n"
          ]
        },
        {
          "output_type": "stream",
          "name": "stdout",
          "text": [
            "No data found for MDSO on 2019-08-19\n"
          ]
        },
        {
          "output_type": "stream",
          "name": "stderr",
          "text": [
            "ERROR:yfinance:LOW: Invalid input - start date cannot be after end date. startDate = 1609477200, endDate = 1565064000\n"
          ]
        },
        {
          "output_type": "stream",
          "name": "stdout",
          "text": [
            "No data found for LOW on 2019-08-06\n"
          ]
        },
        {
          "output_type": "stream",
          "name": "stderr",
          "text": [
            "ERROR:yfinance:NEU: Invalid input - start date cannot be after end date. startDate = 1609477200, endDate = 1565064000\n"
          ]
        },
        {
          "output_type": "stream",
          "name": "stdout",
          "text": [
            "No data found for NEU on 2019-08-06\n"
          ]
        },
        {
          "output_type": "stream",
          "name": "stderr",
          "text": [
            "ERROR:yfinance:LOW: Invalid input - start date cannot be after end date. startDate = 1609477200, endDate = 1564977600\n"
          ]
        },
        {
          "output_type": "stream",
          "name": "stdout",
          "text": [
            "No data found for LOW on 2019-08-05\n"
          ]
        },
        {
          "output_type": "stream",
          "name": "stderr",
          "text": [
            "ERROR:yfinance:NEU: Invalid input - start date cannot be after end date. startDate = 1609477200, endDate = 1564977600\n"
          ]
        },
        {
          "output_type": "stream",
          "name": "stdout",
          "text": [
            "No data found for NEU on 2019-08-05\n"
          ]
        },
        {
          "output_type": "stream",
          "name": "stderr",
          "text": [
            "ERROR:yfinance:SQ: Invalid input - start date cannot be after end date. startDate = 1609477200, endDate = 1564718400\n"
          ]
        },
        {
          "output_type": "stream",
          "name": "stdout",
          "text": [
            "No data found for SQ on 2019-08-02\n"
          ]
        },
        {
          "output_type": "stream",
          "name": "stderr",
          "text": [
            "ERROR:yfinance:GMED: Invalid input - start date cannot be after end date. startDate = 1609477200, endDate = 1564113600\n"
          ]
        },
        {
          "output_type": "stream",
          "name": "stdout",
          "text": [
            "No data found for GMED on 2019-07-26\n"
          ]
        },
        {
          "output_type": "stream",
          "name": "stderr",
          "text": [
            "ERROR:yfinance:GOOG: Invalid input - start date cannot be after end date. startDate = 1609477200, endDate = 1564113600\n"
          ]
        },
        {
          "output_type": "stream",
          "name": "stdout",
          "text": [
            "No data found for GOOG on 2019-07-26\n"
          ]
        },
        {
          "output_type": "stream",
          "name": "stderr",
          "text": [
            "ERROR:yfinance:ICUI: Invalid input - start date cannot be after end date. startDate = 1609477200, endDate = 1564113600\n"
          ]
        },
        {
          "output_type": "stream",
          "name": "stdout",
          "text": [
            "No data found for ICUI on 2019-07-26\n"
          ]
        },
        {
          "output_type": "stream",
          "name": "stderr",
          "text": [
            "ERROR:yfinance:PRA: Invalid input - start date cannot be after end date. startDate = 1609477200, endDate = 1564113600\n"
          ]
        },
        {
          "output_type": "stream",
          "name": "stdout",
          "text": [
            "No data found for PRA on 2019-07-26\n"
          ]
        },
        {
          "output_type": "stream",
          "name": "stderr",
          "text": [
            "ERROR:yfinance:AAPL: Invalid input - start date cannot be after end date. startDate = 1609477200, endDate = 1563249600\n"
          ]
        },
        {
          "output_type": "stream",
          "name": "stdout",
          "text": [
            "No data found for AAPL on 2019-07-16\n"
          ]
        },
        {
          "output_type": "stream",
          "name": "stderr",
          "text": [
            "ERROR:yfinance:CRM: Invalid input - start date cannot be after end date. startDate = 1609477200, endDate = 1563249600\n"
          ]
        },
        {
          "output_type": "stream",
          "name": "stdout",
          "text": [
            "No data found for CRM on 2019-07-16\n"
          ]
        },
        {
          "output_type": "stream",
          "name": "stderr",
          "text": [
            "ERROR:yfinance:DXCM: Invalid input - start date cannot be after end date. startDate = 1609477200, endDate = 1563249600\n"
          ]
        },
        {
          "output_type": "stream",
          "name": "stdout",
          "text": [
            "No data found for DXCM on 2019-07-16\n"
          ]
        },
        {
          "output_type": "stream",
          "name": "stderr",
          "text": [
            "ERROR:yfinance:GOOG: Invalid input - start date cannot be after end date. startDate = 1609477200, endDate = 1563249600\n"
          ]
        },
        {
          "output_type": "stream",
          "name": "stdout",
          "text": [
            "No data found for GOOG on 2019-07-16\n"
          ]
        },
        {
          "output_type": "stream",
          "name": "stderr",
          "text": [
            "ERROR:yfinance:ISRG: Invalid input - start date cannot be after end date. startDate = 1609477200, endDate = 1563249600\n"
          ]
        },
        {
          "output_type": "stream",
          "name": "stdout",
          "text": [
            "No data found for ISRG on 2019-07-16\n"
          ]
        },
        {
          "output_type": "stream",
          "name": "stderr",
          "text": [
            "ERROR:yfinance:MSFT: Invalid input - start date cannot be after end date. startDate = 1609477200, endDate = 1563249600\n",
            "ERROR:yfinance:MSFT: Invalid input - start date cannot be after end date. startDate = 1609477200, endDate = 1563249600\n",
            "ERROR:yfinance:MSFT: Invalid input - start date cannot be after end date. startDate = 1609477200, endDate = 1563249600\n",
            "ERROR:yfinance:MSFT: Invalid input - start date cannot be after end date. startDate = 1609477200, endDate = 1563249600\n"
          ]
        },
        {
          "output_type": "stream",
          "name": "stdout",
          "text": [
            "No data found for MSFT on 2019-07-16\n",
            "No data found for MSFT on 2019-07-16\n",
            "No data found for MSFT on 2019-07-16\n",
            "No data found for MSFT on 2019-07-16\n"
          ]
        },
        {
          "output_type": "stream",
          "name": "stderr",
          "text": [
            "ERROR:yfinance:NFLX: Invalid input - start date cannot be after end date. startDate = 1609477200, endDate = 1563249600\n"
          ]
        },
        {
          "output_type": "stream",
          "name": "stdout",
          "text": [
            "No data found for NFLX on 2019-07-16\n"
          ]
        },
        {
          "output_type": "stream",
          "name": "stderr",
          "text": [
            "ERROR:yfinance:TCBI: Invalid input - start date cannot be after end date. startDate = 1609477200, endDate = 1562904000\n"
          ]
        },
        {
          "output_type": "stream",
          "name": "stdout",
          "text": [
            "No data found for TCBI on 2019-07-12\n"
          ]
        },
        {
          "output_type": "stream",
          "name": "stderr",
          "text": [
            "ERROR:yfinance:BAMXY: Invalid input - start date cannot be after end date. startDate = 1609477200, endDate = 1562299200\n"
          ]
        },
        {
          "output_type": "stream",
          "name": "stdout",
          "text": [
            "No data found for BAMXY on 2019-07-05\n"
          ]
        },
        {
          "output_type": "stream",
          "name": "stderr",
          "text": [
            "ERROR:yfinance:IFNNY: Invalid input - start date cannot be after end date. startDate = 1609477200, endDate = 1562299200\n"
          ]
        },
        {
          "output_type": "stream",
          "name": "stdout",
          "text": [
            "No data found for IFNNY on 2019-07-05\n"
          ]
        },
        {
          "output_type": "stream",
          "name": "stderr",
          "text": [
            "ERROR:yfinance:AMADY: Invalid input - start date cannot be after end date. startDate = 1609477200, endDate = 1562040000\n"
          ]
        },
        {
          "output_type": "stream",
          "name": "stdout",
          "text": [
            "No data found for AMADY on 2019-07-02\n"
          ]
        },
        {
          "output_type": "stream",
          "name": "stderr",
          "text": [
            "ERROR:yfinance:TMSNY: Invalid input - start date cannot be after end date. startDate = 1609477200, endDate = 1562040000\n"
          ]
        },
        {
          "output_type": "stream",
          "name": "stdout",
          "text": [
            "No data found for TMSNY on 2019-07-02\n"
          ]
        },
        {
          "output_type": "stream",
          "name": "stderr",
          "text": [
            "ERROR:yfinance:SLB: Invalid input - start date cannot be after end date. startDate = 1609477200, endDate = 1561953600\n"
          ]
        },
        {
          "output_type": "stream",
          "name": "stdout",
          "text": [
            "No data found for SLB on 2019-07-01\n"
          ]
        },
        {
          "output_type": "stream",
          "name": "stderr",
          "text": [
            "ERROR:yfinance:AMADY: Invalid input - start date cannot be after end date. startDate = 1609477200, endDate = 1561694400\n"
          ]
        },
        {
          "output_type": "stream",
          "name": "stdout",
          "text": [
            "No data found for AMADY on 2019-06-28\n"
          ]
        },
        {
          "output_type": "stream",
          "name": "stderr",
          "text": [
            "ERROR:yfinance:MSFT: Invalid input - start date cannot be after end date. startDate = 1609477200, endDate = 1561003200\n",
            "ERROR:yfinance:MSFT: Invalid input - start date cannot be after end date. startDate = 1609477200, endDate = 1561003200\n"
          ]
        },
        {
          "output_type": "stream",
          "name": "stdout",
          "text": [
            "No data found for MSFT on 2019-06-20\n",
            "No data found for MSFT on 2019-06-20\n"
          ]
        },
        {
          "output_type": "stream",
          "name": "stderr",
          "text": [
            "ERROR:yfinance:DXCM: Invalid input - start date cannot be after end date. startDate = 1609477200, endDate = 1560398400\n"
          ]
        },
        {
          "output_type": "stream",
          "name": "stdout",
          "text": [
            "No data found for DXCM on 2019-06-13\n"
          ]
        },
        {
          "output_type": "stream",
          "name": "stderr",
          "text": [
            "ERROR:yfinance:AAPL: Invalid input - start date cannot be after end date. startDate = 1609477200, endDate = 1560312000\n"
          ]
        },
        {
          "output_type": "stream",
          "name": "stdout",
          "text": [
            "No data found for AAPL on 2019-06-12\n"
          ]
        },
        {
          "output_type": "stream",
          "name": "stderr",
          "text": [
            "ERROR:yfinance:BDX: Invalid input - start date cannot be after end date. startDate = 1609477200, endDate = 1560312000\n"
          ]
        },
        {
          "output_type": "stream",
          "name": "stdout",
          "text": [
            "No data found for BDX on 2019-06-12\n"
          ]
        },
        {
          "output_type": "stream",
          "name": "stderr",
          "text": [
            "ERROR:yfinance:D: Invalid input - start date cannot be after end date. startDate = 1609477200, endDate = 1560225600\n"
          ]
        },
        {
          "output_type": "stream",
          "name": "stdout",
          "text": [
            "No data found for D on 2019-06-11\n"
          ]
        },
        {
          "output_type": "stream",
          "name": "stderr",
          "text": [
            "ERROR:yfinance:D: Invalid input - start date cannot be after end date. startDate = 1609477200, endDate = 1560139200\n"
          ]
        },
        {
          "output_type": "stream",
          "name": "stdout",
          "text": [
            "No data found for D on 2019-06-10\n"
          ]
        },
        {
          "output_type": "stream",
          "name": "stderr",
          "text": [
            "ERROR:yfinance:DUK: Invalid input - start date cannot be after end date. startDate = 1609477200, endDate = 1560139200\n"
          ]
        },
        {
          "output_type": "stream",
          "name": "stdout",
          "text": [
            "No data found for DUK on 2019-06-10\n"
          ]
        },
        {
          "output_type": "stream",
          "name": "stderr",
          "text": [
            "ERROR:yfinance:LULU: Invalid input - start date cannot be after end date. startDate = 1609477200, endDate = 1559880000\n"
          ]
        },
        {
          "output_type": "stream",
          "name": "stdout",
          "text": [
            "No data found for LULU on 2019-06-07\n"
          ]
        },
        {
          "output_type": "stream",
          "name": "stderr",
          "text": [
            "ERROR:yfinance:AAPL: Invalid input - start date cannot be after end date. startDate = 1609477200, endDate = 1559793600\n"
          ]
        },
        {
          "output_type": "stream",
          "name": "stdout",
          "text": [
            "No data found for AAPL on 2019-06-06\n"
          ]
        },
        {
          "output_type": "stream",
          "name": "stderr",
          "text": [
            "ERROR:yfinance:GOOG: Invalid input - start date cannot be after end date. startDate = 1609477200, endDate = 1559793600\n"
          ]
        },
        {
          "output_type": "stream",
          "name": "stdout",
          "text": [
            "No data found for GOOG on 2019-06-06\n"
          ]
        },
        {
          "output_type": "stream",
          "name": "stderr",
          "text": [
            "ERROR:yfinance:MSFT: Invalid input - start date cannot be after end date. startDate = 1609477200, endDate = 1559275200\n",
            "ERROR:yfinance:MSFT: Invalid input - start date cannot be after end date. startDate = 1609477200, endDate = 1559275200\n"
          ]
        },
        {
          "output_type": "stream",
          "name": "stdout",
          "text": [
            "No data found for MSFT on 2019-05-31\n",
            "No data found for MSFT on 2019-05-31\n"
          ]
        },
        {
          "output_type": "stream",
          "name": "stderr",
          "text": [
            "ERROR:yfinance:$ZEN: possibly delisted; No timezone found\n"
          ]
        },
        {
          "output_type": "stream",
          "name": "stdout",
          "text": [
            "No data found for ZEN on 2019-05-31\n"
          ]
        },
        {
          "output_type": "stream",
          "name": "stderr",
          "text": [
            "ERROR:yfinance:BKNG: Invalid input - start date cannot be after end date. startDate = 1609477200, endDate = 1559188800\n"
          ]
        },
        {
          "output_type": "stream",
          "name": "stdout",
          "text": [
            "No data found for BKNG on 2019-05-30\n"
          ]
        },
        {
          "output_type": "stream",
          "name": "stderr",
          "text": [
            "ERROR:yfinance:GD: Invalid input - start date cannot be after end date. startDate = 1609477200, endDate = 1559016000\n"
          ]
        },
        {
          "output_type": "stream",
          "name": "stdout",
          "text": [
            "No data found for GD on 2019-05-28\n"
          ]
        },
        {
          "output_type": "stream",
          "name": "stderr",
          "text": [
            "ERROR:yfinance:LULU: Invalid input - start date cannot be after end date. startDate = 1609477200, endDate = 1559016000\n"
          ]
        },
        {
          "output_type": "stream",
          "name": "stdout",
          "text": [
            "No data found for LULU on 2019-05-28\n"
          ]
        },
        {
          "output_type": "stream",
          "name": "stderr",
          "text": [
            "ERROR:yfinance:SBUX: Invalid input - start date cannot be after end date. startDate = 1609477200, endDate = 1559016000\n"
          ]
        },
        {
          "output_type": "stream",
          "name": "stdout",
          "text": [
            "No data found for SBUX on 2019-05-28\n"
          ]
        },
        {
          "output_type": "stream",
          "name": "stderr",
          "text": [
            "ERROR:yfinance:AMRX: Invalid input - start date cannot be after end date. startDate = 1609477200, endDate = 1558670400\n"
          ]
        },
        {
          "output_type": "stream",
          "name": "stdout",
          "text": [
            "No data found for AMRX on 2019-05-24\n"
          ]
        },
        {
          "output_type": "stream",
          "name": "stderr",
          "text": [
            "ERROR:yfinance:AAPL: Invalid input - start date cannot be after end date. startDate = 1609477200, endDate = 1558324800\n"
          ]
        },
        {
          "output_type": "stream",
          "name": "stdout",
          "text": [
            "No data found for AAPL on 2019-05-20\n"
          ]
        },
        {
          "output_type": "stream",
          "name": "stderr",
          "text": [
            "ERROR:yfinance:MSFT: Invalid input - start date cannot be after end date. startDate = 1609477200, endDate = 1558324800\n",
            "ERROR:yfinance:MSFT: Invalid input - start date cannot be after end date. startDate = 1609477200, endDate = 1558324800\n"
          ]
        },
        {
          "output_type": "stream",
          "name": "stdout",
          "text": [
            "No data found for MSFT on 2019-05-20\n",
            "No data found for MSFT on 2019-05-20\n"
          ]
        },
        {
          "output_type": "stream",
          "name": "stderr",
          "text": [
            "ERROR:yfinance:SCHW: Invalid input - start date cannot be after end date. startDate = 1609477200, endDate = 1557979200\n"
          ]
        },
        {
          "output_type": "stream",
          "name": "stdout",
          "text": [
            "No data found for SCHW on 2019-05-16\n"
          ]
        },
        {
          "output_type": "stream",
          "name": "stderr",
          "text": [
            "ERROR:yfinance:EXAS: Invalid input - start date cannot be after end date. startDate = 1609477200, endDate = 1557460800\n"
          ]
        },
        {
          "output_type": "stream",
          "name": "stdout",
          "text": [
            "No data found for EXAS on 2019-05-10\n"
          ]
        },
        {
          "output_type": "stream",
          "name": "stderr",
          "text": [
            "ERROR:yfinance:JGCCY: Invalid input - start date cannot be after end date. startDate = 1609477200, endDate = 1557460800\n"
          ]
        },
        {
          "output_type": "stream",
          "name": "stdout",
          "text": [
            "No data found for JGCCY on 2019-05-10\n"
          ]
        },
        {
          "output_type": "stream",
          "name": "stderr",
          "text": [
            "ERROR:yfinance:MSFT: Invalid input - start date cannot be after end date. startDate = 1609477200, endDate = 1557115200\n",
            "ERROR:yfinance:MSFT: Invalid input - start date cannot be after end date. startDate = 1609477200, endDate = 1557115200\n",
            "ERROR:yfinance:MSFT: Invalid input - start date cannot be after end date. startDate = 1609477200, endDate = 1557115200\n",
            "ERROR:yfinance:MSFT: Invalid input - start date cannot be after end date. startDate = 1609477200, endDate = 1557115200\n"
          ]
        },
        {
          "output_type": "stream",
          "name": "stdout",
          "text": [
            "No data found for MSFT on 2019-05-06\n",
            "No data found for MSFT on 2019-05-06\n",
            "No data found for MSFT on 2019-05-06\n",
            "No data found for MSFT on 2019-05-06\n"
          ]
        },
        {
          "output_type": "stream",
          "name": "stderr",
          "text": [
            "ERROR:yfinance:APD: Invalid input - start date cannot be after end date. startDate = 1609477200, endDate = 1556769600\n"
          ]
        },
        {
          "output_type": "stream",
          "name": "stdout",
          "text": [
            "No data found for APD on 2019-05-02\n"
          ]
        },
        {
          "output_type": "stream",
          "name": "stderr",
          "text": [
            "ERROR:yfinance:GOOG: Invalid input - start date cannot be after end date. startDate = 1609477200, endDate = 1556596800\n"
          ]
        },
        {
          "output_type": "stream",
          "name": "stdout",
          "text": [
            "No data found for GOOG on 2019-04-30\n"
          ]
        },
        {
          "output_type": "stream",
          "name": "stderr",
          "text": [
            "ERROR:yfinance:MSFT: Invalid input - start date cannot be after end date. startDate = 1609477200, endDate = 1556596800\n"
          ]
        },
        {
          "output_type": "stream",
          "name": "stdout",
          "text": [
            "No data found for MSFT on 2019-04-30\n"
          ]
        },
        {
          "output_type": "stream",
          "name": "stderr",
          "text": [
            "ERROR:yfinance:TWLO: Invalid input - start date cannot be after end date. startDate = 1609477200, endDate = 1556596800\n"
          ]
        },
        {
          "output_type": "stream",
          "name": "stdout",
          "text": [
            "No data found for TWLO on 2019-04-30\n"
          ]
        },
        {
          "output_type": "stream",
          "name": "stderr",
          "text": [
            "ERROR:yfinance:MKTX: Invalid input - start date cannot be after end date. startDate = 1609477200, endDate = 1556510400\n"
          ]
        },
        {
          "output_type": "stream",
          "name": "stdout",
          "text": [
            "No data found for MKTX on 2019-04-29\n"
          ]
        },
        {
          "output_type": "stream",
          "name": "stderr",
          "text": [
            "ERROR:yfinance:SPGI: Invalid input - start date cannot be after end date. startDate = 1609477200, endDate = 1556510400\n"
          ]
        },
        {
          "output_type": "stream",
          "name": "stdout",
          "text": [
            "No data found for SPGI on 2019-04-29\n"
          ]
        },
        {
          "output_type": "stream",
          "name": "stderr",
          "text": [
            "ERROR:yfinance:MSFT: Invalid input - start date cannot be after end date. startDate = 1609477200, endDate = 1556251200\n"
          ]
        },
        {
          "output_type": "stream",
          "name": "stdout",
          "text": [
            "No data found for MSFT on 2019-04-26\n"
          ]
        },
        {
          "output_type": "stream",
          "name": "stderr",
          "text": [
            "ERROR:yfinance:MSFT: Invalid input - start date cannot be after end date. startDate = 1609477200, endDate = 1556164800\n"
          ]
        },
        {
          "output_type": "stream",
          "name": "stdout",
          "text": [
            "No data found for MSFT on 2019-04-25\n"
          ]
        },
        {
          "output_type": "stream",
          "name": "stderr",
          "text": [
            "ERROR:yfinance:SBUX: Invalid input - start date cannot be after end date. startDate = 1609477200, endDate = 1556078400\n"
          ]
        },
        {
          "output_type": "stream",
          "name": "stdout",
          "text": [
            "No data found for SBUX on 2019-04-24\n"
          ]
        },
        {
          "output_type": "stream",
          "name": "stderr",
          "text": [
            "ERROR:yfinance:GLOB: Invalid input - start date cannot be after end date. startDate = 1609477200, endDate = 1555560000\n"
          ]
        },
        {
          "output_type": "stream",
          "name": "stdout",
          "text": [
            "No data found for GLOB on 2019-04-18\n"
          ]
        },
        {
          "output_type": "stream",
          "name": "stderr",
          "text": [
            "ERROR:yfinance:HON: Invalid input - start date cannot be after end date. startDate = 1609477200, endDate = 1555560000\n"
          ]
        },
        {
          "output_type": "stream",
          "name": "stdout",
          "text": [
            "No data found for HON on 2019-04-18\n"
          ]
        },
        {
          "output_type": "stream",
          "name": "stderr",
          "text": [
            "ERROR:yfinance:NSC: Invalid input - start date cannot be after end date. startDate = 1609477200, endDate = 1555560000\n"
          ]
        },
        {
          "output_type": "stream",
          "name": "stdout",
          "text": [
            "No data found for NSC on 2019-04-18\n"
          ]
        },
        {
          "output_type": "stream",
          "name": "stderr",
          "text": [
            "ERROR:yfinance:TDG: Invalid input - start date cannot be after end date. startDate = 1609477200, endDate = 1555560000\n"
          ]
        },
        {
          "output_type": "stream",
          "name": "stdout",
          "text": [
            "No data found for TDG on 2019-04-18\n"
          ]
        },
        {
          "output_type": "stream",
          "name": "stderr",
          "text": [
            "ERROR:yfinance:V: Invalid input - start date cannot be after end date. startDate = 1609477200, endDate = 1555560000\n"
          ]
        },
        {
          "output_type": "stream",
          "name": "stdout",
          "text": [
            "No data found for V on 2019-04-18\n"
          ]
        },
        {
          "output_type": "stream",
          "name": "stderr",
          "text": [
            "ERROR:yfinance:$WP: possibly delisted; No timezone found\n"
          ]
        },
        {
          "output_type": "stream",
          "name": "stdout",
          "text": [
            "No data found for WP on 2019-04-18\n"
          ]
        },
        {
          "output_type": "stream",
          "name": "stderr",
          "text": [
            "ERROR:yfinance:QCOM: Invalid input - start date cannot be after end date. startDate = 1609477200, endDate = 1555473600\n"
          ]
        },
        {
          "output_type": "stream",
          "name": "stdout",
          "text": [
            "No data found for QCOM on 2019-04-17\n"
          ]
        },
        {
          "output_type": "stream",
          "name": "stderr",
          "text": [
            "ERROR:yfinance:MSFT: Invalid input - start date cannot be after end date. startDate = 1609477200, endDate = 1555387200\n",
            "ERROR:yfinance:MSFT: Invalid input - start date cannot be after end date. startDate = 1609477200, endDate = 1555387200\n",
            "ERROR:yfinance:MSFT: Invalid input - start date cannot be after end date. startDate = 1609477200, endDate = 1555387200\n",
            "ERROR:yfinance:MSFT: Invalid input - start date cannot be after end date. startDate = 1609477200, endDate = 1555387200\n",
            "ERROR:yfinance:MSFT: Invalid input - start date cannot be after end date. startDate = 1609477200, endDate = 1555387200\n",
            "ERROR:yfinance:MSFT: Invalid input - start date cannot be after end date. startDate = 1609477200, endDate = 1555387200\n",
            "ERROR:yfinance:MSFT: Invalid input - start date cannot be after end date. startDate = 1609477200, endDate = 1555387200\n"
          ]
        },
        {
          "output_type": "stream",
          "name": "stdout",
          "text": [
            "No data found for MSFT on 2019-04-16\n",
            "No data found for MSFT on 2019-04-16\n",
            "No data found for MSFT on 2019-04-16\n",
            "No data found for MSFT on 2019-04-16\n",
            "No data found for MSFT on 2019-04-16\n",
            "No data found for MSFT on 2019-04-16\n",
            "No data found for MSFT on 2019-04-16\n"
          ]
        },
        {
          "output_type": "stream",
          "name": "stderr",
          "text": [
            "ERROR:yfinance:ISRG: Invalid input - start date cannot be after end date. startDate = 1609477200, endDate = 1555300800\n"
          ]
        },
        {
          "output_type": "stream",
          "name": "stdout",
          "text": [
            "No data found for ISRG on 2019-04-15\n"
          ]
        },
        {
          "output_type": "stream",
          "name": "stderr",
          "text": [
            "ERROR:yfinance:NOVT: Invalid input - start date cannot be after end date. startDate = 1609477200, endDate = 1555300800\n"
          ]
        },
        {
          "output_type": "stream",
          "name": "stdout",
          "text": [
            "No data found for NOVT on 2019-04-15\n"
          ]
        },
        {
          "output_type": "stream",
          "name": "stderr",
          "text": [
            "ERROR:yfinance:EPAM: Invalid input - start date cannot be after end date. startDate = 1609477200, endDate = 1555041600\n"
          ]
        },
        {
          "output_type": "stream",
          "name": "stdout",
          "text": [
            "No data found for EPAM on 2019-04-12\n"
          ]
        },
        {
          "output_type": "stream",
          "name": "stderr",
          "text": [
            "ERROR:yfinance:BAYRY: Invalid input - start date cannot be after end date. startDate = 1609477200, endDate = 1554955200\n"
          ]
        },
        {
          "output_type": "stream",
          "name": "stdout",
          "text": [
            "No data found for BAYRY on 2019-04-11\n"
          ]
        },
        {
          "output_type": "stream",
          "name": "stderr",
          "text": [
            "ERROR:yfinance:UNH: Invalid input - start date cannot be after end date. startDate = 1609477200, endDate = 1554955200\n"
          ]
        },
        {
          "output_type": "stream",
          "name": "stdout",
          "text": [
            "No data found for UNH on 2019-04-11\n"
          ]
        },
        {
          "output_type": "stream",
          "name": "stderr",
          "text": [
            "ERROR:yfinance:VRTX: Invalid input - start date cannot be after end date. startDate = 1609477200, endDate = 1554955200\n"
          ]
        },
        {
          "output_type": "stream",
          "name": "stdout",
          "text": [
            "No data found for VRTX on 2019-04-11\n"
          ]
        },
        {
          "output_type": "stream",
          "name": "stderr",
          "text": [
            "ERROR:yfinance:RIO: Invalid input - start date cannot be after end date. startDate = 1609477200, endDate = 1554868800\n"
          ]
        },
        {
          "output_type": "stream",
          "name": "stdout",
          "text": [
            "No data found for RIO on 2019-04-10\n"
          ]
        },
        {
          "output_type": "stream",
          "name": "stderr",
          "text": [
            "ERROR:yfinance:MSFT: Invalid input - start date cannot be after end date. startDate = 1609477200, endDate = 1554782400\n",
            "ERROR:yfinance:MSFT: Invalid input - start date cannot be after end date. startDate = 1609477200, endDate = 1554782400\n"
          ]
        },
        {
          "output_type": "stream",
          "name": "stdout",
          "text": [
            "No data found for MSFT on 2019-04-09\n",
            "No data found for MSFT on 2019-04-09\n"
          ]
        },
        {
          "output_type": "stream",
          "name": "stderr",
          "text": [
            "ERROR:yfinance:AAGIY: Invalid input - start date cannot be after end date. startDate = 1609477200, endDate = 1554696000\n"
          ]
        },
        {
          "output_type": "stream",
          "name": "stdout",
          "text": [
            "No data found for AAGIY on 2019-04-08\n"
          ]
        },
        {
          "output_type": "stream",
          "name": "stderr",
          "text": [
            "ERROR:yfinance:SGSOY: Invalid input - start date cannot be after end date. startDate = 1609477200, endDate = 1554696000\n"
          ]
        },
        {
          "output_type": "stream",
          "name": "stdout",
          "text": [
            "No data found for SGSOY on 2019-04-08\n"
          ]
        },
        {
          "output_type": "stream",
          "name": "stderr",
          "text": [
            "ERROR:yfinance:AAPL: Invalid input - start date cannot be after end date. startDate = 1609477200, endDate = 1554436800\n"
          ]
        },
        {
          "output_type": "stream",
          "name": "stdout",
          "text": [
            "No data found for AAPL on 2019-04-05\n"
          ]
        },
        {
          "output_type": "stream",
          "name": "stderr",
          "text": [
            "ERROR:yfinance:$AZSEY: possibly delisted; No timezone found\n"
          ]
        },
        {
          "output_type": "stream",
          "name": "stdout",
          "text": [
            "No data found for AZSEY on 2019-04-05\n"
          ]
        },
        {
          "output_type": "stream",
          "name": "stderr",
          "text": [
            "ERROR:yfinance:BBVA: Invalid input - start date cannot be after end date. startDate = 1609477200, endDate = 1554436800\n"
          ]
        },
        {
          "output_type": "stream",
          "name": "stdout",
          "text": [
            "No data found for BBVA on 2019-04-05\n"
          ]
        },
        {
          "output_type": "stream",
          "name": "stderr",
          "text": [
            "ERROR:yfinance:FMX: Invalid input - start date cannot be after end date. startDate = 1609477200, endDate = 1554436800\n"
          ]
        },
        {
          "output_type": "stream",
          "name": "stdout",
          "text": [
            "No data found for FMX on 2019-04-05\n"
          ]
        },
        {
          "output_type": "stream",
          "name": "stderr",
          "text": [
            "ERROR:yfinance:SGSOY: Invalid input - start date cannot be after end date. startDate = 1609477200, endDate = 1554436800\n"
          ]
        },
        {
          "output_type": "stream",
          "name": "stdout",
          "text": [
            "No data found for SGSOY on 2019-04-05\n"
          ]
        },
        {
          "output_type": "stream",
          "name": "stderr",
          "text": [
            "ERROR:yfinance:DAL: Invalid input - start date cannot be after end date. startDate = 1609477200, endDate = 1554091200\n"
          ]
        },
        {
          "output_type": "stream",
          "name": "stdout",
          "text": [
            "No data found for DAL on 2019-04-01\n"
          ]
        },
        {
          "output_type": "stream",
          "name": "stderr",
          "text": [
            "ERROR:yfinance:GD: Invalid input - start date cannot be after end date. startDate = 1609477200, endDate = 1554091200\n"
          ]
        },
        {
          "output_type": "stream",
          "name": "stdout",
          "text": [
            "No data found for GD on 2019-04-01\n"
          ]
        },
        {
          "output_type": "stream",
          "name": "stderr",
          "text": [
            "ERROR:yfinance:HAS: Invalid input - start date cannot be after end date. startDate = 1609477200, endDate = 1554091200\n"
          ]
        },
        {
          "output_type": "stream",
          "name": "stdout",
          "text": [
            "No data found for HAS on 2019-04-01\n"
          ]
        },
        {
          "output_type": "stream",
          "name": "stderr",
          "text": [
            "ERROR:yfinance:NEU: Invalid input - start date cannot be after end date. startDate = 1609477200, endDate = 1554091200\n"
          ]
        },
        {
          "output_type": "stream",
          "name": "stdout",
          "text": [
            "No data found for NEU on 2019-04-01\n"
          ]
        },
        {
          "output_type": "stream",
          "name": "stderr",
          "text": [
            "ERROR:yfinance:PCAR: Invalid input - start date cannot be after end date. startDate = 1609477200, endDate = 1554091200\n"
          ]
        },
        {
          "output_type": "stream",
          "name": "stdout",
          "text": [
            "No data found for PCAR on 2019-04-01\n"
          ]
        },
        {
          "output_type": "stream",
          "name": "stderr",
          "text": [
            "ERROR:yfinance:TXN: Invalid input - start date cannot be after end date. startDate = 1609477200, endDate = 1554091200\n"
          ]
        },
        {
          "output_type": "stream",
          "name": "stdout",
          "text": [
            "No data found for TXN on 2019-04-01\n"
          ]
        },
        {
          "output_type": "stream",
          "name": "stderr",
          "text": [
            "ERROR:yfinance:MSFT: Invalid input - start date cannot be after end date. startDate = 1609477200, endDate = 1553227200\n",
            "ERROR:yfinance:MSFT: Invalid input - start date cannot be after end date. startDate = 1609477200, endDate = 1553227200\n"
          ]
        },
        {
          "output_type": "stream",
          "name": "stdout",
          "text": [
            "No data found for MSFT on 2019-03-22\n",
            "No data found for MSFT on 2019-03-22\n"
          ]
        },
        {
          "output_type": "stream",
          "name": "stderr",
          "text": [
            "ERROR:yfinance:MONOY: Invalid input - start date cannot be after end date. startDate = 1609477200, endDate = 1553054400\n"
          ]
        },
        {
          "output_type": "stream",
          "name": "stdout",
          "text": [
            "No data found for MONOY on 2019-03-20\n"
          ]
        },
        {
          "output_type": "stream",
          "name": "stderr",
          "text": [
            "ERROR:yfinance:AIQUY: Invalid input - start date cannot be after end date. startDate = 1609477200, endDate = 1552968000\n"
          ]
        },
        {
          "output_type": "stream",
          "name": "stdout",
          "text": [
            "No data found for AIQUY on 2019-03-19\n"
          ]
        },
        {
          "output_type": "stream",
          "name": "stderr",
          "text": [
            "ERROR:yfinance:DASTY: Invalid input - start date cannot be after end date. startDate = 1609477200, endDate = 1552968000\n"
          ]
        },
        {
          "output_type": "stream",
          "name": "stdout",
          "text": [
            "No data found for DASTY on 2019-03-19\n"
          ]
        },
        {
          "output_type": "stream",
          "name": "stderr",
          "text": [
            "ERROR:yfinance:MONOY: Invalid input - start date cannot be after end date. startDate = 1609477200, endDate = 1552968000\n"
          ]
        },
        {
          "output_type": "stream",
          "name": "stdout",
          "text": [
            "No data found for MONOY on 2019-03-19\n"
          ]
        },
        {
          "output_type": "stream",
          "name": "stderr",
          "text": [
            "ERROR:yfinance:SITE: Invalid input - start date cannot be after end date. startDate = 1609477200, endDate = 1552968000\n"
          ]
        },
        {
          "output_type": "stream",
          "name": "stdout",
          "text": [
            "No data found for SITE on 2019-03-19\n"
          ]
        },
        {
          "output_type": "stream",
          "name": "stderr",
          "text": [
            "ERROR:yfinance:AIQUY: Invalid input - start date cannot be after end date. startDate = 1609477200, endDate = 1552881600\n"
          ]
        },
        {
          "output_type": "stream",
          "name": "stdout",
          "text": [
            "No data found for AIQUY on 2019-03-18\n"
          ]
        },
        {
          "output_type": "stream",
          "name": "stderr",
          "text": [
            "ERROR:yfinance:LUKOY: Invalid input - start date cannot be after end date. startDate = 1609477200, endDate = 1552881600\n"
          ]
        },
        {
          "output_type": "stream",
          "name": "stdout",
          "text": [
            "No data found for LUKOY on 2019-03-18\n"
          ]
        },
        {
          "output_type": "stream",
          "name": "stderr",
          "text": [
            "ERROR:yfinance:PNGAY: Invalid input - start date cannot be after end date. startDate = 1609477200, endDate = 1552881600\n"
          ]
        },
        {
          "output_type": "stream",
          "name": "stdout",
          "text": [
            "No data found for PNGAY on 2019-03-18\n"
          ]
        },
        {
          "output_type": "stream",
          "name": "stderr",
          "text": [
            "ERROR:yfinance:RDS.B: Invalid input - start date cannot be after end date. startDate = 1609477200, endDate = 1552881600\n"
          ]
        },
        {
          "output_type": "stream",
          "name": "stdout",
          "text": [
            "No data found for RDS.B on 2019-03-18\n"
          ]
        },
        {
          "output_type": "stream",
          "name": "stderr",
          "text": [
            "ERROR:yfinance:ABEV: Invalid input - start date cannot be after end date. startDate = 1609477200, endDate = 1552622400\n"
          ]
        },
        {
          "output_type": "stream",
          "name": "stdout",
          "text": [
            "No data found for ABEV on 2019-03-15\n"
          ]
        },
        {
          "output_type": "stream",
          "name": "stderr",
          "text": [
            "ERROR:yfinance:ABT: Invalid input - start date cannot be after end date. startDate = 1609477200, endDate = 1552622400\n"
          ]
        },
        {
          "output_type": "stream",
          "name": "stdout",
          "text": [
            "No data found for ABT on 2019-03-15\n"
          ]
        },
        {
          "output_type": "stream",
          "name": "stderr",
          "text": [
            "ERROR:yfinance:$CHL: possibly delisted; No timezone found\n"
          ]
        },
        {
          "output_type": "stream",
          "name": "stdout",
          "text": [
            "No data found for CHL on 2019-03-15\n"
          ]
        },
        {
          "output_type": "stream",
          "name": "stderr",
          "text": [
            "ERROR:yfinance:ITUB: Invalid input - start date cannot be after end date. startDate = 1609477200, endDate = 1552622400\n"
          ]
        },
        {
          "output_type": "stream",
          "name": "stdout",
          "text": [
            "No data found for ITUB on 2019-03-15\n"
          ]
        },
        {
          "output_type": "stream",
          "name": "stderr",
          "text": [
            "ERROR:yfinance:UNH: Invalid input - start date cannot be after end date. startDate = 1609477200, endDate = 1552622400\n"
          ]
        },
        {
          "output_type": "stream",
          "name": "stdout",
          "text": [
            "No data found for UNH on 2019-03-15\n"
          ]
        },
        {
          "output_type": "stream",
          "name": "stderr",
          "text": [
            "ERROR:yfinance:MSFT: Invalid input - start date cannot be after end date. startDate = 1609477200, endDate = 1552449600\n",
            "ERROR:yfinance:MSFT: Invalid input - start date cannot be after end date. startDate = 1609477200, endDate = 1552449600\n"
          ]
        },
        {
          "output_type": "stream",
          "name": "stdout",
          "text": [
            "No data found for MSFT on 2019-03-13\n",
            "No data found for MSFT on 2019-03-13\n"
          ]
        },
        {
          "output_type": "stream",
          "name": "stderr",
          "text": [
            "ERROR:yfinance:AMAT: Invalid input - start date cannot be after end date. startDate = 1609477200, endDate = 1552363200\n"
          ]
        },
        {
          "output_type": "stream",
          "name": "stdout",
          "text": [
            "No data found for AMAT on 2019-03-12\n"
          ]
        },
        {
          "output_type": "stream",
          "name": "stderr",
          "text": [
            "ERROR:yfinance:MSFT: Invalid input - start date cannot be after end date. startDate = 1609477200, endDate = 1552363200\n",
            "ERROR:yfinance:MSFT: Invalid input - start date cannot be after end date. startDate = 1609477200, endDate = 1552363200\n"
          ]
        },
        {
          "output_type": "stream",
          "name": "stdout",
          "text": [
            "No data found for MSFT on 2019-03-12\n",
            "No data found for MSFT on 2019-03-12\n"
          ]
        },
        {
          "output_type": "stream",
          "name": "stderr",
          "text": [
            "ERROR:yfinance:SNPS: Invalid input - start date cannot be after end date. startDate = 1609477200, endDate = 1552363200\n"
          ]
        },
        {
          "output_type": "stream",
          "name": "stdout",
          "text": [
            "No data found for SNPS on 2019-03-12\n"
          ]
        },
        {
          "output_type": "stream",
          "name": "stderr",
          "text": [
            "ERROR:yfinance:MSFT: Invalid input - start date cannot be after end date. startDate = 1609477200, endDate = 1551762000\n"
          ]
        },
        {
          "output_type": "stream",
          "name": "stdout",
          "text": [
            "No data found for MSFT on 2019-03-05\n"
          ]
        },
        {
          "output_type": "stream",
          "name": "stderr",
          "text": [
            "ERROR:yfinance:UNH: Invalid input - start date cannot be after end date. startDate = 1609477200, endDate = 1551416400\n"
          ]
        },
        {
          "output_type": "stream",
          "name": "stdout",
          "text": [
            "No data found for UNH on 2019-03-01\n"
          ]
        },
        {
          "output_type": "stream",
          "name": "stderr",
          "text": [
            "ERROR:yfinance:HD: Invalid input - start date cannot be after end date. startDate = 1609477200, endDate = 1551330000\n"
          ]
        },
        {
          "output_type": "stream",
          "name": "stdout",
          "text": [
            "No data found for HD on 2019-02-28\n"
          ]
        },
        {
          "output_type": "stream",
          "name": "stderr",
          "text": [
            "ERROR:yfinance:IBP: Invalid input - start date cannot be after end date. startDate = 1609477200, endDate = 1551330000\n"
          ]
        },
        {
          "output_type": "stream",
          "name": "stdout",
          "text": [
            "No data found for IBP on 2019-02-28\n"
          ]
        },
        {
          "output_type": "stream",
          "name": "stderr",
          "text": [
            "ERROR:yfinance:ABT: Invalid input - start date cannot be after end date. startDate = 1609477200, endDate = 1551243600\n"
          ]
        },
        {
          "output_type": "stream",
          "name": "stdout",
          "text": [
            "No data found for ABT on 2019-02-27\n"
          ]
        },
        {
          "output_type": "stream",
          "name": "stderr",
          "text": [
            "ERROR:yfinance:MSFT: Invalid input - start date cannot be after end date. startDate = 1609477200, endDate = 1551243600\n"
          ]
        },
        {
          "output_type": "stream",
          "name": "stdout",
          "text": [
            "No data found for MSFT on 2019-02-27\n"
          ]
        },
        {
          "output_type": "stream",
          "name": "stderr",
          "text": [
            "ERROR:yfinance:MKTX: Invalid input - start date cannot be after end date. startDate = 1609477200, endDate = 1550811600\n"
          ]
        },
        {
          "output_type": "stream",
          "name": "stdout",
          "text": [
            "No data found for MKTX on 2019-02-22\n"
          ]
        },
        {
          "output_type": "stream",
          "name": "stderr",
          "text": [
            "ERROR:yfinance:SIVB: Invalid input - start date cannot be after end date. startDate = 1609477200, endDate = 1550811600\n",
            "ERROR:yfinance:$WP: possibly delisted; No timezone found\n"
          ]
        },
        {
          "output_type": "stream",
          "name": "stdout",
          "text": [
            "No data found for SIVB on 2019-02-22\n",
            "No data found for WP on 2019-02-22\n"
          ]
        },
        {
          "output_type": "stream",
          "name": "stderr",
          "text": [
            "ERROR:yfinance:MSFT: Invalid input - start date cannot be after end date. startDate = 1609477200, endDate = 1550725200\n"
          ]
        },
        {
          "output_type": "stream",
          "name": "stdout",
          "text": [
            "No data found for MSFT on 2019-02-21\n"
          ]
        },
        {
          "output_type": "stream",
          "name": "stderr",
          "text": [
            "ERROR:yfinance:CHGCY: Invalid input - start date cannot be after end date. startDate = 1609477200, endDate = 1550638800\n"
          ]
        },
        {
          "output_type": "stream",
          "name": "stdout",
          "text": [
            "No data found for CHGCY on 2019-02-20\n"
          ]
        },
        {
          "output_type": "stream",
          "name": "stderr",
          "text": [
            "ERROR:yfinance:CHGCY: Invalid input - start date cannot be after end date. startDate = 1609477200, endDate = 1550552400\n"
          ]
        },
        {
          "output_type": "stream",
          "name": "stdout",
          "text": [
            "No data found for CHGCY on 2019-02-19\n"
          ]
        },
        {
          "output_type": "stream",
          "name": "stderr",
          "text": [
            "ERROR:yfinance:GBOOY: Invalid input - start date cannot be after end date. startDate = 1609477200, endDate = 1550552400\n"
          ]
        },
        {
          "output_type": "stream",
          "name": "stdout",
          "text": [
            "No data found for GBOOY on 2019-02-19\n"
          ]
        },
        {
          "output_type": "stream",
          "name": "stderr",
          "text": [
            "ERROR:yfinance:LVMUY: Invalid input - start date cannot be after end date. startDate = 1609477200, endDate = 1550552400\n"
          ]
        },
        {
          "output_type": "stream",
          "name": "stdout",
          "text": [
            "No data found for LVMUY on 2019-02-19\n"
          ]
        },
        {
          "output_type": "stream",
          "name": "stderr",
          "text": [
            "ERROR:yfinance:CNI: Invalid input - start date cannot be after end date. startDate = 1609477200, endDate = 1550206800\n"
          ]
        },
        {
          "output_type": "stream",
          "name": "stdout",
          "text": [
            "No data found for CNI on 2019-02-15\n"
          ]
        },
        {
          "output_type": "stream",
          "name": "stderr",
          "text": [
            "ERROR:yfinance:DEO: Invalid input - start date cannot be after end date. startDate = 1609477200, endDate = 1550206800\n"
          ]
        },
        {
          "output_type": "stream",
          "name": "stdout",
          "text": [
            "No data found for DEO on 2019-02-15\n"
          ]
        },
        {
          "output_type": "stream",
          "name": "stderr",
          "text": [
            "ERROR:yfinance:LVMUY: Invalid input - start date cannot be after end date. startDate = 1609477200, endDate = 1550206800\n"
          ]
        },
        {
          "output_type": "stream",
          "name": "stdout",
          "text": [
            "No data found for LVMUY on 2019-02-15\n"
          ]
        },
        {
          "output_type": "stream",
          "name": "stderr",
          "text": [
            "ERROR:yfinance:TS: Invalid input - start date cannot be after end date. startDate = 1609477200, endDate = 1550206800\n"
          ]
        },
        {
          "output_type": "stream",
          "name": "stdout",
          "text": [
            "No data found for TS on 2019-02-15\n"
          ]
        },
        {
          "output_type": "stream",
          "name": "stderr",
          "text": [
            "ERROR:yfinance:BLKB: Invalid input - start date cannot be after end date. startDate = 1609477200, endDate = 1549602000\n"
          ]
        },
        {
          "output_type": "stream",
          "name": "stdout",
          "text": [
            "No data found for BLKB on 2019-02-08\n"
          ]
        },
        {
          "output_type": "stream",
          "name": "stderr",
          "text": [
            "ERROR:yfinance:BDX: Invalid input - start date cannot be after end date. startDate = 1609477200, endDate = 1549342800\n"
          ]
        },
        {
          "output_type": "stream",
          "name": "stdout",
          "text": [
            "No data found for BDX on 2019-02-05\n"
          ]
        },
        {
          "output_type": "stream",
          "name": "stderr",
          "text": [
            "ERROR:yfinance:MSFT: Invalid input - start date cannot be after end date. startDate = 1609477200, endDate = 1549256400\n"
          ]
        },
        {
          "output_type": "stream",
          "name": "stdout",
          "text": [
            "No data found for MSFT on 2019-02-04\n"
          ]
        },
        {
          "output_type": "stream",
          "name": "stderr",
          "text": [
            "ERROR:yfinance:PODD: Invalid input - start date cannot be after end date. startDate = 1609477200, endDate = 1548997200\n"
          ]
        },
        {
          "output_type": "stream",
          "name": "stdout",
          "text": [
            "No data found for PODD on 2019-02-01\n"
          ]
        },
        {
          "output_type": "stream",
          "name": "stderr",
          "text": [
            "ERROR:yfinance:NPSNY: Invalid input - start date cannot be after end date. startDate = 1609477200, endDate = 1548824400\n"
          ]
        },
        {
          "output_type": "stream",
          "name": "stdout",
          "text": [
            "No data found for NPSNY on 2019-01-30\n"
          ]
        },
        {
          "output_type": "stream",
          "name": "stderr",
          "text": [
            "ERROR:yfinance:ADDYY: Invalid input - start date cannot be after end date. startDate = 1609477200, endDate = 1548738000\n"
          ]
        },
        {
          "output_type": "stream",
          "name": "stdout",
          "text": [
            "No data found for ADDYY on 2019-01-29\n"
          ]
        },
        {
          "output_type": "stream",
          "name": "stderr",
          "text": [
            "ERROR:yfinance:RHHBY: Invalid input - start date cannot be after end date. startDate = 1609477200, endDate = 1548738000\n"
          ]
        },
        {
          "output_type": "stream",
          "name": "stdout",
          "text": [
            "No data found for RHHBY on 2019-01-29\n"
          ]
        },
        {
          "output_type": "stream",
          "name": "stderr",
          "text": [
            "ERROR:yfinance:TCEHY: Invalid input - start date cannot be after end date. startDate = 1609477200, endDate = 1548738000\n"
          ]
        },
        {
          "output_type": "stream",
          "name": "stdout",
          "text": [
            "No data found for TCEHY on 2019-01-29\n"
          ]
        },
        {
          "output_type": "stream",
          "name": "stderr",
          "text": [
            "ERROR:yfinance:ENTG: Invalid input - start date cannot be after end date. startDate = 1609477200, endDate = 1548306000\n"
          ]
        },
        {
          "output_type": "stream",
          "name": "stdout",
          "text": [
            "No data found for ENTG on 2019-01-24\n"
          ]
        },
        {
          "output_type": "stream",
          "name": "stderr",
          "text": [
            "ERROR:yfinance:POWI: Invalid input - start date cannot be after end date. startDate = 1609477200, endDate = 1548306000\n"
          ]
        },
        {
          "output_type": "stream",
          "name": "stdout",
          "text": [
            "No data found for POWI on 2019-01-24\n"
          ]
        },
        {
          "output_type": "stream",
          "name": "stderr",
          "text": [
            "ERROR:yfinance:AAPL: Invalid input - start date cannot be after end date. startDate = 1609477200, endDate = 1547787600\n"
          ]
        },
        {
          "output_type": "stream",
          "name": "stdout",
          "text": [
            "No data found for AAPL on 2019-01-18\n"
          ]
        },
        {
          "output_type": "stream",
          "name": "stderr",
          "text": [
            "ERROR:yfinance:MSFT: Invalid input - start date cannot be after end date. startDate = 1609477200, endDate = 1547787600\n",
            "ERROR:yfinance:MSFT: Invalid input - start date cannot be after end date. startDate = 1609477200, endDate = 1547787600\n"
          ]
        },
        {
          "output_type": "stream",
          "name": "stdout",
          "text": [
            "No data found for MSFT on 2019-01-18\n",
            "No data found for MSFT on 2019-01-18\n"
          ]
        },
        {
          "output_type": "stream",
          "name": "stderr",
          "text": [
            "ERROR:yfinance:MTDR: Invalid input - start date cannot be after end date. startDate = 1609477200, endDate = 1547787600\n"
          ]
        },
        {
          "output_type": "stream",
          "name": "stdout",
          "text": [
            "No data found for MTDR on 2019-01-18\n"
          ]
        },
        {
          "output_type": "stream",
          "name": "stderr",
          "text": [
            "ERROR:yfinance:MTSI: Invalid input - start date cannot be after end date. startDate = 1609477200, endDate = 1547787600\n"
          ]
        },
        {
          "output_type": "stream",
          "name": "stdout",
          "text": [
            "No data found for MTSI on 2019-01-18\n"
          ]
        },
        {
          "output_type": "stream",
          "name": "stderr",
          "text": [
            "ERROR:yfinance:PATK: Invalid input - start date cannot be after end date. startDate = 1609477200, endDate = 1547787600\n"
          ]
        },
        {
          "output_type": "stream",
          "name": "stdout",
          "text": [
            "No data found for PATK on 2019-01-18\n"
          ]
        },
        {
          "output_type": "stream",
          "name": "stderr",
          "text": [
            "ERROR:yfinance:PCAR: Invalid input - start date cannot be after end date. startDate = 1609477200, endDate = 1547787600\n"
          ]
        },
        {
          "output_type": "stream",
          "name": "stdout",
          "text": [
            "No data found for PCAR on 2019-01-18\n"
          ]
        },
        {
          "output_type": "stream",
          "name": "stderr",
          "text": [
            "ERROR:yfinance:$POL: possibly delisted; No timezone found\n"
          ]
        },
        {
          "output_type": "stream",
          "name": "stdout",
          "text": [
            "No data found for POL on 2019-01-18\n"
          ]
        },
        {
          "output_type": "stream",
          "name": "stderr",
          "text": [
            "ERROR:yfinance:FANUY: Invalid input - start date cannot be after end date. startDate = 1609477200, endDate = 1547528400\n"
          ]
        },
        {
          "output_type": "stream",
          "name": "stdout",
          "text": [
            "No data found for FANUY on 2019-01-15\n"
          ]
        },
        {
          "output_type": "stream",
          "name": "stderr",
          "text": [
            "ERROR:yfinance:APNHY: Invalid input - start date cannot be after end date. startDate = 1609477200, endDate = 1547182800\n"
          ]
        },
        {
          "output_type": "stream",
          "name": "stdout",
          "text": [
            "No data found for APNHY on 2019-01-11\n"
          ]
        },
        {
          "output_type": "stream",
          "name": "stderr",
          "text": [
            "ERROR:yfinance:BAYRY: Invalid input - start date cannot be after end date. startDate = 1609477200, endDate = 1547182800\n"
          ]
        },
        {
          "output_type": "stream",
          "name": "stdout",
          "text": [
            "No data found for BAYRY on 2019-01-11\n"
          ]
        },
        {
          "output_type": "stream",
          "name": "stderr",
          "text": [
            "ERROR:yfinance:BBVA: Invalid input - start date cannot be after end date. startDate = 1609477200, endDate = 1547182800\n"
          ]
        },
        {
          "output_type": "stream",
          "name": "stdout",
          "text": [
            "No data found for BBVA on 2019-01-11\n"
          ]
        },
        {
          "output_type": "stream",
          "name": "stderr",
          "text": [
            "ERROR:yfinance:$DPLO: possibly delisted; No timezone found\n"
          ]
        },
        {
          "output_type": "stream",
          "name": "stdout",
          "text": [
            "No data found for DPLO on 2019-01-11\n"
          ]
        },
        {
          "output_type": "stream",
          "name": "stderr",
          "text": [
            "ERROR:yfinance:FANUY: Invalid input - start date cannot be after end date. startDate = 1609477200, endDate = 1547182800\n"
          ]
        },
        {
          "output_type": "stream",
          "name": "stdout",
          "text": [
            "No data found for FANUY on 2019-01-11\n"
          ]
        },
        {
          "output_type": "stream",
          "name": "stderr",
          "text": [
            "ERROR:yfinance:IBP: Invalid input - start date cannot be after end date. startDate = 1609477200, endDate = 1547182800\n"
          ]
        },
        {
          "output_type": "stream",
          "name": "stdout",
          "text": [
            "No data found for IBP on 2019-01-11\n"
          ]
        },
        {
          "output_type": "stream",
          "name": "stderr",
          "text": [
            "ERROR:yfinance:JGCCY: Invalid input - start date cannot be after end date. startDate = 1609477200, endDate = 1547182800\n"
          ]
        },
        {
          "output_type": "stream",
          "name": "stdout",
          "text": [
            "No data found for JGCCY on 2019-01-11\n"
          ]
        },
        {
          "output_type": "stream",
          "name": "stderr",
          "text": [
            "ERROR:yfinance:KMI: Invalid input - start date cannot be after end date. startDate = 1609477200, endDate = 1547182800\n"
          ]
        },
        {
          "output_type": "stream",
          "name": "stdout",
          "text": [
            "No data found for KMI on 2019-01-11\n"
          ]
        },
        {
          "output_type": "stream",
          "name": "stderr",
          "text": [
            "ERROR:yfinance:MO: Invalid input - start date cannot be after end date. startDate = 1609477200, endDate = 1547182800\n"
          ]
        },
        {
          "output_type": "stream",
          "name": "stdout",
          "text": [
            "No data found for MO on 2019-01-11\n"
          ]
        },
        {
          "output_type": "stream",
          "name": "stderr",
          "text": [
            "ERROR:yfinance:PM: Invalid input - start date cannot be after end date. startDate = 1609477200, endDate = 1547182800\n"
          ]
        },
        {
          "output_type": "stream",
          "name": "stdout",
          "text": [
            "No data found for PM on 2019-01-11\n"
          ]
        },
        {
          "output_type": "stream",
          "name": "stderr",
          "text": [
            "ERROR:yfinance:PPBI: Invalid input - start date cannot be after end date. startDate = 1609477200, endDate = 1547182800\n"
          ]
        },
        {
          "output_type": "stream",
          "name": "stdout",
          "text": [
            "No data found for PPBI on 2019-01-11\n"
          ]
        },
        {
          "output_type": "stream",
          "name": "stderr",
          "text": [
            "ERROR:yfinance:PRAA: Invalid input - start date cannot be after end date. startDate = 1609477200, endDate = 1547182800\n"
          ]
        },
        {
          "output_type": "stream",
          "name": "stdout",
          "text": [
            "No data found for PRAA on 2019-01-11\n"
          ]
        },
        {
          "output_type": "stream",
          "name": "stderr",
          "text": [
            "ERROR:yfinance:SLB: Invalid input - start date cannot be after end date. startDate = 1609477200, endDate = 1547182800\n"
          ]
        },
        {
          "output_type": "stream",
          "name": "stdout",
          "text": [
            "No data found for SLB on 2019-01-11\n"
          ]
        },
        {
          "output_type": "stream",
          "name": "stderr",
          "text": [
            "ERROR:yfinance:TUP: Invalid input - start date cannot be after end date. startDate = 1609477200, endDate = 1547182800\n"
          ]
        },
        {
          "output_type": "stream",
          "name": "stdout",
          "text": [
            "No data found for TUP on 2019-01-11\n"
          ]
        },
        {
          "output_type": "stream",
          "name": "stderr",
          "text": [
            "ERROR:yfinance:UPS: Invalid input - start date cannot be after end date. startDate = 1609477200, endDate = 1547182800\n"
          ]
        },
        {
          "output_type": "stream",
          "name": "stdout",
          "text": [
            "No data found for UPS on 2019-01-11\n"
          ]
        },
        {
          "output_type": "stream",
          "name": "stderr",
          "text": [
            "ERROR:yfinance:MSFT: Invalid input - start date cannot be after end date. startDate = 1609477200, endDate = 1547096400\n"
          ]
        },
        {
          "output_type": "stream",
          "name": "stdout",
          "text": [
            "No data found for MSFT on 2019-01-10\n"
          ]
        },
        {
          "output_type": "stream",
          "name": "stderr",
          "text": [
            "ERROR:yfinance:NEU: Invalid input - start date cannot be after end date. startDate = 1609477200, endDate = 1547096400\n"
          ]
        },
        {
          "output_type": "stream",
          "name": "stdout",
          "text": [
            "No data found for NEU on 2019-01-10\n"
          ]
        },
        {
          "output_type": "stream",
          "name": "stderr",
          "text": [
            "ERROR:yfinance:AAPL: Invalid input - start date cannot be after end date. startDate = 1609477200, endDate = 1546491600\n"
          ]
        },
        {
          "output_type": "stream",
          "name": "stdout",
          "text": [
            "No data found for AAPL on 2019-01-03\n"
          ]
        },
        {
          "output_type": "stream",
          "name": "stderr",
          "text": [
            "ERROR:yfinance:$VRTU: possibly delisted; No timezone found\n"
          ]
        },
        {
          "output_type": "stream",
          "name": "stdout",
          "text": [
            "No data found for VRTU on 2018-12-31\n"
          ]
        },
        {
          "output_type": "stream",
          "name": "stderr",
          "text": [
            "ERROR:yfinance:CHDN: Invalid input - start date cannot be after end date. startDate = 1609477200, endDate = 1545886800\n"
          ]
        },
        {
          "output_type": "stream",
          "name": "stdout",
          "text": [
            "No data found for CHDN on 2018-12-27\n"
          ]
        },
        {
          "output_type": "stream",
          "name": "stderr",
          "text": [
            "ERROR:yfinance:AAGIY: Invalid input - start date cannot be after end date. startDate = 1609477200, endDate = 1545368400\n"
          ]
        },
        {
          "output_type": "stream",
          "name": "stdout",
          "text": [
            "No data found for AAGIY on 2018-12-21\n"
          ]
        },
        {
          "output_type": "stream",
          "name": "stderr",
          "text": [
            "ERROR:yfinance:ATLKY: Invalid input - start date cannot be after end date. startDate = 1609477200, endDate = 1545368400\n"
          ]
        },
        {
          "output_type": "stream",
          "name": "stdout",
          "text": [
            "No data found for ATLKY on 2018-12-21\n"
          ]
        },
        {
          "output_type": "stream",
          "name": "stderr",
          "text": [
            "ERROR:yfinance:FMS: Invalid input - start date cannot be after end date. startDate = 1609477200, endDate = 1545368400\n"
          ]
        },
        {
          "output_type": "stream",
          "name": "stdout",
          "text": [
            "No data found for FMS on 2018-12-21\n"
          ]
        },
        {
          "output_type": "stream",
          "name": "stderr",
          "text": [
            "ERROR:yfinance:IFNNY: Invalid input - start date cannot be after end date. startDate = 1609477200, endDate = 1545368400\n"
          ]
        },
        {
          "output_type": "stream",
          "name": "stdout",
          "text": [
            "No data found for IFNNY on 2018-12-21\n"
          ]
        },
        {
          "output_type": "stream",
          "name": "stderr",
          "text": [
            "ERROR:yfinance:UNH: Invalid input - start date cannot be after end date. startDate = 1609477200, endDate = 1545195600\n"
          ]
        },
        {
          "output_type": "stream",
          "name": "stdout",
          "text": [
            "No data found for UNH on 2018-12-19\n"
          ]
        },
        {
          "output_type": "stream",
          "name": "stderr",
          "text": [
            "ERROR:yfinance:ADBE: Invalid input - start date cannot be after end date. startDate = 1609477200, endDate = 1545109200\n"
          ]
        },
        {
          "output_type": "stream",
          "name": "stdout",
          "text": [
            "No data found for ADBE on 2018-12-18\n"
          ]
        },
        {
          "output_type": "stream",
          "name": "stderr",
          "text": [
            "ERROR:yfinance:MTDR: Invalid input - start date cannot be after end date. startDate = 1609477200, endDate = 1545109200\n"
          ]
        },
        {
          "output_type": "stream",
          "name": "stdout",
          "text": [
            "No data found for MTDR on 2018-12-18\n"
          ]
        },
        {
          "output_type": "stream",
          "name": "stderr",
          "text": [
            "ERROR:yfinance:MTSI: Invalid input - start date cannot be after end date. startDate = 1609477200, endDate = 1545109200\n"
          ]
        },
        {
          "output_type": "stream",
          "name": "stdout",
          "text": [
            "No data found for MTSI on 2018-12-18\n"
          ]
        },
        {
          "output_type": "stream",
          "name": "stderr",
          "text": [
            "ERROR:yfinance:PATK: Invalid input - start date cannot be after end date. startDate = 1609477200, endDate = 1545109200\n"
          ]
        },
        {
          "output_type": "stream",
          "name": "stdout",
          "text": [
            "No data found for PATK on 2018-12-18\n"
          ]
        },
        {
          "output_type": "stream",
          "name": "stderr",
          "text": [
            "ERROR:yfinance:PCAR: Invalid input - start date cannot be after end date. startDate = 1609477200, endDate = 1545109200\n",
            "ERROR:yfinance:$POL: possibly delisted; No timezone found\n"
          ]
        },
        {
          "output_type": "stream",
          "name": "stdout",
          "text": [
            "No data found for PCAR on 2018-12-18\n",
            "No data found for POL on 2018-12-18\n"
          ]
        },
        {
          "output_type": "stream",
          "name": "stderr",
          "text": [
            "ERROR:yfinance:TXN: Invalid input - start date cannot be after end date. startDate = 1609477200, endDate = 1545109200\n"
          ]
        },
        {
          "output_type": "stream",
          "name": "stdout",
          "text": [
            "No data found for TXN on 2018-12-18\n"
          ]
        },
        {
          "output_type": "stream",
          "name": "stderr",
          "text": [
            "ERROR:yfinance:WB: Invalid input - start date cannot be after end date. startDate = 1609477200, endDate = 1545109200\n"
          ]
        },
        {
          "output_type": "stream",
          "name": "stdout",
          "text": [
            "No data found for WB on 2018-12-18\n"
          ]
        },
        {
          "output_type": "stream",
          "name": "stderr",
          "text": [
            "ERROR:yfinance:XOM: Invalid input - start date cannot be after end date. startDate = 1609477200, endDate = 1545109200\n"
          ]
        },
        {
          "output_type": "stream",
          "name": "stdout",
          "text": [
            "No data found for XOM on 2018-12-18\n"
          ]
        },
        {
          "output_type": "stream",
          "name": "stderr",
          "text": [
            "ERROR:yfinance:CCL: Invalid input - start date cannot be after end date. startDate = 1609477200, endDate = 1545022800\n"
          ]
        },
        {
          "output_type": "stream",
          "name": "stdout",
          "text": [
            "No data found for CCL on 2018-12-17\n"
          ]
        },
        {
          "output_type": "stream",
          "name": "stderr",
          "text": [
            "ERROR:yfinance:MSFT: Invalid input - start date cannot be after end date. startDate = 1609477200, endDate = 1545022800\n"
          ]
        },
        {
          "output_type": "stream",
          "name": "stdout",
          "text": [
            "No data found for MSFT on 2018-12-17\n"
          ]
        },
        {
          "output_type": "stream",
          "name": "stderr",
          "text": [
            "ERROR:yfinance:AAPL: Invalid input - start date cannot be after end date. startDate = 1609477200, endDate = 1544763600\n"
          ]
        },
        {
          "output_type": "stream",
          "name": "stdout",
          "text": [
            "No data found for AAPL on 2018-12-14\n"
          ]
        },
        {
          "output_type": "stream",
          "name": "stderr",
          "text": [
            "ERROR:yfinance:MSFT: Invalid input - start date cannot be after end date. startDate = 1609477200, endDate = 1544763600\n"
          ]
        },
        {
          "output_type": "stream",
          "name": "stdout",
          "text": [
            "No data found for MSFT on 2018-12-14\n"
          ]
        },
        {
          "output_type": "stream",
          "name": "stderr",
          "text": [
            "ERROR:yfinance:MSFT: Invalid input - start date cannot be after end date. startDate = 1609477200, endDate = 1544677200\n"
          ]
        },
        {
          "output_type": "stream",
          "name": "stdout",
          "text": [
            "No data found for MSFT on 2018-12-13\n"
          ]
        },
        {
          "output_type": "stream",
          "name": "stderr",
          "text": [
            "ERROR:yfinance:NBIX: Invalid input - start date cannot be after end date. startDate = 1609477200, endDate = 1544677200\n"
          ]
        },
        {
          "output_type": "stream",
          "name": "stdout",
          "text": [
            "No data found for NBIX on 2018-12-13\n"
          ]
        },
        {
          "output_type": "stream",
          "name": "stderr",
          "text": [
            "ERROR:yfinance:APNHY: Invalid input - start date cannot be after end date. startDate = 1609477200, endDate = 1544590800\n"
          ]
        },
        {
          "output_type": "stream",
          "name": "stdout",
          "text": [
            "No data found for APNHY on 2018-12-12\n"
          ]
        },
        {
          "output_type": "stream",
          "name": "stderr",
          "text": [
            "ERROR:yfinance:BAYRY: Invalid input - start date cannot be after end date. startDate = 1609477200, endDate = 1544590800\n"
          ]
        },
        {
          "output_type": "stream",
          "name": "stdout",
          "text": [
            "No data found for BAYRY on 2018-12-12\n"
          ]
        },
        {
          "output_type": "stream",
          "name": "stderr",
          "text": [
            "ERROR:yfinance:BBVA: Invalid input - start date cannot be after end date. startDate = 1609477200, endDate = 1544590800\n",
            "ERROR:yfinance:$DPLO: possibly delisted; No timezone found\n"
          ]
        },
        {
          "output_type": "stream",
          "name": "stdout",
          "text": [
            "No data found for BBVA on 2018-12-12\n",
            "No data found for DPLO on 2018-12-12\n"
          ]
        },
        {
          "output_type": "stream",
          "name": "stderr",
          "text": [
            "ERROR:yfinance:$FB: possibly delisted; No timezone found\n"
          ]
        },
        {
          "output_type": "stream",
          "name": "stdout",
          "text": [
            "No data found for FB on 2018-12-12\n"
          ]
        },
        {
          "output_type": "stream",
          "name": "stderr",
          "text": [
            "ERROR:yfinance:IBP: Invalid input - start date cannot be after end date. startDate = 1609477200, endDate = 1544590800\n"
          ]
        },
        {
          "output_type": "stream",
          "name": "stdout",
          "text": [
            "No data found for IBP on 2018-12-12\n"
          ]
        },
        {
          "output_type": "stream",
          "name": "stderr",
          "text": [
            "ERROR:yfinance:JGCCY: Invalid input - start date cannot be after end date. startDate = 1609477200, endDate = 1544590800\n"
          ]
        },
        {
          "output_type": "stream",
          "name": "stdout",
          "text": [
            "No data found for JGCCY on 2018-12-12\n"
          ]
        },
        {
          "output_type": "stream",
          "name": "stderr",
          "text": [
            "ERROR:yfinance:KMI: Invalid input - start date cannot be after end date. startDate = 1609477200, endDate = 1544590800\n"
          ]
        },
        {
          "output_type": "stream",
          "name": "stdout",
          "text": [
            "No data found for KMI on 2018-12-12\n"
          ]
        },
        {
          "output_type": "stream",
          "name": "stderr",
          "text": [
            "ERROR:yfinance:MO: Invalid input - start date cannot be after end date. startDate = 1609477200, endDate = 1544590800\n"
          ]
        },
        {
          "output_type": "stream",
          "name": "stdout",
          "text": [
            "No data found for MO on 2018-12-12\n"
          ]
        },
        {
          "output_type": "stream",
          "name": "stderr",
          "text": [
            "ERROR:yfinance:NFLX: Invalid input - start date cannot be after end date. startDate = 1609477200, endDate = 1544590800\n"
          ]
        },
        {
          "output_type": "stream",
          "name": "stdout",
          "text": [
            "No data found for NFLX on 2018-12-12\n"
          ]
        },
        {
          "output_type": "stream",
          "name": "stderr",
          "text": [
            "ERROR:yfinance:PM: Invalid input - start date cannot be after end date. startDate = 1609477200, endDate = 1544590800\n"
          ]
        },
        {
          "output_type": "stream",
          "name": "stdout",
          "text": [
            "No data found for PM on 2018-12-12\n"
          ]
        },
        {
          "output_type": "stream",
          "name": "stderr",
          "text": [
            "ERROR:yfinance:PPBI: Invalid input - start date cannot be after end date. startDate = 1609477200, endDate = 1544590800\n"
          ]
        },
        {
          "output_type": "stream",
          "name": "stdout",
          "text": [
            "No data found for PPBI on 2018-12-12\n"
          ]
        },
        {
          "output_type": "stream",
          "name": "stderr",
          "text": [
            "ERROR:yfinance:PRAA: Invalid input - start date cannot be after end date. startDate = 1609477200, endDate = 1544590800\n"
          ]
        },
        {
          "output_type": "stream",
          "name": "stdout",
          "text": [
            "No data found for PRAA on 2018-12-12\n"
          ]
        },
        {
          "output_type": "stream",
          "name": "stderr",
          "text": [
            "ERROR:yfinance:SLB: Invalid input - start date cannot be after end date. startDate = 1609477200, endDate = 1544590800\n",
            "ERROR:yfinance:SLB: Invalid input - start date cannot be after end date. startDate = 1609477200, endDate = 1544590800\n"
          ]
        },
        {
          "output_type": "stream",
          "name": "stdout",
          "text": [
            "No data found for SLB on 2018-12-12\n",
            "No data found for SLB on 2018-12-12\n"
          ]
        },
        {
          "output_type": "stream",
          "name": "stderr",
          "text": [
            "ERROR:yfinance:TUP: Invalid input - start date cannot be after end date. startDate = 1609477200, endDate = 1544590800\n"
          ]
        },
        {
          "output_type": "stream",
          "name": "stdout",
          "text": [
            "No data found for TUP on 2018-12-12\n"
          ]
        },
        {
          "output_type": "stream",
          "name": "stderr",
          "text": [
            "ERROR:yfinance:UPS: Invalid input - start date cannot be after end date. startDate = 1609477200, endDate = 1544590800\n"
          ]
        },
        {
          "output_type": "stream",
          "name": "stdout",
          "text": [
            "No data found for UPS on 2018-12-12\n"
          ]
        },
        {
          "output_type": "stream",
          "name": "stderr",
          "text": [
            "ERROR:yfinance:NSRGY: Invalid input - start date cannot be after end date. startDate = 1609477200, endDate = 1544504400\n"
          ]
        },
        {
          "output_type": "stream",
          "name": "stdout",
          "text": [
            "No data found for NSRGY on 2018-12-11\n"
          ]
        },
        {
          "output_type": "stream",
          "name": "stderr",
          "text": [
            "ERROR:yfinance:BEN: Invalid input - start date cannot be after end date. startDate = 1609477200, endDate = 1544418000\n"
          ]
        },
        {
          "output_type": "stream",
          "name": "stdout",
          "text": [
            "No data found for BEN on 2018-12-10\n"
          ]
        },
        {
          "output_type": "stream",
          "name": "stderr",
          "text": [
            "ERROR:yfinance:GD: Invalid input - start date cannot be after end date. startDate = 1609477200, endDate = 1544418000\n"
          ]
        },
        {
          "output_type": "stream",
          "name": "stdout",
          "text": [
            "No data found for GD on 2018-12-10\n"
          ]
        },
        {
          "output_type": "stream",
          "name": "stderr",
          "text": [
            "ERROR:yfinance:MSFT: Invalid input - start date cannot be after end date. startDate = 1609477200, endDate = 1544418000\n"
          ]
        },
        {
          "output_type": "stream",
          "name": "stdout",
          "text": [
            "No data found for MSFT on 2018-12-10\n"
          ]
        },
        {
          "output_type": "stream",
          "name": "stderr",
          "text": [
            "ERROR:yfinance:NSC: Invalid input - start date cannot be after end date. startDate = 1609477200, endDate = 1544418000\n"
          ]
        },
        {
          "output_type": "stream",
          "name": "stdout",
          "text": [
            "No data found for NSC on 2018-12-10\n"
          ]
        },
        {
          "output_type": "stream",
          "name": "stderr",
          "text": [
            "ERROR:yfinance:TXN: Invalid input - start date cannot be after end date. startDate = 1609477200, endDate = 1544418000\n"
          ]
        },
        {
          "output_type": "stream",
          "name": "stdout",
          "text": [
            "No data found for TXN on 2018-12-10\n"
          ]
        },
        {
          "output_type": "stream",
          "name": "stderr",
          "text": [
            "ERROR:yfinance:MSFT: Invalid input - start date cannot be after end date. startDate = 1609477200, endDate = 1544072400\n"
          ]
        },
        {
          "output_type": "stream",
          "name": "stdout",
          "text": [
            "No data found for MSFT on 2018-12-06\n"
          ]
        },
        {
          "output_type": "stream",
          "name": "stderr",
          "text": [
            "ERROR:yfinance:CSLLY: Invalid input - start date cannot be after end date. startDate = 1609477200, endDate = 1543554000\n"
          ]
        },
        {
          "output_type": "stream",
          "name": "stdout",
          "text": [
            "No data found for CSLLY on 2018-11-30\n"
          ]
        },
        {
          "output_type": "stream",
          "name": "stderr",
          "text": [
            "ERROR:yfinance:AIQUY: Invalid input - start date cannot be after end date. startDate = 1609477200, endDate = 1543467600\n"
          ]
        },
        {
          "output_type": "stream",
          "name": "stdout",
          "text": [
            "No data found for AIQUY on 2018-11-29\n"
          ]
        },
        {
          "output_type": "stream",
          "name": "stderr",
          "text": [
            "ERROR:yfinance:CSLLY: Invalid input - start date cannot be after end date. startDate = 1609477200, endDate = 1543467600\n"
          ]
        },
        {
          "output_type": "stream",
          "name": "stdout",
          "text": [
            "No data found for CSLLY on 2018-11-29\n"
          ]
        },
        {
          "output_type": "stream",
          "name": "stderr",
          "text": [
            "ERROR:yfinance:LIN: Invalid input - start date cannot be after end date. startDate = 1609477200, endDate = 1543467600\n"
          ]
        },
        {
          "output_type": "stream",
          "name": "stdout",
          "text": [
            "No data found for LIN on 2018-11-29\n"
          ]
        },
        {
          "output_type": "stream",
          "name": "stderr",
          "text": [
            "ERROR:yfinance:BEN: Invalid input - start date cannot be after end date. startDate = 1609477200, endDate = 1543381200\n"
          ]
        },
        {
          "output_type": "stream",
          "name": "stdout",
          "text": [
            "No data found for BEN on 2018-11-28\n"
          ]
        },
        {
          "output_type": "stream",
          "name": "stderr",
          "text": [
            "ERROR:yfinance:FMX: Invalid input - start date cannot be after end date. startDate = 1609477200, endDate = 1543381200\n"
          ]
        },
        {
          "output_type": "stream",
          "name": "stdout",
          "text": [
            "No data found for FMX on 2018-11-28\n"
          ]
        },
        {
          "output_type": "stream",
          "name": "stderr",
          "text": [
            "ERROR:yfinance:MSFT: Invalid input - start date cannot be after end date. startDate = 1609477200, endDate = 1543381200\n",
            "ERROR:yfinance:MSFT: Invalid input - start date cannot be after end date. startDate = 1609477200, endDate = 1543381200\n"
          ]
        },
        {
          "output_type": "stream",
          "name": "stdout",
          "text": [
            "No data found for MSFT on 2018-11-28\n",
            "No data found for MSFT on 2018-11-28\n"
          ]
        },
        {
          "output_type": "stream",
          "name": "stderr",
          "text": [
            "ERROR:yfinance:NSRGY: Invalid input - start date cannot be after end date. startDate = 1609477200, endDate = 1543381200\n"
          ]
        },
        {
          "output_type": "stream",
          "name": "stdout",
          "text": [
            "No data found for NSRGY on 2018-11-28\n"
          ]
        },
        {
          "output_type": "stream",
          "name": "stderr",
          "text": [
            "ERROR:yfinance:BEN: Invalid input - start date cannot be after end date. startDate = 1609477200, endDate = 1543294800\n"
          ]
        },
        {
          "output_type": "stream",
          "name": "stdout",
          "text": [
            "No data found for BEN on 2018-11-27\n"
          ]
        },
        {
          "output_type": "stream",
          "name": "stderr",
          "text": [
            "ERROR:yfinance:GD: Invalid input - start date cannot be after end date. startDate = 1609477200, endDate = 1543294800\n"
          ]
        },
        {
          "output_type": "stream",
          "name": "stdout",
          "text": [
            "No data found for GD on 2018-11-27\n"
          ]
        },
        {
          "output_type": "stream",
          "name": "stderr",
          "text": [
            "ERROR:yfinance:MSFT: Invalid input - start date cannot be after end date. startDate = 1609477200, endDate = 1543294800\n"
          ]
        },
        {
          "output_type": "stream",
          "name": "stdout",
          "text": [
            "No data found for MSFT on 2018-11-27\n"
          ]
        },
        {
          "output_type": "stream",
          "name": "stderr",
          "text": [
            "ERROR:yfinance:NSC: Invalid input - start date cannot be after end date. startDate = 1609477200, endDate = 1543294800\n"
          ]
        },
        {
          "output_type": "stream",
          "name": "stdout",
          "text": [
            "No data found for NSC on 2018-11-27\n"
          ]
        },
        {
          "output_type": "stream",
          "name": "stderr",
          "text": [
            "ERROR:yfinance:NSRGY: Invalid input - start date cannot be after end date. startDate = 1609477200, endDate = 1543294800\n"
          ]
        },
        {
          "output_type": "stream",
          "name": "stdout",
          "text": [
            "No data found for NSRGY on 2018-11-27\n"
          ]
        },
        {
          "output_type": "stream",
          "name": "stderr",
          "text": [
            "ERROR:yfinance:TXN: Invalid input - start date cannot be after end date. startDate = 1609477200, endDate = 1543294800\n"
          ]
        },
        {
          "output_type": "stream",
          "name": "stdout",
          "text": [
            "No data found for TXN on 2018-11-27\n"
          ]
        },
        {
          "output_type": "stream",
          "name": "stderr",
          "text": [
            "ERROR:yfinance:FAST: Invalid input - start date cannot be after end date. startDate = 1609477200, endDate = 1541998800\n"
          ]
        },
        {
          "output_type": "stream",
          "name": "stdout",
          "text": [
            "No data found for FAST on 2018-11-12\n"
          ]
        },
        {
          "output_type": "stream",
          "name": "stderr",
          "text": [
            "ERROR:yfinance:FAST: Invalid input - start date cannot be after end date. startDate = 1609477200, endDate = 1541739600\n"
          ]
        },
        {
          "output_type": "stream",
          "name": "stdout",
          "text": [
            "No data found for FAST on 2018-11-09\n"
          ]
        },
        {
          "output_type": "stream",
          "name": "stderr",
          "text": [
            "ERROR:yfinance:DASTY: Invalid input - start date cannot be after end date. startDate = 1609477200, endDate = 1541480400\n"
          ]
        },
        {
          "output_type": "stream",
          "name": "stdout",
          "text": [
            "No data found for DASTY on 2018-11-06\n"
          ]
        },
        {
          "output_type": "stream",
          "name": "stderr",
          "text": [
            "ERROR:yfinance:DIFTY: Invalid input - start date cannot be after end date. startDate = 1609477200, endDate = 1541480400\n"
          ]
        },
        {
          "output_type": "stream",
          "name": "stdout",
          "text": [
            "No data found for DIFTY on 2018-11-06\n"
          ]
        },
        {
          "output_type": "stream",
          "name": "stderr",
          "text": [
            "ERROR:yfinance:KMTUY: Invalid input - start date cannot be after end date. startDate = 1609477200, endDate = 1541480400\n"
          ]
        },
        {
          "output_type": "stream",
          "name": "stdout",
          "text": [
            "No data found for KMTUY on 2018-11-06\n"
          ]
        },
        {
          "output_type": "stream",
          "name": "stderr",
          "text": [
            "ERROR:yfinance:UPS: Invalid input - start date cannot be after end date. startDate = 1609477200, endDate = 1541480400\n"
          ]
        },
        {
          "output_type": "stream",
          "name": "stdout",
          "text": [
            "No data found for UPS on 2018-11-06\n"
          ]
        },
        {
          "output_type": "stream",
          "name": "stderr",
          "text": [
            "ERROR:yfinance:WPP: Invalid input - start date cannot be after end date. startDate = 1609477200, endDate = 1541480400\n"
          ]
        },
        {
          "output_type": "stream",
          "name": "stdout",
          "text": [
            "No data found for WPP on 2018-11-06\n"
          ]
        },
        {
          "output_type": "stream",
          "name": "stderr",
          "text": [
            "ERROR:yfinance:ADDYY: Invalid input - start date cannot be after end date. startDate = 1609477200, endDate = 1541394000\n"
          ]
        },
        {
          "output_type": "stream",
          "name": "stdout",
          "text": [
            "No data found for ADDYY on 2018-11-05\n"
          ]
        },
        {
          "output_type": "stream",
          "name": "stderr",
          "text": [
            "ERROR:yfinance:AMD: Invalid input - start date cannot be after end date. startDate = 1609477200, endDate = 1541394000\n"
          ]
        },
        {
          "output_type": "stream",
          "name": "stdout",
          "text": [
            "No data found for AMD on 2018-11-05\n"
          ]
        },
        {
          "output_type": "stream",
          "name": "stderr",
          "text": [
            "ERROR:yfinance:CA: Invalid input - start date cannot be after end date. startDate = 1609477200, endDate = 1541394000\n"
          ]
        },
        {
          "output_type": "stream",
          "name": "stdout",
          "text": [
            "No data found for CA on 2018-11-05\n"
          ]
        },
        {
          "output_type": "stream",
          "name": "stderr",
          "text": [
            "ERROR:yfinance:BIIB: Invalid input - start date cannot be after end date. startDate = 1609477200, endDate = 1540785600\n"
          ]
        },
        {
          "output_type": "stream",
          "name": "stdout",
          "text": [
            "No data found for BIIB on 2018-10-29\n"
          ]
        },
        {
          "output_type": "stream",
          "name": "stderr",
          "text": [
            "ERROR:yfinance:LULU: Invalid input - start date cannot be after end date. startDate = 1609477200, endDate = 1540785600\n"
          ]
        },
        {
          "output_type": "stream",
          "name": "stdout",
          "text": [
            "No data found for LULU on 2018-10-29\n"
          ]
        },
        {
          "output_type": "stream",
          "name": "stderr",
          "text": [
            "ERROR:yfinance:NOC: Invalid input - start date cannot be after end date. startDate = 1609477200, endDate = 1540785600\n"
          ]
        },
        {
          "output_type": "stream",
          "name": "stdout",
          "text": [
            "No data found for NOC on 2018-10-29\n"
          ]
        },
        {
          "output_type": "stream",
          "name": "stderr",
          "text": [
            "ERROR:yfinance:NSC: Invalid input - start date cannot be after end date. startDate = 1609477200, endDate = 1540785600\n"
          ]
        },
        {
          "output_type": "stream",
          "name": "stdout",
          "text": [
            "No data found for NSC on 2018-10-29\n"
          ]
        },
        {
          "output_type": "stream",
          "name": "stderr",
          "text": [
            "ERROR:yfinance:AMD: Invalid input - start date cannot be after end date. startDate = 1609477200, endDate = 1540526400\n"
          ]
        },
        {
          "output_type": "stream",
          "name": "stdout",
          "text": [
            "No data found for AMD on 2018-10-26\n"
          ]
        },
        {
          "output_type": "stream",
          "name": "stderr",
          "text": [
            "ERROR:yfinance:SCHW: Invalid input - start date cannot be after end date. startDate = 1609477200, endDate = 1540526400\n"
          ]
        },
        {
          "output_type": "stream",
          "name": "stdout",
          "text": [
            "No data found for SCHW on 2018-10-26\n"
          ]
        },
        {
          "output_type": "stream",
          "name": "stderr",
          "text": [
            "ERROR:yfinance:ILMN: Invalid input - start date cannot be after end date. startDate = 1609477200, endDate = 1540353600\n"
          ]
        },
        {
          "output_type": "stream",
          "name": "stdout",
          "text": [
            "No data found for ILMN on 2018-10-24\n"
          ]
        },
        {
          "output_type": "stream",
          "name": "stderr",
          "text": [
            "ERROR:yfinance:YNDX: Invalid input - start date cannot be after end date. startDate = 1609477200, endDate = 1540267200\n"
          ]
        },
        {
          "output_type": "stream",
          "name": "stdout",
          "text": [
            "No data found for YNDX on 2018-10-23\n"
          ]
        },
        {
          "output_type": "stream",
          "name": "stderr",
          "text": [
            "ERROR:yfinance:MS: Invalid input - start date cannot be after end date. startDate = 1609477200, endDate = 1540180800\n"
          ]
        },
        {
          "output_type": "stream",
          "name": "stdout",
          "text": [
            "No data found for MS on 2018-10-22\n"
          ]
        },
        {
          "output_type": "stream",
          "name": "stderr",
          "text": [
            "ERROR:yfinance:ALNY: Invalid input - start date cannot be after end date. startDate = 1609477200, endDate = 1539835200\n"
          ]
        },
        {
          "output_type": "stream",
          "name": "stdout",
          "text": [
            "No data found for ALNY on 2018-10-18\n"
          ]
        },
        {
          "output_type": "stream",
          "name": "stderr",
          "text": [
            "ERROR:yfinance:ADBE: Invalid input - start date cannot be after end date. startDate = 1609477200, endDate = 1539748800\n"
          ]
        },
        {
          "output_type": "stream",
          "name": "stdout",
          "text": [
            "No data found for ADBE on 2018-10-17\n"
          ]
        },
        {
          "output_type": "stream",
          "name": "stderr",
          "text": [
            "ERROR:yfinance:HD: Invalid input - start date cannot be after end date. startDate = 1609477200, endDate = 1539748800\n"
          ]
        },
        {
          "output_type": "stream",
          "name": "stdout",
          "text": [
            "No data found for HD on 2018-10-17\n"
          ]
        },
        {
          "output_type": "stream",
          "name": "stderr",
          "text": [
            "ERROR:yfinance:VEEV: Invalid input - start date cannot be after end date. startDate = 1609477200, endDate = 1539748800\n"
          ]
        },
        {
          "output_type": "stream",
          "name": "stdout",
          "text": [
            "No data found for VEEV on 2018-10-17\n"
          ]
        },
        {
          "output_type": "stream",
          "name": "stderr",
          "text": [
            "ERROR:yfinance:KS: Invalid input - start date cannot be after end date. startDate = 1609477200, endDate = 1539576000\n"
          ]
        },
        {
          "output_type": "stream",
          "name": "stdout",
          "text": [
            "No data found for KS on 2018-10-15\n"
          ]
        },
        {
          "output_type": "stream",
          "name": "stderr",
          "text": [
            "ERROR:yfinance:GOOG: Invalid input - start date cannot be after end date. startDate = 1609477200, endDate = 1539316800\n"
          ]
        },
        {
          "output_type": "stream",
          "name": "stdout",
          "text": [
            "No data found for GOOG on 2018-10-12\n"
          ]
        },
        {
          "output_type": "stream",
          "name": "stderr",
          "text": [
            "ERROR:yfinance:MSFT: Invalid input - start date cannot be after end date. startDate = 1609477200, endDate = 1539316800\n",
            "ERROR:yfinance:MSFT: Invalid input - start date cannot be after end date. startDate = 1609477200, endDate = 1539316800\n",
            "ERROR:yfinance:MSFT: Invalid input - start date cannot be after end date. startDate = 1609477200, endDate = 1539316800\n",
            "ERROR:yfinance:MSFT: Invalid input - start date cannot be after end date. startDate = 1609477200, endDate = 1539316800\n",
            "ERROR:yfinance:MSFT: Invalid input - start date cannot be after end date. startDate = 1609477200, endDate = 1539316800\n",
            "ERROR:yfinance:MSFT: Invalid input - start date cannot be after end date. startDate = 1609477200, endDate = 1539316800\n",
            "ERROR:yfinance:MSFT: Invalid input - start date cannot be after end date. startDate = 1609477200, endDate = 1539316800\n",
            "ERROR:yfinance:MSFT: Invalid input - start date cannot be after end date. startDate = 1609477200, endDate = 1539316800\n",
            "ERROR:yfinance:MSFT: Invalid input - start date cannot be after end date. startDate = 1609477200, endDate = 1539316800\n"
          ]
        },
        {
          "output_type": "stream",
          "name": "stdout",
          "text": [
            "No data found for MSFT on 2018-10-12\n",
            "No data found for MSFT on 2018-10-12\n",
            "No data found for MSFT on 2018-10-12\n",
            "No data found for MSFT on 2018-10-12\n",
            "No data found for MSFT on 2018-10-12\n",
            "No data found for MSFT on 2018-10-12\n",
            "No data found for MSFT on 2018-10-12\n",
            "No data found for MSFT on 2018-10-12\n",
            "No data found for MSFT on 2018-10-12\n"
          ]
        },
        {
          "output_type": "stream",
          "name": "stderr",
          "text": [
            "ERROR:yfinance:COST: Invalid input - start date cannot be after end date. startDate = 1609477200, endDate = 1539230400\n"
          ]
        },
        {
          "output_type": "stream",
          "name": "stdout",
          "text": [
            "No data found for COST on 2018-10-11\n"
          ]
        },
        {
          "output_type": "stream",
          "name": "stderr",
          "text": [
            "ERROR:yfinance:NSC: Invalid input - start date cannot be after end date. startDate = 1609477200, endDate = 1539230400\n"
          ]
        },
        {
          "output_type": "stream",
          "name": "stdout",
          "text": [
            "No data found for NSC on 2018-10-11\n"
          ]
        },
        {
          "output_type": "stream",
          "name": "stderr",
          "text": [
            "ERROR:yfinance:NVZMY: Invalid input - start date cannot be after end date. startDate = 1609477200, endDate = 1539230400\n"
          ]
        },
        {
          "output_type": "stream",
          "name": "stdout",
          "text": [
            "No data found for NVZMY on 2018-10-11\n"
          ]
        },
        {
          "output_type": "stream",
          "name": "stderr",
          "text": [
            "ERROR:yfinance:AMD: Invalid input - start date cannot be after end date. startDate = 1609477200, endDate = 1538452800\n"
          ]
        },
        {
          "output_type": "stream",
          "name": "stdout",
          "text": [
            "No data found for AMD on 2018-10-02\n"
          ]
        },
        {
          "output_type": "stream",
          "name": "stderr",
          "text": [
            "ERROR:yfinance:ISRG: Invalid input - start date cannot be after end date. startDate = 1609477200, endDate = 1538366400\n"
          ]
        },
        {
          "output_type": "stream",
          "name": "stdout",
          "text": [
            "No data found for ISRG on 2018-10-01\n"
          ]
        },
        {
          "output_type": "stream",
          "name": "stderr",
          "text": [
            "ERROR:yfinance:$LHCG: possibly delisted; No timezone found\n"
          ]
        },
        {
          "output_type": "stream",
          "name": "stdout",
          "text": [
            "No data found for LHCG on 2018-09-25\n"
          ]
        },
        {
          "output_type": "stream",
          "name": "stderr",
          "text": [
            "ERROR:yfinance:SKY: Invalid input - start date cannot be after end date. startDate = 1609477200, endDate = 1537761600\n"
          ]
        },
        {
          "output_type": "stream",
          "name": "stdout",
          "text": [
            "No data found for SKY on 2018-09-24\n"
          ]
        },
        {
          "output_type": "stream",
          "name": "stderr",
          "text": [
            "ERROR:yfinance:EDR: Invalid input - start date cannot be after end date. startDate = 1609477200, endDate = 1537502400\n"
          ]
        },
        {
          "output_type": "stream",
          "name": "stdout",
          "text": [
            "No data found for EDR on 2018-09-21\n"
          ]
        },
        {
          "output_type": "stream",
          "name": "stderr",
          "text": [
            "ERROR:yfinance:HUBS: Invalid input - start date cannot be after end date. startDate = 1609477200, endDate = 1537502400\n"
          ]
        },
        {
          "output_type": "stream",
          "name": "stdout",
          "text": [
            "No data found for HUBS on 2018-09-21\n"
          ]
        },
        {
          "output_type": "stream",
          "name": "stderr",
          "text": [
            "ERROR:yfinance:PCTY: Invalid input - start date cannot be after end date. startDate = 1609477200, endDate = 1537502400\n"
          ]
        },
        {
          "output_type": "stream",
          "name": "stdout",
          "text": [
            "No data found for PCTY on 2018-09-21\n"
          ]
        },
        {
          "output_type": "stream",
          "name": "stderr",
          "text": [
            "ERROR:yfinance:SSMXY: Invalid input - start date cannot be after end date. startDate = 1609477200, endDate = 1537243200\n"
          ]
        },
        {
          "output_type": "stream",
          "name": "stdout",
          "text": [
            "No data found for SSMXY on 2018-09-18\n"
          ]
        },
        {
          "output_type": "stream",
          "name": "stderr",
          "text": [
            "ERROR:yfinance:AAPL: Invalid input - start date cannot be after end date. startDate = 1609477200, endDate = 1536897600\n"
          ]
        },
        {
          "output_type": "stream",
          "name": "stdout",
          "text": [
            "No data found for AAPL on 2018-09-14\n"
          ]
        },
        {
          "output_type": "stream",
          "name": "stderr",
          "text": [
            "ERROR:yfinance:AAPL: Invalid input - start date cannot be after end date. startDate = 1609477200, endDate = 1536552000\n"
          ]
        },
        {
          "output_type": "stream",
          "name": "stdout",
          "text": [
            "No data found for AAPL on 2018-09-10\n"
          ]
        },
        {
          "output_type": "stream",
          "name": "stderr",
          "text": [
            "ERROR:yfinance:NFLX: Invalid input - start date cannot be after end date. startDate = 1609477200, endDate = 1536206400\n"
          ]
        },
        {
          "output_type": "stream",
          "name": "stdout",
          "text": [
            "No data found for NFLX on 2018-09-06\n"
          ]
        },
        {
          "output_type": "stream",
          "name": "stderr",
          "text": [
            "ERROR:yfinance:COTV: Invalid input - start date cannot be after end date. startDate = 1609477200, endDate = 1535342400\n"
          ]
        },
        {
          "output_type": "stream",
          "name": "stdout",
          "text": [
            "No data found for COTV on 2018-08-27\n"
          ]
        },
        {
          "output_type": "stream",
          "name": "stderr",
          "text": [
            "ERROR:yfinance:PCAR: Invalid input - start date cannot be after end date. startDate = 1609477200, endDate = 1535083200\n"
          ]
        },
        {
          "output_type": "stream",
          "name": "stdout",
          "text": [
            "No data found for PCAR on 2018-08-24\n"
          ]
        },
        {
          "output_type": "stream",
          "name": "stderr",
          "text": [
            "ERROR:yfinance:AVGO: Invalid input - start date cannot be after end date. startDate = 1609477200, endDate = 1534996800\n"
          ]
        },
        {
          "output_type": "stream",
          "name": "stdout",
          "text": [
            "No data found for AVGO on 2018-08-23\n"
          ]
        },
        {
          "output_type": "stream",
          "name": "stderr",
          "text": [
            "ERROR:yfinance:$LOGM: possibly delisted; No timezone found\n"
          ]
        },
        {
          "output_type": "stream",
          "name": "stdout",
          "text": [
            "No data found for LOGM on 2018-08-22\n"
          ]
        },
        {
          "output_type": "stream",
          "name": "stderr",
          "text": [
            "ERROR:yfinance:ABEV: Invalid input - start date cannot be after end date. startDate = 1609477200, endDate = 1534478400\n"
          ]
        },
        {
          "output_type": "stream",
          "name": "stdout",
          "text": [
            "No data found for ABEV on 2018-08-17\n"
          ]
        },
        {
          "output_type": "stream",
          "name": "stderr",
          "text": [
            "ERROR:yfinance:JNJ: Invalid input - start date cannot be after end date. startDate = 1609477200, endDate = 1534478400\n"
          ]
        },
        {
          "output_type": "stream",
          "name": "stdout",
          "text": [
            "No data found for JNJ on 2018-08-17\n"
          ]
        },
        {
          "output_type": "stream",
          "name": "stderr",
          "text": [
            "ERROR:yfinance:TGT: Invalid input - start date cannot be after end date. startDate = 1609477200, endDate = 1534478400\n"
          ]
        },
        {
          "output_type": "stream",
          "name": "stdout",
          "text": [
            "No data found for TGT on 2018-08-17\n"
          ]
        },
        {
          "output_type": "stream",
          "name": "stderr",
          "text": [
            "ERROR:yfinance:ADBE: Invalid input - start date cannot be after end date. startDate = 1609477200, endDate = 1533873600\n"
          ]
        },
        {
          "output_type": "stream",
          "name": "stdout",
          "text": [
            "No data found for ADBE on 2018-08-10\n"
          ]
        },
        {
          "output_type": "stream",
          "name": "stderr",
          "text": [
            "ERROR:yfinance:ISRG: Invalid input - start date cannot be after end date. startDate = 1609477200, endDate = 1533873600\n"
          ]
        },
        {
          "output_type": "stream",
          "name": "stdout",
          "text": [
            "No data found for ISRG on 2018-08-10\n"
          ]
        },
        {
          "output_type": "stream",
          "name": "stderr",
          "text": [
            "ERROR:yfinance:MA: Invalid input - start date cannot be after end date. startDate = 1609477200, endDate = 1533873600\n"
          ]
        },
        {
          "output_type": "stream",
          "name": "stdout",
          "text": [
            "No data found for MA on 2018-08-10\n"
          ]
        },
        {
          "output_type": "stream",
          "name": "stderr",
          "text": [
            "ERROR:yfinance:TTD: Invalid input - start date cannot be after end date. startDate = 1609477200, endDate = 1533873600\n"
          ]
        },
        {
          "output_type": "stream",
          "name": "stdout",
          "text": [
            "No data found for TTD on 2018-08-10\n"
          ]
        },
        {
          "output_type": "stream",
          "name": "stderr",
          "text": [
            "ERROR:yfinance:ISRG: Invalid input - start date cannot be after end date. startDate = 1609477200, endDate = 1533614400\n"
          ]
        },
        {
          "output_type": "stream",
          "name": "stdout",
          "text": [
            "No data found for ISRG on 2018-08-07\n"
          ]
        },
        {
          "output_type": "stream",
          "name": "stderr",
          "text": [
            "ERROR:yfinance:AAPL: Invalid input - start date cannot be after end date. startDate = 1609477200, endDate = 1533182400\n"
          ]
        },
        {
          "output_type": "stream",
          "name": "stdout",
          "text": [
            "No data found for AAPL on 2018-08-02\n"
          ]
        },
        {
          "output_type": "stream",
          "name": "stderr",
          "text": [
            "ERROR:yfinance:INTC: Invalid input - start date cannot be after end date. startDate = 1609477200, endDate = 1533009600\n"
          ]
        },
        {
          "output_type": "stream",
          "name": "stdout",
          "text": [
            "No data found for INTC on 2018-07-31\n"
          ]
        },
        {
          "output_type": "stream",
          "name": "stderr",
          "text": [
            "ERROR:yfinance:JNJ: Invalid input - start date cannot be after end date. startDate = 1609477200, endDate = 1533009600\n"
          ]
        },
        {
          "output_type": "stream",
          "name": "stdout",
          "text": [
            "No data found for JNJ on 2018-07-31\n"
          ]
        },
        {
          "output_type": "stream",
          "name": "stderr",
          "text": [
            "ERROR:yfinance:LVS: Invalid input - start date cannot be after end date. startDate = 1609477200, endDate = 1533009600\n",
            "ERROR:yfinance:$LOGM: possibly delisted; No timezone found\n"
          ]
        },
        {
          "output_type": "stream",
          "name": "stdout",
          "text": [
            "No data found for LVS on 2018-07-31\n",
            "No data found for LOGM on 2018-07-30\n"
          ]
        },
        {
          "output_type": "stream",
          "name": "stderr",
          "text": [
            "ERROR:yfinance:$FB: possibly delisted; No timezone found\n"
          ]
        },
        {
          "output_type": "stream",
          "name": "stdout",
          "text": [
            "No data found for FB on 2018-07-26\n"
          ]
        },
        {
          "output_type": "stream",
          "name": "stderr",
          "text": [
            "ERROR:yfinance:BIIB: Invalid input - start date cannot be after end date. startDate = 1609477200, endDate = 1532404800\n"
          ]
        },
        {
          "output_type": "stream",
          "name": "stdout",
          "text": [
            "No data found for BIIB on 2018-07-24\n"
          ]
        },
        {
          "output_type": "stream",
          "name": "stderr",
          "text": [
            "ERROR:yfinance:VMC: Invalid input - start date cannot be after end date. startDate = 1609477200, endDate = 1532404800\n"
          ]
        },
        {
          "output_type": "stream",
          "name": "stdout",
          "text": [
            "No data found for VMC on 2018-07-24\n"
          ]
        },
        {
          "output_type": "stream",
          "name": "stderr",
          "text": [
            "ERROR:yfinance:AAPL: Invalid input - start date cannot be after end date. startDate = 1609477200, endDate = 1531368000\n"
          ]
        },
        {
          "output_type": "stream",
          "name": "stdout",
          "text": [
            "No data found for AAPL on 2018-07-12\n"
          ]
        },
        {
          "output_type": "stream",
          "name": "stderr",
          "text": [
            "ERROR:yfinance:AVGO: Invalid input - start date cannot be after end date. startDate = 1609477200, endDate = 1531368000\n"
          ]
        },
        {
          "output_type": "stream",
          "name": "stdout",
          "text": [
            "No data found for AVGO on 2018-07-12\n"
          ]
        },
        {
          "output_type": "stream",
          "name": "stderr",
          "text": [
            "ERROR:yfinance:BKNG: Invalid input - start date cannot be after end date. startDate = 1609477200, endDate = 1530849600\n"
          ]
        },
        {
          "output_type": "stream",
          "name": "stdout",
          "text": [
            "No data found for BKNG on 2018-07-06\n"
          ]
        },
        {
          "output_type": "stream",
          "name": "stderr",
          "text": [
            "ERROR:yfinance:AAPL: Invalid input - start date cannot be after end date. startDate = 1609477200, endDate = 1530504000\n"
          ]
        },
        {
          "output_type": "stream",
          "name": "stdout",
          "text": [
            "No data found for AAPL on 2018-07-02\n"
          ]
        },
        {
          "output_type": "stream",
          "name": "stderr",
          "text": [
            "ERROR:yfinance:ADBE: Invalid input - start date cannot be after end date. startDate = 1609477200, endDate = 1530504000\n"
          ]
        },
        {
          "output_type": "stream",
          "name": "stdout",
          "text": [
            "No data found for ADBE on 2018-07-02\n"
          ]
        },
        {
          "output_type": "stream",
          "name": "stderr",
          "text": [
            "ERROR:yfinance:$RHT: possibly delisted; No timezone found\n"
          ]
        },
        {
          "output_type": "stream",
          "name": "stdout",
          "text": [
            "No data found for RHT on 2018-06-26\n"
          ]
        },
        {
          "output_type": "stream",
          "name": "stderr",
          "text": [
            "ERROR:yfinance:CSGP: Invalid input - start date cannot be after end date. startDate = 1609477200, endDate = 1529553600\n"
          ]
        },
        {
          "output_type": "stream",
          "name": "stdout",
          "text": [
            "No data found for CSGP on 2018-06-21\n"
          ]
        },
        {
          "output_type": "stream",
          "name": "stderr",
          "text": [
            "ERROR:yfinance:NKTR: Invalid input - start date cannot be after end date. startDate = 1609477200, endDate = 1529553600\n"
          ]
        },
        {
          "output_type": "stream",
          "name": "stdout",
          "text": [
            "No data found for NKTR on 2018-06-21\n"
          ]
        },
        {
          "output_type": "stream",
          "name": "stderr",
          "text": [
            "ERROR:yfinance:OLED: Invalid input - start date cannot be after end date. startDate = 1609477200, endDate = 1529467200\n"
          ]
        },
        {
          "output_type": "stream",
          "name": "stdout",
          "text": [
            "No data found for OLED on 2018-06-20\n"
          ]
        },
        {
          "output_type": "stream",
          "name": "stderr",
          "text": [
            "ERROR:yfinance:TWX: Invalid input - start date cannot be after end date. startDate = 1609477200, endDate = 1529035200\n"
          ]
        },
        {
          "output_type": "stream",
          "name": "stdout",
          "text": [
            "No data found for TWX on 2018-06-15\n"
          ]
        },
        {
          "output_type": "stream",
          "name": "stderr",
          "text": [
            "ERROR:yfinance:NKTR: Invalid input - start date cannot be after end date. startDate = 1609477200, endDate = 1528257600\n"
          ]
        },
        {
          "output_type": "stream",
          "name": "stdout",
          "text": [
            "No data found for NKTR on 2018-06-06\n"
          ]
        },
        {
          "output_type": "stream",
          "name": "stderr",
          "text": [
            "ERROR:yfinance:ALNY: Invalid input - start date cannot be after end date. startDate = 1609477200, endDate = 1527825600\n"
          ]
        },
        {
          "output_type": "stream",
          "name": "stdout",
          "text": [
            "No data found for ALNY on 2018-06-01\n"
          ]
        },
        {
          "output_type": "stream",
          "name": "stderr",
          "text": [
            "ERROR:yfinance:KS: Invalid input - start date cannot be after end date. startDate = 1609477200, endDate = 1527825600\n"
          ]
        },
        {
          "output_type": "stream",
          "name": "stdout",
          "text": [
            "No data found for KS on 2018-06-01\n"
          ]
        },
        {
          "output_type": "stream",
          "name": "stderr",
          "text": [
            "ERROR:yfinance:VRTX: Invalid input - start date cannot be after end date. startDate = 1609477200, endDate = 1527825600\n"
          ]
        },
        {
          "output_type": "stream",
          "name": "stdout",
          "text": [
            "No data found for VRTX on 2018-06-01\n"
          ]
        },
        {
          "output_type": "stream",
          "name": "stderr",
          "text": [
            "ERROR:yfinance:TMSNY: Invalid input - start date cannot be after end date. startDate = 1609477200, endDate = 1527739200\n"
          ]
        },
        {
          "output_type": "stream",
          "name": "stdout",
          "text": [
            "No data found for TMSNY on 2018-05-31\n"
          ]
        },
        {
          "output_type": "stream",
          "name": "stderr",
          "text": [
            "ERROR:yfinance:LULU: Invalid input - start date cannot be after end date. startDate = 1609477200, endDate = 1526875200\n"
          ]
        },
        {
          "output_type": "stream",
          "name": "stdout",
          "text": [
            "No data found for LULU on 2018-05-21\n"
          ]
        },
        {
          "output_type": "stream",
          "name": "stderr",
          "text": [
            "ERROR:yfinance:CATY: Invalid input - start date cannot be after end date. startDate = 1609477200, endDate = 1526616000\n"
          ]
        },
        {
          "output_type": "stream",
          "name": "stdout",
          "text": [
            "No data found for CATY on 2018-05-18\n"
          ]
        },
        {
          "output_type": "stream",
          "name": "stderr",
          "text": [
            "ERROR:yfinance:CENTA: Invalid input - start date cannot be after end date. startDate = 1609477200, endDate = 1526616000\n"
          ]
        },
        {
          "output_type": "stream",
          "name": "stdout",
          "text": [
            "No data found for CENTA on 2018-05-18\n"
          ]
        },
        {
          "output_type": "stream",
          "name": "stderr",
          "text": [
            "ERROR:yfinance:PPBI: Invalid input - start date cannot be after end date. startDate = 1609477200, endDate = 1526616000\n"
          ]
        },
        {
          "output_type": "stream",
          "name": "stdout",
          "text": [
            "No data found for PPBI on 2018-05-18\n"
          ]
        },
        {
          "output_type": "stream",
          "name": "stderr",
          "text": [
            "ERROR:yfinance:LZAGY: Invalid input - start date cannot be after end date. startDate = 1609477200, endDate = 1525838400\n"
          ]
        },
        {
          "output_type": "stream",
          "name": "stdout",
          "text": [
            "No data found for LZAGY on 2018-05-09\n"
          ]
        },
        {
          "output_type": "stream",
          "name": "stderr",
          "text": [
            "ERROR:yfinance:MNST: Invalid input - start date cannot be after end date. startDate = 1609477200, endDate = 1525838400\n"
          ]
        },
        {
          "output_type": "stream",
          "name": "stdout",
          "text": [
            "No data found for MNST on 2018-05-09\n"
          ]
        },
        {
          "output_type": "stream",
          "name": "stderr",
          "text": [
            "ERROR:yfinance:DASTY: Invalid input - start date cannot be after end date. startDate = 1609477200, endDate = 1525752000\n"
          ]
        },
        {
          "output_type": "stream",
          "name": "stdout",
          "text": [
            "No data found for DASTY on 2018-05-08\n"
          ]
        },
        {
          "output_type": "stream",
          "name": "stderr",
          "text": [
            "ERROR:yfinance:LZAGY: Invalid input - start date cannot be after end date. startDate = 1609477200, endDate = 1525752000\n"
          ]
        },
        {
          "output_type": "stream",
          "name": "stdout",
          "text": [
            "No data found for LZAGY on 2018-05-08\n"
          ]
        },
        {
          "output_type": "stream",
          "name": "stderr",
          "text": [
            "ERROR:yfinance:SHPG: Invalid input - start date cannot be after end date. startDate = 1609477200, endDate = 1525665600\n"
          ]
        },
        {
          "output_type": "stream",
          "name": "stdout",
          "text": [
            "No data found for SHPG on 2018-05-07\n"
          ]
        },
        {
          "output_type": "stream",
          "name": "stderr",
          "text": [
            "ERROR:yfinance:ALGT: Invalid input - start date cannot be after end date. startDate = 1609477200, endDate = 1525406400\n"
          ]
        },
        {
          "output_type": "stream",
          "name": "stdout",
          "text": [
            "No data found for ALGT on 2018-05-04\n"
          ]
        },
        {
          "output_type": "stream",
          "name": "stderr",
          "text": [
            "ERROR:yfinance:VRTX: Invalid input - start date cannot be after end date. startDate = 1609477200, endDate = 1525147200\n"
          ]
        },
        {
          "output_type": "stream",
          "name": "stdout",
          "text": [
            "No data found for VRTX on 2018-05-01\n"
          ]
        },
        {
          "output_type": "stream",
          "name": "stderr",
          "text": [
            "ERROR:yfinance:AAPL: Invalid input - start date cannot be after end date. startDate = 1609477200, endDate = 1525060800\n"
          ]
        },
        {
          "output_type": "stream",
          "name": "stdout",
          "text": [
            "No data found for AAPL on 2018-04-30\n"
          ]
        },
        {
          "output_type": "stream",
          "name": "stderr",
          "text": [
            "ERROR:yfinance:MSFT: Invalid input - start date cannot be after end date. startDate = 1609477200, endDate = 1525060800\n"
          ]
        },
        {
          "output_type": "stream",
          "name": "stdout",
          "text": [
            "No data found for MSFT on 2018-04-30\n"
          ]
        },
        {
          "output_type": "stream",
          "name": "stderr",
          "text": [
            "ERROR:yfinance:TKGBY: Invalid input - start date cannot be after end date. startDate = 1609477200, endDate = 1524628800\n"
          ]
        },
        {
          "output_type": "stream",
          "name": "stdout",
          "text": [
            "No data found for TKGBY on 2018-04-25\n"
          ]
        },
        {
          "output_type": "stream",
          "name": "stderr",
          "text": [
            "ERROR:yfinance:GOOG: Invalid input - start date cannot be after end date. startDate = 1609477200, endDate = 1524542400\n"
          ]
        },
        {
          "output_type": "stream",
          "name": "stdout",
          "text": [
            "No data found for GOOG on 2018-04-24\n"
          ]
        },
        {
          "output_type": "stream",
          "name": "stderr",
          "text": [
            "ERROR:yfinance:MTCH: Invalid input - start date cannot be after end date. startDate = 1609477200, endDate = 1524542400\n"
          ]
        },
        {
          "output_type": "stream",
          "name": "stdout",
          "text": [
            "No data found for MTCH on 2018-04-24\n"
          ]
        },
        {
          "output_type": "stream",
          "name": "stderr",
          "text": [
            "ERROR:yfinance:TEAM: Invalid input - start date cannot be after end date. startDate = 1609477200, endDate = 1524196800\n"
          ]
        },
        {
          "output_type": "stream",
          "name": "stdout",
          "text": [
            "No data found for TEAM on 2018-04-20\n"
          ]
        },
        {
          "output_type": "stream",
          "name": "stderr",
          "text": [
            "ERROR:yfinance:NAN: Invalid input - start date cannot be after end date. startDate = 1609477200, endDate = 1524110400\n"
          ]
        },
        {
          "output_type": "stream",
          "name": "stdout",
          "text": [
            "No data found for nan on 2018-04-19\n"
          ]
        },
        {
          "output_type": "stream",
          "name": "stderr",
          "text": [
            "ERROR:yfinance:PYPL: Invalid input - start date cannot be after end date. startDate = 1609477200, endDate = 1523419200\n",
            "ERROR:yfinance:$RHT: possibly delisted; No timezone found\n"
          ]
        },
        {
          "output_type": "stream",
          "name": "stdout",
          "text": [
            "No data found for PYPL on 2018-04-11\n",
            "No data found for RHT on 2018-04-09\n"
          ]
        },
        {
          "output_type": "stream",
          "name": "stderr",
          "text": [
            "ERROR:yfinance:TYL: Invalid input - start date cannot be after end date. startDate = 1609477200, endDate = 1522900800\n"
          ]
        },
        {
          "output_type": "stream",
          "name": "stdout",
          "text": [
            "No data found for TYL on 2018-04-05\n"
          ]
        },
        {
          "output_type": "stream",
          "name": "stderr",
          "text": [
            "ERROR:yfinance:$GRUB: possibly delisted; No timezone found\n"
          ]
        },
        {
          "output_type": "stream",
          "name": "stdout",
          "text": [
            "No data found for GRUB on 2018-04-04\n"
          ]
        },
        {
          "output_type": "stream",
          "name": "stderr",
          "text": [
            "ERROR:yfinance:GIS: Invalid input - start date cannot be after end date. startDate = 1609477200, endDate = 1522728000\n"
          ]
        },
        {
          "output_type": "stream",
          "name": "stdout",
          "text": [
            "No data found for GIS on 2018-04-03\n"
          ]
        },
        {
          "output_type": "stream",
          "name": "stderr",
          "text": [
            "ERROR:yfinance:ULTA: Invalid input - start date cannot be after end date. startDate = 1609477200, endDate = 1522728000\n"
          ]
        },
        {
          "output_type": "stream",
          "name": "stdout",
          "text": [
            "No data found for ULTA on 2018-04-03\n"
          ]
        },
        {
          "output_type": "stream",
          "name": "stderr",
          "text": [
            "ERROR:yfinance:HEI: Invalid input - start date cannot be after end date. startDate = 1609477200, endDate = 1522641600\n"
          ]
        },
        {
          "output_type": "stream",
          "name": "stdout",
          "text": [
            "No data found for HEI on 2018-04-02\n"
          ]
        },
        {
          "output_type": "stream",
          "name": "stderr",
          "text": [
            "ERROR:yfinance:$HEI.A: possibly delisted; No timezone found\n"
          ]
        },
        {
          "output_type": "stream",
          "name": "stdout",
          "text": [
            "No data found for HEI.A on 2018-03-27\n"
          ]
        },
        {
          "output_type": "stream",
          "name": "stderr",
          "text": [
            "ERROR:yfinance:LUV: Invalid input - start date cannot be after end date. startDate = 1609477200, endDate = 1521691200\n"
          ]
        },
        {
          "output_type": "stream",
          "name": "stdout",
          "text": [
            "No data found for LUV on 2018-03-22\n"
          ]
        },
        {
          "output_type": "stream",
          "name": "stderr",
          "text": [
            "ERROR:yfinance:PYPL: Invalid input - start date cannot be after end date. startDate = 1609477200, endDate = 1521604800\n"
          ]
        },
        {
          "output_type": "stream",
          "name": "stdout",
          "text": [
            "No data found for PYPL on 2018-03-21\n"
          ]
        },
        {
          "output_type": "stream",
          "name": "stderr",
          "text": [
            "ERROR:yfinance:NAN: Invalid input - start date cannot be after end date. startDate = 1609477200, endDate = 1521518400\n",
            "ERROR:yfinance:NAN: Invalid input - start date cannot be after end date. startDate = 1609477200, endDate = 1521518400\n",
            "ERROR:yfinance:NAN: Invalid input - start date cannot be after end date. startDate = 1609477200, endDate = 1521518400\n",
            "ERROR:yfinance:NAN: Invalid input - start date cannot be after end date. startDate = 1609477200, endDate = 1521518400\n",
            "ERROR:yfinance:NAN: Invalid input - start date cannot be after end date. startDate = 1609477200, endDate = 1521518400\n",
            "ERROR:yfinance:NAN: Invalid input - start date cannot be after end date. startDate = 1609477200, endDate = 1521518400\n",
            "ERROR:yfinance:NAN: Invalid input - start date cannot be after end date. startDate = 1609477200, endDate = 1521518400\n",
            "ERROR:yfinance:NAN: Invalid input - start date cannot be after end date. startDate = 1609477200, endDate = 1521518400\n",
            "ERROR:yfinance:NAN: Invalid input - start date cannot be after end date. startDate = 1609477200, endDate = 1521518400\n",
            "ERROR:yfinance:NAN: Invalid input - start date cannot be after end date. startDate = 1609477200, endDate = 1521518400\n"
          ]
        },
        {
          "output_type": "stream",
          "name": "stdout",
          "text": [
            "No data found for nan on 2018-03-20\n",
            "No data found for nan on 2018-03-20\n",
            "No data found for nan on 2018-03-20\n",
            "No data found for nan on 2018-03-20\n",
            "No data found for nan on 2018-03-20\n",
            "No data found for nan on 2018-03-20\n",
            "No data found for nan on 2018-03-20\n",
            "No data found for nan on 2018-03-20\n",
            "No data found for nan on 2018-03-20\n",
            "No data found for nan on 2018-03-20\n"
          ]
        },
        {
          "output_type": "stream",
          "name": "stderr",
          "text": [
            "ERROR:yfinance:NVZMY: Invalid input - start date cannot be after end date. startDate = 1609477200, endDate = 1521172800\n"
          ]
        },
        {
          "output_type": "stream",
          "name": "stdout",
          "text": [
            "No data found for NVZMY on 2018-03-16\n"
          ]
        },
        {
          "output_type": "stream",
          "name": "stderr",
          "text": [
            "ERROR:yfinance:LOPE: Invalid input - start date cannot be after end date. startDate = 1609477200, endDate = 1521086400\n"
          ]
        },
        {
          "output_type": "stream",
          "name": "stdout",
          "text": [
            "No data found for LOPE on 2018-03-15\n"
          ]
        },
        {
          "output_type": "stream",
          "name": "stderr",
          "text": [
            "ERROR:yfinance:PPBI: Invalid input - start date cannot be after end date. startDate = 1609477200, endDate = 1521086400\n"
          ]
        },
        {
          "output_type": "stream",
          "name": "stdout",
          "text": [
            "No data found for PPBI on 2018-03-15\n"
          ]
        },
        {
          "output_type": "stream",
          "name": "stderr",
          "text": [
            "ERROR:yfinance:TYL: Invalid input - start date cannot be after end date. startDate = 1609477200, endDate = 1521086400\n"
          ]
        },
        {
          "output_type": "stream",
          "name": "stdout",
          "text": [
            "No data found for TYL on 2018-03-15\n"
          ]
        },
        {
          "output_type": "stream",
          "name": "stderr",
          "text": [
            "ERROR:yfinance:CMCSA: Invalid input - start date cannot be after end date. startDate = 1609477200, endDate = 1520913600\n"
          ]
        },
        {
          "output_type": "stream",
          "name": "stdout",
          "text": [
            "No data found for CMCSA on 2018-03-13\n"
          ]
        },
        {
          "output_type": "stream",
          "name": "stderr",
          "text": [
            "ERROR:yfinance:AIR: Invalid input - start date cannot be after end date. startDate = 1609477200, endDate = 1519966800\n"
          ]
        },
        {
          "output_type": "stream",
          "name": "stdout",
          "text": [
            "No data found for AIR on 2018-03-02\n"
          ]
        },
        {
          "output_type": "stream",
          "name": "stderr",
          "text": [
            "ERROR:yfinance:CENT: Invalid input - start date cannot be after end date. startDate = 1609477200, endDate = 1519966800\n"
          ]
        },
        {
          "output_type": "stream",
          "name": "stdout",
          "text": [
            "No data found for CENT on 2018-03-02\n"
          ]
        },
        {
          "output_type": "stream",
          "name": "stderr",
          "text": [
            "ERROR:yfinance:CALD: Invalid input - start date cannot be after end date. startDate = 1609477200, endDate = 1519794000\n"
          ]
        },
        {
          "output_type": "stream",
          "name": "stdout",
          "text": [
            "No data found for CALD on 2018-02-28\n"
          ]
        },
        {
          "output_type": "stream",
          "name": "stderr",
          "text": [
            "ERROR:yfinance:PCAR: Invalid input - start date cannot be after end date. startDate = 1609477200, endDate = 1519621200\n"
          ]
        },
        {
          "output_type": "stream",
          "name": "stdout",
          "text": [
            "No data found for PCAR on 2018-02-26\n"
          ]
        },
        {
          "output_type": "stream",
          "name": "stderr",
          "text": [
            "ERROR:yfinance:GIS: Invalid input - start date cannot be after end date. startDate = 1609477200, endDate = 1519362000\n"
          ]
        },
        {
          "output_type": "stream",
          "name": "stdout",
          "text": [
            "No data found for GIS on 2018-02-23\n"
          ]
        },
        {
          "output_type": "stream",
          "name": "stderr",
          "text": [
            "ERROR:yfinance:PCAR: Invalid input - start date cannot be after end date. startDate = 1609477200, endDate = 1519362000\n"
          ]
        },
        {
          "output_type": "stream",
          "name": "stdout",
          "text": [
            "No data found for PCAR on 2018-02-23\n"
          ]
        },
        {
          "output_type": "stream",
          "name": "stderr",
          "text": [
            "ERROR:yfinance:AAPL: Invalid input - start date cannot be after end date. startDate = 1609477200, endDate = 1519275600\n"
          ]
        },
        {
          "output_type": "stream",
          "name": "stdout",
          "text": [
            "No data found for AAPL on 2018-02-22\n"
          ]
        },
        {
          "output_type": "stream",
          "name": "stderr",
          "text": [
            "ERROR:yfinance:CMCSA: Invalid input - start date cannot be after end date. startDate = 1609477200, endDate = 1519275600\n"
          ]
        },
        {
          "output_type": "stream",
          "name": "stdout",
          "text": [
            "No data found for CMCSA on 2018-02-22\n"
          ]
        },
        {
          "output_type": "stream",
          "name": "stderr",
          "text": [
            "ERROR:yfinance:GIS: Invalid input - start date cannot be after end date. startDate = 1609477200, endDate = 1519275600\n"
          ]
        },
        {
          "output_type": "stream",
          "name": "stdout",
          "text": [
            "No data found for GIS on 2018-02-22\n"
          ]
        },
        {
          "output_type": "stream",
          "name": "stderr",
          "text": [
            "ERROR:yfinance:LLY: Invalid input - start date cannot be after end date. startDate = 1609477200, endDate = 1519275600\n"
          ]
        },
        {
          "output_type": "stream",
          "name": "stdout",
          "text": [
            "No data found for LLY on 2018-02-22\n"
          ]
        },
        {
          "output_type": "stream",
          "name": "stderr",
          "text": [
            "ERROR:yfinance:MO: Invalid input - start date cannot be after end date. startDate = 1609477200, endDate = 1519275600\n"
          ]
        },
        {
          "output_type": "stream",
          "name": "stdout",
          "text": [
            "No data found for MO on 2018-02-22\n"
          ]
        },
        {
          "output_type": "stream",
          "name": "stderr",
          "text": [
            "ERROR:yfinance:PCAR: Invalid input - start date cannot be after end date. startDate = 1609477200, endDate = 1519275600\n"
          ]
        },
        {
          "output_type": "stream",
          "name": "stdout",
          "text": [
            "No data found for PCAR on 2018-02-22\n"
          ]
        },
        {
          "output_type": "stream",
          "name": "stderr",
          "text": [
            "ERROR:yfinance:SPGI: Invalid input - start date cannot be after end date. startDate = 1609477200, endDate = 1519275600\n"
          ]
        },
        {
          "output_type": "stream",
          "name": "stdout",
          "text": [
            "No data found for SPGI on 2018-02-22\n"
          ]
        },
        {
          "output_type": "stream",
          "name": "stderr",
          "text": [
            "ERROR:yfinance:NPSNY: Invalid input - start date cannot be after end date. startDate = 1609477200, endDate = 1519102800\n"
          ]
        },
        {
          "output_type": "stream",
          "name": "stdout",
          "text": [
            "No data found for NPSNY on 2018-02-20\n"
          ]
        },
        {
          "output_type": "stream",
          "name": "stderr",
          "text": [
            "ERROR:yfinance:SAP: Invalid input - start date cannot be after end date. startDate = 1609477200, endDate = 1519102800\n"
          ]
        },
        {
          "output_type": "stream",
          "name": "stdout",
          "text": [
            "No data found for SAP on 2018-02-20\n"
          ]
        },
        {
          "output_type": "stream",
          "name": "stderr",
          "text": [
            "ERROR:yfinance:GOOG: Invalid input - start date cannot be after end date. startDate = 1609477200, endDate = 1518757200\n",
            "ERROR:yfinance:$HEI.A: possibly delisted; No timezone found\n"
          ]
        },
        {
          "output_type": "stream",
          "name": "stdout",
          "text": [
            "No data found for GOOG on 2018-02-16\n",
            "No data found for HEI.A on 2018-02-15\n"
          ]
        },
        {
          "output_type": "stream",
          "name": "stderr",
          "text": [
            "ERROR:yfinance:ABMD: Invalid input - start date cannot be after end date. startDate = 1609477200, endDate = 1518584400\n"
          ]
        },
        {
          "output_type": "stream",
          "name": "stdout",
          "text": [
            "No data found for ABMD on 2018-02-14\n"
          ]
        },
        {
          "output_type": "stream",
          "name": "stderr",
          "text": [
            "ERROR:yfinance:CGNX: Invalid input - start date cannot be after end date. startDate = 1609477200, endDate = 1518584400\n"
          ]
        },
        {
          "output_type": "stream",
          "name": "stdout",
          "text": [
            "No data found for CGNX on 2018-02-14\n"
          ]
        },
        {
          "output_type": "stream",
          "name": "stderr",
          "text": [
            "ERROR:yfinance:HUM: Invalid input - start date cannot be after end date. startDate = 1609477200, endDate = 1518584400\n"
          ]
        },
        {
          "output_type": "stream",
          "name": "stdout",
          "text": [
            "No data found for HUM on 2018-02-14\n"
          ]
        },
        {
          "output_type": "stream",
          "name": "stderr",
          "text": [
            "ERROR:yfinance:AAPL: Invalid input - start date cannot be after end date. startDate = 1609477200, endDate = 1518411600\n"
          ]
        },
        {
          "output_type": "stream",
          "name": "stdout",
          "text": [
            "No data found for AAPL on 2018-02-12\n"
          ]
        },
        {
          "output_type": "stream",
          "name": "stderr",
          "text": [
            "ERROR:yfinance:CMCSA: Invalid input - start date cannot be after end date. startDate = 1609477200, endDate = 1518411600\n"
          ]
        },
        {
          "output_type": "stream",
          "name": "stdout",
          "text": [
            "No data found for CMCSA on 2018-02-12\n"
          ]
        },
        {
          "output_type": "stream",
          "name": "stderr",
          "text": [
            "ERROR:yfinance:AAPL: Invalid input - start date cannot be after end date. startDate = 1609477200, endDate = 1517979600\n"
          ]
        },
        {
          "output_type": "stream",
          "name": "stdout",
          "text": [
            "No data found for AAPL on 2018-02-07\n"
          ]
        },
        {
          "output_type": "stream",
          "name": "stderr",
          "text": [
            "ERROR:yfinance:GE: Invalid input - start date cannot be after end date. startDate = 1609477200, endDate = 1517979600\n"
          ]
        },
        {
          "output_type": "stream",
          "name": "stdout",
          "text": [
            "No data found for GE on 2018-02-07\n"
          ]
        },
        {
          "output_type": "stream",
          "name": "stderr",
          "text": [
            "ERROR:yfinance:LLY: Invalid input - start date cannot be after end date. startDate = 1609477200, endDate = 1517979600\n"
          ]
        },
        {
          "output_type": "stream",
          "name": "stdout",
          "text": [
            "No data found for LLY on 2018-02-07\n"
          ]
        },
        {
          "output_type": "error",
          "ename": "KeyboardInterrupt",
          "evalue": "",
          "traceback": [
            "\u001b[0;31m---------------------------------------------------------------------------\u001b[0m",
            "\u001b[0;31mKeyboardInterrupt\u001b[0m                         Traceback (most recent call last)",
            "\u001b[0;32m<ipython-input-48-35a37e2c7967>\u001b[0m in \u001b[0;36m<cell line: 14>\u001b[0;34m()\u001b[0m\n\u001b[1;32m     12\u001b[0m \u001b[0;34m\u001b[0m\u001b[0m\n\u001b[1;32m     13\u001b[0m \u001b[0;31m# Add columns for buy and sell prices\u001b[0m\u001b[0;34m\u001b[0m\u001b[0;34m\u001b[0m\u001b[0m\n\u001b[0;32m---> 14\u001b[0;31m transactions['Transaction Price'] = transactions.apply(\n\u001b[0m\u001b[1;32m     15\u001b[0m     lambda row: get_stock_price(row['Stock Ticker'], row['Traded']), axis=1)\n\u001b[1;32m     16\u001b[0m \u001b[0;34m\u001b[0m\u001b[0m\n",
            "\u001b[0;32m/usr/local/lib/python3.10/dist-packages/pandas/core/frame.py\u001b[0m in \u001b[0;36mapply\u001b[0;34m(self, func, axis, raw, result_type, args, **kwargs)\u001b[0m\n\u001b[1;32m   9421\u001b[0m             \u001b[0mkwargs\u001b[0m\u001b[0;34m=\u001b[0m\u001b[0mkwargs\u001b[0m\u001b[0;34m,\u001b[0m\u001b[0;34m\u001b[0m\u001b[0;34m\u001b[0m\u001b[0m\n\u001b[1;32m   9422\u001b[0m         )\n\u001b[0;32m-> 9423\u001b[0;31m         \u001b[0;32mreturn\u001b[0m \u001b[0mop\u001b[0m\u001b[0;34m.\u001b[0m\u001b[0mapply\u001b[0m\u001b[0;34m(\u001b[0m\u001b[0;34m)\u001b[0m\u001b[0;34m.\u001b[0m\u001b[0m__finalize__\u001b[0m\u001b[0;34m(\u001b[0m\u001b[0mself\u001b[0m\u001b[0;34m,\u001b[0m \u001b[0mmethod\u001b[0m\u001b[0;34m=\u001b[0m\u001b[0;34m\"apply\"\u001b[0m\u001b[0;34m)\u001b[0m\u001b[0;34m\u001b[0m\u001b[0;34m\u001b[0m\u001b[0m\n\u001b[0m\u001b[1;32m   9424\u001b[0m \u001b[0;34m\u001b[0m\u001b[0m\n\u001b[1;32m   9425\u001b[0m     def applymap(\n",
            "\u001b[0;32m/usr/local/lib/python3.10/dist-packages/pandas/core/apply.py\u001b[0m in \u001b[0;36mapply\u001b[0;34m(self)\u001b[0m\n\u001b[1;32m    676\u001b[0m             \u001b[0;32mreturn\u001b[0m \u001b[0mself\u001b[0m\u001b[0;34m.\u001b[0m\u001b[0mapply_raw\u001b[0m\u001b[0;34m(\u001b[0m\u001b[0;34m)\u001b[0m\u001b[0;34m\u001b[0m\u001b[0;34m\u001b[0m\u001b[0m\n\u001b[1;32m    677\u001b[0m \u001b[0;34m\u001b[0m\u001b[0m\n\u001b[0;32m--> 678\u001b[0;31m         \u001b[0;32mreturn\u001b[0m \u001b[0mself\u001b[0m\u001b[0;34m.\u001b[0m\u001b[0mapply_standard\u001b[0m\u001b[0;34m(\u001b[0m\u001b[0;34m)\u001b[0m\u001b[0;34m\u001b[0m\u001b[0;34m\u001b[0m\u001b[0m\n\u001b[0m\u001b[1;32m    679\u001b[0m \u001b[0;34m\u001b[0m\u001b[0m\n\u001b[1;32m    680\u001b[0m     \u001b[0;32mdef\u001b[0m \u001b[0magg\u001b[0m\u001b[0;34m(\u001b[0m\u001b[0mself\u001b[0m\u001b[0;34m)\u001b[0m\u001b[0;34m:\u001b[0m\u001b[0;34m\u001b[0m\u001b[0;34m\u001b[0m\u001b[0m\n",
            "\u001b[0;32m/usr/local/lib/python3.10/dist-packages/pandas/core/apply.py\u001b[0m in \u001b[0;36mapply_standard\u001b[0;34m(self)\u001b[0m\n\u001b[1;32m    796\u001b[0m \u001b[0;34m\u001b[0m\u001b[0m\n\u001b[1;32m    797\u001b[0m     \u001b[0;32mdef\u001b[0m \u001b[0mapply_standard\u001b[0m\u001b[0;34m(\u001b[0m\u001b[0mself\u001b[0m\u001b[0;34m)\u001b[0m\u001b[0;34m:\u001b[0m\u001b[0;34m\u001b[0m\u001b[0;34m\u001b[0m\u001b[0m\n\u001b[0;32m--> 798\u001b[0;31m         \u001b[0mresults\u001b[0m\u001b[0;34m,\u001b[0m \u001b[0mres_index\u001b[0m \u001b[0;34m=\u001b[0m \u001b[0mself\u001b[0m\u001b[0;34m.\u001b[0m\u001b[0mapply_series_generator\u001b[0m\u001b[0;34m(\u001b[0m\u001b[0;34m)\u001b[0m\u001b[0;34m\u001b[0m\u001b[0;34m\u001b[0m\u001b[0m\n\u001b[0m\u001b[1;32m    799\u001b[0m \u001b[0;34m\u001b[0m\u001b[0m\n\u001b[1;32m    800\u001b[0m         \u001b[0;31m# wrap results\u001b[0m\u001b[0;34m\u001b[0m\u001b[0;34m\u001b[0m\u001b[0m\n",
            "\u001b[0;32m/usr/local/lib/python3.10/dist-packages/pandas/core/apply.py\u001b[0m in \u001b[0;36mapply_series_generator\u001b[0;34m(self)\u001b[0m\n\u001b[1;32m    812\u001b[0m             \u001b[0;32mfor\u001b[0m \u001b[0mi\u001b[0m\u001b[0;34m,\u001b[0m \u001b[0mv\u001b[0m \u001b[0;32min\u001b[0m \u001b[0menumerate\u001b[0m\u001b[0;34m(\u001b[0m\u001b[0mseries_gen\u001b[0m\u001b[0;34m)\u001b[0m\u001b[0;34m:\u001b[0m\u001b[0;34m\u001b[0m\u001b[0;34m\u001b[0m\u001b[0m\n\u001b[1;32m    813\u001b[0m                 \u001b[0;31m# ignore SettingWithCopy here in case the user mutates\u001b[0m\u001b[0;34m\u001b[0m\u001b[0;34m\u001b[0m\u001b[0m\n\u001b[0;32m--> 814\u001b[0;31m                 \u001b[0mresults\u001b[0m\u001b[0;34m[\u001b[0m\u001b[0mi\u001b[0m\u001b[0;34m]\u001b[0m \u001b[0;34m=\u001b[0m \u001b[0mself\u001b[0m\u001b[0;34m.\u001b[0m\u001b[0mf\u001b[0m\u001b[0;34m(\u001b[0m\u001b[0mv\u001b[0m\u001b[0;34m)\u001b[0m\u001b[0;34m\u001b[0m\u001b[0;34m\u001b[0m\u001b[0m\n\u001b[0m\u001b[1;32m    815\u001b[0m                 \u001b[0;32mif\u001b[0m \u001b[0misinstance\u001b[0m\u001b[0;34m(\u001b[0m\u001b[0mresults\u001b[0m\u001b[0;34m[\u001b[0m\u001b[0mi\u001b[0m\u001b[0;34m]\u001b[0m\u001b[0;34m,\u001b[0m \u001b[0mABCSeries\u001b[0m\u001b[0;34m)\u001b[0m\u001b[0;34m:\u001b[0m\u001b[0;34m\u001b[0m\u001b[0;34m\u001b[0m\u001b[0m\n\u001b[1;32m    816\u001b[0m                     \u001b[0;31m# If we have a view on v, we need to make a copy because\u001b[0m\u001b[0;34m\u001b[0m\u001b[0;34m\u001b[0m\u001b[0m\n",
            "\u001b[0;32m<ipython-input-48-35a37e2c7967>\u001b[0m in \u001b[0;36m<lambda>\u001b[0;34m(row)\u001b[0m\n\u001b[1;32m     13\u001b[0m \u001b[0;31m# Add columns for buy and sell prices\u001b[0m\u001b[0;34m\u001b[0m\u001b[0;34m\u001b[0m\u001b[0m\n\u001b[1;32m     14\u001b[0m transactions['Transaction Price'] = transactions.apply(\n\u001b[0;32m---> 15\u001b[0;31m     lambda row: get_stock_price(row['Stock Ticker'], row['Traded']), axis=1)\n\u001b[0m\u001b[1;32m     16\u001b[0m \u001b[0;34m\u001b[0m\u001b[0m\n\u001b[1;32m     17\u001b[0m \u001b[0;31m# Save the updated data with transaction prices\u001b[0m\u001b[0;34m\u001b[0m\u001b[0;34m\u001b[0m\u001b[0m\n",
            "\u001b[0;32m<ipython-input-38-a6d380b34d39>\u001b[0m in \u001b[0;36mget_stock_price\u001b[0;34m(symbol, date)\u001b[0m\n\u001b[1;32m      9\u001b[0m         \u001b[0mstart_date\u001b[0m \u001b[0;34m=\u001b[0m \u001b[0;34m\"2021-01-01\"\u001b[0m\u001b[0;34m\u001b[0m\u001b[0;34m\u001b[0m\u001b[0m\n\u001b[1;32m     10\u001b[0m         \u001b[0mend_date\u001b[0m \u001b[0;34m=\u001b[0m \u001b[0mdatetime\u001b[0m\u001b[0;34m.\u001b[0m\u001b[0mstrptime\u001b[0m\u001b[0;34m(\u001b[0m\u001b[0mdate\u001b[0m\u001b[0;34m,\u001b[0m \u001b[0;34m\"%Y-%m-%d\"\u001b[0m\u001b[0;34m)\u001b[0m\u001b[0;34m\u001b[0m\u001b[0;34m\u001b[0m\u001b[0m\n\u001b[0;32m---> 11\u001b[0;31m         \u001b[0mdf\u001b[0m \u001b[0;34m=\u001b[0m \u001b[0mstock\u001b[0m\u001b[0;34m.\u001b[0m\u001b[0mhistory\u001b[0m\u001b[0;34m(\u001b[0m\u001b[0mstart\u001b[0m\u001b[0;34m=\u001b[0m\u001b[0mstart_date\u001b[0m\u001b[0;34m,\u001b[0m \u001b[0mend\u001b[0m\u001b[0;34m=\u001b[0m\u001b[0mend_date\u001b[0m\u001b[0;34m)\u001b[0m\u001b[0;34m\u001b[0m\u001b[0;34m\u001b[0m\u001b[0m\n\u001b[0m\u001b[1;32m     12\u001b[0m         \u001b[0;31m#print(start_date, end_date)\u001b[0m\u001b[0;34m\u001b[0m\u001b[0;34m\u001b[0m\u001b[0m\n\u001b[1;32m     13\u001b[0m         \u001b[0;32mif\u001b[0m \u001b[0mdf\u001b[0m\u001b[0;34m.\u001b[0m\u001b[0mempty\u001b[0m\u001b[0;34m:\u001b[0m\u001b[0;34m\u001b[0m\u001b[0;34m\u001b[0m\u001b[0m\n",
            "\u001b[0;32m/usr/local/lib/python3.10/dist-packages/yfinance/utils.py\u001b[0m in \u001b[0;36mwrapper\u001b[0;34m(*args, **kwargs)\u001b[0m\n\u001b[1;32m    102\u001b[0m \u001b[0;34m\u001b[0m\u001b[0m\n\u001b[1;32m    103\u001b[0m         \u001b[0;32mwith\u001b[0m \u001b[0mIndentationContext\u001b[0m\u001b[0;34m(\u001b[0m\u001b[0;34m)\u001b[0m\u001b[0;34m:\u001b[0m\u001b[0;34m\u001b[0m\u001b[0;34m\u001b[0m\u001b[0m\n\u001b[0;32m--> 104\u001b[0;31m             \u001b[0mresult\u001b[0m \u001b[0;34m=\u001b[0m \u001b[0mfunc\u001b[0m\u001b[0;34m(\u001b[0m\u001b[0;34m*\u001b[0m\u001b[0margs\u001b[0m\u001b[0;34m,\u001b[0m \u001b[0;34m**\u001b[0m\u001b[0mkwargs\u001b[0m\u001b[0;34m)\u001b[0m\u001b[0;34m\u001b[0m\u001b[0;34m\u001b[0m\u001b[0m\n\u001b[0m\u001b[1;32m    105\u001b[0m \u001b[0;34m\u001b[0m\u001b[0m\n\u001b[1;32m    106\u001b[0m         \u001b[0mlogger\u001b[0m\u001b[0;34m.\u001b[0m\u001b[0mdebug\u001b[0m\u001b[0;34m(\u001b[0m\u001b[0;34mf'Exiting {func.__name__}()'\u001b[0m\u001b[0;34m)\u001b[0m\u001b[0;34m\u001b[0m\u001b[0;34m\u001b[0m\u001b[0m\n",
            "\u001b[0;32m/usr/local/lib/python3.10/dist-packages/yfinance/base.py\u001b[0m in \u001b[0;36mhistory\u001b[0;34m(self, *args, **kwargs)\u001b[0m\n\u001b[1;32m     76\u001b[0m     \u001b[0;34m@\u001b[0m\u001b[0mutils\u001b[0m\u001b[0;34m.\u001b[0m\u001b[0mlog_indent_decorator\u001b[0m\u001b[0;34m\u001b[0m\u001b[0;34m\u001b[0m\u001b[0m\n\u001b[1;32m     77\u001b[0m     \u001b[0;32mdef\u001b[0m \u001b[0mhistory\u001b[0m\u001b[0;34m(\u001b[0m\u001b[0mself\u001b[0m\u001b[0;34m,\u001b[0m \u001b[0;34m*\u001b[0m\u001b[0margs\u001b[0m\u001b[0;34m,\u001b[0m \u001b[0;34m**\u001b[0m\u001b[0mkwargs\u001b[0m\u001b[0;34m)\u001b[0m \u001b[0;34m->\u001b[0m \u001b[0mpd\u001b[0m\u001b[0;34m.\u001b[0m\u001b[0mDataFrame\u001b[0m\u001b[0;34m:\u001b[0m\u001b[0;34m\u001b[0m\u001b[0;34m\u001b[0m\u001b[0m\n\u001b[0;32m---> 78\u001b[0;31m         \u001b[0;32mreturn\u001b[0m \u001b[0mself\u001b[0m\u001b[0;34m.\u001b[0m\u001b[0m_lazy_load_price_history\u001b[0m\u001b[0;34m(\u001b[0m\u001b[0;34m)\u001b[0m\u001b[0;34m.\u001b[0m\u001b[0mhistory\u001b[0m\u001b[0;34m(\u001b[0m\u001b[0;34m*\u001b[0m\u001b[0margs\u001b[0m\u001b[0;34m,\u001b[0m \u001b[0;34m**\u001b[0m\u001b[0mkwargs\u001b[0m\u001b[0;34m)\u001b[0m\u001b[0;34m\u001b[0m\u001b[0;34m\u001b[0m\u001b[0m\n\u001b[0m\u001b[1;32m     79\u001b[0m \u001b[0;34m\u001b[0m\u001b[0m\n\u001b[1;32m     80\u001b[0m     \u001b[0;31m# ------------------------\u001b[0m\u001b[0;34m\u001b[0m\u001b[0;34m\u001b[0m\u001b[0m\n",
            "\u001b[0;32m/usr/local/lib/python3.10/dist-packages/yfinance/utils.py\u001b[0m in \u001b[0;36mwrapper\u001b[0;34m(*args, **kwargs)\u001b[0m\n\u001b[1;32m    102\u001b[0m \u001b[0;34m\u001b[0m\u001b[0m\n\u001b[1;32m    103\u001b[0m         \u001b[0;32mwith\u001b[0m \u001b[0mIndentationContext\u001b[0m\u001b[0;34m(\u001b[0m\u001b[0;34m)\u001b[0m\u001b[0;34m:\u001b[0m\u001b[0;34m\u001b[0m\u001b[0;34m\u001b[0m\u001b[0m\n\u001b[0;32m--> 104\u001b[0;31m             \u001b[0mresult\u001b[0m \u001b[0;34m=\u001b[0m \u001b[0mfunc\u001b[0m\u001b[0;34m(\u001b[0m\u001b[0;34m*\u001b[0m\u001b[0margs\u001b[0m\u001b[0;34m,\u001b[0m \u001b[0;34m**\u001b[0m\u001b[0mkwargs\u001b[0m\u001b[0;34m)\u001b[0m\u001b[0;34m\u001b[0m\u001b[0;34m\u001b[0m\u001b[0m\n\u001b[0m\u001b[1;32m    105\u001b[0m \u001b[0;34m\u001b[0m\u001b[0m\n\u001b[1;32m    106\u001b[0m         \u001b[0mlogger\u001b[0m\u001b[0;34m.\u001b[0m\u001b[0mdebug\u001b[0m\u001b[0;34m(\u001b[0m\u001b[0;34mf'Exiting {func.__name__}()'\u001b[0m\u001b[0;34m)\u001b[0m\u001b[0;34m\u001b[0m\u001b[0;34m\u001b[0m\u001b[0m\n",
            "\u001b[0;32m/usr/local/lib/python3.10/dist-packages/yfinance/scrapers/history.py\u001b[0m in \u001b[0;36mhistory\u001b[0;34m(self, period, interval, start, end, prepost, actions, auto_adjust, back_adjust, repair, keepna, proxy, rounding, timeout, raise_errors)\u001b[0m\n\u001b[1;32m    141\u001b[0m                 \u001b[0mget_fn\u001b[0m \u001b[0;34m=\u001b[0m \u001b[0mself\u001b[0m\u001b[0;34m.\u001b[0m\u001b[0m_data\u001b[0m\u001b[0;34m.\u001b[0m\u001b[0mcache_get\u001b[0m\u001b[0;34m\u001b[0m\u001b[0;34m\u001b[0m\u001b[0m\n\u001b[1;32m    142\u001b[0m         \u001b[0;32mtry\u001b[0m\u001b[0;34m:\u001b[0m\u001b[0;34m\u001b[0m\u001b[0;34m\u001b[0m\u001b[0m\n\u001b[0;32m--> 143\u001b[0;31m             data = get_fn(\n\u001b[0m\u001b[1;32m    144\u001b[0m                 \u001b[0murl\u001b[0m\u001b[0;34m=\u001b[0m\u001b[0murl\u001b[0m\u001b[0;34m,\u001b[0m\u001b[0;34m\u001b[0m\u001b[0;34m\u001b[0m\u001b[0m\n\u001b[1;32m    145\u001b[0m                 \u001b[0mparams\u001b[0m\u001b[0;34m=\u001b[0m\u001b[0mparams\u001b[0m\u001b[0;34m,\u001b[0m\u001b[0;34m\u001b[0m\u001b[0;34m\u001b[0m\u001b[0m\n",
            "\u001b[0;32m/usr/local/lib/python3.10/dist-packages/yfinance/data.py\u001b[0m in \u001b[0;36mwrapped\u001b[0;34m(*args, **kwargs)\u001b[0m\n\u001b[1;32m     26\u001b[0m         \u001b[0margs\u001b[0m \u001b[0;34m=\u001b[0m \u001b[0mtuple\u001b[0m\u001b[0;34m(\u001b[0m\u001b[0;34m[\u001b[0m\u001b[0mtuple\u001b[0m\u001b[0;34m(\u001b[0m\u001b[0marg\u001b[0m\u001b[0;34m)\u001b[0m \u001b[0;32mif\u001b[0m \u001b[0misinstance\u001b[0m\u001b[0;34m(\u001b[0m\u001b[0marg\u001b[0m\u001b[0;34m,\u001b[0m \u001b[0mlist\u001b[0m\u001b[0;34m)\u001b[0m \u001b[0;32melse\u001b[0m \u001b[0marg\u001b[0m \u001b[0;32mfor\u001b[0m \u001b[0marg\u001b[0m \u001b[0;32min\u001b[0m \u001b[0margs\u001b[0m\u001b[0;34m]\u001b[0m\u001b[0;34m)\u001b[0m\u001b[0;34m\u001b[0m\u001b[0;34m\u001b[0m\u001b[0m\n\u001b[1;32m     27\u001b[0m         \u001b[0mkwargs\u001b[0m \u001b[0;34m=\u001b[0m \u001b[0;34m{\u001b[0m\u001b[0mk\u001b[0m\u001b[0;34m:\u001b[0m \u001b[0mtuple\u001b[0m\u001b[0;34m(\u001b[0m\u001b[0mv\u001b[0m\u001b[0;34m)\u001b[0m \u001b[0;32mif\u001b[0m \u001b[0misinstance\u001b[0m\u001b[0;34m(\u001b[0m\u001b[0mv\u001b[0m\u001b[0;34m,\u001b[0m \u001b[0mlist\u001b[0m\u001b[0;34m)\u001b[0m \u001b[0;32melse\u001b[0m \u001b[0mv\u001b[0m \u001b[0;32mfor\u001b[0m \u001b[0mk\u001b[0m\u001b[0;34m,\u001b[0m \u001b[0mv\u001b[0m \u001b[0;32min\u001b[0m \u001b[0mkwargs\u001b[0m\u001b[0;34m.\u001b[0m\u001b[0mitems\u001b[0m\u001b[0;34m(\u001b[0m\u001b[0;34m)\u001b[0m\u001b[0;34m}\u001b[0m\u001b[0;34m\u001b[0m\u001b[0;34m\u001b[0m\u001b[0m\n\u001b[0;32m---> 28\u001b[0;31m         \u001b[0;32mreturn\u001b[0m \u001b[0mfunc\u001b[0m\u001b[0;34m(\u001b[0m\u001b[0;34m*\u001b[0m\u001b[0margs\u001b[0m\u001b[0;34m,\u001b[0m \u001b[0;34m**\u001b[0m\u001b[0mkwargs\u001b[0m\u001b[0;34m)\u001b[0m\u001b[0;34m\u001b[0m\u001b[0;34m\u001b[0m\u001b[0m\n\u001b[0m\u001b[1;32m     29\u001b[0m \u001b[0;34m\u001b[0m\u001b[0m\n\u001b[1;32m     30\u001b[0m     \u001b[0;31m# copy over the lru_cache extra methods to this wrapper to be able to access them\u001b[0m\u001b[0;34m\u001b[0m\u001b[0;34m\u001b[0m\u001b[0m\n",
            "\u001b[0;32m/usr/local/lib/python3.10/dist-packages/yfinance/data.py\u001b[0m in \u001b[0;36mcache_get\u001b[0;34m(self, url, user_agent_headers, params, proxy, timeout)\u001b[0m\n\u001b[1;32m    384\u001b[0m     \u001b[0;34m@\u001b[0m\u001b[0mlru_cache\u001b[0m\u001b[0;34m(\u001b[0m\u001b[0mmaxsize\u001b[0m\u001b[0;34m=\u001b[0m\u001b[0mcache_maxsize\u001b[0m\u001b[0;34m)\u001b[0m\u001b[0;34m\u001b[0m\u001b[0;34m\u001b[0m\u001b[0m\n\u001b[1;32m    385\u001b[0m     \u001b[0;32mdef\u001b[0m \u001b[0mcache_get\u001b[0m\u001b[0;34m(\u001b[0m\u001b[0mself\u001b[0m\u001b[0;34m,\u001b[0m \u001b[0murl\u001b[0m\u001b[0;34m,\u001b[0m \u001b[0muser_agent_headers\u001b[0m\u001b[0;34m=\u001b[0m\u001b[0;32mNone\u001b[0m\u001b[0;34m,\u001b[0m \u001b[0mparams\u001b[0m\u001b[0;34m=\u001b[0m\u001b[0;32mNone\u001b[0m\u001b[0;34m,\u001b[0m \u001b[0mproxy\u001b[0m\u001b[0;34m=\u001b[0m\u001b[0;32mNone\u001b[0m\u001b[0;34m,\u001b[0m \u001b[0mtimeout\u001b[0m\u001b[0;34m=\u001b[0m\u001b[0;36m30\u001b[0m\u001b[0;34m)\u001b[0m\u001b[0;34m:\u001b[0m\u001b[0;34m\u001b[0m\u001b[0;34m\u001b[0m\u001b[0m\n\u001b[0;32m--> 386\u001b[0;31m         \u001b[0;32mreturn\u001b[0m \u001b[0mself\u001b[0m\u001b[0;34m.\u001b[0m\u001b[0mget\u001b[0m\u001b[0;34m(\u001b[0m\u001b[0murl\u001b[0m\u001b[0;34m,\u001b[0m \u001b[0muser_agent_headers\u001b[0m\u001b[0;34m,\u001b[0m \u001b[0mparams\u001b[0m\u001b[0;34m,\u001b[0m \u001b[0mproxy\u001b[0m\u001b[0;34m,\u001b[0m \u001b[0mtimeout\u001b[0m\u001b[0;34m)\u001b[0m\u001b[0;34m\u001b[0m\u001b[0;34m\u001b[0m\u001b[0m\n\u001b[0m\u001b[1;32m    387\u001b[0m \u001b[0;34m\u001b[0m\u001b[0m\n\u001b[1;32m    388\u001b[0m     \u001b[0;32mdef\u001b[0m \u001b[0m_get_proxy\u001b[0m\u001b[0;34m(\u001b[0m\u001b[0mself\u001b[0m\u001b[0;34m,\u001b[0m \u001b[0mproxy\u001b[0m\u001b[0;34m)\u001b[0m\u001b[0;34m:\u001b[0m\u001b[0;34m\u001b[0m\u001b[0;34m\u001b[0m\u001b[0m\n",
            "\u001b[0;32m/usr/local/lib/python3.10/dist-packages/yfinance/utils.py\u001b[0m in \u001b[0;36mwrapper\u001b[0;34m(*args, **kwargs)\u001b[0m\n\u001b[1;32m    102\u001b[0m \u001b[0;34m\u001b[0m\u001b[0m\n\u001b[1;32m    103\u001b[0m         \u001b[0;32mwith\u001b[0m \u001b[0mIndentationContext\u001b[0m\u001b[0;34m(\u001b[0m\u001b[0;34m)\u001b[0m\u001b[0;34m:\u001b[0m\u001b[0;34m\u001b[0m\u001b[0;34m\u001b[0m\u001b[0m\n\u001b[0;32m--> 104\u001b[0;31m             \u001b[0mresult\u001b[0m \u001b[0;34m=\u001b[0m \u001b[0mfunc\u001b[0m\u001b[0;34m(\u001b[0m\u001b[0;34m*\u001b[0m\u001b[0margs\u001b[0m\u001b[0;34m,\u001b[0m \u001b[0;34m**\u001b[0m\u001b[0mkwargs\u001b[0m\u001b[0;34m)\u001b[0m\u001b[0;34m\u001b[0m\u001b[0;34m\u001b[0m\u001b[0m\n\u001b[0m\u001b[1;32m    105\u001b[0m \u001b[0;34m\u001b[0m\u001b[0m\n\u001b[1;32m    106\u001b[0m         \u001b[0mlogger\u001b[0m\u001b[0;34m.\u001b[0m\u001b[0mdebug\u001b[0m\u001b[0;34m(\u001b[0m\u001b[0;34mf'Exiting {func.__name__}()'\u001b[0m\u001b[0;34m)\u001b[0m\u001b[0;34m\u001b[0m\u001b[0;34m\u001b[0m\u001b[0m\n",
            "\u001b[0;32m/usr/local/lib/python3.10/dist-packages/yfinance/data.py\u001b[0m in \u001b[0;36mget\u001b[0;34m(self, url, user_agent_headers, params, proxy, timeout)\u001b[0m\n\u001b[1;32m    372\u001b[0m             \u001b[0;32melse\u001b[0m\u001b[0;34m:\u001b[0m\u001b[0;34m\u001b[0m\u001b[0;34m\u001b[0m\u001b[0m\n\u001b[1;32m    373\u001b[0m                 \u001b[0mself\u001b[0m\u001b[0;34m.\u001b[0m\u001b[0m_set_cookie_strategy\u001b[0m\u001b[0;34m(\u001b[0m\u001b[0;34m'basic'\u001b[0m\u001b[0;34m)\u001b[0m\u001b[0;34m\u001b[0m\u001b[0;34m\u001b[0m\u001b[0m\n\u001b[0;32m--> 374\u001b[0;31m             \u001b[0mcookie\u001b[0m\u001b[0;34m,\u001b[0m \u001b[0mcrumb\u001b[0m\u001b[0;34m,\u001b[0m \u001b[0mstrategy\u001b[0m \u001b[0;34m=\u001b[0m \u001b[0mself\u001b[0m\u001b[0;34m.\u001b[0m\u001b[0m_get_cookie_and_crumb\u001b[0m\u001b[0;34m(\u001b[0m\u001b[0mproxy\u001b[0m\u001b[0;34m,\u001b[0m \u001b[0mtimeout\u001b[0m\u001b[0;34m)\u001b[0m\u001b[0;34m\u001b[0m\u001b[0;34m\u001b[0m\u001b[0m\n\u001b[0m\u001b[1;32m    375\u001b[0m             \u001b[0mrequest_args\u001b[0m\u001b[0;34m[\u001b[0m\u001b[0;34m'params'\u001b[0m\u001b[0;34m]\u001b[0m\u001b[0;34m[\u001b[0m\u001b[0;34m'crumb'\u001b[0m\u001b[0;34m]\u001b[0m \u001b[0;34m=\u001b[0m \u001b[0mcrumb\u001b[0m\u001b[0;34m\u001b[0m\u001b[0;34m\u001b[0m\u001b[0m\n\u001b[1;32m    376\u001b[0m             \u001b[0;32mif\u001b[0m \u001b[0mstrategy\u001b[0m \u001b[0;34m==\u001b[0m \u001b[0;34m'basic'\u001b[0m\u001b[0;34m:\u001b[0m\u001b[0;34m\u001b[0m\u001b[0;34m\u001b[0m\u001b[0m\n",
            "\u001b[0;32m/usr/local/lib/python3.10/dist-packages/yfinance/utils.py\u001b[0m in \u001b[0;36mwrapper\u001b[0;34m(*args, **kwargs)\u001b[0m\n\u001b[1;32m    102\u001b[0m \u001b[0;34m\u001b[0m\u001b[0m\n\u001b[1;32m    103\u001b[0m         \u001b[0;32mwith\u001b[0m \u001b[0mIndentationContext\u001b[0m\u001b[0;34m(\u001b[0m\u001b[0;34m)\u001b[0m\u001b[0;34m:\u001b[0m\u001b[0;34m\u001b[0m\u001b[0;34m\u001b[0m\u001b[0m\n\u001b[0;32m--> 104\u001b[0;31m             \u001b[0mresult\u001b[0m \u001b[0;34m=\u001b[0m \u001b[0mfunc\u001b[0m\u001b[0;34m(\u001b[0m\u001b[0;34m*\u001b[0m\u001b[0margs\u001b[0m\u001b[0;34m,\u001b[0m \u001b[0;34m**\u001b[0m\u001b[0mkwargs\u001b[0m\u001b[0;34m)\u001b[0m\u001b[0;34m\u001b[0m\u001b[0;34m\u001b[0m\u001b[0m\n\u001b[0m\u001b[1;32m    105\u001b[0m \u001b[0;34m\u001b[0m\u001b[0m\n\u001b[1;32m    106\u001b[0m         \u001b[0mlogger\u001b[0m\u001b[0;34m.\u001b[0m\u001b[0mdebug\u001b[0m\u001b[0;34m(\u001b[0m\u001b[0;34mf'Exiting {func.__name__}()'\u001b[0m\u001b[0;34m)\u001b[0m\u001b[0;34m\u001b[0m\u001b[0;34m\u001b[0m\u001b[0m\n",
            "\u001b[0;32m/usr/local/lib/python3.10/dist-packages/yfinance/data.py\u001b[0m in \u001b[0;36m_get_cookie_and_crumb\u001b[0;34m(self, proxy, timeout)\u001b[0m\n\u001b[1;32m    314\u001b[0m         \u001b[0;32mwith\u001b[0m \u001b[0mself\u001b[0m\u001b[0;34m.\u001b[0m\u001b[0m_cookie_lock\u001b[0m\u001b[0;34m:\u001b[0m\u001b[0;34m\u001b[0m\u001b[0;34m\u001b[0m\u001b[0m\n\u001b[1;32m    315\u001b[0m             \u001b[0;32mif\u001b[0m \u001b[0mself\u001b[0m\u001b[0;34m.\u001b[0m\u001b[0m_cookie_strategy\u001b[0m \u001b[0;34m==\u001b[0m \u001b[0;34m'csrf'\u001b[0m\u001b[0;34m:\u001b[0m\u001b[0;34m\u001b[0m\u001b[0;34m\u001b[0m\u001b[0m\n\u001b[0;32m--> 316\u001b[0;31m                 \u001b[0mcrumb\u001b[0m \u001b[0;34m=\u001b[0m \u001b[0mself\u001b[0m\u001b[0;34m.\u001b[0m\u001b[0m_get_crumb_csrf\u001b[0m\u001b[0;34m(\u001b[0m\u001b[0;34m)\u001b[0m\u001b[0;34m\u001b[0m\u001b[0;34m\u001b[0m\u001b[0m\n\u001b[0m\u001b[1;32m    317\u001b[0m                 \u001b[0;32mif\u001b[0m \u001b[0mcrumb\u001b[0m \u001b[0;32mis\u001b[0m \u001b[0;32mNone\u001b[0m\u001b[0;34m:\u001b[0m\u001b[0;34m\u001b[0m\u001b[0;34m\u001b[0m\u001b[0m\n\u001b[1;32m    318\u001b[0m                     \u001b[0;31m# Fail\u001b[0m\u001b[0;34m\u001b[0m\u001b[0;34m\u001b[0m\u001b[0m\n",
            "\u001b[0;32m/usr/local/lib/python3.10/dist-packages/yfinance/utils.py\u001b[0m in \u001b[0;36mwrapper\u001b[0;34m(*args, **kwargs)\u001b[0m\n\u001b[1;32m    102\u001b[0m \u001b[0;34m\u001b[0m\u001b[0m\n\u001b[1;32m    103\u001b[0m         \u001b[0;32mwith\u001b[0m \u001b[0mIndentationContext\u001b[0m\u001b[0;34m(\u001b[0m\u001b[0;34m)\u001b[0m\u001b[0;34m:\u001b[0m\u001b[0;34m\u001b[0m\u001b[0;34m\u001b[0m\u001b[0m\n\u001b[0;32m--> 104\u001b[0;31m             \u001b[0mresult\u001b[0m \u001b[0;34m=\u001b[0m \u001b[0mfunc\u001b[0m\u001b[0;34m(\u001b[0m\u001b[0;34m*\u001b[0m\u001b[0margs\u001b[0m\u001b[0;34m,\u001b[0m \u001b[0;34m**\u001b[0m\u001b[0mkwargs\u001b[0m\u001b[0;34m)\u001b[0m\u001b[0;34m\u001b[0m\u001b[0;34m\u001b[0m\u001b[0m\n\u001b[0m\u001b[1;32m    105\u001b[0m \u001b[0;34m\u001b[0m\u001b[0m\n\u001b[1;32m    106\u001b[0m         \u001b[0mlogger\u001b[0m\u001b[0;34m.\u001b[0m\u001b[0mdebug\u001b[0m\u001b[0;34m(\u001b[0m\u001b[0;34mf'Exiting {func.__name__}()'\u001b[0m\u001b[0;34m)\u001b[0m\u001b[0;34m\u001b[0m\u001b[0;34m\u001b[0m\u001b[0m\n",
            "\u001b[0;32m/usr/local/lib/python3.10/dist-packages/yfinance/data.py\u001b[0m in \u001b[0;36m_get_crumb_csrf\u001b[0;34m(self, proxy, timeout)\u001b[0m\n\u001b[1;32m    283\u001b[0m             \u001b[0;32mreturn\u001b[0m \u001b[0mself\u001b[0m\u001b[0;34m.\u001b[0m\u001b[0m_crumb\u001b[0m\u001b[0;34m\u001b[0m\u001b[0;34m\u001b[0m\u001b[0m\n\u001b[1;32m    284\u001b[0m \u001b[0;34m\u001b[0m\u001b[0m\n\u001b[0;32m--> 285\u001b[0;31m         \u001b[0;32mif\u001b[0m \u001b[0;32mnot\u001b[0m \u001b[0mself\u001b[0m\u001b[0;34m.\u001b[0m\u001b[0m_get_cookie_csrf\u001b[0m\u001b[0;34m(\u001b[0m\u001b[0mproxy\u001b[0m\u001b[0;34m,\u001b[0m \u001b[0mtimeout\u001b[0m\u001b[0;34m)\u001b[0m\u001b[0;34m:\u001b[0m\u001b[0;34m\u001b[0m\u001b[0;34m\u001b[0m\u001b[0m\n\u001b[0m\u001b[1;32m    286\u001b[0m             \u001b[0;31m# This cookie stored in session\u001b[0m\u001b[0;34m\u001b[0m\u001b[0;34m\u001b[0m\u001b[0m\n\u001b[1;32m    287\u001b[0m             \u001b[0;32mreturn\u001b[0m \u001b[0;32mNone\u001b[0m\u001b[0;34m\u001b[0m\u001b[0;34m\u001b[0m\u001b[0m\n",
            "\u001b[0;32m/usr/local/lib/python3.10/dist-packages/yfinance/data.py\u001b[0m in \u001b[0;36m_get_cookie_csrf\u001b[0;34m(self, proxy, timeout)\u001b[0m\n\u001b[1;32m    234\u001b[0m             \u001b[0mresponse\u001b[0m \u001b[0;34m=\u001b[0m \u001b[0mself\u001b[0m\u001b[0;34m.\u001b[0m\u001b[0m_session\u001b[0m\u001b[0;34m.\u001b[0m\u001b[0mget\u001b[0m\u001b[0;34m(\u001b[0m\u001b[0;34m**\u001b[0m\u001b[0mget_args\u001b[0m\u001b[0;34m)\u001b[0m\u001b[0;34m\u001b[0m\u001b[0;34m\u001b[0m\u001b[0m\n\u001b[1;32m    235\u001b[0m         \u001b[0;32melse\u001b[0m\u001b[0;34m:\u001b[0m\u001b[0;34m\u001b[0m\u001b[0;34m\u001b[0m\u001b[0m\n\u001b[0;32m--> 236\u001b[0;31m             \u001b[0mresponse\u001b[0m \u001b[0;34m=\u001b[0m \u001b[0mself\u001b[0m\u001b[0;34m.\u001b[0m\u001b[0m_session\u001b[0m\u001b[0;34m.\u001b[0m\u001b[0mget\u001b[0m\u001b[0;34m(\u001b[0m\u001b[0;34m**\u001b[0m\u001b[0mget_args\u001b[0m\u001b[0;34m)\u001b[0m\u001b[0;34m\u001b[0m\u001b[0;34m\u001b[0m\u001b[0m\n\u001b[0m\u001b[1;32m    237\u001b[0m \u001b[0;34m\u001b[0m\u001b[0m\n\u001b[1;32m    238\u001b[0m         \u001b[0msoup\u001b[0m \u001b[0;34m=\u001b[0m \u001b[0mBeautifulSoup\u001b[0m\u001b[0;34m(\u001b[0m\u001b[0mresponse\u001b[0m\u001b[0;34m.\u001b[0m\u001b[0mcontent\u001b[0m\u001b[0;34m,\u001b[0m \u001b[0;34m'html.parser'\u001b[0m\u001b[0;34m)\u001b[0m\u001b[0;34m\u001b[0m\u001b[0;34m\u001b[0m\u001b[0m\n",
            "\u001b[0;32m/usr/local/lib/python3.10/dist-packages/requests/sessions.py\u001b[0m in \u001b[0;36mget\u001b[0;34m(self, url, **kwargs)\u001b[0m\n\u001b[1;32m    600\u001b[0m \u001b[0;34m\u001b[0m\u001b[0m\n\u001b[1;32m    601\u001b[0m         \u001b[0mkwargs\u001b[0m\u001b[0;34m.\u001b[0m\u001b[0msetdefault\u001b[0m\u001b[0;34m(\u001b[0m\u001b[0;34m\"allow_redirects\"\u001b[0m\u001b[0;34m,\u001b[0m \u001b[0;32mTrue\u001b[0m\u001b[0;34m)\u001b[0m\u001b[0;34m\u001b[0m\u001b[0;34m\u001b[0m\u001b[0m\n\u001b[0;32m--> 602\u001b[0;31m         \u001b[0;32mreturn\u001b[0m \u001b[0mself\u001b[0m\u001b[0;34m.\u001b[0m\u001b[0mrequest\u001b[0m\u001b[0;34m(\u001b[0m\u001b[0;34m\"GET\"\u001b[0m\u001b[0;34m,\u001b[0m \u001b[0murl\u001b[0m\u001b[0;34m,\u001b[0m \u001b[0;34m**\u001b[0m\u001b[0mkwargs\u001b[0m\u001b[0;34m)\u001b[0m\u001b[0;34m\u001b[0m\u001b[0;34m\u001b[0m\u001b[0m\n\u001b[0m\u001b[1;32m    603\u001b[0m \u001b[0;34m\u001b[0m\u001b[0m\n\u001b[1;32m    604\u001b[0m     \u001b[0;32mdef\u001b[0m \u001b[0moptions\u001b[0m\u001b[0;34m(\u001b[0m\u001b[0mself\u001b[0m\u001b[0;34m,\u001b[0m \u001b[0murl\u001b[0m\u001b[0;34m,\u001b[0m \u001b[0;34m**\u001b[0m\u001b[0mkwargs\u001b[0m\u001b[0;34m)\u001b[0m\u001b[0;34m:\u001b[0m\u001b[0;34m\u001b[0m\u001b[0;34m\u001b[0m\u001b[0m\n",
            "\u001b[0;32m/usr/local/lib/python3.10/dist-packages/requests/sessions.py\u001b[0m in \u001b[0;36mrequest\u001b[0;34m(self, method, url, params, data, headers, cookies, files, auth, timeout, allow_redirects, proxies, hooks, stream, verify, cert, json)\u001b[0m\n\u001b[1;32m    587\u001b[0m         }\n\u001b[1;32m    588\u001b[0m         \u001b[0msend_kwargs\u001b[0m\u001b[0;34m.\u001b[0m\u001b[0mupdate\u001b[0m\u001b[0;34m(\u001b[0m\u001b[0msettings\u001b[0m\u001b[0;34m)\u001b[0m\u001b[0;34m\u001b[0m\u001b[0;34m\u001b[0m\u001b[0m\n\u001b[0;32m--> 589\u001b[0;31m         \u001b[0mresp\u001b[0m \u001b[0;34m=\u001b[0m \u001b[0mself\u001b[0m\u001b[0;34m.\u001b[0m\u001b[0msend\u001b[0m\u001b[0;34m(\u001b[0m\u001b[0mprep\u001b[0m\u001b[0;34m,\u001b[0m \u001b[0;34m**\u001b[0m\u001b[0msend_kwargs\u001b[0m\u001b[0;34m)\u001b[0m\u001b[0;34m\u001b[0m\u001b[0;34m\u001b[0m\u001b[0m\n\u001b[0m\u001b[1;32m    590\u001b[0m \u001b[0;34m\u001b[0m\u001b[0m\n\u001b[1;32m    591\u001b[0m         \u001b[0;32mreturn\u001b[0m \u001b[0mresp\u001b[0m\u001b[0;34m\u001b[0m\u001b[0;34m\u001b[0m\u001b[0m\n",
            "\u001b[0;32m/usr/local/lib/python3.10/dist-packages/requests/sessions.py\u001b[0m in \u001b[0;36msend\u001b[0;34m(self, request, **kwargs)\u001b[0m\n\u001b[1;32m    723\u001b[0m             \u001b[0;31m# Redirect resolving generator.\u001b[0m\u001b[0;34m\u001b[0m\u001b[0;34m\u001b[0m\u001b[0m\n\u001b[1;32m    724\u001b[0m             \u001b[0mgen\u001b[0m \u001b[0;34m=\u001b[0m \u001b[0mself\u001b[0m\u001b[0;34m.\u001b[0m\u001b[0mresolve_redirects\u001b[0m\u001b[0;34m(\u001b[0m\u001b[0mr\u001b[0m\u001b[0;34m,\u001b[0m \u001b[0mrequest\u001b[0m\u001b[0;34m,\u001b[0m \u001b[0;34m**\u001b[0m\u001b[0mkwargs\u001b[0m\u001b[0;34m)\u001b[0m\u001b[0;34m\u001b[0m\u001b[0;34m\u001b[0m\u001b[0m\n\u001b[0;32m--> 725\u001b[0;31m             \u001b[0mhistory\u001b[0m \u001b[0;34m=\u001b[0m \u001b[0;34m[\u001b[0m\u001b[0mresp\u001b[0m \u001b[0;32mfor\u001b[0m \u001b[0mresp\u001b[0m \u001b[0;32min\u001b[0m \u001b[0mgen\u001b[0m\u001b[0;34m]\u001b[0m\u001b[0;34m\u001b[0m\u001b[0;34m\u001b[0m\u001b[0m\n\u001b[0m\u001b[1;32m    726\u001b[0m         \u001b[0;32melse\u001b[0m\u001b[0;34m:\u001b[0m\u001b[0;34m\u001b[0m\u001b[0;34m\u001b[0m\u001b[0m\n\u001b[1;32m    727\u001b[0m             \u001b[0mhistory\u001b[0m \u001b[0;34m=\u001b[0m \u001b[0;34m[\u001b[0m\u001b[0;34m]\u001b[0m\u001b[0;34m\u001b[0m\u001b[0;34m\u001b[0m\u001b[0m\n",
            "\u001b[0;32m/usr/local/lib/python3.10/dist-packages/requests/sessions.py\u001b[0m in \u001b[0;36m<listcomp>\u001b[0;34m(.0)\u001b[0m\n\u001b[1;32m    723\u001b[0m             \u001b[0;31m# Redirect resolving generator.\u001b[0m\u001b[0;34m\u001b[0m\u001b[0;34m\u001b[0m\u001b[0m\n\u001b[1;32m    724\u001b[0m             \u001b[0mgen\u001b[0m \u001b[0;34m=\u001b[0m \u001b[0mself\u001b[0m\u001b[0;34m.\u001b[0m\u001b[0mresolve_redirects\u001b[0m\u001b[0;34m(\u001b[0m\u001b[0mr\u001b[0m\u001b[0;34m,\u001b[0m \u001b[0mrequest\u001b[0m\u001b[0;34m,\u001b[0m \u001b[0;34m**\u001b[0m\u001b[0mkwargs\u001b[0m\u001b[0;34m)\u001b[0m\u001b[0;34m\u001b[0m\u001b[0;34m\u001b[0m\u001b[0m\n\u001b[0;32m--> 725\u001b[0;31m             \u001b[0mhistory\u001b[0m \u001b[0;34m=\u001b[0m \u001b[0;34m[\u001b[0m\u001b[0mresp\u001b[0m \u001b[0;32mfor\u001b[0m \u001b[0mresp\u001b[0m \u001b[0;32min\u001b[0m \u001b[0mgen\u001b[0m\u001b[0;34m]\u001b[0m\u001b[0;34m\u001b[0m\u001b[0;34m\u001b[0m\u001b[0m\n\u001b[0m\u001b[1;32m    726\u001b[0m         \u001b[0;32melse\u001b[0m\u001b[0;34m:\u001b[0m\u001b[0;34m\u001b[0m\u001b[0;34m\u001b[0m\u001b[0m\n\u001b[1;32m    727\u001b[0m             \u001b[0mhistory\u001b[0m \u001b[0;34m=\u001b[0m \u001b[0;34m[\u001b[0m\u001b[0;34m]\u001b[0m\u001b[0;34m\u001b[0m\u001b[0;34m\u001b[0m\u001b[0m\n",
            "\u001b[0;32m/usr/local/lib/python3.10/dist-packages/requests/sessions.py\u001b[0m in \u001b[0;36mresolve_redirects\u001b[0;34m(self, resp, req, stream, timeout, verify, cert, proxies, yield_requests, **adapter_kwargs)\u001b[0m\n\u001b[1;32m    264\u001b[0m             \u001b[0;32melse\u001b[0m\u001b[0;34m:\u001b[0m\u001b[0;34m\u001b[0m\u001b[0;34m\u001b[0m\u001b[0m\n\u001b[1;32m    265\u001b[0m \u001b[0;34m\u001b[0m\u001b[0m\n\u001b[0;32m--> 266\u001b[0;31m                 resp = self.send(\n\u001b[0m\u001b[1;32m    267\u001b[0m                     \u001b[0mreq\u001b[0m\u001b[0;34m,\u001b[0m\u001b[0;34m\u001b[0m\u001b[0;34m\u001b[0m\u001b[0m\n\u001b[1;32m    268\u001b[0m                     \u001b[0mstream\u001b[0m\u001b[0;34m=\u001b[0m\u001b[0mstream\u001b[0m\u001b[0;34m,\u001b[0m\u001b[0;34m\u001b[0m\u001b[0;34m\u001b[0m\u001b[0m\n",
            "\u001b[0;32m/usr/local/lib/python3.10/dist-packages/requests/sessions.py\u001b[0m in \u001b[0;36msend\u001b[0;34m(self, request, **kwargs)\u001b[0m\n\u001b[1;32m    701\u001b[0m \u001b[0;34m\u001b[0m\u001b[0m\n\u001b[1;32m    702\u001b[0m         \u001b[0;31m# Send the request\u001b[0m\u001b[0;34m\u001b[0m\u001b[0;34m\u001b[0m\u001b[0m\n\u001b[0;32m--> 703\u001b[0;31m         \u001b[0mr\u001b[0m \u001b[0;34m=\u001b[0m \u001b[0madapter\u001b[0m\u001b[0;34m.\u001b[0m\u001b[0msend\u001b[0m\u001b[0;34m(\u001b[0m\u001b[0mrequest\u001b[0m\u001b[0;34m,\u001b[0m \u001b[0;34m**\u001b[0m\u001b[0mkwargs\u001b[0m\u001b[0;34m)\u001b[0m\u001b[0;34m\u001b[0m\u001b[0;34m\u001b[0m\u001b[0m\n\u001b[0m\u001b[1;32m    704\u001b[0m \u001b[0;34m\u001b[0m\u001b[0m\n\u001b[1;32m    705\u001b[0m         \u001b[0;31m# Total elapsed time of the request (approximately)\u001b[0m\u001b[0;34m\u001b[0m\u001b[0;34m\u001b[0m\u001b[0m\n",
            "\u001b[0;32m/usr/local/lib/python3.10/dist-packages/requests/adapters.py\u001b[0m in \u001b[0;36msend\u001b[0;34m(self, request, stream, timeout, verify, cert, proxies)\u001b[0m\n\u001b[1;32m    484\u001b[0m \u001b[0;34m\u001b[0m\u001b[0m\n\u001b[1;32m    485\u001b[0m         \u001b[0;32mtry\u001b[0m\u001b[0;34m:\u001b[0m\u001b[0;34m\u001b[0m\u001b[0;34m\u001b[0m\u001b[0m\n\u001b[0;32m--> 486\u001b[0;31m             resp = conn.urlopen(\n\u001b[0m\u001b[1;32m    487\u001b[0m                 \u001b[0mmethod\u001b[0m\u001b[0;34m=\u001b[0m\u001b[0mrequest\u001b[0m\u001b[0;34m.\u001b[0m\u001b[0mmethod\u001b[0m\u001b[0;34m,\u001b[0m\u001b[0;34m\u001b[0m\u001b[0;34m\u001b[0m\u001b[0m\n\u001b[1;32m    488\u001b[0m                 \u001b[0murl\u001b[0m\u001b[0;34m=\u001b[0m\u001b[0murl\u001b[0m\u001b[0;34m,\u001b[0m\u001b[0;34m\u001b[0m\u001b[0;34m\u001b[0m\u001b[0m\n",
            "\u001b[0;32m/usr/local/lib/python3.10/dist-packages/urllib3/connectionpool.py\u001b[0m in \u001b[0;36murlopen\u001b[0;34m(self, method, url, body, headers, retries, redirect, assert_same_host, timeout, pool_timeout, release_conn, chunked, body_pos, preload_content, decode_content, **response_kw)\u001b[0m\n\u001b[1;32m    789\u001b[0m \u001b[0;34m\u001b[0m\u001b[0m\n\u001b[1;32m    790\u001b[0m             \u001b[0;31m# Make the request on the HTTPConnection object\u001b[0m\u001b[0;34m\u001b[0m\u001b[0;34m\u001b[0m\u001b[0m\n\u001b[0;32m--> 791\u001b[0;31m             response = self._make_request(\n\u001b[0m\u001b[1;32m    792\u001b[0m                 \u001b[0mconn\u001b[0m\u001b[0;34m,\u001b[0m\u001b[0;34m\u001b[0m\u001b[0;34m\u001b[0m\u001b[0m\n\u001b[1;32m    793\u001b[0m                 \u001b[0mmethod\u001b[0m\u001b[0;34m,\u001b[0m\u001b[0;34m\u001b[0m\u001b[0;34m\u001b[0m\u001b[0m\n",
            "\u001b[0;32m/usr/local/lib/python3.10/dist-packages/urllib3/connectionpool.py\u001b[0m in \u001b[0;36m_make_request\u001b[0;34m(self, conn, method, url, body, headers, retries, timeout, chunked, response_conn, preload_content, decode_content, enforce_content_length)\u001b[0m\n\u001b[1;32m    535\u001b[0m         \u001b[0;31m# Receive the response from the server\u001b[0m\u001b[0;34m\u001b[0m\u001b[0;34m\u001b[0m\u001b[0m\n\u001b[1;32m    536\u001b[0m         \u001b[0;32mtry\u001b[0m\u001b[0;34m:\u001b[0m\u001b[0;34m\u001b[0m\u001b[0;34m\u001b[0m\u001b[0m\n\u001b[0;32m--> 537\u001b[0;31m             \u001b[0mresponse\u001b[0m \u001b[0;34m=\u001b[0m \u001b[0mconn\u001b[0m\u001b[0;34m.\u001b[0m\u001b[0mgetresponse\u001b[0m\u001b[0;34m(\u001b[0m\u001b[0;34m)\u001b[0m\u001b[0;34m\u001b[0m\u001b[0;34m\u001b[0m\u001b[0m\n\u001b[0m\u001b[1;32m    538\u001b[0m         \u001b[0;32mexcept\u001b[0m \u001b[0;34m(\u001b[0m\u001b[0mBaseSSLError\u001b[0m\u001b[0;34m,\u001b[0m \u001b[0mOSError\u001b[0m\u001b[0;34m)\u001b[0m \u001b[0;32mas\u001b[0m \u001b[0me\u001b[0m\u001b[0;34m:\u001b[0m\u001b[0;34m\u001b[0m\u001b[0;34m\u001b[0m\u001b[0m\n\u001b[1;32m    539\u001b[0m             \u001b[0mself\u001b[0m\u001b[0;34m.\u001b[0m\u001b[0m_raise_timeout\u001b[0m\u001b[0;34m(\u001b[0m\u001b[0merr\u001b[0m\u001b[0;34m=\u001b[0m\u001b[0me\u001b[0m\u001b[0;34m,\u001b[0m \u001b[0murl\u001b[0m\u001b[0;34m=\u001b[0m\u001b[0murl\u001b[0m\u001b[0;34m,\u001b[0m \u001b[0mtimeout_value\u001b[0m\u001b[0;34m=\u001b[0m\u001b[0mread_timeout\u001b[0m\u001b[0;34m)\u001b[0m\u001b[0;34m\u001b[0m\u001b[0;34m\u001b[0m\u001b[0m\n",
            "\u001b[0;32m/usr/local/lib/python3.10/dist-packages/urllib3/connection.py\u001b[0m in \u001b[0;36mgetresponse\u001b[0;34m(self)\u001b[0m\n\u001b[1;32m    459\u001b[0m \u001b[0;34m\u001b[0m\u001b[0m\n\u001b[1;32m    460\u001b[0m         \u001b[0;31m# Get the response from http.client.HTTPConnection\u001b[0m\u001b[0;34m\u001b[0m\u001b[0;34m\u001b[0m\u001b[0m\n\u001b[0;32m--> 461\u001b[0;31m         \u001b[0mhttplib_response\u001b[0m \u001b[0;34m=\u001b[0m \u001b[0msuper\u001b[0m\u001b[0;34m(\u001b[0m\u001b[0;34m)\u001b[0m\u001b[0;34m.\u001b[0m\u001b[0mgetresponse\u001b[0m\u001b[0;34m(\u001b[0m\u001b[0;34m)\u001b[0m\u001b[0;34m\u001b[0m\u001b[0;34m\u001b[0m\u001b[0m\n\u001b[0m\u001b[1;32m    462\u001b[0m \u001b[0;34m\u001b[0m\u001b[0m\n\u001b[1;32m    463\u001b[0m         \u001b[0;32mtry\u001b[0m\u001b[0;34m:\u001b[0m\u001b[0;34m\u001b[0m\u001b[0;34m\u001b[0m\u001b[0m\n",
            "\u001b[0;32m/usr/lib/python3.10/http/client.py\u001b[0m in \u001b[0;36mgetresponse\u001b[0;34m(self)\u001b[0m\n\u001b[1;32m   1373\u001b[0m         \u001b[0;32mtry\u001b[0m\u001b[0;34m:\u001b[0m\u001b[0;34m\u001b[0m\u001b[0;34m\u001b[0m\u001b[0m\n\u001b[1;32m   1374\u001b[0m             \u001b[0;32mtry\u001b[0m\u001b[0;34m:\u001b[0m\u001b[0;34m\u001b[0m\u001b[0;34m\u001b[0m\u001b[0m\n\u001b[0;32m-> 1375\u001b[0;31m                 \u001b[0mresponse\u001b[0m\u001b[0;34m.\u001b[0m\u001b[0mbegin\u001b[0m\u001b[0;34m(\u001b[0m\u001b[0;34m)\u001b[0m\u001b[0;34m\u001b[0m\u001b[0;34m\u001b[0m\u001b[0m\n\u001b[0m\u001b[1;32m   1376\u001b[0m             \u001b[0;32mexcept\u001b[0m \u001b[0mConnectionError\u001b[0m\u001b[0;34m:\u001b[0m\u001b[0;34m\u001b[0m\u001b[0;34m\u001b[0m\u001b[0m\n\u001b[1;32m   1377\u001b[0m                 \u001b[0mself\u001b[0m\u001b[0;34m.\u001b[0m\u001b[0mclose\u001b[0m\u001b[0;34m(\u001b[0m\u001b[0;34m)\u001b[0m\u001b[0;34m\u001b[0m\u001b[0;34m\u001b[0m\u001b[0m\n",
            "\u001b[0;32m/usr/lib/python3.10/http/client.py\u001b[0m in \u001b[0;36mbegin\u001b[0;34m(self)\u001b[0m\n\u001b[1;32m    316\u001b[0m         \u001b[0;31m# read until we get a non-100 response\u001b[0m\u001b[0;34m\u001b[0m\u001b[0;34m\u001b[0m\u001b[0m\n\u001b[1;32m    317\u001b[0m         \u001b[0;32mwhile\u001b[0m \u001b[0;32mTrue\u001b[0m\u001b[0;34m:\u001b[0m\u001b[0;34m\u001b[0m\u001b[0;34m\u001b[0m\u001b[0m\n\u001b[0;32m--> 318\u001b[0;31m             \u001b[0mversion\u001b[0m\u001b[0;34m,\u001b[0m \u001b[0mstatus\u001b[0m\u001b[0;34m,\u001b[0m \u001b[0mreason\u001b[0m \u001b[0;34m=\u001b[0m \u001b[0mself\u001b[0m\u001b[0;34m.\u001b[0m\u001b[0m_read_status\u001b[0m\u001b[0;34m(\u001b[0m\u001b[0;34m)\u001b[0m\u001b[0;34m\u001b[0m\u001b[0;34m\u001b[0m\u001b[0m\n\u001b[0m\u001b[1;32m    319\u001b[0m             \u001b[0;32mif\u001b[0m \u001b[0mstatus\u001b[0m \u001b[0;34m!=\u001b[0m \u001b[0mCONTINUE\u001b[0m\u001b[0;34m:\u001b[0m\u001b[0;34m\u001b[0m\u001b[0;34m\u001b[0m\u001b[0m\n\u001b[1;32m    320\u001b[0m                 \u001b[0;32mbreak\u001b[0m\u001b[0;34m\u001b[0m\u001b[0;34m\u001b[0m\u001b[0m\n",
            "\u001b[0;32m/usr/lib/python3.10/http/client.py\u001b[0m in \u001b[0;36m_read_status\u001b[0;34m(self)\u001b[0m\n\u001b[1;32m    277\u001b[0m \u001b[0;34m\u001b[0m\u001b[0m\n\u001b[1;32m    278\u001b[0m     \u001b[0;32mdef\u001b[0m \u001b[0m_read_status\u001b[0m\u001b[0;34m(\u001b[0m\u001b[0mself\u001b[0m\u001b[0;34m)\u001b[0m\u001b[0;34m:\u001b[0m\u001b[0;34m\u001b[0m\u001b[0;34m\u001b[0m\u001b[0m\n\u001b[0;32m--> 279\u001b[0;31m         \u001b[0mline\u001b[0m \u001b[0;34m=\u001b[0m \u001b[0mstr\u001b[0m\u001b[0;34m(\u001b[0m\u001b[0mself\u001b[0m\u001b[0;34m.\u001b[0m\u001b[0mfp\u001b[0m\u001b[0;34m.\u001b[0m\u001b[0mreadline\u001b[0m\u001b[0;34m(\u001b[0m\u001b[0m_MAXLINE\u001b[0m \u001b[0;34m+\u001b[0m \u001b[0;36m1\u001b[0m\u001b[0;34m)\u001b[0m\u001b[0;34m,\u001b[0m \u001b[0;34m\"iso-8859-1\"\u001b[0m\u001b[0;34m)\u001b[0m\u001b[0;34m\u001b[0m\u001b[0;34m\u001b[0m\u001b[0m\n\u001b[0m\u001b[1;32m    280\u001b[0m         \u001b[0;32mif\u001b[0m \u001b[0mlen\u001b[0m\u001b[0;34m(\u001b[0m\u001b[0mline\u001b[0m\u001b[0;34m)\u001b[0m \u001b[0;34m>\u001b[0m \u001b[0m_MAXLINE\u001b[0m\u001b[0;34m:\u001b[0m\u001b[0;34m\u001b[0m\u001b[0;34m\u001b[0m\u001b[0m\n\u001b[1;32m    281\u001b[0m             \u001b[0;32mraise\u001b[0m \u001b[0mLineTooLong\u001b[0m\u001b[0;34m(\u001b[0m\u001b[0;34m\"status line\"\u001b[0m\u001b[0;34m)\u001b[0m\u001b[0;34m\u001b[0m\u001b[0;34m\u001b[0m\u001b[0m\n",
            "\u001b[0;32m/usr/lib/python3.10/socket.py\u001b[0m in \u001b[0;36mreadinto\u001b[0;34m(self, b)\u001b[0m\n\u001b[1;32m    703\u001b[0m         \u001b[0;32mwhile\u001b[0m \u001b[0;32mTrue\u001b[0m\u001b[0;34m:\u001b[0m\u001b[0;34m\u001b[0m\u001b[0;34m\u001b[0m\u001b[0m\n\u001b[1;32m    704\u001b[0m             \u001b[0;32mtry\u001b[0m\u001b[0;34m:\u001b[0m\u001b[0;34m\u001b[0m\u001b[0;34m\u001b[0m\u001b[0m\n\u001b[0;32m--> 705\u001b[0;31m                 \u001b[0;32mreturn\u001b[0m \u001b[0mself\u001b[0m\u001b[0;34m.\u001b[0m\u001b[0m_sock\u001b[0m\u001b[0;34m.\u001b[0m\u001b[0mrecv_into\u001b[0m\u001b[0;34m(\u001b[0m\u001b[0mb\u001b[0m\u001b[0;34m)\u001b[0m\u001b[0;34m\u001b[0m\u001b[0;34m\u001b[0m\u001b[0m\n\u001b[0m\u001b[1;32m    706\u001b[0m             \u001b[0;32mexcept\u001b[0m \u001b[0mtimeout\u001b[0m\u001b[0;34m:\u001b[0m\u001b[0;34m\u001b[0m\u001b[0;34m\u001b[0m\u001b[0m\n\u001b[1;32m    707\u001b[0m                 \u001b[0mself\u001b[0m\u001b[0;34m.\u001b[0m\u001b[0m_timeout_occurred\u001b[0m \u001b[0;34m=\u001b[0m \u001b[0;32mTrue\u001b[0m\u001b[0;34m\u001b[0m\u001b[0;34m\u001b[0m\u001b[0m\n",
            "\u001b[0;32m/usr/lib/python3.10/ssl.py\u001b[0m in \u001b[0;36mrecv_into\u001b[0;34m(self, buffer, nbytes, flags)\u001b[0m\n\u001b[1;32m   1301\u001b[0m                   \u001b[0;34m\"non-zero flags not allowed in calls to recv_into() on %s\"\u001b[0m \u001b[0;34m%\u001b[0m\u001b[0;34m\u001b[0m\u001b[0;34m\u001b[0m\u001b[0m\n\u001b[1;32m   1302\u001b[0m                   self.__class__)\n\u001b[0;32m-> 1303\u001b[0;31m             \u001b[0;32mreturn\u001b[0m \u001b[0mself\u001b[0m\u001b[0;34m.\u001b[0m\u001b[0mread\u001b[0m\u001b[0;34m(\u001b[0m\u001b[0mnbytes\u001b[0m\u001b[0;34m,\u001b[0m \u001b[0mbuffer\u001b[0m\u001b[0;34m)\u001b[0m\u001b[0;34m\u001b[0m\u001b[0;34m\u001b[0m\u001b[0m\n\u001b[0m\u001b[1;32m   1304\u001b[0m         \u001b[0;32melse\u001b[0m\u001b[0;34m:\u001b[0m\u001b[0;34m\u001b[0m\u001b[0;34m\u001b[0m\u001b[0m\n\u001b[1;32m   1305\u001b[0m             \u001b[0;32mreturn\u001b[0m \u001b[0msuper\u001b[0m\u001b[0;34m(\u001b[0m\u001b[0;34m)\u001b[0m\u001b[0;34m.\u001b[0m\u001b[0mrecv_into\u001b[0m\u001b[0;34m(\u001b[0m\u001b[0mbuffer\u001b[0m\u001b[0;34m,\u001b[0m \u001b[0mnbytes\u001b[0m\u001b[0;34m,\u001b[0m \u001b[0mflags\u001b[0m\u001b[0;34m)\u001b[0m\u001b[0;34m\u001b[0m\u001b[0;34m\u001b[0m\u001b[0m\n",
            "\u001b[0;32m/usr/lib/python3.10/ssl.py\u001b[0m in \u001b[0;36mread\u001b[0;34m(self, len, buffer)\u001b[0m\n\u001b[1;32m   1157\u001b[0m         \u001b[0;32mtry\u001b[0m\u001b[0;34m:\u001b[0m\u001b[0;34m\u001b[0m\u001b[0;34m\u001b[0m\u001b[0m\n\u001b[1;32m   1158\u001b[0m             \u001b[0;32mif\u001b[0m \u001b[0mbuffer\u001b[0m \u001b[0;32mis\u001b[0m \u001b[0;32mnot\u001b[0m \u001b[0;32mNone\u001b[0m\u001b[0;34m:\u001b[0m\u001b[0;34m\u001b[0m\u001b[0;34m\u001b[0m\u001b[0m\n\u001b[0;32m-> 1159\u001b[0;31m                 \u001b[0;32mreturn\u001b[0m \u001b[0mself\u001b[0m\u001b[0;34m.\u001b[0m\u001b[0m_sslobj\u001b[0m\u001b[0;34m.\u001b[0m\u001b[0mread\u001b[0m\u001b[0;34m(\u001b[0m\u001b[0mlen\u001b[0m\u001b[0;34m,\u001b[0m \u001b[0mbuffer\u001b[0m\u001b[0;34m)\u001b[0m\u001b[0;34m\u001b[0m\u001b[0;34m\u001b[0m\u001b[0m\n\u001b[0m\u001b[1;32m   1160\u001b[0m             \u001b[0;32melse\u001b[0m\u001b[0;34m:\u001b[0m\u001b[0;34m\u001b[0m\u001b[0;34m\u001b[0m\u001b[0m\n\u001b[1;32m   1161\u001b[0m                 \u001b[0;32mreturn\u001b[0m \u001b[0mself\u001b[0m\u001b[0;34m.\u001b[0m\u001b[0m_sslobj\u001b[0m\u001b[0;34m.\u001b[0m\u001b[0mread\u001b[0m\u001b[0;34m(\u001b[0m\u001b[0mlen\u001b[0m\u001b[0;34m)\u001b[0m\u001b[0;34m\u001b[0m\u001b[0;34m\u001b[0m\u001b[0m\n",
            "\u001b[0;31mKeyboardInterrupt\u001b[0m: "
          ]
        }
      ]
    },
    {
      "cell_type": "code",
      "source": [
        "print(transactions.dtypes)"
      ],
      "metadata": {
        "colab": {
          "base_uri": "https://localhost:8080/"
        },
        "id": "mnnMLKJcFAyD",
        "outputId": "ce83a4c9-2ea4-4260-9b83-f6787dfaa4a0"
      },
      "execution_count": 47,
      "outputs": [
        {
          "output_type": "stream",
          "name": "stdout",
          "text": [
            "Politician Profile     object\n",
            "Stock Ticker           object\n",
            "Transaction            object\n",
            "Disclosed              object\n",
            "Traded                 object\n",
            "Description            object\n",
            "Politician             object\n",
            "House Information      object\n",
            "Stock                  object\n",
            "Amount Range           object\n",
            "Industry               object\n",
            "Amount                float64\n",
            "dtype: object\n"
          ]
        }
      ]
    },
    {
      "cell_type": "code",
      "source": [
        "# Save the DataFrame to a CSV file in your Google Drive\n",
        "\n",
        "df.to_csv('/content/drive/MyDrive/Upwork/Stock Data Analysis/transaction_scraped.csv', index=False)"
      ],
      "metadata": {
        "id": "B76EJDSCeT6f"
      },
      "execution_count": null,
      "outputs": []
    },
    {
      "cell_type": "code",
      "source": [
        "# Types of columns in Dataframe\n",
        "df.dtypes"
      ],
      "metadata": {
        "id": "OqkGPKNjcGUL"
      },
      "execution_count": null,
      "outputs": []
    },
    {
      "cell_type": "code",
      "source": [
        "# Length of Dataframe\n",
        "len(df)"
      ],
      "metadata": {
        "id": "4ku1GOiJcHhn"
      },
      "execution_count": null,
      "outputs": []
    },
    {
      "cell_type": "code",
      "source": [
        "df.describe(include='all')"
      ],
      "metadata": {
        "id": "J5c9MF8-cbZc"
      },
      "execution_count": null,
      "outputs": []
    },
    {
      "cell_type": "code",
      "source": [
        "# Summary statistics for numerical columns\n",
        "df.describe()"
      ],
      "metadata": {
        "id": "PpGx5vwGdKll"
      },
      "execution_count": null,
      "outputs": []
    },
    {
      "cell_type": "code",
      "source": [
        "\n",
        "\n",
        "from IPython.display import clear_output\n",
        "import sys\n",
        "import time\n",
        "from urllib.parse import quote\n",
        "import re\n",
        "import json\n",
        "from tqdm import tqdm\n",
        "from bs4 import BeautifulSoup\n",
        "import pandas as pd\n",
        "from selenium import webdriver\n",
        "import chromedriver_autoinstaller\n",
        "import yfinance as yf\n",
        "from google.colab import drive\n",
        "# ### Initialization and Imports\n",
        "# Update the system\n",
        "!sudo apt -y update\n",
        "# Install required packages\n",
        "!sudo apt install -y wget curl unzip\n",
        "# Download and install libu2f-udev dependency for Chrome\n",
        "!wget http://archive.ubuntu.com/ubuntu/pool/main/libu/libu2f-host/libu2f-udev_1.1.4-1_all.deb\n",
        "!dpkg -i libu2f-udev_1.1.4-1_all.deb\n",
        "# Download and install Google Chrome\n",
        "!wget https://dl.google.com/linux/direct/google-chrome-stable_current_amd64.deb\n",
        "!dpkg -i google-chrome-stable_current_amd64.deb\n",
        "\n",
        "# Download and install ChromeDriver\n",
        "!wget -N https://edgedl.me.gvt1.com/edgedl/chrome/chrome-for-testing/118.0.5993.70/linux64/chromedriver-linux64.zip -P /tmp/\n",
        "!unzip -o /tmp/chromedriver-linux64.zip -d /tmp/\n",
        "!chmod +x /tmp/chromedriver-linux64/chromedriver\n",
        "!mv /tmp/chromedriver-linux64/chromedriver /usr/local/bin/chromedriver\n",
        "# Install selenium and chromedriver_autoinstaller\n",
        "!pip install selenium chromedriver_autoinstaller\n",
        "\n",
        "#clear_output()\n",
        "# Add chromedriver to system path\n",
        "sys.path.insert(0,'/usr/lib/chromium-browser/chromedriver')\n",
        "\n",
        "\n",
        "# Configure Chrome options for headless browsing\n",
        "chrome_options = webdriver.ChromeOptions()\n",
        "chrome_options.add_argument('--headless') # Run Chrome in headless mode\n",
        "chrome_options.add_argument('--no-sandbox')\n",
        "chrome_options.add_argument('--disable-dev-shm-usage')\n",
        "# Install ChromeDriver automatically\n",
        "chromedriver_autoinstaller.install()\n",
        "\n",
        "# Initialize Chrome driver\n",
        "driver = webdriver.Chrome(options=chrome_options)\n",
        "#Scraping\n",
        "\n",
        "# Initialize list to store trade data\n",
        "trade_data = []\n",
        "# ### Data Scraping\n",
        "# Navigate to the QuiverQuant website\n",
        "driver.get('https://www.quiverquant.com/congresstrading/')\n",
        "# Parse the HTML content\n",
        "soup = BeautifulSoup(driver.page_source, 'html.parser')\n",
        "\n",
        "# Extract links to politician profiles\n",
        "politician_links = []\n",
        "\n",
        "for politician_link in soup.find_all('a', attrs={'class': 'flex-row-center'}):\n",
        "    politician_links.append('https://www.quiverquant.com/' + quote(politician_link.get('href').replace('../', '')))\n",
        "\n",
        "print(f'Found {len(politician_links)} politicians')\n",
        "print(f'First politician: {politician_links[0]}')\n",
        "# Create a progress bar\n",
        "pbar = tqdm(politician_links)\n",
        "\n",
        "# Iterate over politician links and extract trade data\n",
        "for politician_link in pbar:\n",
        "    while True:\n",
        "        driver.get(politician_link)\n",
        "        soup = BeautifulSoup(driver.page_source, 'html.parser')\n",
        "\n",
        "        script_tag = soup.find('script', string=re.compile('let tradeData ='))\n",
        "\n",
        "        try:\n",
        "            # Extract trade data from script tag\n",
        "            script_content = script_tag.string\n",
        "            pbar.set_description(f'Loaded {politician_link}')\n",
        "            break\n",
        "        except:\n",
        "            # Handle errors and retry loading the page\n",
        "            pbar.set_description(f'Failed to load {politician_link}. Retrying in 10 seconds...')\n",
        "            time.sleep(10)\n",
        "\n",
        "    # Extract trade data using regular expression\n",
        "    trade_data_match = re.search(r'let tradeData = (\\[.*?\\]);', script_content, re.DOTALL)\n",
        "    trade_data_json = trade_data_match.group(1)\n",
        "\n",
        "    # Parse trade data from JSON\n",
        "    trade_data_by_politician = json.loads(trade_data_json)\n",
        "\n",
        "    # Append trade data to the main list\n",
        "    for td in trade_data_by_politician:\n",
        "        trade_data.append(\n",
        "            {\n",
        "                'Politician Profile': politician_link,\n",
        "                'Stock Ticker': td[0],\n",
        "                'Transaction': td[1],\n",
        "                'Disclosed': td[2],\n",
        "                'Traded': td[3],\n",
        "                'Description': td[4],\n",
        "                'Politician': td[6],\n",
        "                'House Information': td[7],\n",
        "                'Stock': td[8],\n",
        "                'Amount Range': td[10],\n",
        "                'Industry': td[13],\n",
        "                'Amount': td[14]\n",
        "            }\n",
        "        )\n",
        "\n",
        "    time.sleep(1)\n",
        "# ### Data Exploration\n",
        "# Mount Google Drive\n",
        "drive.mount('/content/drive')\n",
        "# Create a Pandas DataFrame from the trade data\n",
        "df = pd.DataFrame(trade_data)\n",
        "\n",
        "# Convert date columns to datetime objects\n",
        "df['Disclosed'] = pd.to_datetime(df['Disclosed'])\n",
        "df['Traded'] = pd.to_datetime(df['Traded'])\n",
        "\n",
        "# Display the first few rows of the DataFrame\n",
        "df.head()\n",
        "# Save the DataFrame to a CSV file in your Google Drive\n",
        "\n",
        "df.to_csv('/content/drive/MyDrive/Upwork/Stock Data Analysis/transaction_scraped.csv', index=False)\n",
        "# Types of columns in Dataframe\n",
        "df.dtypes\n",
        "# Length of Dataframe\n",
        "len(df)\n",
        "# Summary statistics for all columns\n",
        "df.describe(include='all')\n",
        "# Summary statistics for numerical columns\n",
        "df.describe()\n"
      ],
      "metadata": {
        "id": "5PoYzfLRtjHy"
      },
      "execution_count": null,
      "outputs": []
    },
    {
      "cell_type": "code",
      "source": [
        "df.sample(10)"
      ],
      "metadata": {
        "id": "QF4ogeNIytkT"
      },
      "execution_count": null,
      "outputs": []
    },
    {
      "cell_type": "code",
      "source": [
        "df.tail()"
      ],
      "metadata": {
        "id": "vpNZqhsuyuwT"
      },
      "execution_count": null,
      "outputs": []
    },
    {
      "cell_type": "code",
      "source": [
        "df.isnull().sum()"
      ],
      "metadata": {
        "id": "jnNdMkwOcci6"
      },
      "execution_count": null,
      "outputs": []
    },
    {
      "cell_type": "code",
      "source": [
        "df.nunique()"
      ],
      "metadata": {
        "id": "4VAgMMl5zH85"
      },
      "execution_count": null,
      "outputs": []
    },
    {
      "cell_type": "code",
      "source": [
        "# Shape of the DataFrame\n",
        "df.shape"
      ],
      "metadata": {
        "id": "jIYp10EydG3-"
      },
      "execution_count": null,
      "outputs": []
    },
    {
      "cell_type": "code",
      "source": [
        "# Column names\n",
        "df.columns"
      ],
      "metadata": {
        "id": "OOfFeUMudN38"
      },
      "execution_count": null,
      "outputs": []
    },
    {
      "cell_type": "code",
      "source": [
        "# Data types of each column\n",
        "df.dtypes"
      ],
      "metadata": {
        "id": "sncgNwk0dOkd"
      },
      "execution_count": null,
      "outputs": []
    },
    {
      "cell_type": "code",
      "source": [
        "# Number of non-null values in each column\n",
        "df.count()"
      ],
      "metadata": {
        "id": "XWWbUzHGdPPx"
      },
      "execution_count": null,
      "outputs": []
    },
    {
      "cell_type": "code",
      "source": [
        "df.describe()"
      ],
      "metadata": {
        "id": "Oo9PT99n0JAA"
      },
      "execution_count": null,
      "outputs": []
    },
    {
      "cell_type": "code",
      "source": [
        "# Summary statistics for all columns, including categorical ones\n",
        "df.describe(include='all')"
      ],
      "metadata": {
        "id": "JAXydUzidRtB"
      },
      "execution_count": null,
      "outputs": []
    },
    {
      "cell_type": "code",
      "source": [
        "# Check for missing values\n",
        "df.isnull().sum()"
      ],
      "metadata": {
        "id": "UIu4SipicI76"
      },
      "execution_count": null,
      "outputs": []
    },
    {
      "cell_type": "code",
      "source": [
        "# Unique values in the 'Transaction' column\n",
        "df['Transaction'].unique()"
      ],
      "metadata": {
        "id": "HUoXa_cldFji"
      },
      "execution_count": null,
      "outputs": []
    },
    {
      "cell_type": "code",
      "source": [
        "# Value counts for the 'Transaction' column\n",
        "df['Transaction'].value_counts()"
      ],
      "metadata": {
        "id": "dp-TVk4LdE70"
      },
      "execution_count": null,
      "outputs": []
    },
    {
      "cell_type": "code",
      "source": [
        "# Filter the DataFrame for purchase transactions\n",
        "purchase_df = df[df['Transaction'] == 'Purchase']"
      ],
      "metadata": {
        "id": "q4B2TUJkdEXY"
      },
      "execution_count": null,
      "outputs": []
    },
    {
      "cell_type": "code",
      "source": [
        "# Group the data by 'Politician' and count the number of transactions\n",
        "transactions_by_politician = df.groupby('Politician')['Transaction'].count()"
      ],
      "metadata": {
        "id": "N0TIa3t4dDyM"
      },
      "execution_count": null,
      "outputs": []
    },
    {
      "cell_type": "code",
      "source": [
        "# Sort the transactions by politician in descending order\n",
        "transactions_by_politician_sorted = transactions_by_politician.sort_values(ascending=False)"
      ],
      "metadata": {
        "id": "fBLB_Vy-dDI7"
      },
      "execution_count": null,
      "outputs": []
    },
    {
      "cell_type": "code",
      "source": [
        "# Group the data by 'Stock Ticker' and calculate the average amount\n",
        "average_amount_by_stock = df.groupby('Stock Ticker')['Amount'].mean()"
      ],
      "metadata": {
        "id": "1bAL3WujdCeG"
      },
      "execution_count": null,
      "outputs": []
    },
    {
      "cell_type": "code",
      "source": [
        "# Sort the average amounts by stock in descending order\n",
        "average_amount_by_stock_sorted = average_amount_by_stock.sort_values(ascending=False)"
      ],
      "metadata": {
        "id": "tiAbgq6ndBxk"
      },
      "execution_count": null,
      "outputs": []
    },
    {
      "cell_type": "code",
      "source": [
        "# Filter the DataFrame for transactions related to a specific stock\n",
        "specific_stock_df = df[df['Stock Ticker'] == 'AAPL']"
      ],
      "metadata": {
        "id": "5okZb9xpdBJB"
      },
      "execution_count": null,
      "outputs": []
    },
    {
      "cell_type": "code",
      "source": [],
      "metadata": {
        "id": "ZlPs-H3CdAiT"
      },
      "execution_count": null,
      "outputs": []
    },
    {
      "cell_type": "code",
      "source": [
        "# Calculate the time difference between disclosure and trade dates\n",
        "df['Disclosure_Trade_Difference'] = (df['Disclosed'] - df['Traded']).dt.days"
      ],
      "metadata": {
        "id": "ZrioHfn8dAKN"
      },
      "execution_count": null,
      "outputs": []
    },
    {
      "cell_type": "code",
      "source": [
        "# Distribution of disclosure-trade time differences\n",
        "df['Disclosure_Trade_Difference'].describe()"
      ],
      "metadata": {
        "id": "uV4J3yqPc94v"
      },
      "execution_count": null,
      "outputs": []
    },
    {
      "cell_type": "code",
      "source": [
        "df['Trade Date'] = df['Traded'].dt.date"
      ],
      "metadata": {
        "id": "9-gJ99eK1Msr"
      },
      "execution_count": null,
      "outputs": []
    },
    {
      "cell_type": "code",
      "source": [
        "# Function to scrape data\n",
        "def scrape_trading_data():\n",
        "    url = \"https://www.quiverquant.com/congresstrading/\"\n",
        "    response = requests.get(url)\n",
        "    soup = BeautifulSoup(response.text, 'html.parser')\n",
        "    data = []\n",
        "\n",
        "    # Find the relevant table or data section in the HTML\n",
        "    trades_table = soup.find('table', {'id': 'trading-table'})\n",
        "\n",
        "    # Extract table rows\n",
        "    for row in trades_table.find_all('tr')[1:]:\n",
        "        cells = row.find_all('td')\n",
        "        data.append({\n",
        "            'Politician': cells[0].text.strip(),\n",
        "            'Stock Symbol': cells[1].text.strip(),\n",
        "            'Transaction Type': cells[2].text.strip(),\n",
        "            'Transaction Date': cells[3].text.strip(),\n",
        "            'Amount': cells[4].text.strip()\n",
        "        })\n",
        "\n",
        "    return pd.DataFrame(data)"
      ],
      "metadata": {
        "id": "JCrM4JO82OKZ"
      },
      "execution_count": null,
      "outputs": []
    },
    {
      "cell_type": "code",
      "source": [
        "# prompt: # Get historical data from YahooFinance\n",
        "# def get_historical_prices(symbol):\n",
        "#     stock = yf.Ticker(symbol)\n",
        "#     hist = stock.history(period=\"max\")\n",
        "#     return hist\n",
        "# give me this one from 2021 01 01 use start date as 2021-01-01 and end date as today as getting stock.history\n",
        "\n",
        "import pandas as pd\n",
        "# Get historical data from YahooFinance\n",
        "def get_historical_prices(symbol, start_date='2021-01-01', end_date=pd.Timestamp.today().strftime('%Y-%m-%d')):\n",
        "    stock = yf.Ticker(symbol)\n",
        "    hist = stock.history(start=start_date, end=end_date)\n",
        "    return hist\n"
      ],
      "metadata": {
        "id": "DCAB5lsh3Su-"
      },
      "execution_count": null,
      "outputs": []
    },
    {
      "cell_type": "code",
      "source": [
        "import requests\n",
        "import pandas as pd\n",
        "from bs4 import BeautifulSoup\n",
        "import yfinance as yf\n",
        "\n",
        "# Get historical data from YahooFinance\n",
        "def get_historical_prices(symbol, start_date='2021-01-01', end_date=pd.Timestamp.today().strftime('%Y-%m-%d')):\n",
        "    stock = yf.Ticker(symbol)\n",
        "    hist = stock.history(start=start_date, end=end_date)\n",
        "    return hist\n",
        "\n",
        "\n",
        "# Function to calculate ROI\n",
        "def calculate_roi(trades, historical_prices):\n",
        "    roi_data = []\n",
        "    for _, trade in trades.iterrows():\n",
        "        symbol = trade['Stock Ticker']\n",
        "        transaction_type = trade['Transaction']\n",
        "        transaction_date = trade['Transaction Date']\n",
        "        amount = float(trade['Amount'].replace('$', '').replace(',', ''))\n",
        "\n",
        "        # Complete trade logic\n",
        "        if transaction_type == 'Buy':\n",
        "            buy_price = historical_prices[symbol].loc[transaction_date]['Close']\n",
        "            sell_price = historical_prices[symbol].iloc[-1]['Close']  # Current price\n",
        "            roi = (sell_price - buy_price) / buy_price * 100\n",
        "\n",
        "        elif transaction_type == 'Sale':\n",
        "            sell_price = historical_prices[symbol].loc[transaction_date]['Close']\n",
        "            buy_price = historical_prices[symbol].iloc[0]['Close']  # Earliest price\n",
        "            roi = (sell_price - buy_price) / buy_price * 100\n",
        "\n",
        "        roi_data.append({\n",
        "            'Politician': trade['Politician'],\n",
        "            'Stock Ticker': symbol,\n",
        "            'Transaction Type': transaction_type,\n",
        "            'Transaction Date': transaction_date,\n",
        "            'ROI': roi\n",
        "        })\n",
        "\n",
        "    return pd.DataFrame(roi_data)\n",
        "\n",
        "# Main function to execute the workflow\n",
        "def main():\n",
        "    trades = df\n",
        "    unique_symbols = trades['Stock Ticker'].unique()\n",
        "    historical_prices = {symbol: get_historical_prices(symbol) for symbol in unique_symbols}\n",
        "    roi_data = calculate_roi(trades, historical_prices)\n",
        "    roi_data.to_csv('congress_trading_roi.csv', index=False)\n",
        "\n",
        "if __name__ == \"__main__\":\n",
        "    main()\n"
      ],
      "metadata": {
        "id": "v6P34Hgl1Num"
      },
      "execution_count": null,
      "outputs": []
    }
  ]
}